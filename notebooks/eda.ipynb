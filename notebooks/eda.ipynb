{
 "cells": [
  {
   "cell_type": "code",
   "execution_count": 2,
   "metadata": {},
   "outputs": [],
   "source": [
    "import pandas as pd\n",
    "import matplotlib.pyplot as plt\n",
    "import seaborn as sns"
   ]
  },
  {
   "cell_type": "code",
   "execution_count": 3,
   "metadata": {},
   "outputs": [],
   "source": [
    "df = pd.read_csv('../data/Challenge_Data/performance_data.csv')\n",
    "concepts_df = pd.read_json('../data/concepts.json')"
   ]
  },
  {
   "cell_type": "markdown",
   "metadata": {},
   "source": []
  },
  {
   "cell_type": "code",
   "execution_count": null,
   "metadata": {},
   "outputs": [],
   "source": []
  },
  {
   "cell_type": "code",
   "execution_count": 4,
   "metadata": {},
   "outputs": [
    {
     "data": {
      "text/html": [
       "<div>\n",
       "<style scoped>\n",
       "    .dataframe tbody tr th:only-of-type {\n",
       "        vertical-align: middle;\n",
       "    }\n",
       "\n",
       "    .dataframe tbody tr th {\n",
       "        vertical-align: top;\n",
       "    }\n",
       "\n",
       "    .dataframe thead th {\n",
       "        text-align: right;\n",
       "    }\n",
       "</style>\n",
       "<table border=\"1\" class=\"dataframe\">\n",
       "  <thead>\n",
       "    <tr style=\"text-align: right;\">\n",
       "      <th></th>\n",
       "      <th>game_id</th>\n",
       "      <th>preview_link</th>\n",
       "      <th>ER</th>\n",
       "      <th>CTR</th>\n",
       "    </tr>\n",
       "  </thead>\n",
       "  <tbody>\n",
       "    <tr>\n",
       "      <th>0</th>\n",
       "      <td>bfbf7a2b7ac635e67877b1ab87fd6629</td>\n",
       "      <td>https://s3.us-east-1.amazonaws.com/a.futureadl...</td>\n",
       "      <td>0.209269</td>\n",
       "      <td>0.058438</td>\n",
       "    </tr>\n",
       "  </tbody>\n",
       "</table>\n",
       "</div>"
      ],
      "text/plain": [
       "                            game_id  \\\n",
       "0  bfbf7a2b7ac635e67877b1ab87fd6629   \n",
       "\n",
       "                                        preview_link        ER       CTR  \n",
       "0  https://s3.us-east-1.amazonaws.com/a.futureadl...  0.209269  0.058438  "
      ]
     },
     "execution_count": 4,
     "metadata": {},
     "output_type": "execute_result"
    }
   ],
   "source": [
    "df.head(1)"
   ]
  },
  {
   "cell_type": "code",
   "execution_count": 5,
   "metadata": {},
   "outputs": [
    {
     "data": {
      "text/html": [
       "<div>\n",
       "<style scoped>\n",
       "    .dataframe tbody tr th:only-of-type {\n",
       "        vertical-align: middle;\n",
       "    }\n",
       "\n",
       "    .dataframe tbody tr th {\n",
       "        vertical-align: top;\n",
       "    }\n",
       "\n",
       "    .dataframe thead th {\n",
       "        text-align: right;\n",
       "    }\n",
       "</style>\n",
       "<table border=\"1\" class=\"dataframe\">\n",
       "  <thead>\n",
       "    <tr style=\"text-align: right;\">\n",
       "      <th></th>\n",
       "      <th>concept</th>\n",
       "      <th>implementation</th>\n",
       "      <th>explanation</th>\n",
       "      <th>asset_suggestions</th>\n",
       "    </tr>\n",
       "  </thead>\n",
       "  <tbody>\n",
       "    <tr>\n",
       "      <th>0</th>\n",
       "      <td>Escape Challenge Teaser</td>\n",
       "      <td>{'frame_1': {'description': 'The ad begins wit...</td>\n",
       "      <td>This concept aligns with LEGO CITY's brand ide...</td>\n",
       "      <td>[{'frame_1': {'Background Animation': 'A suspe...</td>\n",
       "    </tr>\n",
       "    <tr>\n",
       "      <th>1</th>\n",
       "      <td>Interactive Storytelling</td>\n",
       "      <td>{'frame_1': {'description': 'The ad opens with...</td>\n",
       "      <td>This concept aligns with LEGO CITY's brand ide...</td>\n",
       "      <td>[{'frame_1': {'Background Animation': 'A suspe...</td>\n",
       "    </tr>\n",
       "    <tr>\n",
       "      <th>2</th>\n",
       "      <td>City Tour</td>\n",
       "      <td>{'frame_1': {'description': 'The ad begins wit...</td>\n",
       "      <td>This concept aligns with LEGO CITY's brand ide...</td>\n",
       "      <td>[{'frame_1': {'Background Animation': 'A suspe...</td>\n",
       "    </tr>\n",
       "    <tr>\n",
       "      <th>3</th>\n",
       "      <td>Interactive Globe Journey</td>\n",
       "      <td>{'frame_1': {'description': 'The ad opens with...</td>\n",
       "      <td>This concept aligns with the brand's identity ...</td>\n",
       "      <td>[{'frame_1': {'3D Globe': 'A high-definition 3...</td>\n",
       "    </tr>\n",
       "    <tr>\n",
       "      <th>4</th>\n",
       "      <td>Cultural Carousel</td>\n",
       "      <td>{'frame_1': {'description': 'A carousel of cul...</td>\n",
       "      <td>This concept leverages the brand's diverse por...</td>\n",
       "      <td>[{'frame_1': {'Background Image': 'A high-reso...</td>\n",
       "    </tr>\n",
       "  </tbody>\n",
       "</table>\n",
       "</div>"
      ],
      "text/plain": [
       "                     concept  \\\n",
       "0    Escape Challenge Teaser   \n",
       "1   Interactive Storytelling   \n",
       "2                  City Tour   \n",
       "3  Interactive Globe Journey   \n",
       "4          Cultural Carousel   \n",
       "\n",
       "                                      implementation  \\\n",
       "0  {'frame_1': {'description': 'The ad begins wit...   \n",
       "1  {'frame_1': {'description': 'The ad opens with...   \n",
       "2  {'frame_1': {'description': 'The ad begins wit...   \n",
       "3  {'frame_1': {'description': 'The ad opens with...   \n",
       "4  {'frame_1': {'description': 'A carousel of cul...   \n",
       "\n",
       "                                         explanation  \\\n",
       "0  This concept aligns with LEGO CITY's brand ide...   \n",
       "1  This concept aligns with LEGO CITY's brand ide...   \n",
       "2  This concept aligns with LEGO CITY's brand ide...   \n",
       "3  This concept aligns with the brand's identity ...   \n",
       "4  This concept leverages the brand's diverse por...   \n",
       "\n",
       "                                   asset_suggestions  \n",
       "0  [{'frame_1': {'Background Animation': 'A suspe...  \n",
       "1  [{'frame_1': {'Background Animation': 'A suspe...  \n",
       "2  [{'frame_1': {'Background Animation': 'A suspe...  \n",
       "3  [{'frame_1': {'3D Globe': 'A high-definition 3...  \n",
       "4  [{'frame_1': {'Background Image': 'A high-reso...  "
      ]
     },
     "execution_count": 5,
     "metadata": {},
     "output_type": "execute_result"
    }
   ],
   "source": [
    "concepts_df.head()"
   ]
  },
  {
   "cell_type": "code",
   "execution_count": 6,
   "metadata": {},
   "outputs": [
    {
     "data": {
      "text/plain": [
       "{'frame_1': {'description': \"The ad opens with a LEGO CITY set and a 'Choose Your Adventure' prompt, inviting users to tap on different parts of the city to start their story.\",\n",
       "  'interaction_type': 'Tap',\n",
       "  'next_frame': 'frame_2',\n",
       "  'duration': '5 seconds'},\n",
       " 'frame_2': {'description': \"Depending on the user's choice, the scene transitions to a unique, animated story set in the chosen part of the city.\",\n",
       "  'interaction_type': 'Swipe',\n",
       "  'next_frame': 'frame_3',\n",
       "  'duration': '10 seconds'},\n",
       " 'frame_3': {'description': \"The story concludes with a cliffhanger, and a 'Continue the Adventure' button appears, directing users to the LEGO website.\",\n",
       "  'interaction_type': 'Tap',\n",
       "  'next_frame': 'end-of-advertisement',\n",
       "  'duration': '5 seconds'}}"
      ]
     },
     "execution_count": 6,
     "metadata": {},
     "output_type": "execute_result"
    }
   ],
   "source": [
    "concepts_df['implementation'][1]"
   ]
  },
  {
   "cell_type": "code",
   "execution_count": 7,
   "metadata": {},
   "outputs": [
    {
     "data": {
      "text/plain": [
       "\"This concept aligns with LEGO CITY's brand identity of fostering imaginative play. It appeals to the target demographic's interest in stories and adventures, and it achieves the campaign's objectives of enhancing audience engagement, increasing product and brand awareness, and driving traffic to the brand's website. The concept is scalable and can be adapted for various platforms and audiences. It can be executed within the given budget constraints.\""
      ]
     },
     "execution_count": 7,
     "metadata": {},
     "output_type": "execute_result"
    }
   ],
   "source": [
    "concepts_df['explanation'][1]"
   ]
  },
  {
   "cell_type": "code",
   "execution_count": 8,
   "metadata": {},
   "outputs": [
    {
     "data": {
      "text/plain": [
       "{'frame_1': {'Background Animation': \"A suspenseful animation of a LEGO CITY set, with buildings, vehicles, and mini-figures coming to life in a dynamic, 3D environment. The animation is designed to captivate the viewer's attention and set the stage for the upcoming challenge.\",\n",
       "  'Tagline': \"'YOUR CITY, NO LIMITS' appears in bold, vibrant letters, reinforcing the campaign's theme of boundless creativity and adventure.\",\n",
       "  'Countdown Timer': \"A digital countdown timer, styled to resemble LEGO bricks, adds an element of suspense and anticipation, building up to the reveal of the 'ULTIMATE ESCAPE CHALLENGE'.\"},\n",
       " 'frame_2': {'Video Clips': \"A series of quick, exciting clips showcasing various challenges in the 'ULTIMATE ESCAPE CHALLENGE'. Each clip features different LEGO CITY sets and mini-figures, highlighting the diversity and expansiveness of the LEGO CITY universe.\",\n",
       "  'Swipe Indicator': 'A subtle, animated swipe indicator encourages viewers to interact with the ad and explore the different challenges.'},\n",
       " 'frame_3': {'Logo': 'The LEGO CITY 2024 logo, designed with the iconic LEGO brick pattern, reinforces brand recognition and ties the ad back to the product line.',\n",
       "  'CTA Button': \"A 'Play Now' button, styled to resemble a LEGO brick, invites users to join the challenge on the LEGO website. The button is strategically placed to be easily noticeable and accessible, encouraging viewers to take immediate action.\"},\n",
       " 'explanation': \"This variation aligns with the creative brief by effectively promoting the LEGO CITY 2024 product line and the 'ULTIMATE ESCAPE CHALLENGE'. The suspenseful animation and countdown timer in the first frame capture the viewer's attention and set the stage for the challenge. The quick, exciting clips in the second frame showcase the diversity and expansiveness of the LEGO CITY universe, appealing to the target audience's interest in games and challenges. The LEGO CITY 2024 logo and 'Play Now' button in the final frame reinforce brand recognition and drive traffic to the brand's website, achieving the campaign's objectives of enhancing audience engagement and increasing product and brand awareness.\"}"
      ]
     },
     "execution_count": 8,
     "metadata": {},
     "output_type": "execute_result"
    }
   ],
   "source": [
    "concepts_df['asset_suggestions'][1][0]"
   ]
  },
  {
   "cell_type": "code",
   "execution_count": 9,
   "metadata": {},
   "outputs": [
    {
     "data": {
      "text/plain": [
       "{'frame_1': {'Background': 'A lively, animated cityscape made entirely of LEGO CITY sets. The cityscape should be filled with LEGO characters engaging in various activities, showcasing the fun and entertainment offered by the LEGO CITY universe.',\n",
       "  'Logo': 'The LEGO logo appears prominently at the center of the frame, reinforcing brand recognition.',\n",
       "  'Tagline': \"'YOUR CITY, NO LIMITS' appears in bold, colorful font, capturing the frame's message and the campaign's overarching theme.\",\n",
       "  'Interactive Element': \"A 'Tap to Begin' button, inviting viewers to interact with the ad.\"},\n",
       " 'frame_2': {'Background': \"A blank, grid-like canvas that serves as the foundation for the viewer's LEGO city.\",\n",
       "  'Toolbox': 'A toolbox filled with various LEGO CITY sets appears at the bottom of the screen. Each set should be clearly visible and identifiable, showcasing the product range.',\n",
       "  'Interactive Element': \"The 'Drag and Drop' feature, allowing viewers to select LEGO sets from the toolbox and place them onto the canvas.\"},\n",
       " 'frame_3': {'Background': \"The viewer's city, coming to life as they add LEGO sets. The city should be animated, with LEGO characters and vehicles moving around.\",\n",
       "  'Sound Effects': \"Sound effects that correspond to the viewer's actions, enhancing the immersive experience.\",\n",
       "  'Interactive Element': \"The 'Tap to Animate' feature, allowing viewers to animate their city by tapping on the LEGO sets.\"},\n",
       " 'frame_4': {'Background': \"The viewer's fully built and animated LEGO city.\",\n",
       "  'CTA': \"A 'Start Challenge' button that invites the viewer to start the 'ULTIMATE ESCAPE CHALLENGE', driving traffic to the brand's website.\",\n",
       "  'Interactive Element': \"The 'Tap to Start Challenge' feature, prompting viewers to interact with the ad and engage with the brand.\"},\n",
       " 'explanation': \"This variation aligns with the concept and brief by leveraging interactive elements and product imagery to engage the target audience and promote the LEGO CITY product line. The lively cityscape in Frame 1 captures the viewer's attention and sets the stage for the interactive experience. The toolbox in Frame 2 showcases the product range and allows viewers to engage with the ad by building their own city. The animations and sound effects in Frame 3 enhance the immersive experience and foster creativity, aligning with the brand's identity. The 'Start Challenge' button in Frame 4 drives traffic to the brand's website, achieving the campaign's objectives. The assets across frames work together to create a cohesive narrative that resonates with the target audience and promotes the LEGO CITY brand.\"}"
      ]
     },
     "execution_count": 9,
     "metadata": {},
     "output_type": "execute_result"
    }
   ],
   "source": [
    "concepts_df['asset_suggestions'][1][1]"
   ]
  },
  {
   "cell_type": "code",
   "execution_count": 10,
   "metadata": {},
   "outputs": [
    {
     "data": {
      "text/plain": [
       "{'frame_1': {'Background': 'A vibrant, detailed image of a LEGO CITY set, showcasing key features like buildings, vehicles, and mini-figures',\n",
       "  'Interactive Element': \"'Choose Your Adventure' prompt, a large, colorful button placed strategically to draw attention\",\n",
       "  'Logo': 'LEGO logo placed subtly in the corner to reinforce brand recognition'},\n",
       " 'frame_2': {'Animation': 'A unique, engaging animation that brings the chosen part of the city to life, highlighting the fun and creativity of LEGO CITY',\n",
       "  'Interactive Element': 'Swipe functionality to allow users to navigate through the story',\n",
       "  'Text': \"Brief, compelling text that narrates the story and enhances the viewer's immersion\"},\n",
       " 'frame_3': {'CTA': \"'Continue the Adventure' button, designed to be eye-catching and compelling, prompting users to visit the LEGO website\",\n",
       "  'Ending Scene': 'A cliffhanger scene that leaves viewers eager to continue the adventure',\n",
       "  'Logo': 'LEGO logo, slightly more prominent to reinforce brand identity'},\n",
       " 'explanation': \"This variation aligns with the creative brief by leveraging the interactive storytelling concept to engage the target audience of boys aged 6-8. The detailed LEGO CITY set image in frame 1 captures viewers' attention and invites them to interact with the ad. The animation in frame 2 immerses viewers in the LEGO CITY universe, enhancing their engagement and increasing product awareness. The cliffhanger and CTA in frame 3 drive traffic to the LEGO website, contributing to the campaign's objectives. The consistent use of the LEGO logo across frames reinforces brand recognition.\"}"
      ]
     },
     "execution_count": 10,
     "metadata": {},
     "output_type": "execute_result"
    }
   ],
   "source": [
    "concepts_df['asset_suggestions'][1][2]"
   ]
  },
  {
   "cell_type": "code",
   "execution_count": 11,
   "metadata": {},
   "outputs": [
    {
     "data": {
      "text/plain": [
       "{'frame_1': {'Background': \"A vibrant, bustling LEGO CITY, meticulously crafted with LEGO bricks, showcasing a bird's-eye view. The city is alive with miniature LEGO citizens, vehicles, and buildings, reflecting the brand's commitment to detail and creativity.\",\n",
       "  'Interactive Element': \"A 'Start Tour' button, designed in LEGO's signature bright colors, inviting users to tap and begin their exploration of the city.\",\n",
       "  'Logo': 'The LEGO logo, subtly placed in the corner to reinforce brand recognition without distracting from the city view.'},\n",
       " 'frame_2': {'Background': 'A first-person view of the LEGO CITY, immersing users in the cityscape. The city is filled with diverse LEGO buildings, each showcasing unique architectural designs and features.',\n",
       "  'Interactive Element': 'Swipe functionality, allowing users to navigate through the city. Tappable buildings, each revealing fun facts or trivia about the building when tapped, engaging users and enhancing their knowledge of LEGO CITY.',\n",
       "  'Text': 'Brief, engaging descriptions that pop up when a building is tapped, providing information about the building in a fun and educational manner.'},\n",
       " 'frame_3': {'Background': 'A final view of the LEGO CITY, with the cityscape subtly transitioning into the LEGO CITY 2024 logo.',\n",
       "  'Interactive Element': \"A 'Join the City' button, designed in LEGO's signature colors, directing users to the LEGO website.\",\n",
       "  'Logo': 'The LEGO CITY 2024 logo, prominently displayed to reinforce product awareness and brand recognition.'},\n",
       " 'explanation': \"This variation aligns with the 'City Tour' concept by providing an interactive tour of a LEGO CITY, engaging users and enhancing their knowledge of the product. The use of vibrant colors and detailed LEGO buildings reflects the brand's commitment to creativity and detail, appealing to the target demographic's interest in exploration and discovery. The interactive elements, such as the 'Start Tour' and 'Join the City' buttons and the tappable buildings, enhance audience engagement and drive traffic to the brand's website, achieving the campaign's objectives. The LEGO and LEGO CITY 2024 logos reinforce brand and product awareness, contributing to the campaign's success.\"}"
      ]
     },
     "execution_count": 11,
     "metadata": {},
     "output_type": "execute_result"
    }
   ],
   "source": [
    "concepts_df['asset_suggestions'][1][3]"
   ]
  },
  {
   "cell_type": "code",
   "execution_count": 12,
   "metadata": {},
   "outputs": [
    {
     "data": {
      "text/plain": [
       "{'frame_1': {'Background': 'A vibrant, bustling LEGO CITY set, showcasing key features like the police station, fire station, and various vehicles',\n",
       "  'Foreground': \"A large, eye-catching 'Test Your Knowledge' prompt in LEGO's signature yellow and red colors\",\n",
       "  'Interactive Element': \"A 'Tap to Start' button, inviting users to engage with the ad\"},\n",
       " 'frame_2': {'Background': 'A series of LEGO CITY scenes related to the quiz questions',\n",
       "  'Foreground': 'Multiple-choice questions in playful, kid-friendly fonts',\n",
       "  'Interactive Element': 'Answer options that users can tap on to proceed'},\n",
       " 'frame_3': {'Background': 'A celebratory scene with LEGO characters cheering',\n",
       "  'Foreground': \"The user's score displayed in large, bold numbers\",\n",
       "  'Interactive Element': \"A 'Learn More' button, directing users to the LEGO website\"},\n",
       " 'explanation': \"This variation emphasizes the interactive and educational aspects of the LEGO CITY Quiz concept. The vibrant LEGO CITY set in the first frame captures the viewer's attention and sets the stage for the quiz. The multiple-choice questions in the second frame engage the viewer's curiosity and stimulate their knowledge about LEGO CITY. The celebratory scene in the third frame rewards the viewer's participation and encourages them to learn more about LEGO CITY on the brand's website. This variation aligns with the campaign's objectives of enhancing audience engagement, increasing product and brand awareness, and driving traffic to the brand's website.\"}"
      ]
     },
     "execution_count": 12,
     "metadata": {},
     "output_type": "execute_result"
    }
   ],
   "source": [
    "concepts_df['asset_suggestions'][1][4]"
   ]
  },
  {
   "cell_type": "code",
   "execution_count": 13,
   "metadata": {},
   "outputs": [
    {
     "name": "stdout",
     "output_type": "stream",
     "text": [
      "<class 'pandas.core.frame.DataFrame'>\n",
      "RangeIndex: 115 entries, 0 to 114\n",
      "Data columns (total 4 columns):\n",
      " #   Column             Non-Null Count  Dtype \n",
      "---  ------             --------------  ----- \n",
      " 0   concept            115 non-null    object\n",
      " 1   implementation     115 non-null    object\n",
      " 2   explanation        115 non-null    object\n",
      " 3   asset_suggestions  115 non-null    object\n",
      "dtypes: object(4)\n",
      "memory usage: 3.7+ KB\n"
     ]
    },
    {
     "data": {
      "text/html": [
       "<div>\n",
       "<style scoped>\n",
       "    .dataframe tbody tr th:only-of-type {\n",
       "        vertical-align: middle;\n",
       "    }\n",
       "\n",
       "    .dataframe tbody tr th {\n",
       "        vertical-align: top;\n",
       "    }\n",
       "\n",
       "    .dataframe thead th {\n",
       "        text-align: right;\n",
       "    }\n",
       "</style>\n",
       "<table border=\"1\" class=\"dataframe\">\n",
       "  <thead>\n",
       "    <tr style=\"text-align: right;\">\n",
       "      <th></th>\n",
       "      <th>concept</th>\n",
       "      <th>implementation</th>\n",
       "      <th>explanation</th>\n",
       "      <th>asset_suggestions</th>\n",
       "    </tr>\n",
       "  </thead>\n",
       "  <tbody>\n",
       "    <tr>\n",
       "      <th>count</th>\n",
       "      <td>115</td>\n",
       "      <td>115</td>\n",
       "      <td>115</td>\n",
       "      <td>115</td>\n",
       "    </tr>\n",
       "    <tr>\n",
       "      <th>unique</th>\n",
       "      <td>99</td>\n",
       "      <td>111</td>\n",
       "      <td>103</td>\n",
       "      <td>103</td>\n",
       "    </tr>\n",
       "    <tr>\n",
       "      <th>top</th>\n",
       "      <td>The ad begins with a captivating image of the ...</td>\n",
       "      <td>{'frame_1': {'description': 'The ad opens with...</td>\n",
       "      <td>This concept aligns with Adludio's brand ident...</td>\n",
       "      <td>[{'frame_1': {'Background Animation': 'A suspe...</td>\n",
       "    </tr>\n",
       "    <tr>\n",
       "      <th>freq</th>\n",
       "      <td>5</td>\n",
       "      <td>5</td>\n",
       "      <td>5</td>\n",
       "      <td>13</td>\n",
       "    </tr>\n",
       "  </tbody>\n",
       "</table>\n",
       "</div>"
      ],
      "text/plain": [
       "                                                  concept  \\\n",
       "count                                                 115   \n",
       "unique                                                 99   \n",
       "top     The ad begins with a captivating image of the ...   \n",
       "freq                                                    5   \n",
       "\n",
       "                                           implementation  \\\n",
       "count                                                 115   \n",
       "unique                                                111   \n",
       "top     {'frame_1': {'description': 'The ad opens with...   \n",
       "freq                                                    5   \n",
       "\n",
       "                                              explanation  \\\n",
       "count                                                 115   \n",
       "unique                                                103   \n",
       "top     This concept aligns with Adludio's brand ident...   \n",
       "freq                                                    5   \n",
       "\n",
       "                                        asset_suggestions  \n",
       "count                                                 115  \n",
       "unique                                                103  \n",
       "top     [{'frame_1': {'Background Animation': 'A suspe...  \n",
       "freq                                                   13  "
      ]
     },
     "execution_count": 13,
     "metadata": {},
     "output_type": "execute_result"
    }
   ],
   "source": [
    "concepts_df.info()\n",
    "\n",
    "concepts_df.describe(include='all')\n"
   ]
  },
  {
   "cell_type": "code",
   "execution_count": 40,
   "metadata": {},
   "outputs": [
    {
     "data": {
      "text/html": [
       "<div>\n",
       "<style scoped>\n",
       "    .dataframe tbody tr th:only-of-type {\n",
       "        vertical-align: middle;\n",
       "    }\n",
       "\n",
       "    .dataframe tbody tr th {\n",
       "        vertical-align: top;\n",
       "    }\n",
       "\n",
       "    .dataframe thead th {\n",
       "        text-align: right;\n",
       "    }\n",
       "</style>\n",
       "<table border=\"1\" class=\"dataframe\">\n",
       "  <thead>\n",
       "    <tr style=\"text-align: right;\">\n",
       "      <th></th>\n",
       "      <th>concept</th>\n",
       "      <th>explanation</th>\n",
       "      <th>asset_suggestions</th>\n",
       "      <th>implementation_frame_1.description</th>\n",
       "      <th>implementation_frame_1.interaction_type</th>\n",
       "      <th>...</th>\n",
       "      <th>implementation_frame_6.duration</th>\n",
       "      <th>implementation_frame_7.description</th>\n",
       "      <th>implementation_frame_7.interaction_type</th>\n",
       "      <th>implementation_frame_7.next_frame</th>\n",
       "      <th>implementation_frame_7.duration</th>\n",
       "    </tr>\n",
       "  </thead>\n",
       "  <tbody>\n",
       "    <tr>\n",
       "      <th>0</th>\n",
       "      <td>Escape Challenge Teaser</td>\n",
       "      <td>This concept aligns with LEGO CITY's brand ide...</td>\n",
       "      <td>[{'frame_1': {'Background Animation': 'A suspe...</td>\n",
       "      <td>The ad begins with a suspenseful animation of ...</td>\n",
       "      <td>Tap</td>\n",
       "      <td>...</td>\n",
       "      <td>NaN</td>\n",
       "      <td>NaN</td>\n",
       "      <td>NaN</td>\n",
       "      <td>NaN</td>\n",
       "      <td>NaN</td>\n",
       "    </tr>\n",
       "  </tbody>\n",
       "</table>\n",
       "<p>1 rows × 34 columns</p>\n",
       "</div>"
      ],
      "text/plain": [
       "                   concept                                        explanation  \\\n",
       "0  Escape Challenge Teaser  This concept aligns with LEGO CITY's brand ide...   \n",
       "\n",
       "                                   asset_suggestions  \\\n",
       "0  [{'frame_1': {'Background Animation': 'A suspe...   \n",
       "\n",
       "                  implementation_frame_1.description  \\\n",
       "0  The ad begins with a suspenseful animation of ...   \n",
       "\n",
       "  implementation_frame_1.interaction_type  ...  \\\n",
       "0                                     Tap  ...   \n",
       "\n",
       "  implementation_frame_6.duration implementation_frame_7.description  \\\n",
       "0                             NaN                                NaN   \n",
       "\n",
       "  implementation_frame_7.interaction_type implementation_frame_7.next_frame  \\\n",
       "0                                     NaN                               NaN   \n",
       "\n",
       "  implementation_frame_7.duration  \n",
       "0                             NaN  \n",
       "\n",
       "[1 rows x 34 columns]"
      ]
     },
     "execution_count": 40,
     "metadata": {},
     "output_type": "execute_result"
    }
   ],
   "source": [
    "concepts_df.head(1)"
   ]
  },
  {
   "cell_type": "code",
   "execution_count": 14,
   "metadata": {},
   "outputs": [
    {
     "name": "stdout",
     "output_type": "stream",
     "text": [
      "                     concept  \\\n",
      "0    Escape Challenge Teaser   \n",
      "1   Interactive Storytelling   \n",
      "2                  City Tour   \n",
      "3  Interactive Globe Journey   \n",
      "4          Cultural Carousel   \n",
      "\n",
      "                                         explanation  \\\n",
      "0  This concept aligns with LEGO CITY's brand ide...   \n",
      "1  This concept aligns with LEGO CITY's brand ide...   \n",
      "2  This concept aligns with LEGO CITY's brand ide...   \n",
      "3  This concept aligns with the brand's identity ...   \n",
      "4  This concept leverages the brand's diverse por...   \n",
      "\n",
      "                                   asset_suggestions  \\\n",
      "0  [{'frame_1': {'Background Animation': 'A suspe...   \n",
      "1  [{'frame_1': {'Background Animation': 'A suspe...   \n",
      "2  [{'frame_1': {'Background Animation': 'A suspe...   \n",
      "3  [{'frame_1': {'3D Globe': 'A high-definition 3...   \n",
      "4  [{'frame_1': {'Background Image': 'A high-reso...   \n",
      "\n",
      "                  implementation_frame_1.description  \\\n",
      "0  The ad begins with a suspenseful animation of ...   \n",
      "1  The ad opens with a LEGO CITY set and a 'Choos...   \n",
      "2  The ad begins with a bird's-eye view of a bust...   \n",
      "3  The ad opens with a beautifully rendered 3D gl...   \n",
      "4  A carousel of cultural icons from various dest...   \n",
      "\n",
      "  implementation_frame_1.interaction_type implementation_frame_1.next_frame  \\\n",
      "0                                     Tap                           frame_2   \n",
      "1                                     Tap                           frame_2   \n",
      "2                                     Tap                           frame_2   \n",
      "3                                   Swipe                           frame_2   \n",
      "4                                   Swipe                           frame_2   \n",
      "\n",
      "  implementation_frame_1.duration  \\\n",
      "0                       5 seconds   \n",
      "1                       5 seconds   \n",
      "2                       5 seconds   \n",
      "3                       5 seconds   \n",
      "4                       5 seconds   \n",
      "\n",
      "                  implementation_frame_2.description  \\\n",
      "0  The scene transitions to a series of quick, ex...   \n",
      "1  Depending on the user's choice, the scene tran...   \n",
      "2  The scene transitions to a first-person view o...   \n",
      "3  Upon swiping, the globe spins and lands on a l...   \n",
      "4  Each swipe reveals a new destination with its ...   \n",
      "\n",
      "  implementation_frame_2.interaction_type implementation_frame_2.next_frame  \\\n",
      "0                                   Swipe                           frame_3   \n",
      "1                                   Swipe                           frame_3   \n",
      "2                                   Swipe                           frame_3   \n",
      "3                                     NaN                           frame_3   \n",
      "4                                    None                           frame_3   \n",
      "\n",
      "   ... implementation_frame_5.next_frame implementation_frame_5.duration  \\\n",
      "0  ...                               NaN                             NaN   \n",
      "1  ...                               NaN                             NaN   \n",
      "2  ...                               NaN                             NaN   \n",
      "3  ...                               NaN                             NaN   \n",
      "4  ...                               NaN                             NaN   \n",
      "\n",
      "  implementation_frame_6.description implementation_frame_6.interaction_type  \\\n",
      "0                                NaN                                     NaN   \n",
      "1                                NaN                                     NaN   \n",
      "2                                NaN                                     NaN   \n",
      "3                                NaN                                     NaN   \n",
      "4                                NaN                                     NaN   \n",
      "\n",
      "  implementation_frame_6.next_frame implementation_frame_6.duration  \\\n",
      "0                               NaN                             NaN   \n",
      "1                               NaN                             NaN   \n",
      "2                               NaN                             NaN   \n",
      "3                               NaN                             NaN   \n",
      "4                               NaN                             NaN   \n",
      "\n",
      "  implementation_frame_7.description implementation_frame_7.interaction_type  \\\n",
      "0                                NaN                                     NaN   \n",
      "1                                NaN                                     NaN   \n",
      "2                                NaN                                     NaN   \n",
      "3                                NaN                                     NaN   \n",
      "4                                NaN                                     NaN   \n",
      "\n",
      "  implementation_frame_7.next_frame implementation_frame_7.duration  \n",
      "0                               NaN                             NaN  \n",
      "1                               NaN                             NaN  \n",
      "2                               NaN                             NaN  \n",
      "3                               NaN                             NaN  \n",
      "4                               NaN                             NaN  \n",
      "\n",
      "[5 rows x 34 columns]\n",
      "<class 'pandas.core.frame.DataFrame'>\n",
      "RangeIndex: 115 entries, 0 to 114\n",
      "Data columns (total 34 columns):\n",
      " #   Column                                                Non-Null Count  Dtype \n",
      "---  ------                                                --------------  ----- \n",
      " 0   concept                                               115 non-null    object\n",
      " 1   explanation                                           115 non-null    object\n",
      " 2   asset_suggestions                                     115 non-null    object\n",
      " 3   implementation_frame_1.description                    115 non-null    object\n",
      " 4   implementation_frame_1.interaction_type               115 non-null    object\n",
      " 5   implementation_frame_1.next_frame                     115 non-null    object\n",
      " 6   implementation_frame_1.duration                       115 non-null    object\n",
      " 7   implementation_frame_2.description                    115 non-null    object\n",
      " 8   implementation_frame_2.interaction_type               71 non-null     object\n",
      " 9   implementation_frame_2.next_frame                     115 non-null    object\n",
      " 10  implementation_frame_2.duration                       115 non-null    object\n",
      " 11  implementation_frame_3.description                    113 non-null    object\n",
      " 12  implementation_frame_3.interaction_type               84 non-null     object\n",
      " 13  implementation_frame_3.next_frame                     113 non-null    object\n",
      " 14  implementation_frame_3.duration                       113 non-null    object\n",
      " 15  implementation_frame_4.description                    47 non-null     object\n",
      " 16  implementation_frame_4.interaction_type               44 non-null     object\n",
      " 17  implementation_frame_4.next_frame                     47 non-null     object\n",
      " 18  implementation_frame_4.duration                       47 non-null     object\n",
      " 19  implementation_end-of-advertisement.description       5 non-null      object\n",
      " 20  implementation_end-of-advertisement.interaction_type  5 non-null      object\n",
      " 21  implementation_end-of-advertisement.duration          5 non-null      object\n",
      " 22  implementation_frame_5.description                    15 non-null     object\n",
      " 23  implementation_frame_5.interaction_type               14 non-null     object\n",
      " 24  implementation_frame_5.next_frame                     15 non-null     object\n",
      " 25  implementation_frame_5.duration                       15 non-null     object\n",
      " 26  implementation_frame_6.description                    2 non-null      object\n",
      " 27  implementation_frame_6.interaction_type               1 non-null      object\n",
      " 28  implementation_frame_6.next_frame                     2 non-null      object\n",
      " 29  implementation_frame_6.duration                       2 non-null      object\n",
      " 30  implementation_frame_7.description                    2 non-null      object\n",
      " 31  implementation_frame_7.interaction_type               2 non-null      object\n",
      " 32  implementation_frame_7.next_frame                     2 non-null      object\n",
      " 33  implementation_frame_7.duration                       2 non-null      object\n",
      "dtypes: object(34)\n",
      "memory usage: 30.7+ KB\n",
      "None\n"
     ]
    }
   ],
   "source": [
    "# Normalize the 'implementation' column to separate DataFrame\n",
    "implementation_df = pd.json_normalize(concepts_df['implementation'])\n",
    "implementation_df.columns = [f'implementation_{col}' for col in implementation_df.columns]\n",
    "\n",
    "# Concatenate with the main DataFrame\n",
    "concepts_df = pd.concat([concepts_df, implementation_df], axis=1).drop(columns=['implementation'])\n",
    "\n",
    "# Display the new DataFrame structure\n",
    "print(concepts_df.head())\n",
    "print(concepts_df.info())\n"
   ]
  },
  {
   "cell_type": "markdown",
   "metadata": {},
   "source": []
  },
  {
   "cell_type": "code",
   "execution_count": 15,
   "metadata": {},
   "outputs": [
    {
     "data": {
      "image/png": "[encoded data removed]",
      "text/plain": [
       "<Figure size 1200x600 with 1 Axes>"
      ]
     },
     "metadata": {},
     "output_type": "display_data"
    }
   ],
   "source": [
    "import matplotlib.pyplot as plt\n",
    "import seaborn as sns\n",
    "\n",
    "frame_counts = concepts_df[[col for col in concepts_df.columns if 'implementation_frame_' in col]].notnull().sum()\n",
    "\n",
    "plt.figure(figsize=(12, 6))\n",
    "frame_counts.plot(kind='bar')\n",
    "plt.xlabel('Frame')\n",
    "plt.ylabel('Non-null Counts')\n",
    "plt.title('Non-null Counts per Implementation Frame')\n",
    "plt.show()\n"
   ]
  },
  {
   "cell_type": "code",
   "execution_count": 16,
   "metadata": {},
   "outputs": [
    {
     "data": {
      "image/png": "[encoded data removed]",
      "text/plain": [
       "<Figure size 1200x600 with 1 Axes>"
      ]
     },
     "metadata": {},
     "output_type": "display_data"
    }
   ],
   "source": [
    "interaction_type_cols = [col for col in concepts_df.columns if 'interaction_type' in col]\n",
    "\n",
    "interaction_types = concepts_df[interaction_type_cols].melt(value_name='interaction_type').dropna()\n",
    "\n",
    "plt.figure(figsize=(12, 6))\n",
    "sns.countplot(y='interaction_type', data=interaction_types, order=interaction_types['interaction_type'].value_counts().index)\n",
    "plt.xlabel('Count')\n",
    "plt.ylabel('Interaction Type')\n",
    "plt.title('Frequency of Interaction Types Across Frames')\n",
    "plt.show()\n"
   ]
  },
  {
   "cell_type": "code",
   "execution_count": 17,
   "metadata": {},
   "outputs": [
    {
     "name": "stdout",
     "output_type": "stream",
     "text": [
      "                                         explanation  \\\n",
      "0  This variation aligns with the creative brief ...   \n",
      "1  This variation aligns with the concept and bri...   \n",
      "2  This variation aligns with the creative brief ...   \n",
      "3  This variation aligns with the 'City Tour' con...   \n",
      "4  This variation emphasizes the interactive and ...   \n",
      "\n",
      "                        frame_1.Background Animation  \\\n",
      "0  A suspenseful animation of a LEGO CITY set, wi...   \n",
      "1                                                NaN   \n",
      "2                                                NaN   \n",
      "3                                                NaN   \n",
      "4                                                NaN   \n",
      "\n",
      "                                     frame_1.Tagline  \\\n",
      "0  'YOUR CITY, NO LIMITS' appears in bold, vibran...   \n",
      "1  'YOUR CITY, NO LIMITS' appears in bold, colorf...   \n",
      "2                                                NaN   \n",
      "3                                                NaN   \n",
      "4                                                NaN   \n",
      "\n",
      "                             frame_1.Countdown Timer  \\\n",
      "0  A digital countdown timer, styled to resemble ...   \n",
      "1                                                NaN   \n",
      "2                                                NaN   \n",
      "3                                                NaN   \n",
      "4                                                NaN   \n",
      "\n",
      "                                 frame_2.Video Clips  \\\n",
      "0  A series of quick, exciting clips showcasing v...   \n",
      "1                                                NaN   \n",
      "2                                                NaN   \n",
      "3                                                NaN   \n",
      "4                                                NaN   \n",
      "\n",
      "                             frame_2.Swipe Indicator  \\\n",
      "0  A subtle, animated swipe indicator encourages ...   \n",
      "1                                                NaN   \n",
      "2                                                NaN   \n",
      "3                                                NaN   \n",
      "4                                                NaN   \n",
      "\n",
      "                                        frame_3.Logo  \\\n",
      "0  The LEGO CITY 2024 logo, designed with the ico...   \n",
      "1                                                NaN   \n",
      "2  LEGO logo, slightly more prominent to reinforc...   \n",
      "3  The LEGO CITY 2024 logo, prominently displayed...   \n",
      "4                                                NaN   \n",
      "\n",
      "                                  frame_3.CTA Button  \\\n",
      "0  A 'Play Now' button, styled to resemble a LEGO...   \n",
      "1                                                NaN   \n",
      "2                                                NaN   \n",
      "3                                                NaN   \n",
      "4                                                NaN   \n",
      "\n",
      "                                  frame_1.Background  \\\n",
      "0                                                NaN   \n",
      "1  A lively, animated cityscape made entirely of ...   \n",
      "2  A vibrant, detailed image of a LEGO CITY set, ...   \n",
      "3  A vibrant, bustling LEGO CITY, meticulously cr...   \n",
      "4  A vibrant, bustling LEGO CITY set, showcasing ...   \n",
      "\n",
      "                                        frame_1.Logo  ...  \\\n",
      "0                                                NaN  ...   \n",
      "1  The LEGO logo appears prominently at the cente...  ...   \n",
      "2  LEGO logo placed subtly in the corner to reinf...  ...   \n",
      "3  The LEGO logo, subtly placed in the corner to ...  ...   \n",
      "4                                                NaN  ...   \n",
      "\n",
      "  frame_3.Informational Text frame_2.360-degree View Video  \\\n",
      "0                        NaN                           NaN   \n",
      "1                        NaN                           NaN   \n",
      "2                        NaN                           NaN   \n",
      "3                        NaN                           NaN   \n",
      "4                        NaN                           NaN   \n",
      "\n",
      "  frame_3.Feature Highlight Image frame_2.Interactive 3D Model  \\\n",
      "0                             NaN                          NaN   \n",
      "1                             NaN                          NaN   \n",
      "2                             NaN                          NaN   \n",
      "3                             NaN                          NaN   \n",
      "4                             NaN                          NaN   \n",
      "\n",
      "  frame_3.Feature Highlight Video frame_2.Supporting Text frame_3.Reward Text  \\\n",
      "0                             NaN                     NaN                 NaN   \n",
      "1                             NaN                     NaN                 NaN   \n",
      "2                             NaN                     NaN                 NaN   \n",
      "3                             NaN                     NaN                 NaN   \n",
      "4                             NaN                     NaN                 NaN   \n",
      "\n",
      "  frame_4.Supporting Text frame_4.Foreground frame_4.Interaction  \n",
      "0                     NaN                NaN                 NaN  \n",
      "1                     NaN                NaN                 NaN  \n",
      "2                     NaN                NaN                 NaN  \n",
      "3                     NaN                NaN                 NaN  \n",
      "4                     NaN                NaN                 NaN  \n",
      "\n",
      "[5 rows x 393 columns]\n"
     ]
    }
   ],
   "source": [
    "import json\n",
    "asset_suggestions_df = pd.json_normalize(concepts_df['asset_suggestions'].explode())\n",
    "\n",
    "exploded_asset_suggestions = concepts_df.explode('asset_suggestions')\n",
    "normalized_asset_suggestions = pd.json_normalize(exploded_asset_suggestions['asset_suggestions'])\n",
    "print(normalized_asset_suggestions.head())\n"
   ]
  },
  {
   "cell_type": "code",
   "execution_count": 24,
   "metadata": {},
   "outputs": [
    {
     "name": "stderr",
     "output_type": "stream",
     "text": [
      "Using cache found in /home/mistir_nigusse/.cache/torch/hub/ultralytics_yolov5_master\n",
      "YOLOv5 🚀 2024-7-12 Python-3.8.10 torch-2.3.1 CPU\n",
      "\n",
      "Fusing layers... \n",
      "YOLOv5s summary: 213 layers, 7225885 parameters, 0 gradients, 16.4 GFLOPs\n",
      "Adding AutoShape... \n"
     ]
    }
   ],
   "source": [
    "import cv2\n",
    "import torch\n",
    "data = pd.read_csv('../data/Challenge_Data/performance_data.csv')\n",
    "model = torch.hub.load('ultralytics/yolov5', 'yolov5s', pretrained=True)\n"
   ]
  },
  {
   "cell_type": "code",
   "execution_count": 25,
   "metadata": {},
   "outputs": [
    {
     "name": "stdout",
     "output_type": "stream",
     "text": [
      "Reading image from: ../data/Challenge_Data/Assets/bfbf7a2b7ac635e67877b1ab87fd6629/_preview.png\n",
      "Reading image from: ../data/Challenge_Data/Assets/945010afbf9a55bbdffcb0895f946155/_preview.png\n"
     ]
    },
    {
     "name": "stdout",
     "output_type": "stream",
     "text": [
      "Reading image from: ../data/Challenge_Data/Assets/e68e20f592457b875ce29757ab855dfe/_preview.png\n",
      "Reading image from: ../data/Challenge_Data/Assets/adunit-nestle-purina-friskies-mob/_preview.png\n",
      "Warning: Image not found at ../data/Challenge_Data/Assets/adunit-nestle-purina-friskies-mob/_preview.png\n",
      "Reading image from: ../data/Challenge_Data/Assets/adunit-lionsgate-uwomt-user-slider-sensory-video-final-mpu/_preview.png\n",
      "Warning: Image not found at ../data/Challenge_Data/Assets/adunit-lionsgate-uwomt-user-slider-sensory-video-final-mpu/_preview.png\n",
      "Reading image from: ../data/Challenge_Data/Assets/84327cf26d2a91e2730ae7ddbfca6d59/_preview.png\n"
     ]
    },
    {
     "name": "stderr",
     "output_type": "stream",
     "text": [
      "[ WARN:0@52.748] global loadsave.cpp:241 findDecoder imread_('../data/Challenge_Data/Assets/adunit-nestle-purina-friskies-mob/_preview.png'): can't open/read file: check file path/integrity\n",
      "[ WARN:0@52.748] global loadsave.cpp:241 findDecoder imread_('../data/Challenge_Data/Assets/adunit-lionsgate-uwomt-user-slider-sensory-video-final-mpu/_preview.png'): can't open/read file: check file path/integrity\n"
     ]
    },
    {
     "name": "stdout",
     "output_type": "stream",
     "text": [
      "Reading image from: ../data/Challenge_Data/Assets/08b7a12a72fb5100b27197c39bab1b70/_preview.png\n",
      "Reading image from: ../data/Challenge_Data/Assets/adunit-lionsgate-spiral-puzzle-v2-mpu/_preview.png\n",
      "Warning: Image not found at ../data/Challenge_Data/Assets/adunit-lionsgate-spiral-puzzle-v2-mpu/_preview.png\n",
      "Reading image from: ../data/Challenge_Data/Assets/bb631902fce625cf0dc87d80c027c905/_preview.png\n"
     ]
    },
    {
     "name": "stderr",
     "output_type": "stream",
     "text": [
      "[ WARN:0@52.987] global loadsave.cpp:241 findDecoder imread_('../data/Challenge_Data/Assets/adunit-lionsgate-spiral-puzzle-v2-mpu/_preview.png'): can't open/read file: check file path/integrity\n",
      "[ WARN:0@53.093] global loadsave.cpp:241 findDecoder imread_('../data/Challenge_Data/Assets/adunit-western-union-sensory-unit-swipe-right-tap-mpu/_preview.png'): can't open/read file: check file path/integrity\n"
     ]
    },
    {
     "name": "stdout",
     "output_type": "stream",
     "text": [
      "Reading image from: ../data/Challenge_Data/Assets/adunit-western-union-sensory-unit-swipe-right-tap-mpu/_preview.png\n",
      "Warning: Image not found at ../data/Challenge_Data/Assets/adunit-western-union-sensory-unit-swipe-right-tap-mpu/_preview.png\n",
      "Reading image from: ../data/Challenge_Data/Assets/bcc5ae4665b6b8c2ff25dfdc65fbc65a/_preview.png\n",
      "Reading image from: ../data/Challenge_Data/Assets/adunit-chevy-hotspot-cpe-mpu/_preview.png\n",
      "Warning: Image not found at ../data/Challenge_Data/Assets/adunit-chevy-hotspot-cpe-mpu/_preview.png\n",
      "Reading image from: ../data/Challenge_Data/Assets/adunit-yamaha-user-slider-rotate-v3-mob/_preview.png\n",
      "Warning: Image not found at ../data/Challenge_Data/Assets/adunit-yamaha-user-slider-rotate-v3-mob/_preview.png\n",
      "Reading image from: ../data/Challenge_Data/Assets/adunit-showtime-dexture-post-mpu/_preview.png\n",
      "Warning: Image not found at ../data/Challenge_Data/Assets/adunit-showtime-dexture-post-mpu/_preview.png\n",
      "Reading image from: ../data/Challenge_Data/Assets/7fc571f85358c5d37efafde99b6896d7/_preview.png\n"
     ]
    },
    {
     "name": "stderr",
     "output_type": "stream",
     "text": [
      "[ WARN:0@53.203] global loadsave.cpp:241 findDecoder imread_('../data/Challenge_Data/Assets/adunit-chevy-hotspot-cpe-mpu/_preview.png'): can't open/read file: check file path/integrity\n",
      "[ WARN:0@53.203] global loadsave.cpp:241 findDecoder imread_('../data/Challenge_Data/Assets/adunit-yamaha-user-slider-rotate-v3-mob/_preview.png'): can't open/read file: check file path/integrity\n",
      "[ WARN:0@53.203] global loadsave.cpp:241 findDecoder imread_('../data/Challenge_Data/Assets/adunit-showtime-dexture-post-mpu/_preview.png'): can't open/read file: check file path/integrity\n",
      "[ WARN:0@53.325] global loadsave.cpp:241 findDecoder imread_('../data/Challenge_Data/Assets/adunit-jaguar-nameplate-refresh-rfb-mpu/_preview.png'): can't open/read file: check file path/integrity\n"
     ]
    },
    {
     "name": "stdout",
     "output_type": "stream",
     "text": [
      "Reading image from: ../data/Challenge_Data/Assets/adunit-jaguar-nameplate-refresh-rfb-mpu/_preview.png\n",
      "Warning: Image not found at ../data/Challenge_Data/Assets/adunit-jaguar-nameplate-refresh-rfb-mpu/_preview.png\n",
      "Reading image from: ../data/Challenge_Data/Assets/79c36d2adb94900291f5ddf1f6580c43/_preview.png\n",
      "Reading image from: ../data/Challenge_Data/Assets/c7ecd71b4632aea2ffca69a1d079b290/_preview.png\n",
      "Reading image from: ../data/Challenge_Data/Assets/adunit-subway-better-for-you-mpu/_preview.png\n",
      "Warning: Image not found at ../data/Challenge_Data/Assets/adunit-subway-better-for-you-mpu/_preview.png\n",
      "Reading image from: ../data/Challenge_Data/Assets/8fa19496d906812e1f44a983d347ee63/_preview.png\n",
      "Reading image from: ../data/Challenge_Data/Assets/3ef8b18ef78ad050d1a76b801d97a08c/_preview.png\n"
     ]
    },
    {
     "name": "stderr",
     "output_type": "stream",
     "text": [
      "[ WARN:0@53.558] global loadsave.cpp:241 findDecoder imread_('../data/Challenge_Data/Assets/adunit-subway-better-for-you-mpu/_preview.png'): can't open/read file: check file path/integrity\n"
     ]
    },
    {
     "name": "stdout",
     "output_type": "stream",
     "text": [
      "Reading image from: ../data/Challenge_Data/Assets/adunit-western-union-sensory-unit-swipe-up-tap-mpu/_preview.png\n",
      "Warning: Image not found at ../data/Challenge_Data/Assets/adunit-western-union-sensory-unit-swipe-up-tap-mpu/_preview.png\n",
      "Reading image from: ../data/Challenge_Data/Assets/7f25293ac6d5c570749cea2af84e8439/_preview.png\n",
      "Reading image from: ../data/Challenge_Data/Assets/3c23316180b7da3e712c0596fa01ff74/_preview.png\n"
     ]
    },
    {
     "name": "stderr",
     "output_type": "stream",
     "text": [
      "[ WARN:0@53.802] global loadsave.cpp:241 findDecoder imread_('../data/Challenge_Data/Assets/adunit-western-union-sensory-unit-swipe-up-tap-mpu/_preview.png'): can't open/read file: check file path/integrity\n"
     ]
    },
    {
     "name": "stdout",
     "output_type": "stream",
     "text": [
      "Reading image from: ../data/Challenge_Data/Assets/459c60702cfaae32207a161b693df47c/_preview.png\n",
      "Reading image from: ../data/Challenge_Data/Assets/adunit-standardchartered-bio-mob/_preview.png\n",
      "Warning: Image not found at ../data/Challenge_Data/Assets/adunit-standardchartered-bio-mob/_preview.png\n",
      "Reading image from: ../data/Challenge_Data/Assets/adunit-mouser-user-choice-v2-cpe-av-mob/_preview.png\n",
      "Warning: Image not found at ../data/Challenge_Data/Assets/adunit-mouser-user-choice-v2-cpe-av-mob/_preview.png\n",
      "Reading image from: ../data/Challenge_Data/Assets/61eb910425767fd90074a958328bee6a/_preview.png\n"
     ]
    },
    {
     "name": "stderr",
     "output_type": "stream",
     "text": [
      "[ WARN:0@54.151] global loadsave.cpp:241 findDecoder imread_('../data/Challenge_Data/Assets/adunit-standardchartered-bio-mob/_preview.png'): can't open/read file: check file path/integrity\n",
      "[ WARN:0@54.151] global loadsave.cpp:241 findDecoder imread_('../data/Challenge_Data/Assets/adunit-mouser-user-choice-v2-cpe-av-mob/_preview.png'): can't open/read file: check file path/integrity\n",
      "[ WARN:0@54.284] global loadsave.cpp:241 findDecoder imread_('../data/Challenge_Data/Assets/adunit-facebook-conversational-commerce-3-0-vn-unit2-v2-mob/_preview.png'): can't open/read file: check file path/integrity\n"
     ]
    },
    {
     "name": "stdout",
     "output_type": "stream",
     "text": [
      "Reading image from: ../data/Challenge_Data/Assets/adunit-facebook-conversational-commerce-3-0-vn-unit2-v2-mob/_preview.png\n",
      "Warning: Image not found at ../data/Challenge_Data/Assets/adunit-facebook-conversational-commerce-3-0-vn-unit2-v2-mob/_preview.png\n",
      "Reading image from: ../data/Challenge_Data/Assets/3a5bb9945be02e4181eee1dec5c25edc/_preview.png\n",
      "Reading image from: ../data/Challenge_Data/Assets/e656e46e3a4dc66fc0baa433c94bfd1a/_preview.png\n",
      "Reading image from: ../data/Challenge_Data/Assets/4264eae0ad6e1cbcea3d73d88becb787/_preview.png\n",
      "Reading image from: ../data/Challenge_Data/Assets/adunit-showtime-dexter-sensory-plus-video-canvas-post-mpu/_preview.png\n",
      "Warning: Image not found at ../data/Challenge_Data/Assets/adunit-showtime-dexter-sensory-plus-video-canvas-post-mpu/_preview.png\n",
      "Reading image from: ../data/Challenge_Data/Assets/6a3dbf08b82e45b3f3e79844f3a9aa18/_preview.png\n"
     ]
    },
    {
     "name": "stderr",
     "output_type": "stream",
     "text": [
      "[ WARN:0@54.619] global loadsave.cpp:241 findDecoder imread_('../data/Challenge_Data/Assets/adunit-showtime-dexter-sensory-plus-video-canvas-post-mpu/_preview.png'): can't open/read file: check file path/integrity\n",
      "[ WARN:0@54.725] global loadsave.cpp:241 findDecoder imread_('../data/Challenge_Data/Assets/adunit-facebook-conversational-commerce-3-0-vn-unit2-mpu/_preview.png'): can't open/read file: check file path/integrity\n",
      "[ WARN:0@54.725] global loadsave.cpp:241 findDecoder imread_('../data/Challenge_Data/Assets/adunit-kitkat-golden-break-gamify-en-mob/_preview.png'): can't open/read file: check file path/integrity\n"
     ]
    },
    {
     "name": "stdout",
     "output_type": "stream",
     "text": [
      "Reading image from: ../data/Challenge_Data/Assets/adunit-facebook-conversational-commerce-3-0-vn-unit2-mpu/_preview.png\n",
      "Warning: Image not found at ../data/Challenge_Data/Assets/adunit-facebook-conversational-commerce-3-0-vn-unit2-mpu/_preview.png\n",
      "Reading image from: ../data/Challenge_Data/Assets/adunit-kitkat-golden-break-gamify-en-mob/_preview.png\n",
      "Warning: Image not found at ../data/Challenge_Data/Assets/adunit-kitkat-golden-break-gamify-en-mob/_preview.png\n",
      "Reading image from: ../data/Challenge_Data/Assets/29383bc5de5a62c642fb9434d71863e7/_preview.png\n",
      "Reading image from: ../data/Challenge_Data/Assets/9278a3d31c76eaa929d2326e1b2062e1/_preview.png\n",
      "Reading image from: ../data/Challenge_Data/Assets/b768aedc20d9c135b355b7cd8e8beff3/_preview.png\n",
      "Reading image from: ../data/Challenge_Data/Assets/ee11627c036ee9772446b6e3ac9da649/_preview.png\n",
      "Reading image from: ../data/Challenge_Data/Assets/07f93a53c25007301d276ec20e7be491/_preview.png\n",
      "Reading image from: ../data/Challenge_Data/Assets/2a6bbf47edb9f1cb3a722784c5e73e83/_preview.png\n",
      "Reading image from: ../data/Challenge_Data/Assets/adunit-simple-feast-build-for-industry-survey-q3-mob/_preview.png\n",
      "Warning: Image not found at ../data/Challenge_Data/Assets/adunit-simple-feast-build-for-industry-survey-q3-mob/_preview.png\n",
      "Reading image from: ../data/Challenge_Data/Assets/adunit-gme-user-choice-mpu/_preview.png\n",
      "Warning: Image not found at ../data/Challenge_Data/Assets/adunit-gme-user-choice-mpu/_preview.png\n",
      "Reading image from: ../data/Challenge_Data/Assets/3a9208f5502fa4ad01ddf92a77a0e8a3/_preview.png\n",
      "Reading image from: ../data/Challenge_Data/Assets/404c5d32b088d0869fd7774ce7582f89/_preview.png\n"
     ]
    },
    {
     "name": "stderr",
     "output_type": "stream",
     "text": [
      "[ WARN:0@55.360] global loadsave.cpp:241 findDecoder imread_('../data/Challenge_Data/Assets/adunit-simple-feast-build-for-industry-survey-q3-mob/_preview.png'): can't open/read file: check file path/integrity\n",
      "[ WARN:0@55.360] global loadsave.cpp:241 findDecoder imread_('../data/Challenge_Data/Assets/adunit-gme-user-choice-mpu/_preview.png'): can't open/read file: check file path/integrity\n"
     ]
    },
    {
     "name": "stdout",
     "output_type": "stream",
     "text": [
      "Reading image from: ../data/Challenge_Data/Assets/b1e8cf36fefced5b9f20d291026b06db/_preview.png\n",
      "Reading image from: ../data/Challenge_Data/Assets/b285c9ac9aa1669a7350e4c4594ea571/_preview.png\n",
      "Reading image from: ../data/Challenge_Data/Assets/b8595cc38764f2c30d986c4c8080671c/_preview.png\n",
      "Reading image from: ../data/Challenge_Data/Assets/42dd2154c1b6f67a461463cf322c9830/_preview.png\n",
      "Reading image from: ../data/Challenge_Data/Assets/adunit-mouser-user-choice-v2-cpe-canada-mob/_preview.png\n",
      "Warning: Image not found at ../data/Challenge_Data/Assets/adunit-mouser-user-choice-v2-cpe-canada-mob/_preview.png\n",
      "Reading image from: ../data/Challenge_Data/Assets/7db3a9c286b1a445845bad68ff95f2bb/_preview.png\n",
      "Reading image from: ../data/Challenge_Data/Assets/adunit-yamaha-wolverine-user-choice-av-mob/_preview.png\n",
      "Warning: Image not found at ../data/Challenge_Data/Assets/adunit-yamaha-wolverine-user-choice-av-mob/_preview.png\n",
      "Reading image from: ../data/Challenge_Data/Assets/adunit-van-cleef-and-arpels-frivole-wave-unit1-mpu/_preview.png\n",
      "Warning: Image not found at ../data/Challenge_Data/Assets/adunit-van-cleef-and-arpels-frivole-wave-unit1-mpu/_preview.png\n",
      "Reading image from: ../data/Challenge_Data/Assets/adunit-gme-user-choice-mob/_preview.png\n",
      "Warning: Image not found at ../data/Challenge_Data/Assets/adunit-gme-user-choice-mob/_preview.png\n",
      "Reading image from: ../data/Challenge_Data/Assets/73adaebd0fbf7778d06d9d711ba5c152/_preview.png\n"
     ]
    },
    {
     "name": "stderr",
     "output_type": "stream",
     "text": [
      "[ WARN:0@56.077] global loadsave.cpp:241 findDecoder imread_('../data/Challenge_Data/Assets/adunit-mouser-user-choice-v2-cpe-canada-mob/_preview.png'): can't open/read file: check file path/integrity\n",
      "[ WARN:0@56.186] global loadsave.cpp:241 findDecoder imread_('../data/Challenge_Data/Assets/adunit-yamaha-wolverine-user-choice-av-mob/_preview.png'): can't open/read file: check file path/integrity\n",
      "[ WARN:0@56.186] global loadsave.cpp:241 findDecoder imread_('../data/Challenge_Data/Assets/adunit-van-cleef-and-arpels-frivole-wave-unit1-mpu/_preview.png'): can't open/read file: check file path/integrity\n",
      "[ WARN:0@56.186] global loadsave.cpp:241 findDecoder imread_('../data/Challenge_Data/Assets/adunit-gme-user-choice-mob/_preview.png'): can't open/read file: check file path/integrity\n"
     ]
    },
    {
     "name": "stdout",
     "output_type": "stream",
     "text": [
      "Reading image from: ../data/Challenge_Data/Assets/3bc6564698bdf9559b98b255737bbedb/_preview.png\n",
      "Reading image from: ../data/Challenge_Data/Assets/df89c44299ec66120e89ab1d1296c26f/_preview.png\n",
      "Reading image from: ../data/Challenge_Data/Assets/adunit-van-cleef-and-arpels-frivole-wave-unit1-mob/_preview.png\n",
      "Warning: Image not found at ../data/Challenge_Data/Assets/adunit-van-cleef-and-arpels-frivole-wave-unit1-mob/_preview.png\n",
      "Reading image from: ../data/Challenge_Data/Assets/39d4594499ca9372338b51f71e0b6681/_preview.png\n",
      "Reading image from: ../data/Challenge_Data/Assets/3c35998c3f4a279a008ac3ffd8481fea/_preview.png\n"
     ]
    },
    {
     "name": "stderr",
     "output_type": "stream",
     "text": [
      "[ WARN:0@56.523] global loadsave.cpp:241 findDecoder imread_('../data/Challenge_Data/Assets/adunit-van-cleef-and-arpels-frivole-wave-unit1-mob/_preview.png'): can't open/read file: check file path/integrity\n"
     ]
    },
    {
     "name": "stdout",
     "output_type": "stream",
     "text": [
      "Reading image from: ../data/Challenge_Data/Assets/adunit-chevy-tap-and-hold-600-1200-mob/_preview.png\n",
      "Warning: Image not found at ../data/Challenge_Data/Assets/adunit-chevy-tap-and-hold-600-1200-mob/_preview.png\n",
      "Reading image from: ../data/Challenge_Data/Assets/c706a9ad6b0c2ee9295fe40dfa5b0615/_preview.png\n",
      "Reading image from: ../data/Challenge_Data/Assets/8b6e13cab4903dffde5588ea2ab0c2a2/_preview.png\n"
     ]
    },
    {
     "name": "stderr",
     "output_type": "stream",
     "text": [
      "[ WARN:0@56.756] global loadsave.cpp:241 findDecoder imread_('../data/Challenge_Data/Assets/adunit-chevy-tap-and-hold-600-1200-mob/_preview.png'): can't open/read file: check file path/integrity\n"
     ]
    },
    {
     "name": "stdout",
     "output_type": "stream",
     "text": [
      "Reading image from: ../data/Challenge_Data/Assets/adunit-chevy-tap-final-mpu/_preview.png\n",
      "Warning: Image not found at ../data/Challenge_Data/Assets/adunit-chevy-tap-final-mpu/_preview.png\n",
      "Reading image from: ../data/Challenge_Data/Assets/637244e2ca7b57187bd1b563a5b85846/_preview.png\n",
      "Reading image from: ../data/Challenge_Data/Assets/99558df7a3e64e9b15c34c20f44f038a/_preview.png\n"
     ]
    },
    {
     "name": "stderr",
     "output_type": "stream",
     "text": [
      "[ WARN:0@57.014] global loadsave.cpp:241 findDecoder imread_('../data/Challenge_Data/Assets/adunit-chevy-tap-final-mpu/_preview.png'): can't open/read file: check file path/integrity\n"
     ]
    },
    {
     "name": "stdout",
     "output_type": "stream",
     "text": [
      "Reading image from: ../data/Challenge_Data/Assets/39825c2c74eae1fd9c73da842617d2da/_preview.png\n",
      "Reading image from: ../data/Challenge_Data/Assets/ed9fd46313a5bce5f00d5fd720e5880f/_preview.png\n",
      "Reading image from: ../data/Challenge_Data/Assets/c176d5a3e27117bc90e3820434a024d9/_preview.png\n",
      "Reading image from: ../data/Challenge_Data/Assets/adunit-vodacom-ciot-curve-v1-mob/_preview.png\n",
      "Warning: Image not found at ../data/Challenge_Data/Assets/adunit-vodacom-ciot-curve-v1-mob/_preview.png\n",
      "Reading image from: ../data/Challenge_Data/Assets/bf1f7af46eec0e92939a8b3ba51cbacd/_preview.png\n"
     ]
    },
    {
     "name": "stderr",
     "output_type": "stream",
     "text": [
      "[ WARN:0@57.578] global loadsave.cpp:241 findDecoder imread_('../data/Challenge_Data/Assets/adunit-vodacom-ciot-curve-v1-mob/_preview.png'): can't open/read file: check file path/integrity\n",
      "[ WARN:0@57.688] global loadsave.cpp:241 findDecoder imread_('../data/Challenge_Data/Assets/adunit-western-union-sensory-unit-swipe-right-tap-mob/_preview.png'): can't open/read file: check file path/integrity\n"
     ]
    },
    {
     "name": "stdout",
     "output_type": "stream",
     "text": [
      "Reading image from: ../data/Challenge_Data/Assets/adunit-western-union-sensory-unit-swipe-right-tap-mob/_preview.png\n",
      "Warning: Image not found at ../data/Challenge_Data/Assets/adunit-western-union-sensory-unit-swipe-right-tap-mob/_preview.png\n",
      "Reading image from: ../data/Challenge_Data/Assets/26e54c41e45e7bd0899b90fdacf124fd/_preview.png\n",
      "Reading image from: ../data/Challenge_Data/Assets/adunit-mouser-user-choice-v2-cpe-av-canada-mpu/_preview.png\n",
      "Warning: Image not found at ../data/Challenge_Data/Assets/adunit-mouser-user-choice-v2-cpe-av-canada-mpu/_preview.png\n",
      "Reading image from: ../data/Challenge_Data/Assets/d1e28a38a4e871527e62543540d0e7a7/_preview.png\n"
     ]
    },
    {
     "name": "stderr",
     "output_type": "stream",
     "text": [
      "[ WARN:0@57.818] global loadsave.cpp:241 findDecoder imread_('../data/Challenge_Data/Assets/adunit-mouser-user-choice-v2-cpe-av-canada-mpu/_preview.png'): can't open/read file: check file path/integrity\n"
     ]
    },
    {
     "name": "stdout",
     "output_type": "stream",
     "text": [
      "Reading image from: ../data/Challenge_Data/Assets/f5f846befe806be6021ff34f9fd60547/_preview.png\n",
      "Reading image from: ../data/Challenge_Data/Assets/b4d26946d68754d77027cc419d36892f/_preview.png\n",
      "Reading image from: ../data/Challenge_Data/Assets/adunit-nestle-maggi-varieties-bouillon-en-ksa-mob/_preview.png\n",
      "Warning: Image not found at ../data/Challenge_Data/Assets/adunit-nestle-maggi-varieties-bouillon-en-ksa-mob/_preview.png\n",
      "Reading image from: ../data/Challenge_Data/Assets/96510a48f1e13c601687e80f5d60670b/_preview.png\n",
      "Reading image from: ../data/Challenge_Data/Assets/adunit-lionsgate-uwomt-user-slider-sensory-video-final-tune2-mpu/_preview.png\n",
      "Warning: Image not found at ../data/Challenge_Data/Assets/adunit-lionsgate-uwomt-user-slider-sensory-video-final-tune2-mpu/_preview.png\n",
      "Reading image from: ../data/Challenge_Data/Assets/09f35af0a30b37dce2f1a5ad7f143293/_preview.png\n"
     ]
    },
    {
     "name": "stderr",
     "output_type": "stream",
     "text": [
      "[ WARN:0@58.183] global loadsave.cpp:241 findDecoder imread_('../data/Challenge_Data/Assets/adunit-nestle-maggi-varieties-bouillon-en-ksa-mob/_preview.png'): can't open/read file: check file path/integrity\n",
      "[ WARN:0@58.291] global loadsave.cpp:241 findDecoder imread_('../data/Challenge_Data/Assets/adunit-lionsgate-uwomt-user-slider-sensory-video-final-tune2-mpu/_preview.png'): can't open/read file: check file path/integrity\n"
     ]
    },
    {
     "name": "stdout",
     "output_type": "stream",
     "text": [
      "Reading image from: ../data/Challenge_Data/Assets/adunit-mouser-user-choice-v2-cpe-mob/_preview.png\n",
      "Warning: Image not found at ../data/Challenge_Data/Assets/adunit-mouser-user-choice-v2-cpe-mob/_preview.png\n",
      "Reading image from: ../data/Challenge_Data/Assets/4443d262f14a8d6d58655dcf2e8c4542/_preview.png\n",
      "Reading image from: ../data/Challenge_Data/Assets/adunit-nutrella-barrilito-mpu/_preview.png\n",
      "Warning: Image not found at ../data/Challenge_Data/Assets/adunit-nutrella-barrilito-mpu/_preview.png\n",
      "Reading image from: ../data/Challenge_Data/Assets/3f08e75ebd9b0ca68ffd298893647a13/_preview.png\n"
     ]
    },
    {
     "name": "stderr",
     "output_type": "stream",
     "text": [
      "[ WARN:0@58.403] global loadsave.cpp:241 findDecoder imread_('../data/Challenge_Data/Assets/adunit-mouser-user-choice-v2-cpe-mob/_preview.png'): can't open/read file: check file path/integrity\n",
      "[ WARN:0@58.529] global loadsave.cpp:241 findDecoder imread_('../data/Challenge_Data/Assets/adunit-nutrella-barrilito-mpu/_preview.png'): can't open/read file: check file path/integrity\n"
     ]
    },
    {
     "name": "stdout",
     "output_type": "stream",
     "text": [
      "Reading image from: ../data/Challenge_Data/Assets/c21bfafc138cf023080098b0f7a439d0/_preview.png\n",
      "Reading image from: ../data/Challenge_Data/Assets/adunit-mouser-user-choice-flight4-canada-cpe-av-mob/_preview.png\n",
      "Warning: Image not found at ../data/Challenge_Data/Assets/adunit-mouser-user-choice-flight4-canada-cpe-av-mob/_preview.png\n",
      "Reading image from: ../data/Challenge_Data/Assets/adunit-facebook-conversational-commerce-3-0-vn-unit1-mpu/_preview.png\n",
      "Warning: Image not found at ../data/Challenge_Data/Assets/adunit-facebook-conversational-commerce-3-0-vn-unit1-mpu/_preview.png\n",
      "Reading image from: ../data/Challenge_Data/Assets/65299151bf4cbd1825d28e4a43d113ac/_preview.png\n"
     ]
    },
    {
     "name": "stderr",
     "output_type": "stream",
     "text": [
      "[ WARN:0@58.769] global loadsave.cpp:241 findDecoder imread_('../data/Challenge_Data/Assets/adunit-mouser-user-choice-flight4-canada-cpe-av-mob/_preview.png'): can't open/read file: check file path/integrity\n",
      "[ WARN:0@58.769] global loadsave.cpp:241 findDecoder imread_('../data/Challenge_Data/Assets/adunit-facebook-conversational-commerce-3-0-vn-unit1-mpu/_preview.png'): can't open/read file: check file path/integrity\n",
      "[ WARN:0@58.886] global loadsave.cpp:241 findDecoder imread_('../data/Challenge_Data/Assets/adunit-mouser-user-choice-cpe-canada-mob/_preview.png'): can't open/read file: check file path/integrity\n",
      "[ WARN:0@58.886] global loadsave.cpp:241 findDecoder imread_('../data/Challenge_Data/Assets/adunit-j-and-j-e-commerce-v1-mob/_preview.png'): can't open/read file: check file path/integrity\n"
     ]
    },
    {
     "name": "stdout",
     "output_type": "stream",
     "text": [
      "Reading image from: ../data/Challenge_Data/Assets/adunit-mouser-user-choice-cpe-canada-mob/_preview.png\n",
      "Warning: Image not found at ../data/Challenge_Data/Assets/adunit-mouser-user-choice-cpe-canada-mob/_preview.png\n",
      "Reading image from: ../data/Challenge_Data/Assets/adunit-j-and-j-e-commerce-v1-mob/_preview.png\n",
      "Warning: Image not found at ../data/Challenge_Data/Assets/adunit-j-and-j-e-commerce-v1-mob/_preview.png\n",
      "Reading image from: ../data/Challenge_Data/Assets/3ff8db0779a25d3a9b92aebfb0eebe69/_preview.png\n",
      "Reading image from: ../data/Challenge_Data/Assets/d3a2aee36af8bf076d1111a6115be31b/_preview.png\n",
      "Reading image from: ../data/Challenge_Data/Assets/b7aa3693292fc7cf17f4fc1da680bf5d/_preview.png\n",
      "Reading image from: ../data/Challenge_Data/Assets/015f38df736f5a9498b18a1d12170187/_preview.png\n",
      "Reading image from: ../data/Challenge_Data/Assets/db69df88f5a7b1540d4ff829bffb97f9/_preview.png\n",
      "Reading image from: ../data/Challenge_Data/Assets/22c8ca74c84370214de628417aff20d6/_preview.png\n",
      "Reading image from: ../data/Challenge_Data/Assets/d6875bfe73a3abc7eea25b7de121c643/_preview.png\n",
      "Reading image from: ../data/Challenge_Data/Assets/6939c3f395fc2317da25fa5b19580c68/_preview.png\n",
      "Reading image from: ../data/Challenge_Data/Assets/adunit-city-square-mall-cny-mob/_preview.png\n",
      "Warning: Image not found at ../data/Challenge_Data/Assets/adunit-city-square-mall-cny-mob/_preview.png\n",
      "Reading image from: ../data/Challenge_Data/Assets/adunit-nestle-purina-friskies-arabic-mob/_preview.png\n",
      "Warning: Image not found at ../data/Challenge_Data/Assets/adunit-nestle-purina-friskies-arabic-mob/_preview.png\n",
      "Reading image from: ../data/Challenge_Data/Assets/cc60737a3e2f6b713484916327764a5f/_preview.png\n",
      "Reading image from: ../data/Challenge_Data/Assets/adunit-christian-dior-popup-store-mpu/_preview.png\n",
      "Warning: Image not found at ../data/Challenge_Data/Assets/adunit-christian-dior-popup-store-mpu/_preview.png\n",
      "Reading image from: ../data/Challenge_Data/Assets/f6c6774bb267182cf248fd64a5b25b59/_preview.png\n"
     ]
    },
    {
     "name": "stderr",
     "output_type": "stream",
     "text": [
      "[ WARN:0@59.776] global loadsave.cpp:241 findDecoder imread_('../data/Challenge_Data/Assets/adunit-city-square-mall-cny-mob/_preview.png'): can't open/read file: check file path/integrity\n",
      "[ WARN:0@59.776] global loadsave.cpp:241 findDecoder imread_('../data/Challenge_Data/Assets/adunit-nestle-purina-friskies-arabic-mob/_preview.png'): can't open/read file: check file path/integrity\n",
      "[ WARN:0@59.883] global loadsave.cpp:241 findDecoder imread_('../data/Challenge_Data/Assets/adunit-christian-dior-popup-store-mpu/_preview.png'): can't open/read file: check file path/integrity\n"
     ]
    },
    {
     "name": "stdout",
     "output_type": "stream",
     "text": [
      "Reading image from: ../data/Challenge_Data/Assets/3c99774ddf5babcf91ae21f76e9f4508/_preview.png\n",
      "Reading image from: ../data/Challenge_Data/Assets/adunit-the-botanist-gin-mpu/_preview.png\n",
      "Warning: Image not found at ../data/Challenge_Data/Assets/adunit-the-botanist-gin-mpu/_preview.png\n",
      "Reading image from: ../data/Challenge_Data/Assets/255d22983f0277734d8063562fad31b7/_preview.png\n"
     ]
    },
    {
     "name": "stderr",
     "output_type": "stream",
     "text": [
      "[ WARN:0@60.118] global loadsave.cpp:241 findDecoder imread_('../data/Challenge_Data/Assets/adunit-the-botanist-gin-mpu/_preview.png'): can't open/read file: check file path/integrity\n",
      "[ WARN:0@60.228] global loadsave.cpp:241 findDecoder imread_('../data/Challenge_Data/Assets/adunit-mouser-user-choice-v3-canada-cpe-av-mob/_preview.png'): can't open/read file: check file path/integrity\n",
      "[ WARN:0@60.228] global loadsave.cpp:241 findDecoder imread_('../data/Challenge_Data/Assets/adunit-heineken-sa-celebrations-bio-v2-mob/_preview.png'): can't open/read file: check file path/integrity\n"
     ]
    },
    {
     "name": "stdout",
     "output_type": "stream",
     "text": [
      "Reading image from: ../data/Challenge_Data/Assets/adunit-mouser-user-choice-v3-canada-cpe-av-mob/_preview.png\n",
      "Warning: Image not found at ../data/Challenge_Data/Assets/adunit-mouser-user-choice-v3-canada-cpe-av-mob/_preview.png\n",
      "Reading image from: ../data/Challenge_Data/Assets/adunit-heineken-sa-celebrations-bio-v2-mob/_preview.png\n",
      "Warning: Image not found at ../data/Challenge_Data/Assets/adunit-heineken-sa-celebrations-bio-v2-mob/_preview.png\n",
      "Reading image from: ../data/Challenge_Data/Assets/3ae630f06b5d395a7a0db157c2430093/_preview.png\n",
      "Reading image from: ../data/Challenge_Data/Assets/4a626b2e90bd71acc2ef014c7e1123c7/_preview.png\n",
      "Reading image from: ../data/Challenge_Data/Assets/adunit-gme-sensory-video-add-unmute-button-v2-mob/_preview.png\n",
      "Warning: Image not found at ../data/Challenge_Data/Assets/adunit-gme-sensory-video-add-unmute-button-v2-mob/_preview.png\n",
      "Reading image from: ../data/Challenge_Data/Assets/adunit-jaguar-nameplate-refresh-rc-mob/_preview.png\n",
      "Warning: Image not found at ../data/Challenge_Data/Assets/adunit-jaguar-nameplate-refresh-rc-mob/_preview.png\n",
      "Reading image from: ../data/Challenge_Data/Assets/ea140a50dd4921ef96e08552e6eb9cc7/_preview.png\n",
      "Reading image from: ../data/Challenge_Data/Assets/adunit-simple-feast-build-for-industry-survey-q2-mob/_preview.png\n",
      "Warning: Image not found at ../data/Challenge_Data/Assets/adunit-simple-feast-build-for-industry-survey-q2-mob/_preview.png\n",
      "Reading image from: ../data/Challenge_Data/Assets/4e3305a488faf871189cce9831a6c863/_preview.png\n"
     ]
    },
    {
     "name": "stderr",
     "output_type": "stream",
     "text": [
      "[ WARN:0@60.444] global loadsave.cpp:241 findDecoder imread_('../data/Challenge_Data/Assets/adunit-gme-sensory-video-add-unmute-button-v2-mob/_preview.png'): can't open/read file: check file path/integrity\n",
      "[ WARN:0@60.445] global loadsave.cpp:241 findDecoder imread_('../data/Challenge_Data/Assets/adunit-jaguar-nameplate-refresh-rc-mob/_preview.png'): can't open/read file: check file path/integrity\n",
      "[ WARN:0@60.560] global loadsave.cpp:241 findDecoder imread_('../data/Challenge_Data/Assets/adunit-simple-feast-build-for-industry-survey-q2-mob/_preview.png'): can't open/read file: check file path/integrity\n"
     ]
    },
    {
     "name": "stdout",
     "output_type": "stream",
     "text": [
      "Reading image from: ../data/Challenge_Data/Assets/495fb61f38dd39cd7fba4bb81af6c8f5/_preview.png\n",
      "Reading image from: ../data/Challenge_Data/Assets/adunit-lexus-video-carousel-mpu/_preview.png\n",
      "Warning: Image not found at ../data/Challenge_Data/Assets/adunit-lexus-video-carousel-mpu/_preview.png\n",
      "Reading image from: ../data/Challenge_Data/Assets/4b17a1c22c7a81c721608629b84b8b80/_preview.png\n"
     ]
    },
    {
     "name": "stderr",
     "output_type": "stream",
     "text": [
      "[ WARN:0@60.773] global loadsave.cpp:241 findDecoder imread_('../data/Challenge_Data/Assets/adunit-lexus-video-carousel-mpu/_preview.png'): can't open/read file: check file path/integrity\n",
      "[ WARN:0@60.888] global loadsave.cpp:241 findDecoder imread_('../data/Challenge_Data/Assets/adunit-scotch-brite-gamification-mpu/_preview.png'): can't open/read file: check file path/integrity\n"
     ]
    },
    {
     "name": "stdout",
     "output_type": "stream",
     "text": [
      "Reading image from: ../data/Challenge_Data/Assets/adunit-scotch-brite-gamification-mpu/_preview.png\n",
      "Warning: Image not found at ../data/Challenge_Data/Assets/adunit-scotch-brite-gamification-mpu/_preview.png\n",
      "Reading image from: ../data/Challenge_Data/Assets/ff88446626571f68e23c4b07063fd806/_preview.png\n",
      "Reading image from: ../data/Challenge_Data/Assets/5dea9aa4ca7a1f9a0d65d85ebece9522/_preview.png\n",
      "Reading image from: ../data/Challenge_Data/Assets/2a7069f1ccdc33dd1f7a200e3026b4ad/_preview.png\n",
      "Reading image from: ../data/Challenge_Data/Assets/adunit-mouser-user-choice-v3-us-cpe-mob/_preview.png\n",
      "Warning: Image not found at ../data/Challenge_Data/Assets/adunit-mouser-user-choice-v3-us-cpe-mob/_preview.png\n",
      "Reading image from: ../data/Challenge_Data/Assets/92ecf0b80b7483c89eb72a551484970a/_preview.png\n"
     ]
    },
    {
     "name": "stderr",
     "output_type": "stream",
     "text": [
      "[ WARN:0@61.242] global loadsave.cpp:241 findDecoder imread_('../data/Challenge_Data/Assets/adunit-mouser-user-choice-v3-us-cpe-mob/_preview.png'): can't open/read file: check file path/integrity\n",
      "[ WARN:0@61.357] global loadsave.cpp:241 findDecoder imread_('../data/Challenge_Data/Assets/adunit-milk-user-slide-v1-mob/_preview.png'): can't open/read file: check file path/integrity\n"
     ]
    },
    {
     "name": "stdout",
     "output_type": "stream",
     "text": [
      "Reading image from: ../data/Challenge_Data/Assets/adunit-milk-user-slide-v1-mob/_preview.png\n",
      "Warning: Image not found at ../data/Challenge_Data/Assets/adunit-milk-user-slide-v1-mob/_preview.png\n",
      "Reading image from: ../data/Challenge_Data/Assets/b8d87efae84799bd340ce653954a11b1/_preview.png\n",
      "Reading image from: ../data/Challenge_Data/Assets/adunit-mouser-user-choice-v2-cpe-uk-mob/_preview.png\n",
      "Warning: Image not found at ../data/Challenge_Data/Assets/adunit-mouser-user-choice-v2-cpe-uk-mob/_preview.png\n",
      "Reading image from: ../data/Challenge_Data/Assets/adunit-mouser-user-choice-cpe-uk-mpu/_preview.png\n",
      "Warning: Image not found at ../data/Challenge_Data/Assets/adunit-mouser-user-choice-cpe-uk-mpu/_preview.png\n",
      "Reading image from: ../data/Challenge_Data/Assets/75ada73f9b02a1f6e04f1bf69d5bd007/_preview.png\n"
     ]
    },
    {
     "name": "stderr",
     "output_type": "stream",
     "text": [
      "[ WARN:0@61.467] global loadsave.cpp:241 findDecoder imread_('../data/Challenge_Data/Assets/adunit-mouser-user-choice-v2-cpe-uk-mob/_preview.png'): can't open/read file: check file path/integrity\n",
      "[ WARN:0@61.467] global loadsave.cpp:241 findDecoder imread_('../data/Challenge_Data/Assets/adunit-mouser-user-choice-cpe-uk-mpu/_preview.png'): can't open/read file: check file path/integrity\n",
      "[ WARN:0@61.575] global loadsave.cpp:241 findDecoder imread_('../data/Challenge_Data/Assets/adunit-j-and-j-listerine-tonic3-exxon-mpu/_preview.png'): can't open/read file: check file path/integrity\n"
     ]
    },
    {
     "name": "stdout",
     "output_type": "stream",
     "text": [
      "Reading image from: ../data/Challenge_Data/Assets/adunit-j-and-j-listerine-tonic3-exxon-mpu/_preview.png\n",
      "Warning: Image not found at ../data/Challenge_Data/Assets/adunit-j-and-j-listerine-tonic3-exxon-mpu/_preview.png\n",
      "Reading image from: ../data/Challenge_Data/Assets/3ee05bbb667222104101da1831329c3c/_preview.png\n",
      "Reading image from: ../data/Challenge_Data/Assets/b34d551e23ad7ce5a494453bcc409ccc/_preview.png\n",
      "Reading image from: ../data/Challenge_Data/Assets/adunit-mouser-user-choice-v3-us-cpe-av-mob/_preview.png\n",
      "Warning: Image not found at ../data/Challenge_Data/Assets/adunit-mouser-user-choice-v3-us-cpe-av-mob/_preview.png\n",
      "Reading image from: ../data/Challenge_Data/Assets/adunit-ggpoker-gamification-user-choice-mpu/_preview.png\n",
      "Warning: Image not found at ../data/Challenge_Data/Assets/adunit-ggpoker-gamification-user-choice-mpu/_preview.png\n",
      "Reading image from: ../data/Challenge_Data/Assets/adunit-cartier-clash-swipe-or-tap-to-scroll-mob/_preview.png\n",
      "Warning: Image not found at ../data/Challenge_Data/Assets/adunit-cartier-clash-swipe-or-tap-to-scroll-mob/_preview.png\n",
      "Reading image from: ../data/Challenge_Data/Assets/adunit-chevy-user-slider-seat-interior-300-600-cpe-av-mob/_preview.png\n",
      "Warning: Image not found at ../data/Challenge_Data/Assets/adunit-chevy-user-slider-seat-interior-300-600-cpe-av-mob/_preview.png\n",
      "Reading image from: ../data/Challenge_Data/Assets/adunit-nestle-maggi-varieties-bouillon-ar-uae-mpu/_preview.png\n",
      "Warning: Image not found at ../data/Challenge_Data/Assets/adunit-nestle-maggi-varieties-bouillon-ar-uae-mpu/_preview.png\n",
      "Reading image from: ../data/Challenge_Data/Assets/adunit-subway-better-for-you-mob/_preview.png\n",
      "Warning: Image not found at ../data/Challenge_Data/Assets/adunit-subway-better-for-you-mob/_preview.png\n",
      "Reading image from: ../data/Challenge_Data/Assets/adunit-yamaha-wolverine-user-choice-cpe-mob/_preview.png\n",
      "Warning: Image not found at ../data/Challenge_Data/Assets/adunit-yamaha-wolverine-user-choice-cpe-mob/_preview.png\n",
      "Reading image from: ../data/Challenge_Data/Assets/c94556717fc1d3783d27f51ae1b5350e/_preview.png\n"
     ]
    },
    {
     "name": "stderr",
     "output_type": "stream",
     "text": [
      "[ WARN:0@61.893] global loadsave.cpp:241 findDecoder imread_('../data/Challenge_Data/Assets/adunit-mouser-user-choice-v3-us-cpe-av-mob/_preview.png'): can't open/read file: check file path/integrity\n",
      "[ WARN:0@61.893] global loadsave.cpp:241 findDecoder imread_('../data/Challenge_Data/Assets/adunit-ggpoker-gamification-user-choice-mpu/_preview.png'): can't open/read file: check file path/integrity\n",
      "[ WARN:0@61.893] global loadsave.cpp:241 findDecoder imread_('../data/Challenge_Data/Assets/adunit-cartier-clash-swipe-or-tap-to-scroll-mob/_preview.png'): can't open/read file: check file path/integrity\n",
      "[ WARN:0@61.893] global loadsave.cpp:241 findDecoder imread_('../data/Challenge_Data/Assets/adunit-chevy-user-slider-seat-interior-300-600-cpe-av-mob/_preview.png'): can't open/read file: check file path/integrity\n",
      "[ WARN:0@61.893] global loadsave.cpp:241 findDecoder imread_('../data/Challenge_Data/Assets/adunit-nestle-maggi-varieties-bouillon-ar-uae-mpu/_preview.png'): can't open/read file: check file path/integrity\n",
      "[ WARN:0@61.893] global loadsave.cpp:241 findDecoder imread_('../data/Challenge_Data/Assets/adunit-subway-better-for-you-mob/_preview.png'): can't open/read file: check file path/integrity\n",
      "[ WARN:0@61.893] global loadsave.cpp:241 findDecoder imread_('../data/Challenge_Data/Assets/adunit-yamaha-wolverine-user-choice-cpe-mob/_preview.png'): can't open/read file: check file path/integrity\n"
     ]
    },
    {
     "name": "stdout",
     "output_type": "stream",
     "text": [
      "Reading image from: ../data/Challenge_Data/Assets/adunit-ihop-ihoppy-hour-save-dollar-5-mob/_preview.png\n",
      "Reading image from: ../data/Challenge_Data/Assets/7e0b86cf99bbb9152f0d510d36f84f40/_preview.png\n",
      "Reading image from: ../data/Challenge_Data/Assets/0814384db6d5dac4b55e781d99eeb4cb/_preview.png\n",
      "Reading image from: ../data/Challenge_Data/Assets/0a59be2e7dd53d6de11a10ce3649c081/_preview.png\n",
      "Reading image from: ../data/Challenge_Data/Assets/269d061e1b507338d8b4c69676f9ffa1/_preview.png\n",
      "Reading image from: ../data/Challenge_Data/Assets/3ba7994ec2ea0b953b57457bd25ac857/_preview.png\n",
      "Reading image from: ../data/Challenge_Data/Assets/76fe8ed6d5462ff2cc0ee750d2221a52/_preview.png\n",
      "Reading image from: ../data/Challenge_Data/Assets/adunit-jaguar-nameplate-refresh-rfb-mob/_preview.png\n",
      "Warning: Image not found at ../data/Challenge_Data/Assets/adunit-jaguar-nameplate-refresh-rfb-mob/_preview.png\n",
      "Reading image from: ../data/Challenge_Data/Assets/b42473e8fdb0b3d6ea798f4118ef23aa/_preview.png\n"
     ]
    },
    {
     "name": "stderr",
     "output_type": "stream",
     "text": [
      "[ WARN:0@62.865] global loadsave.cpp:241 findDecoder imread_('../data/Challenge_Data/Assets/adunit-jaguar-nameplate-refresh-rfb-mob/_preview.png'): can't open/read file: check file path/integrity\n"
     ]
    },
    {
     "name": "stdout",
     "output_type": "stream",
     "text": [
      "Reading image from: ../data/Challenge_Data/Assets/c0ccae16df156f9744c8c74e252ad00b/_preview.png\n",
      "Reading image from: ../data/Challenge_Data/Assets/782fd6ca8cf0483d38a3d685a9cdb536/_preview.png\n",
      "Reading image from: ../data/Challenge_Data/Assets/adunit-ihop-ihoppy-hour-mpu/_preview.png\n",
      "Reading image from: ../data/Challenge_Data/Assets/f38dae81fae6d60408100503e4661ac6/_preview.png\n",
      "Reading image from: ../data/Challenge_Data/Assets/424a4a0bfde5a836ed93394a8c099b17/_preview.png\n",
      "Reading image from: ../data/Challenge_Data/Assets/83952985710c8e1646ac09269938e730/_preview.png\n",
      "Reading image from: ../data/Challenge_Data/Assets/adunit-western-union-sensory-unit-swipe-right-v2-mpu/_preview.png\n",
      "Warning: Image not found at ../data/Challenge_Data/Assets/adunit-western-union-sensory-unit-swipe-right-v2-mpu/_preview.png\n",
      "Reading image from: ../data/Challenge_Data/Assets/adunit-chevy-tap-and-hold-600-1200-final-mob/_preview.png\n",
      "Warning: Image not found at ../data/Challenge_Data/Assets/adunit-chevy-tap-and-hold-600-1200-final-mob/_preview.png\n",
      "Reading image from: ../data/Challenge_Data/Assets/adunit-scotch-brite-gamification-thai-mob/_preview.png\n",
      "Warning: Image not found at ../data/Challenge_Data/Assets/adunit-scotch-brite-gamification-thai-mob/_preview.png\n",
      "Reading image from: ../data/Challenge_Data/Assets/f125ec6ad94bd7b93c1502fb7e16e2ba/_preview.png\n",
      "Reading image from: ../data/Challenge_Data/Assets/6befe54086758294b47addf0c12052a7/_preview.png\n"
     ]
    },
    {
     "name": "stderr",
     "output_type": "stream",
     "text": [
      "[ WARN:0@63.756] global loadsave.cpp:241 findDecoder imread_('../data/Challenge_Data/Assets/adunit-western-union-sensory-unit-swipe-right-v2-mpu/_preview.png'): can't open/read file: check file path/integrity\n",
      "[ WARN:0@63.756] global loadsave.cpp:241 findDecoder imread_('../data/Challenge_Data/Assets/adunit-chevy-tap-and-hold-600-1200-final-mob/_preview.png'): can't open/read file: check file path/integrity\n",
      "[ WARN:0@63.757] global loadsave.cpp:241 findDecoder imread_('../data/Challenge_Data/Assets/adunit-scotch-brite-gamification-thai-mob/_preview.png'): can't open/read file: check file path/integrity\n"
     ]
    },
    {
     "name": "stdout",
     "output_type": "stream",
     "text": [
      "Reading image from: ../data/Challenge_Data/Assets/ba62e65857faee399998f5d4dad7feaf/_preview.png\n",
      "Reading image from: ../data/Challenge_Data/Assets/adunit-lexus-video-carousel-cpe-mob/_preview.png\n",
      "Warning: Image not found at ../data/Challenge_Data/Assets/adunit-lexus-video-carousel-cpe-mob/_preview.png\n",
      "Reading image from: ../data/Challenge_Data/Assets/d2210530c4400ba1eaf5f712b646e7e6/_preview.png\n"
     ]
    },
    {
     "name": "stderr",
     "output_type": "stream",
     "text": [
      "[ WARN:0@64.132] global loadsave.cpp:241 findDecoder imread_('../data/Challenge_Data/Assets/adunit-lexus-video-carousel-cpe-mob/_preview.png'): can't open/read file: check file path/integrity\n",
      "[ WARN:0@64.260] global loadsave.cpp:241 findDecoder imread_('../data/Challenge_Data/Assets/adunit-yamaha-x2-x4-userchoice-cpe-mpu/_preview.png'): can't open/read file: check file path/integrity\n"
     ]
    },
    {
     "name": "stdout",
     "output_type": "stream",
     "text": [
      "Reading image from: ../data/Challenge_Data/Assets/adunit-yamaha-x2-x4-userchoice-cpe-mpu/_preview.png\n",
      "Warning: Image not found at ../data/Challenge_Data/Assets/adunit-yamaha-x2-x4-userchoice-cpe-mpu/_preview.png\n",
      "Reading image from: ../data/Challenge_Data/Assets/05fa49d47b280182d4684b9f3358ded4/_preview.png\n",
      "Reading image from: ../data/Challenge_Data/Assets/adunit-mouser-user-choice-cpe-av-canada-mpu/_preview.png\n",
      "Warning: Image not found at ../data/Challenge_Data/Assets/adunit-mouser-user-choice-cpe-av-canada-mpu/_preview.png\n",
      "Reading image from: ../data/Challenge_Data/Assets/adunit-cartier-clash-swipe-or-tap-to-scroll-ch-mpu/_preview.png\n",
      "Warning: Image not found at ../data/Challenge_Data/Assets/adunit-cartier-clash-swipe-or-tap-to-scroll-ch-mpu/_preview.png\n",
      "Reading image from: ../data/Challenge_Data/Assets/65d2519c16266cf9a3b1a8a3d2d82c99/_preview.png\n"
     ]
    },
    {
     "name": "stderr",
     "output_type": "stream",
     "text": [
      "[ WARN:0@64.385] global loadsave.cpp:241 findDecoder imread_('../data/Challenge_Data/Assets/adunit-mouser-user-choice-cpe-av-canada-mpu/_preview.png'): can't open/read file: check file path/integrity\n",
      "[ WARN:0@64.385] global loadsave.cpp:241 findDecoder imread_('../data/Challenge_Data/Assets/adunit-cartier-clash-swipe-or-tap-to-scroll-ch-mpu/_preview.png'): can't open/read file: check file path/integrity\n"
     ]
    },
    {
     "name": "stdout",
     "output_type": "stream",
     "text": [
      "Reading image from: ../data/Challenge_Data/Assets/28c88e21eaae4c3db86fe5a48ae9c7d5/_preview.png\n",
      "Reading image from: ../data/Challenge_Data/Assets/251daf76d78711e74c9b441f4bb62834/_preview.png\n",
      "Reading image from: ../data/Challenge_Data/Assets/adunit-nestle-maggi-varieties-bouillon-en-ksa-mpu/_preview.png\n",
      "Warning: Image not found at ../data/Challenge_Data/Assets/adunit-nestle-maggi-varieties-bouillon-en-ksa-mpu/_preview.png\n",
      "Reading image from: ../data/Challenge_Data/Assets/adunit-femsa-coca-cola-new-sugar-free-mob/_preview.png\n",
      "Warning: Image not found at ../data/Challenge_Data/Assets/adunit-femsa-coca-cola-new-sugar-free-mob/_preview.png\n",
      "Reading image from: ../data/Challenge_Data/Assets/adunit-ihop-window4-scary-face-mob/_preview.png\n",
      "Reading image from: ../data/Challenge_Data/Assets/adunit-lionsgate-uwomt-sensory-plus-tune-3-mob/_preview.png\n",
      "Warning: Image not found at ../data/Challenge_Data/Assets/adunit-lionsgate-uwomt-sensory-plus-tune-3-mob/_preview.png\n",
      "Reading image from: ../data/Challenge_Data/Assets/d485045274821654173302dc5c7783c9/_preview.png\n"
     ]
    },
    {
     "name": "stderr",
     "output_type": "stream",
     "text": [
      "[ WARN:0@64.750] global loadsave.cpp:241 findDecoder imread_('../data/Challenge_Data/Assets/adunit-nestle-maggi-varieties-bouillon-en-ksa-mpu/_preview.png'): can't open/read file: check file path/integrity\n",
      "[ WARN:0@64.750] global loadsave.cpp:241 findDecoder imread_('../data/Challenge_Data/Assets/adunit-femsa-coca-cola-new-sugar-free-mob/_preview.png'): can't open/read file: check file path/integrity\n",
      "[ WARN:0@64.864] global loadsave.cpp:241 findDecoder imread_('../data/Challenge_Data/Assets/adunit-lionsgate-uwomt-sensory-plus-tune-3-mob/_preview.png'): can't open/read file: check file path/integrity\n"
     ]
    },
    {
     "name": "stdout",
     "output_type": "stream",
     "text": [
      "Reading image from: ../data/Challenge_Data/Assets/dd43631ca1bf97d6c4966780b1f13a87/_preview.png\n",
      "Reading image from: ../data/Challenge_Data/Assets/adunit-engagement-plus-ihop-evergreen-olo-drag-left-mpu/_preview.png\n",
      "Warning: Image not found at ../data/Challenge_Data/Assets/adunit-engagement-plus-ihop-evergreen-olo-drag-left-mpu/_preview.png\n",
      "Reading image from: ../data/Challenge_Data/Assets/adunit-cartier-clash-swipe-or-tap-to-scroll-mpu/_preview.png\n",
      "Warning: Image not found at ../data/Challenge_Data/Assets/adunit-cartier-clash-swipe-or-tap-to-scroll-mpu/_preview.png\n",
      "Reading image from: ../data/Challenge_Data/Assets/42c5b4b367187c29ac8fdd78c70837d6/_preview.png\n"
     ]
    },
    {
     "name": "stderr",
     "output_type": "stream",
     "text": [
      "[ WARN:0@65.113] global loadsave.cpp:241 findDecoder imread_('../data/Challenge_Data/Assets/adunit-engagement-plus-ihop-evergreen-olo-drag-left-mpu/_preview.png'): can't open/read file: check file path/integrity\n",
      "[ WARN:0@65.113] global loadsave.cpp:241 findDecoder imread_('../data/Challenge_Data/Assets/adunit-cartier-clash-swipe-or-tap-to-scroll-mpu/_preview.png'): can't open/read file: check file path/integrity\n"
     ]
    },
    {
     "name": "stdout",
     "output_type": "stream",
     "text": [
      "Reading image from: ../data/Challenge_Data/Assets/0736dda52dd3ef12dc4f82fb51b1becd/_preview.png\n",
      "Reading image from: ../data/Challenge_Data/Assets/0301a5865ecfd7c5a1653dde10a5aedf/_preview.png\n",
      "Reading image from: ../data/Challenge_Data/Assets/6ae22e38b45ebb28b3202d7cf8515ce4/_preview.png\n",
      "Reading image from: ../data/Challenge_Data/Assets/5a48ffcbf611f167ecbb884e807f31f6/_preview.png\n",
      "Reading image from: ../data/Challenge_Data/Assets/3d18cfe28f2fbadff32db07a2132e12c/_preview.png\n",
      "Reading image from: ../data/Challenge_Data/Assets/698aa039cb003c1773b68cf89ab37096/_preview.png\n",
      "Reading image from: ../data/Challenge_Data/Assets/adunit-yamaha-wolverine-user-choice-av-reuse-mob/_preview.png\n",
      "Warning: Image not found at ../data/Challenge_Data/Assets/adunit-yamaha-wolverine-user-choice-av-reuse-mob/_preview.png\n",
      "Reading image from: ../data/Challenge_Data/Assets/adunit-mouser-user-choice-v2-cpe-aus-nz-mpu/_preview.png\n",
      "Warning: Image not found at ../data/Challenge_Data/Assets/adunit-mouser-user-choice-v2-cpe-aus-nz-mpu/_preview.png\n",
      "Reading image from: ../data/Challenge_Data/Assets/adunit-mouser-user-choice-v2-cpe-mpu/_preview.png\n",
      "Warning: Image not found at ../data/Challenge_Data/Assets/adunit-mouser-user-choice-v2-cpe-mpu/_preview.png\n",
      "Reading image from: ../data/Challenge_Data/Assets/adunit-instagram-bio-mob/_preview.png\n",
      "Warning: Image not found at ../data/Challenge_Data/Assets/adunit-instagram-bio-mob/_preview.png\n",
      "Reading image from: ../data/Challenge_Data/Assets/adunit-mouser-user-choice-flight4-uk-cpe-av-mob/_preview.png\n",
      "Warning: Image not found at ../data/Challenge_Data/Assets/adunit-mouser-user-choice-flight4-uk-cpe-av-mob/_preview.png\n",
      "Reading image from: ../data/Challenge_Data/Assets/e6e771ae6f00d0f2ada4d2280cfd7740/_preview.png\n",
      "Reading image from: ../data/Challenge_Data/Assets/f95ed1b647ad098a3738f1b58142decd/_preview.png\n"
     ]
    },
    {
     "name": "stderr",
     "output_type": "stream",
     "text": [
      "[ WARN:0@65.969] global loadsave.cpp:241 findDecoder imread_('../data/Challenge_Data/Assets/adunit-yamaha-wolverine-user-choice-av-reuse-mob/_preview.png'): can't open/read file: check file path/integrity\n",
      "[ WARN:0@65.970] global loadsave.cpp:241 findDecoder imread_('../data/Challenge_Data/Assets/adunit-mouser-user-choice-v2-cpe-aus-nz-mpu/_preview.png'): can't open/read file: check file path/integrity\n",
      "[ WARN:0@65.970] global loadsave.cpp:241 findDecoder imread_('../data/Challenge_Data/Assets/adunit-mouser-user-choice-v2-cpe-mpu/_preview.png'): can't open/read file: check file path/integrity\n",
      "[ WARN:0@65.970] global loadsave.cpp:241 findDecoder imread_('../data/Challenge_Data/Assets/adunit-instagram-bio-mob/_preview.png'): can't open/read file: check file path/integrity\n",
      "[ WARN:0@65.970] global loadsave.cpp:241 findDecoder imread_('../data/Challenge_Data/Assets/adunit-mouser-user-choice-flight4-uk-cpe-av-mob/_preview.png'): can't open/read file: check file path/integrity\n"
     ]
    },
    {
     "name": "stdout",
     "output_type": "stream",
     "text": [
      "Reading image from: ../data/Challenge_Data/Assets/4f435640fb278b789726bbcd47ce5daf/_preview.png\n",
      "Reading image from: ../data/Challenge_Data/Assets/adunit-van-cleef-and-arpels-alhambra-and-frivole-q2-bio/_preview.png\n",
      "Warning: Image not found at ../data/Challenge_Data/Assets/adunit-van-cleef-and-arpels-alhambra-and-frivole-q2-bio/_preview.png\n",
      "Reading image from: ../data/Challenge_Data/Assets/b16e25c480f043e4be7d8e011bfa5e95/_preview.png\n"
     ]
    },
    {
     "name": "stderr",
     "output_type": "stream",
     "text": [
      "[ WARN:0@66.314] global loadsave.cpp:241 findDecoder imread_('../data/Challenge_Data/Assets/adunit-van-cleef-and-arpels-alhambra-and-frivole-q2-bio/_preview.png'): can't open/read file: check file path/integrity\n",
      "[ WARN:0@66.442] global loadsave.cpp:241 findDecoder imread_('../data/Challenge_Data/Assets/adunit-not-co-icecream-br-mpu/_preview.png'): can't open/read file: check file path/integrity\n"
     ]
    },
    {
     "name": "stdout",
     "output_type": "stream",
     "text": [
      "Reading image from: ../data/Challenge_Data/Assets/adunit-not-co-icecream-br-mpu/_preview.png\n",
      "Warning: Image not found at ../data/Challenge_Data/Assets/adunit-not-co-icecream-br-mpu/_preview.png\n",
      "Reading image from: ../data/Challenge_Data/Assets/3a3878c4fa9698438884f2288bdd1ea2/_preview.png\n",
      "Reading image from: ../data/Challenge_Data/Assets/e1abe0c4a3df40bbb0d35d089caa13a5/_preview.png\n",
      "Reading image from: ../data/Challenge_Data/Assets/65fb17277b3fbfe200f6ac90f0717c48/_preview.png\n",
      "Reading image from: ../data/Challenge_Data/Assets/085e477e7aa74fc3a222bcb4385000be/_preview.png\n",
      "Reading image from: ../data/Challenge_Data/Assets/adunit-lionsgate-spiral-new-2-puzzle-v5-mpu/_preview.png\n",
      "Warning: Image not found at ../data/Challenge_Data/Assets/adunit-lionsgate-spiral-new-2-puzzle-v5-mpu/_preview.png\n",
      "Reading image from: ../data/Challenge_Data/Assets/06162b54235c76bfc73c297dd000614a/_preview.png\n",
      "Reading image from: ../data/Challenge_Data/Assets/adunit-windhoek-beer-year-end-2021-bio-v1-mob/_preview.png\n",
      "Warning: Image not found at ../data/Challenge_Data/Assets/adunit-windhoek-beer-year-end-2021-bio-v1-mob/_preview.png\n",
      "Reading image from: ../data/Challenge_Data/Assets/3d8be6f0a1e1c248a02befc0dd3f6bec/_preview.png\n"
     ]
    },
    {
     "name": "stderr",
     "output_type": "stream",
     "text": [
      "[ WARN:0@66.942] global loadsave.cpp:241 findDecoder imread_('../data/Challenge_Data/Assets/adunit-lionsgate-spiral-new-2-puzzle-v5-mpu/_preview.png'): can't open/read file: check file path/integrity\n",
      "[ WARN:0@67.059] global loadsave.cpp:241 findDecoder imread_('../data/Challenge_Data/Assets/adunit-windhoek-beer-year-end-2021-bio-v1-mob/_preview.png'): can't open/read file: check file path/integrity\n"
     ]
    },
    {
     "name": "stdout",
     "output_type": "stream",
     "text": [
      "Reading image from: ../data/Challenge_Data/Assets/2b7e702f208b7fd60d15d0bdadd269f4/_preview.png\n",
      "Reading image from: ../data/Challenge_Data/Assets/fac33ac29ac616dfa0053558c1a3c03c/_preview.png\n",
      "Reading image from: ../data/Challenge_Data/Assets/adunit-mouser-user-choice-flight4-uk-cpe-mob/_preview.png\n",
      "Warning: Image not found at ../data/Challenge_Data/Assets/adunit-mouser-user-choice-flight4-uk-cpe-mob/_preview.png\n",
      "Reading image from: ../data/Challenge_Data/Assets/ca1d489a0c1849845cb7144e51b0a7a1/_preview.png\n",
      "Reading image from: ../data/Challenge_Data/Assets/adunit-lionsgate-moonfall-parallax-dec-mpu/_preview.png\n",
      "Warning: Image not found at ../data/Challenge_Data/Assets/adunit-lionsgate-moonfall-parallax-dec-mpu/_preview.png\n",
      "Reading image from: ../data/Challenge_Data/Assets/2842f18b64fb7ac0661021da97de0def/_preview.png\n"
     ]
    },
    {
     "name": "stderr",
     "output_type": "stream",
     "text": [
      "[ WARN:0@67.423] global loadsave.cpp:241 findDecoder imread_('../data/Challenge_Data/Assets/adunit-mouser-user-choice-flight4-uk-cpe-mob/_preview.png'): can't open/read file: check file path/integrity\n",
      "[ WARN:0@67.556] global loadsave.cpp:241 findDecoder imread_('../data/Challenge_Data/Assets/adunit-lionsgate-moonfall-parallax-dec-mpu/_preview.png'): can't open/read file: check file path/integrity\n"
     ]
    },
    {
     "name": "stdout",
     "output_type": "stream",
     "text": [
      "Reading image from: ../data/Challenge_Data/Assets/adunit-ge-biofuel-userchoice-mob/_preview.png\n",
      "Warning: Image not found at ../data/Challenge_Data/Assets/adunit-ge-biofuel-userchoice-mob/_preview.png\n",
      "Reading image from: ../data/Challenge_Data/Assets/4247849793e2e0d3082ee5151a7e9416/_preview.png\n",
      "Reading image from: ../data/Challenge_Data/Assets/c38c56f98c1db74d1f613ec31d8bcf75/_preview.png\n"
     ]
    },
    {
     "name": "stderr",
     "output_type": "stream",
     "text": [
      "[ WARN:0@67.672] global loadsave.cpp:241 findDecoder imread_('../data/Challenge_Data/Assets/adunit-ge-biofuel-userchoice-mob/_preview.png'): can't open/read file: check file path/integrity\n"
     ]
    },
    {
     "name": "stdout",
     "output_type": "stream",
     "text": [
      "Reading image from: ../data/Challenge_Data/Assets/b046eee3c13e2f88aba3c40743093d13/_preview.png\n",
      "Reading image from: ../data/Challenge_Data/Assets/adunit-doritos-niknaks-v1-mob/_preview.png\n",
      "Warning: Image not found at ../data/Challenge_Data/Assets/adunit-doritos-niknaks-v1-mob/_preview.png\n",
      "Reading image from: ../data/Challenge_Data/Assets/9d7dacc59d5bfde6cfaa17d2604ae9d5/_preview.png\n"
     ]
    },
    {
     "name": "stderr",
     "output_type": "stream",
     "text": [
      "[ WARN:0@68.011] global loadsave.cpp:241 findDecoder imread_('../data/Challenge_Data/Assets/adunit-doritos-niknaks-v1-mob/_preview.png'): can't open/read file: check file path/integrity\n"
     ]
    },
    {
     "name": "stdout",
     "output_type": "stream",
     "text": [
      "Reading image from: ../data/Challenge_Data/Assets/43a29939d9ac51d99f5e3b4822914efe/_preview.png\n",
      "Reading image from: ../data/Challenge_Data/Assets/21d4924d608d1258ea35a53b314660bc/_preview.png\n",
      "Reading image from: ../data/Challenge_Data/Assets/c4b651056516bc245b6b0dd78c2b192c/_preview.png\n",
      "Reading image from: ../data/Challenge_Data/Assets/406833de6c44d0a19ab9db1559828563/_preview.png\n",
      "Reading image from: ../data/Challenge_Data/Assets/ec53b0973db5a35d83fd5bb009802bdb/_preview.png\n",
      "Reading image from: ../data/Challenge_Data/Assets/050fd94fd028e2b766dcbfa5a9586d2c/_preview.png\n",
      "Reading image from: ../data/Challenge_Data/Assets/95585c17779c722e67067c189cf15d63/_preview.png\n",
      "Reading image from: ../data/Challenge_Data/Assets/f6525e69f4bbebe1b522d463080006ce/_preview.png\n",
      "Reading image from: ../data/Challenge_Data/Assets/adunit-chevy-panoramic-hotspot-explorer-cpe-av-mob/_preview.png\n",
      "Warning: Image not found at ../data/Challenge_Data/Assets/adunit-chevy-panoramic-hotspot-explorer-cpe-av-mob/_preview.png\n",
      "Reading image from: ../data/Challenge_Data/Assets/3bc12d2bdea947d4502e885b6d9aa442/_preview.png\n",
      "Reading image from: ../data/Challenge_Data/Assets/adunit-grofers-veggies-noodles-mob/_preview.png\n",
      "Warning: Image not found at ../data/Challenge_Data/Assets/adunit-grofers-veggies-noodles-mob/_preview.png\n",
      "Reading image from: ../data/Challenge_Data/Assets/adunit-ge-biofuel-userchoice-mpu/_preview.png\n",
      "Warning: Image not found at ../data/Challenge_Data/Assets/adunit-ge-biofuel-userchoice-mpu/_preview.png\n",
      "Reading image from: ../data/Challenge_Data/Assets/c911bb936656e056779e31c273417b46/_preview.png\n"
     ]
    },
    {
     "name": "stderr",
     "output_type": "stream",
     "text": [
      "[ WARN:0@69.180] global loadsave.cpp:241 findDecoder imread_('../data/Challenge_Data/Assets/adunit-chevy-panoramic-hotspot-explorer-cpe-av-mob/_preview.png'): can't open/read file: check file path/integrity\n",
      "[ WARN:0@69.297] global loadsave.cpp:241 findDecoder imread_('../data/Challenge_Data/Assets/adunit-grofers-veggies-noodles-mob/_preview.png'): can't open/read file: check file path/integrity\n",
      "[ WARN:0@69.297] global loadsave.cpp:241 findDecoder imread_('../data/Challenge_Data/Assets/adunit-ge-biofuel-userchoice-mpu/_preview.png'): can't open/read file: check file path/integrity\n"
     ]
    },
    {
     "name": "stdout",
     "output_type": "stream",
     "text": [
      "Reading image from: ../data/Challenge_Data/Assets/437ff18f66a2e2351c45582104ec8b65/_preview.png\n",
      "Reading image from: ../data/Challenge_Data/Assets/00dfe88c4d3fb60793765d314bf24b7c/_preview.png\n",
      "Reading image from: ../data/Challenge_Data/Assets/adunit-not-co-icecream-br-mob/_preview.png\n",
      "Warning: Image not found at ../data/Challenge_Data/Assets/adunit-not-co-icecream-br-mob/_preview.png\n",
      "Reading image from: ../data/Challenge_Data/Assets/3f435a895024e81fd5126354c7972b0f/_preview.png\n",
      "Reading image from: ../data/Challenge_Data/Assets/adunit-mouser-user-choice-flight4-canada-cpe-av-mpu/_preview.png\n",
      "Warning: Image not found at ../data/Challenge_Data/Assets/adunit-mouser-user-choice-flight4-canada-cpe-av-mpu/_preview.png\n",
      "Reading image from: ../data/Challenge_Data/Assets/adunit-engagement-plus-ihop-evergreen-olo-drag-right-mob/_preview.png\n"
     ]
    },
    {
     "name": "stderr",
     "output_type": "stream",
     "text": [
      "[ WARN:0@69.672] global loadsave.cpp:241 findDecoder imread_('../data/Challenge_Data/Assets/adunit-not-co-icecream-br-mob/_preview.png'): can't open/read file: check file path/integrity\n",
      "[ WARN:0@69.786] global loadsave.cpp:241 findDecoder imread_('../data/Challenge_Data/Assets/adunit-mouser-user-choice-flight4-canada-cpe-av-mpu/_preview.png'): can't open/read file: check file path/integrity\n"
     ]
    },
    {
     "name": "stdout",
     "output_type": "stream",
     "text": [
      "Reading image from: ../data/Challenge_Data/Assets/d37f1a5e7d90e81756244e1bff3141bc/_preview.png\n",
      "Reading image from: ../data/Challenge_Data/Assets/ee5f0e9c4a1296a30944be613ab2028c/_preview.png\n",
      "Reading image from: ../data/Challenge_Data/Assets/ecc6562c52ea0a03f794e7cec023bd0b/_preview.png\n",
      "Reading image from: ../data/Challenge_Data/Assets/0b1ee11406e97cc6fb4229deeb19e6b7/_preview.png\n",
      "Reading image from: ../data/Challenge_Data/Assets/00508a6979fdd9c2e5f8c68bfefe5f71/_preview.png\n",
      "Reading image from: ../data/Challenge_Data/Assets/ae30ff3cae1f369954f5e91499b9e515/_preview.png\n",
      "Reading image from: ../data/Challenge_Data/Assets/6d72ce3e20781f20fb420b30d3dd8b0e/_preview.png\n",
      "Reading image from: ../data/Challenge_Data/Assets/af2eecc9194b8e3596bdb9d669f61715/_preview.png\n",
      "Reading image from: ../data/Challenge_Data/Assets/fef95c5e1ee5bc235b56d7c508d3bcd0/_preview.png\n",
      "Reading image from: ../data/Challenge_Data/Assets/adunit-milk-user-slide-v2-mob/_preview.png\n",
      "Warning: Image not found at ../data/Challenge_Data/Assets/adunit-milk-user-slide-v2-mob/_preview.png\n",
      "Reading image from: ../data/Challenge_Data/Assets/adunit-chevy-tap-and-hold-mob/_preview.png\n",
      "Warning: Image not found at ../data/Challenge_Data/Assets/adunit-chevy-tap-and-hold-mob/_preview.png\n",
      "Reading image from: ../data/Challenge_Data/Assets/adunit-mouser-user-choice-flight4-canada-cpe-mob/_preview.png\n",
      "Warning: Image not found at ../data/Challenge_Data/Assets/adunit-mouser-user-choice-flight4-canada-cpe-mob/_preview.png\n",
      "Reading image from: ../data/Challenge_Data/Assets/adunit-yamaha-sensory-plus-video-mpu/_preview.png\n",
      "Warning: Image not found at ../data/Challenge_Data/Assets/adunit-yamaha-sensory-plus-video-mpu/_preview.png\n",
      "Reading image from: ../data/Challenge_Data/Assets/adunit-lexus-video-carousel-mob/_preview.png\n",
      "Warning: Image not found at ../data/Challenge_Data/Assets/adunit-lexus-video-carousel-mob/_preview.png\n",
      "Reading image from: ../data/Challenge_Data/Assets/23fb8e9094b55306b08f7157c4b5ec43/_preview.png\n"
     ]
    },
    {
     "name": "stderr",
     "output_type": "stream",
     "text": [
      "[ WARN:0@70.947] global loadsave.cpp:241 findDecoder imread_('../data/Challenge_Data/Assets/adunit-milk-user-slide-v2-mob/_preview.png'): can't open/read file: check file path/integrity\n",
      "[ WARN:0@70.947] global loadsave.cpp:241 findDecoder imread_('../data/Challenge_Data/Assets/adunit-chevy-tap-and-hold-mob/_preview.png'): can't open/read file: check file path/integrity\n",
      "[ WARN:0@70.947] global loadsave.cpp:241 findDecoder imread_('../data/Challenge_Data/Assets/adunit-mouser-user-choice-flight4-canada-cpe-mob/_preview.png'): can't open/read file: check file path/integrity\n",
      "[ WARN:0@70.947] global loadsave.cpp:241 findDecoder imread_('../data/Challenge_Data/Assets/adunit-yamaha-sensory-plus-video-mpu/_preview.png'): can't open/read file: check file path/integrity\n",
      "[ WARN:0@70.948] global loadsave.cpp:241 findDecoder imread_('../data/Challenge_Data/Assets/adunit-lexus-video-carousel-mob/_preview.png'): can't open/read file: check file path/integrity\n",
      "[ WARN:0@71.080] global loadsave.cpp:241 findDecoder imread_('../data/Challenge_Data/Assets/adunit-therezopolis-beer-chegou-mob/_preview.png'): can't open/read file: check file path/integrity\n"
     ]
    },
    {
     "name": "stdout",
     "output_type": "stream",
     "text": [
      "Reading image from: ../data/Challenge_Data/Assets/adunit-therezopolis-beer-chegou-mob/_preview.png\n",
      "Warning: Image not found at ../data/Challenge_Data/Assets/adunit-therezopolis-beer-chegou-mob/_preview.png\n",
      "Reading image from: ../data/Challenge_Data/Assets/9ecf3c519703026495d4f82df8bb2388/_preview.png\n",
      "Reading image from: ../data/Challenge_Data/Assets/adunit-jaguar-nameplate-refresh-v2-lca-mob/_preview.png\n",
      "Warning: Image not found at ../data/Challenge_Data/Assets/adunit-jaguar-nameplate-refresh-v2-lca-mob/_preview.png\n",
      "Reading image from: ../data/Challenge_Data/Assets/edd62a365ff46ae8c2e7a88dcb48ba56/_preview.png\n"
     ]
    },
    {
     "name": "stderr",
     "output_type": "stream",
     "text": [
      "[ WARN:0@71.211] global loadsave.cpp:241 findDecoder imread_('../data/Challenge_Data/Assets/adunit-jaguar-nameplate-refresh-v2-lca-mob/_preview.png'): can't open/read file: check file path/integrity\n",
      "[ WARN:0@71.328] global loadsave.cpp:241 findDecoder imread_('../data/Challenge_Data/Assets/adunit-van-cleef-and-arpels-frivole-wave-unit2-tap-version-mob/_preview.png'): can't open/read file: check file path/integrity\n",
      "[ WARN:0@71.328] global loadsave.cpp:241 findDecoder imread_('../data/Challenge_Data/Assets/adunit-j12-tw-mob/_preview.png'): can't open/read file: check file path/integrity\n",
      "[ WARN:0@71.328] global loadsave.cpp:241 findDecoder imread_('../data/Challenge_Data/Assets/adunit-yamaha-wolverine-user-choice-cpe-mpu/_preview.png'): can't open/read file: check file path/integrity\n",
      "[ WARN:0@71.328] global loadsave.cpp:241 findDecoder imread_('../data/Challenge_Data/Assets/adunit-gm-ces-user-choice-mob/_preview.png'): can't open/read file: check file path/integrity\n"
     ]
    },
    {
     "name": "stdout",
     "output_type": "stream",
     "text": [
      "Reading image from: ../data/Challenge_Data/Assets/adunit-van-cleef-and-arpels-frivole-wave-unit2-tap-version-mob/_preview.png\n",
      "Warning: Image not found at ../data/Challenge_Data/Assets/adunit-van-cleef-and-arpels-frivole-wave-unit2-tap-version-mob/_preview.png\n",
      "Reading image from: ../data/Challenge_Data/Assets/adunit-j12-tw-mob/_preview.png\n",
      "Warning: Image not found at ../data/Challenge_Data/Assets/adunit-j12-tw-mob/_preview.png\n",
      "Reading image from: ../data/Challenge_Data/Assets/adunit-yamaha-wolverine-user-choice-cpe-mpu/_preview.png\n",
      "Warning: Image not found at ../data/Challenge_Data/Assets/adunit-yamaha-wolverine-user-choice-cpe-mpu/_preview.png\n",
      "Reading image from: ../data/Challenge_Data/Assets/adunit-gm-ces-user-choice-mob/_preview.png\n",
      "Warning: Image not found at ../data/Challenge_Data/Assets/adunit-gm-ces-user-choice-mob/_preview.png\n",
      "Reading image from: ../data/Challenge_Data/Assets/267aa12df20c85a8c215e3d6f7a74879/_preview.png\n",
      "Reading image from: ../data/Challenge_Data/Assets/f43220f51d51bba30046e637600bd773/_preview.png\n",
      "Reading image from: ../data/Challenge_Data/Assets/28a291ca9f966fdc0e1bc917c019aced/_preview.png\n",
      "Reading image from: ../data/Challenge_Data/Assets/b6519446fad0a84445faf9620f0fa02e/_preview.png\n",
      "Reading image from: ../data/Challenge_Data/Assets/85d3838428307a4c8b16712bdc15330e/_preview.png\n",
      "Reading image from: ../data/Challenge_Data/Assets/adunit-scotch-brite-gamification-v2-mob/_preview.png\n",
      "Warning: Image not found at ../data/Challenge_Data/Assets/adunit-scotch-brite-gamification-v2-mob/_preview.png\n",
      "Reading image from: ../data/Challenge_Data/Assets/3f749b8fd9e49bca68b5fdc0ca391cd8/_preview.png\n"
     ]
    },
    {
     "name": "stderr",
     "output_type": "stream",
     "text": [
      "[ WARN:0@71.927] global loadsave.cpp:241 findDecoder imread_('../data/Challenge_Data/Assets/adunit-scotch-brite-gamification-v2-mob/_preview.png'): can't open/read file: check file path/integrity\n"
     ]
    },
    {
     "name": "stdout",
     "output_type": "stream",
     "text": [
      "Reading image from: ../data/Challenge_Data/Assets/5a051f7c0a58d5301f9953827218bc55/_preview.png\n",
      "Reading image from: ../data/Challenge_Data/Assets/2aab06df5509c6727fd35c7344796eb1/_preview.png\n",
      "Reading image from: ../data/Challenge_Data/Assets/adunit-lionsgate-moonfall-parallax-cta4-mpu/_preview.png\n",
      "Warning: Image not found at ../data/Challenge_Data/Assets/adunit-lionsgate-moonfall-parallax-cta4-mpu/_preview.png\n",
      "Reading image from: ../data/Challenge_Data/Assets/4e232e906e1e6a2b6cd8eedc467905f2/_preview.png\n",
      "Reading image from: ../data/Challenge_Data/Assets/adunit-showtime-first-lady-sensory-plus-mob/_preview.png\n",
      "Warning: Image not found at ../data/Challenge_Data/Assets/adunit-showtime-first-lady-sensory-plus-mob/_preview.png\n",
      "Reading image from: ../data/Challenge_Data/Assets/fb755cbcc0e9b7069382745e6841f2ba/_preview.png\n"
     ]
    },
    {
     "name": "stderr",
     "output_type": "stream",
     "text": [
      "[ WARN:0@72.268] global loadsave.cpp:241 findDecoder imread_('../data/Challenge_Data/Assets/adunit-lionsgate-moonfall-parallax-cta4-mpu/_preview.png'): can't open/read file: check file path/integrity\n",
      "[ WARN:0@72.382] global loadsave.cpp:241 findDecoder imread_('../data/Challenge_Data/Assets/adunit-showtime-first-lady-sensory-plus-mob/_preview.png'): can't open/read file: check file path/integrity\n"
     ]
    },
    {
     "name": "stdout",
     "output_type": "stream",
     "text": [
      "Reading image from: ../data/Challenge_Data/Assets/db4c6d9a38437a0b76bb047ca37519d4/_preview.png\n",
      "Reading image from: ../data/Challenge_Data/Assets/b58595e2670fde268a1c6dc7b9fc8ba3/_preview.png\n",
      "Reading image from: ../data/Challenge_Data/Assets/79e5acae0b9e9789b90f0b362f449eb1/_preview.png\n",
      "Reading image from: ../data/Challenge_Data/Assets/adunit-yamaha-wolverine-user-choice-av-mpu/_preview.png\n",
      "Warning: Image not found at ../data/Challenge_Data/Assets/adunit-yamaha-wolverine-user-choice-av-mpu/_preview.png\n",
      "Reading image from: ../data/Challenge_Data/Assets/9f157ba406572210d000f1478e8e656c/_preview.png\n"
     ]
    },
    {
     "name": "stderr",
     "output_type": "stream",
     "text": [
      "[ WARN:0@72.882] global loadsave.cpp:241 findDecoder imread_('../data/Challenge_Data/Assets/adunit-yamaha-wolverine-user-choice-av-mpu/_preview.png'): can't open/read file: check file path/integrity\n",
      "[ WARN:0@73.015] global loadsave.cpp:241 findDecoder imread_('../data/Challenge_Data/Assets/adunit-simple-feast-build-for-industry-survey-q5-mob/_preview.png'): can't open/read file: check file path/integrity\n"
     ]
    },
    {
     "name": "stdout",
     "output_type": "stream",
     "text": [
      "Reading image from: ../data/Challenge_Data/Assets/adunit-simple-feast-build-for-industry-survey-q5-mob/_preview.png\n",
      "Warning: Image not found at ../data/Challenge_Data/Assets/adunit-simple-feast-build-for-industry-survey-q5-mob/_preview.png\n",
      "Reading image from: ../data/Challenge_Data/Assets/6280249e98882910535061f21ae36875/_preview.png\n",
      "Reading image from: ../data/Challenge_Data/Assets/adunit-therezopolis-beer-chegou-mpu/_preview.png\n",
      "Warning: Image not found at ../data/Challenge_Data/Assets/adunit-therezopolis-beer-chegou-mpu/_preview.png\n",
      "Reading image from: ../data/Challenge_Data/Assets/adunit-scotch-brite-gamification-thai-mpu/_preview.png\n",
      "Warning: Image not found at ../data/Challenge_Data/Assets/adunit-scotch-brite-gamification-thai-mpu/_preview.png\n",
      "Reading image from: ../data/Challenge_Data/Assets/adunit-lionsgate-uwomt-user-slider-sensory-video-final-tune4-mpu/_preview.png\n",
      "Warning: Image not found at ../data/Challenge_Data/Assets/adunit-lionsgate-uwomt-user-slider-sensory-video-final-tune4-mpu/_preview.png\n",
      "Reading image from: ../data/Challenge_Data/Assets/c8a1bbadb8931aee1d1438ae9962814e/_preview.png\n"
     ]
    },
    {
     "name": "stderr",
     "output_type": "stream",
     "text": [
      "[ WARN:0@73.146] global loadsave.cpp:241 findDecoder imread_('../data/Challenge_Data/Assets/adunit-therezopolis-beer-chegou-mpu/_preview.png'): can't open/read file: check file path/integrity\n",
      "[ WARN:0@73.146] global loadsave.cpp:241 findDecoder imread_('../data/Challenge_Data/Assets/adunit-scotch-brite-gamification-thai-mpu/_preview.png'): can't open/read file: check file path/integrity\n",
      "[ WARN:0@73.146] global loadsave.cpp:241 findDecoder imread_('../data/Challenge_Data/Assets/adunit-lionsgate-uwomt-user-slider-sensory-video-final-tune4-mpu/_preview.png'): can't open/read file: check file path/integrity\n"
     ]
    },
    {
     "name": "stdout",
     "output_type": "stream",
     "text": [
      "Reading image from: ../data/Challenge_Data/Assets/be6513d80192c25426e5e8f24e6e4dea/_preview.png\n",
      "Reading image from: ../data/Challenge_Data/Assets/adunit-ihop-ihoppy-hour-20-percent-off-mpu/_preview.png\n",
      "Reading image from: ../data/Challenge_Data/Assets/82c919a29087bad5dbedb9b64247e6d6/_preview.png\n",
      "Reading image from: ../data/Challenge_Data/Assets/4799763419d621cd41e7fb8abbcdd45d/_preview.png\n",
      "Reading image from: ../data/Challenge_Data/Assets/73bfd5e041e99938ca1ef8b1e2355e02/_preview.png\n",
      "Reading image from: ../data/Challenge_Data/Assets/3e9add27f21781f8a3c227f5b9a1da31/_preview.png\n",
      "Reading image from: ../data/Challenge_Data/Assets/045a67d8bbba2805d2e421bc5b83d775/_preview.png\n",
      "Reading image from: ../data/Challenge_Data/Assets/adunit-ihop-ihoppy-hour-no-offer-mpu/_preview.png\n",
      "Reading image from: ../data/Challenge_Data/Assets/596052151e9fd6031a05ed88473b7445/_preview.png\n",
      "Reading image from: ../data/Challenge_Data/Assets/adunit-samsung-r9-launch-mob/_preview.png\n",
      "Warning: Image not found at ../data/Challenge_Data/Assets/adunit-samsung-r9-launch-mob/_preview.png\n",
      "Reading image from: ../data/Challenge_Data/Assets/adunit-chevy-user-slider-seat-interior-v1-cpe-av-mpu/_preview.png\n",
      "Warning: Image not found at ../data/Challenge_Data/Assets/adunit-chevy-user-slider-seat-interior-v1-cpe-av-mpu/_preview.png\n",
      "Reading image from: ../data/Challenge_Data/Assets/adunit-scotch-brite-scrub-dots-sponge-tap-mob/_preview.png\n",
      "Warning: Image not found at ../data/Challenge_Data/Assets/adunit-scotch-brite-scrub-dots-sponge-tap-mob/_preview.png\n",
      "Reading image from: ../data/Challenge_Data/Assets/be3f931b8039ef187f1dcfa3d488c041/_preview.png\n"
     ]
    },
    {
     "name": "stderr",
     "output_type": "stream",
     "text": [
      "[ WARN:0@74.334] global loadsave.cpp:241 findDecoder imread_('../data/Challenge_Data/Assets/adunit-samsung-r9-launch-mob/_preview.png'): can't open/read file: check file path/integrity\n",
      "[ WARN:0@74.334] global loadsave.cpp:241 findDecoder imread_('../data/Challenge_Data/Assets/adunit-chevy-user-slider-seat-interior-v1-cpe-av-mpu/_preview.png'): can't open/read file: check file path/integrity\n",
      "[ WARN:0@74.335] global loadsave.cpp:241 findDecoder imread_('../data/Challenge_Data/Assets/adunit-scotch-brite-scrub-dots-sponge-tap-mob/_preview.png'): can't open/read file: check file path/integrity\n",
      "[ WARN:0@74.463] global loadsave.cpp:241 findDecoder imread_('../data/Challenge_Data/Assets/adunit-zee-punjabi-antakshari-in-mpu/_preview.png'): can't open/read file: check file path/integrity\n",
      "[ WARN:0@74.463] global loadsave.cpp:241 findDecoder imread_('../data/Challenge_Data/Assets/adunit-chanel-j12-tw-white-en-2022-mpu/_preview.png'): can't open/read file: check file path/integrity\n"
     ]
    },
    {
     "name": "stdout",
     "output_type": "stream",
     "text": [
      "Reading image from: ../data/Challenge_Data/Assets/adunit-zee-punjabi-antakshari-in-mpu/_preview.png\n",
      "Warning: Image not found at ../data/Challenge_Data/Assets/adunit-zee-punjabi-antakshari-in-mpu/_preview.png\n",
      "Reading image from: ../data/Challenge_Data/Assets/adunit-chanel-j12-tw-white-en-2022-mpu/_preview.png\n",
      "Warning: Image not found at ../data/Challenge_Data/Assets/adunit-chanel-j12-tw-white-en-2022-mpu/_preview.png\n",
      "Reading image from: ../data/Challenge_Data/Assets/3fb5ad02f38444843e343df0b505841d/_preview.png\n",
      "Reading image from: ../data/Challenge_Data/Assets/6c9f892bee893be71087c8300010d9a8/_preview.png\n",
      "Reading image from: ../data/Challenge_Data/Assets/4246216d92d4ceaf0580115dd775c2e2/_preview.png\n",
      "Reading image from: ../data/Challenge_Data/Assets/e0c8ecc4ba1bc299fb4e43f6faccffb9/_preview.png\n",
      "Reading image from: ../data/Challenge_Data/Assets/600c1fdc6860cf16358e00cc238a42f6/_preview.png\n",
      "Reading image from: ../data/Challenge_Data/Assets/adunit-hitmans-wifes-body-guard-user-choice-v1-mob/_preview.png\n",
      "Warning: Image not found at ../data/Challenge_Data/Assets/adunit-hitmans-wifes-body-guard-user-choice-v1-mob/_preview.png\n",
      "Reading image from: ../data/Challenge_Data/Assets/adunit-jaguar-nameplate-refresh-lca-mpu/_preview.png\n",
      "Warning: Image not found at ../data/Challenge_Data/Assets/adunit-jaguar-nameplate-refresh-lca-mpu/_preview.png\n",
      "Reading image from: ../data/Challenge_Data/Assets/995eb7a981794358eaa84a46cde6c288/_preview.png\n"
     ]
    },
    {
     "name": "stderr",
     "output_type": "stream",
     "text": [
      "[ WARN:0@75.065] global loadsave.cpp:241 findDecoder imread_('../data/Challenge_Data/Assets/adunit-hitmans-wifes-body-guard-user-choice-v1-mob/_preview.png'): can't open/read file: check file path/integrity\n",
      "[ WARN:0@75.065] global loadsave.cpp:241 findDecoder imread_('../data/Challenge_Data/Assets/adunit-jaguar-nameplate-refresh-lca-mpu/_preview.png'): can't open/read file: check file path/integrity\n"
     ]
    },
    {
     "name": "stdout",
     "output_type": "stream",
     "text": [
      "Reading image from: ../data/Challenge_Data/Assets/053e01474c777e16d2ac04c884685457/_preview.png\n",
      "Reading image from: ../data/Challenge_Data/Assets/248ad697696f5e5ef82b968bfe5480ba/_preview.png\n",
      "Reading image from: ../data/Challenge_Data/Assets/e08fda6d23b50ed0e9ec2fed06e21518/_preview.png\n",
      "Reading image from: ../data/Challenge_Data/Assets/e1ebbff8accc9d16ea82e3b8a6636d70/_preview.png\n",
      "Reading image from: ../data/Challenge_Data/Assets/adunit-ihop-window4-scary-face-mpu/_preview.png\n",
      "Reading image from: ../data/Challenge_Data/Assets/45390f174ef85b574d3b81a0f5c1bab0/_preview.png\n",
      "Reading image from: ../data/Challenge_Data/Assets/99bcf45376c5182e77af6b40ccfa2d3b/_preview.png\n",
      "Reading image from: ../data/Challenge_Data/Assets/d60dcbc971efa0b4c3cb76c245c35ced/_preview.png\n",
      "Reading image from: ../data/Challenge_Data/Assets/3a6d279abd87aadd09f950bcb123e358/_preview.png\n",
      "Reading image from: ../data/Challenge_Data/Assets/adunit-mouser-user-choice-flight4-uk-cpe-mpu/_preview.png\n",
      "Warning: Image not found at ../data/Challenge_Data/Assets/adunit-mouser-user-choice-flight4-uk-cpe-mpu/_preview.png\n",
      "Reading image from: ../data/Challenge_Data/Assets/adunit-mouser-user-choice-cpe-av-uk-mpu/_preview.png\n",
      "Warning: Image not found at ../data/Challenge_Data/Assets/adunit-mouser-user-choice-cpe-av-uk-mpu/_preview.png\n",
      "Reading image from: ../data/Challenge_Data/Assets/adunit-playstation-spring-sale-snsory-plus-mpu/_preview.png\n",
      "Warning: Image not found at ../data/Challenge_Data/Assets/adunit-playstation-spring-sale-snsory-plus-mpu/_preview.png\n",
      "Reading image from: ../data/Challenge_Data/Assets/677e3e6c41c26d12647a0deb0a58c758/_preview.png\n"
     ]
    },
    {
     "name": "stderr",
     "output_type": "stream",
     "text": [
      "[ WARN:0@76.265] global loadsave.cpp:241 findDecoder imread_('../data/Challenge_Data/Assets/adunit-mouser-user-choice-flight4-uk-cpe-mpu/_preview.png'): can't open/read file: check file path/integrity\n",
      "[ WARN:0@76.265] global loadsave.cpp:241 findDecoder imread_('../data/Challenge_Data/Assets/adunit-mouser-user-choice-cpe-av-uk-mpu/_preview.png'): can't open/read file: check file path/integrity\n",
      "[ WARN:0@76.265] global loadsave.cpp:241 findDecoder imread_('../data/Challenge_Data/Assets/adunit-playstation-spring-sale-snsory-plus-mpu/_preview.png'): can't open/read file: check file path/integrity\n"
     ]
    },
    {
     "name": "stdout",
     "output_type": "stream",
     "text": [
      "Reading image from: ../data/Challenge_Data/Assets/c2b3575ecfffe09f0f3b97a5883e6da6/_preview.png\n",
      "Reading image from: ../data/Challenge_Data/Assets/4b31e9f5af8d0a4bf2c565ffa8a43800/_preview.png\n",
      "Reading image from: ../data/Challenge_Data/Assets/adunit-standard-chartered-year-end-2021-bio-mob/_preview.png\n",
      "Warning: Image not found at ../data/Challenge_Data/Assets/adunit-standard-chartered-year-end-2021-bio-mob/_preview.png\n",
      "Reading image from: ../data/Challenge_Data/Assets/adunit-mouser-user-choice-cpe-av-uk-mob/_preview.png\n",
      "Warning: Image not found at ../data/Challenge_Data/Assets/adunit-mouser-user-choice-cpe-av-uk-mob/_preview.png\n",
      "Reading image from: ../data/Challenge_Data/Assets/adunit-nestle-maggi-varieties-bouillon-en-kwt-mob/_preview.png\n",
      "Warning: Image not found at ../data/Challenge_Data/Assets/adunit-nestle-maggi-varieties-bouillon-en-kwt-mob/_preview.png\n",
      "Reading image from: ../data/Challenge_Data/Assets/753b879a06a0f89feaa3928f37d4c6fe/_preview.png\n",
      "Reading image from: ../data/Challenge_Data/Assets/adunit-mouser-user-choice-v2-cpe-av-uk-mob/_preview.png\n",
      "Warning: Image not found at ../data/Challenge_Data/Assets/adunit-mouser-user-choice-v2-cpe-av-uk-mob/_preview.png\n",
      "Reading image from: ../data/Challenge_Data/Assets/adunit-j-and-j-listerine-tonic3-exxon-fs/_preview.png\n",
      "Warning: Image not found at ../data/Challenge_Data/Assets/adunit-j-and-j-listerine-tonic3-exxon-fs/_preview.png\n",
      "Reading image from: ../data/Challenge_Data/Assets/89f522cf0adb2cc171321fb50abc9fc5/_preview.png\n"
     ]
    },
    {
     "name": "stderr",
     "output_type": "stream",
     "text": [
      "[ WARN:0@76.611] global loadsave.cpp:241 findDecoder imread_('../data/Challenge_Data/Assets/adunit-standard-chartered-year-end-2021-bio-mob/_preview.png'): can't open/read file: check file path/integrity\n",
      "[ WARN:0@76.611] global loadsave.cpp:241 findDecoder imread_('../data/Challenge_Data/Assets/adunit-mouser-user-choice-cpe-av-uk-mob/_preview.png'): can't open/read file: check file path/integrity\n",
      "[ WARN:0@76.611] global loadsave.cpp:241 findDecoder imread_('../data/Challenge_Data/Assets/adunit-nestle-maggi-varieties-bouillon-en-kwt-mob/_preview.png'): can't open/read file: check file path/integrity\n",
      "[ WARN:0@76.722] global loadsave.cpp:241 findDecoder imread_('../data/Challenge_Data/Assets/adunit-mouser-user-choice-v2-cpe-av-uk-mob/_preview.png'): can't open/read file: check file path/integrity\n",
      "[ WARN:0@76.722] global loadsave.cpp:241 findDecoder imread_('../data/Challenge_Data/Assets/adunit-j-and-j-listerine-tonic3-exxon-fs/_preview.png'): can't open/read file: check file path/integrity\n"
     ]
    },
    {
     "name": "stdout",
     "output_type": "stream",
     "text": [
      "Reading image from: ../data/Challenge_Data/Assets/e37596726bbaf0321aed953b6f8e1be7/_preview.png\n",
      "Reading image from: ../data/Challenge_Data/Assets/025bf4faf2102b1376bddee41dc7948e/_preview.png\n",
      "Reading image from: ../data/Challenge_Data/Assets/2561bbefebc84dc200ca14d63b221d55/_preview.png\n",
      "Reading image from: ../data/Challenge_Data/Assets/24400997671ee80961dfe1ef30072499/_preview.png\n",
      "Reading image from: ../data/Challenge_Data/Assets/c154ec796ae46371d8bc35744ee47b0e/_preview.png\n",
      "Reading image from: ../data/Challenge_Data/Assets/adunit-heineken-pure-malt-v2-mpu/_preview.png\n",
      "Warning: Image not found at ../data/Challenge_Data/Assets/adunit-heineken-pure-malt-v2-mpu/_preview.png\n",
      "Reading image from: ../data/Challenge_Data/Assets/adunit-jaguar-nameplate-refresh-f-type-mpu/_preview.png\n",
      "Warning: Image not found at ../data/Challenge_Data/Assets/adunit-jaguar-nameplate-refresh-f-type-mpu/_preview.png\n",
      "Reading image from: ../data/Challenge_Data/Assets/2a25b8b900eeb431fc7627a231bbc562/_preview.png\n"
     ]
    },
    {
     "name": "stderr",
     "output_type": "stream",
     "text": [
      "[ WARN:0@77.465] global loadsave.cpp:241 findDecoder imread_('../data/Challenge_Data/Assets/adunit-heineken-pure-malt-v2-mpu/_preview.png'): can't open/read file: check file path/integrity\n",
      "[ WARN:0@77.465] global loadsave.cpp:241 findDecoder imread_('../data/Challenge_Data/Assets/adunit-jaguar-nameplate-refresh-f-type-mpu/_preview.png'): can't open/read file: check file path/integrity\n",
      "[ WARN:0@77.596] global loadsave.cpp:241 findDecoder imread_('../data/Challenge_Data/Assets/adunit-windhoek-beer-year-end-2021-bio-v2-mob/_preview.png'): can't open/read file: check file path/integrity\n",
      "[ WARN:0@77.596] global loadsave.cpp:241 findDecoder imread_('../data/Challenge_Data/Assets/adunit-mouser-user-choice-v2-cpe-canada-mpu/_preview.png'): can't open/read file: check file path/integrity\n",
      "[ WARN:0@77.596] global loadsave.cpp:241 findDecoder imread_('../data/Challenge_Data/Assets/adunit-livspace-before-after-in-mpu/_preview.png'): can't open/read file: check file path/integrity\n",
      "[ WARN:0@77.596] global loadsave.cpp:241 findDecoder imread_('../data/Challenge_Data/Assets/adunit-mouser-user-choice-flight4-uk-cpe-av-mpu/_preview.png'): can't open/read file: check file path/integrity\n",
      "[ WARN:0@77.596] global loadsave.cpp:241 findDecoder imread_('../data/Challenge_Data/Assets/adunit-van-cleef-and-arpels-frivole-wave-unit2-mpu/_preview.png'): can't open/read file: check file path/integrity\n"
     ]
    },
    {
     "name": "stdout",
     "output_type": "stream",
     "text": [
      "Reading image from: ../data/Challenge_Data/Assets/adunit-windhoek-beer-year-end-2021-bio-v2-mob/_preview.png\n",
      "Warning: Image not found at ../data/Challenge_Data/Assets/adunit-windhoek-beer-year-end-2021-bio-v2-mob/_preview.png\n",
      "Reading image from: ../data/Challenge_Data/Assets/adunit-mouser-user-choice-v2-cpe-canada-mpu/_preview.png\n",
      "Warning: Image not found at ../data/Challenge_Data/Assets/adunit-mouser-user-choice-v2-cpe-canada-mpu/_preview.png\n",
      "Reading image from: ../data/Challenge_Data/Assets/adunit-livspace-before-after-in-mpu/_preview.png\n",
      "Warning: Image not found at ../data/Challenge_Data/Assets/adunit-livspace-before-after-in-mpu/_preview.png\n",
      "Reading image from: ../data/Challenge_Data/Assets/adunit-mouser-user-choice-flight4-uk-cpe-av-mpu/_preview.png\n",
      "Warning: Image not found at ../data/Challenge_Data/Assets/adunit-mouser-user-choice-flight4-uk-cpe-av-mpu/_preview.png\n",
      "Reading image from: ../data/Challenge_Data/Assets/adunit-van-cleef-and-arpels-frivole-wave-unit2-mpu/_preview.png\n",
      "Warning: Image not found at ../data/Challenge_Data/Assets/adunit-van-cleef-and-arpels-frivole-wave-unit2-mpu/_preview.png\n",
      "Reading image from: ../data/Challenge_Data/Assets/7feef5faff5461ca47f061ed5efbccf5/_preview.png\n",
      "Reading image from: ../data/Challenge_Data/Assets/adunit-mouser-user-choice-v2-cpe-av-aus-nz-mob/_preview.png\n",
      "Warning: Image not found at ../data/Challenge_Data/Assets/adunit-mouser-user-choice-v2-cpe-av-aus-nz-mob/_preview.png\n",
      "Reading image from: ../data/Challenge_Data/Assets/fbb156a0dc35c2e9f126d5140ae6ea66/_preview.png\n"
     ]
    },
    {
     "name": "stderr",
     "output_type": "stream",
     "text": [
      "[ WARN:0@77.706] global loadsave.cpp:241 findDecoder imread_('../data/Challenge_Data/Assets/adunit-mouser-user-choice-v2-cpe-av-aus-nz-mob/_preview.png'): can't open/read file: check file path/integrity\n",
      "[ WARN:0@77.833] global loadsave.cpp:241 findDecoder imread_('../data/Challenge_Data/Assets/adunit-jaguar-nameplate-refresh-f-type-back-mob/_preview.png'): can't open/read file: check file path/integrity\n"
     ]
    },
    {
     "name": "stdout",
     "output_type": "stream",
     "text": [
      "Reading image from: ../data/Challenge_Data/Assets/adunit-jaguar-nameplate-refresh-f-type-back-mob/_preview.png\n",
      "Warning: Image not found at ../data/Challenge_Data/Assets/adunit-jaguar-nameplate-refresh-f-type-back-mob/_preview.png\n",
      "Reading image from: ../data/Challenge_Data/Assets/94ed9dbaf0a8f0a64d4e04a3b1d9431a/_preview.png\n",
      "Reading image from: ../data/Challenge_Data/Assets/59f430cb4755fb8e77109dcc9c8fb888/_preview.png\n",
      "Reading image from: ../data/Challenge_Data/Assets/adunit-yamaha-wolverine-user-choice-av-v2-mpu/_preview.png\n",
      "Warning: Image not found at ../data/Challenge_Data/Assets/adunit-yamaha-wolverine-user-choice-av-v2-mpu/_preview.png\n",
      "Reading image from: ../data/Challenge_Data/Assets/783719d2b23ee967711abba9de4e7884/_preview.png\n",
      "Reading image from: ../data/Challenge_Data/Assets/39869b76f24193f841d1f95442803be3/_preview.png\n"
     ]
    },
    {
     "name": "stderr",
     "output_type": "stream",
     "text": [
      "[ WARN:0@78.088] global loadsave.cpp:241 findDecoder imread_('../data/Challenge_Data/Assets/adunit-yamaha-wolverine-user-choice-av-v2-mpu/_preview.png'): can't open/read file: check file path/integrity\n"
     ]
    },
    {
     "name": "stdout",
     "output_type": "stream",
     "text": [
      "Reading image from: ../data/Challenge_Data/Assets/024df5698f28a46ebf4ac1ac5df2c202/_preview.png\n",
      "Reading image from: ../data/Challenge_Data/Assets/adunit-doritos-niknaks-mob/_preview.png\n",
      "Warning: Image not found at ../data/Challenge_Data/Assets/adunit-doritos-niknaks-mob/_preview.png\n",
      "Reading image from: ../data/Challenge_Data/Assets/adunit-mouser-user-choice-flight4-us-cpe-av-mob/_preview.png\n",
      "Warning: Image not found at ../data/Challenge_Data/Assets/adunit-mouser-user-choice-flight4-us-cpe-av-mob/_preview.png\n",
      "Reading image from: ../data/Challenge_Data/Assets/adunit-western-union-sensory-unit-swipe-up-v2-mob/_preview.png\n",
      "Warning: Image not found at ../data/Challenge_Data/Assets/adunit-western-union-sensory-unit-swipe-up-v2-mob/_preview.png\n",
      "Reading image from: ../data/Challenge_Data/Assets/adunit-yamaha-x2-x4-userchoice-cpe-mob/_preview.png\n",
      "Warning: Image not found at ../data/Challenge_Data/Assets/adunit-yamaha-x2-x4-userchoice-cpe-mob/_preview.png\n",
      "Reading image from: ../data/Challenge_Data/Assets/74fb31e6b022b403306f12d715053717/_preview.png\n"
     ]
    },
    {
     "name": "stderr",
     "output_type": "stream",
     "text": [
      "[ WARN:0@78.435] global loadsave.cpp:241 findDecoder imread_('../data/Challenge_Data/Assets/adunit-doritos-niknaks-mob/_preview.png'): can't open/read file: check file path/integrity\n",
      "[ WARN:0@78.435] global loadsave.cpp:241 findDecoder imread_('../data/Challenge_Data/Assets/adunit-mouser-user-choice-flight4-us-cpe-av-mob/_preview.png'): can't open/read file: check file path/integrity\n",
      "[ WARN:0@78.435] global loadsave.cpp:241 findDecoder imread_('../data/Challenge_Data/Assets/adunit-western-union-sensory-unit-swipe-up-v2-mob/_preview.png'): can't open/read file: check file path/integrity\n",
      "[ WARN:0@78.435] global loadsave.cpp:241 findDecoder imread_('../data/Challenge_Data/Assets/adunit-yamaha-x2-x4-userchoice-cpe-mob/_preview.png'): can't open/read file: check file path/integrity\n"
     ]
    },
    {
     "name": "stdout",
     "output_type": "stream",
     "text": [
      "Reading image from: ../data/Challenge_Data/Assets/0792c911c288bd241c1e2a2b64bce488/_preview.png\n",
      "Reading image from: ../data/Challenge_Data/Assets/281ca748ff2f73232baa2a2d98041a63/_preview.png\n",
      "Reading image from: ../data/Challenge_Data/Assets/3c741855acd9576b4e311d5cd990ae77/_preview.png\n",
      "Reading image from: ../data/Challenge_Data/Assets/adunit-heineken-pure-malt-mob/_preview.png\n",
      "Warning: Image not found at ../data/Challenge_Data/Assets/adunit-heineken-pure-malt-mob/_preview.png\n",
      "Reading image from: ../data/Challenge_Data/Assets/4008b0311b08183a8e6d7d6d01cea464/_preview.png\n"
     ]
    },
    {
     "name": "stderr",
     "output_type": "stream",
     "text": [
      "[ WARN:0@78.925] global loadsave.cpp:241 findDecoder imread_('../data/Challenge_Data/Assets/adunit-heineken-pure-malt-mob/_preview.png'): can't open/read file: check file path/integrity\n"
     ]
    },
    {
     "name": "stdout",
     "output_type": "stream",
     "text": [
      "Reading image from: ../data/Challenge_Data/Assets/002dbbd85ef3fe6a2e7d0754fb9f9a1a/_preview.png\n",
      "Reading image from: ../data/Challenge_Data/Assets/4546fea5413797d10224198aaa34fe45/_preview.png\n",
      "Reading image from: ../data/Challenge_Data/Assets/88d9068b2d0ea2492b160a2e028d3429/_preview.png\n",
      "Reading image from: ../data/Challenge_Data/Assets/cd8d3632d222fd9e87e32c9d0ecafdea/_preview.png\n",
      "Reading image from: ../data/Challenge_Data/Assets/4c0bb312924b2faa49f1eb556a5377ec/_preview.png\n",
      "Reading image from: ../data/Challenge_Data/Assets/adunit-mouser-user-choice-flight4-aus-nz-cpe-mob/_preview.png\n",
      "Warning: Image not found at ../data/Challenge_Data/Assets/adunit-mouser-user-choice-flight4-aus-nz-cpe-mob/_preview.png\n",
      "Reading image from: ../data/Challenge_Data/Assets/adunit-showtime-dexture-mob/_preview.png\n",
      "Warning: Image not found at ../data/Challenge_Data/Assets/adunit-showtime-dexture-mob/_preview.png\n",
      "Reading image from: ../data/Challenge_Data/Assets/adunit-engagement-plus-ihop-evergreen-olo-drag-left-mob/_preview.png\n"
     ]
    },
    {
     "name": "stderr",
     "output_type": "stream",
     "text": [
      "[ WARN:0@79.771] global loadsave.cpp:241 findDecoder imread_('../data/Challenge_Data/Assets/adunit-mouser-user-choice-flight4-aus-nz-cpe-mob/_preview.png'): can't open/read file: check file path/integrity\n",
      "[ WARN:0@79.771] global loadsave.cpp:241 findDecoder imread_('../data/Challenge_Data/Assets/adunit-showtime-dexture-mob/_preview.png'): can't open/read file: check file path/integrity\n"
     ]
    },
    {
     "name": "stdout",
     "output_type": "stream",
     "text": [
      "Reading image from: ../data/Challenge_Data/Assets/3e46da2a3160460b9be21da8ea0ce68e/_preview.png\n",
      "Reading image from: ../data/Challenge_Data/Assets/f033db746b20e747ee528caa07f0b2de/_preview.png\n",
      "Reading image from: ../data/Challenge_Data/Assets/adunit-mouser-user-choice-v2-cpe-av-aus-nz-mpu/_preview.png\n",
      "Warning: Image not found at ../data/Challenge_Data/Assets/adunit-mouser-user-choice-v2-cpe-av-aus-nz-mpu/_preview.png\n",
      "Reading image from: ../data/Challenge_Data/Assets/6e628eb5fafe4a43309363ef8e8efc12/_preview.png\n",
      "Reading image from: ../data/Challenge_Data/Assets/b2504a570b6274172b6bd9558118f772/_preview.png\n"
     ]
    },
    {
     "name": "stderr",
     "output_type": "stream",
     "text": [
      "[ WARN:0@80.124] global loadsave.cpp:241 findDecoder imread_('../data/Challenge_Data/Assets/adunit-mouser-user-choice-v2-cpe-av-aus-nz-mpu/_preview.png'): can't open/read file: check file path/integrity\n"
     ]
    },
    {
     "name": "stdout",
     "output_type": "stream",
     "text": [
      "Reading image from: ../data/Challenge_Data/Assets/adunit-yamaha-wolverine-user-choice-cpe-v2-mob/_preview.png\n",
      "Warning: Image not found at ../data/Challenge_Data/Assets/adunit-yamaha-wolverine-user-choice-cpe-v2-mob/_preview.png\n",
      "Reading image from: ../data/Challenge_Data/Assets/adunit-nestle-maggi-varieties-bouillon-en-uae-mob/_preview.png\n",
      "Warning: Image not found at ../data/Challenge_Data/Assets/adunit-nestle-maggi-varieties-bouillon-en-uae-mob/_preview.png\n",
      "Reading image from: ../data/Challenge_Data/Assets/0a18978cdc8b64f900b0db6a297eb99d/_preview.png\n",
      "Reading image from: ../data/Challenge_Data/Assets/adunit-femsa-coca-cola-new-sugar-free-mpu/_preview.png\n",
      "Warning: Image not found at ../data/Challenge_Data/Assets/adunit-femsa-coca-cola-new-sugar-free-mpu/_preview.png\n",
      "Reading image from: ../data/Challenge_Data/Assets/5dae3772408bcecb586bf62312c13838/_preview.png\n"
     ]
    },
    {
     "name": "stderr",
     "output_type": "stream",
     "text": [
      "[ WARN:0@80.388] global loadsave.cpp:241 findDecoder imread_('../data/Challenge_Data/Assets/adunit-yamaha-wolverine-user-choice-cpe-v2-mob/_preview.png'): can't open/read file: check file path/integrity\n",
      "[ WARN:0@80.388] global loadsave.cpp:241 findDecoder imread_('../data/Challenge_Data/Assets/adunit-nestle-maggi-varieties-bouillon-en-uae-mob/_preview.png'): can't open/read file: check file path/integrity\n",
      "[ WARN:0@80.498] global loadsave.cpp:241 findDecoder imread_('../data/Challenge_Data/Assets/adunit-femsa-coca-cola-new-sugar-free-mpu/_preview.png'): can't open/read file: check file path/integrity\n"
     ]
    },
    {
     "name": "stdout",
     "output_type": "stream",
     "text": [
      "Reading image from: ../data/Challenge_Data/Assets/adunit-nestle-maggi-varieties-bouillon-ar-uae-mob/_preview.png\n",
      "Warning: Image not found at ../data/Challenge_Data/Assets/adunit-nestle-maggi-varieties-bouillon-ar-uae-mob/_preview.png\n",
      "Reading image from: ../data/Challenge_Data/Assets/adunit-showtime-dexture-post-mob/_preview.png\n",
      "Warning: Image not found at ../data/Challenge_Data/Assets/adunit-showtime-dexture-post-mob/_preview.png\n",
      "Reading image from: ../data/Challenge_Data/Assets/f701e15a157e1418704c2b18a13fb471/_preview.png\n",
      "Reading image from: ../data/Challenge_Data/Assets/adunit-lionsgate-spiral-puzzle-v2-mob/_preview.png\n",
      "Warning: Image not found at ../data/Challenge_Data/Assets/adunit-lionsgate-spiral-puzzle-v2-mob/_preview.png\n",
      "Reading image from: ../data/Challenge_Data/Assets/adunit-mouser-user-choice-cpe-av-aus-nz-mob/_preview.png\n",
      "Warning: Image not found at ../data/Challenge_Data/Assets/adunit-mouser-user-choice-cpe-av-aus-nz-mob/_preview.png\n",
      "Reading image from: ../data/Challenge_Data/Assets/08fc9a9f04de967fe87c5061c32d3b84/_preview.png\n"
     ]
    },
    {
     "name": "stderr",
     "output_type": "stream",
     "text": [
      "[ WARN:0@80.659] global loadsave.cpp:241 findDecoder imread_('../data/Challenge_Data/Assets/adunit-nestle-maggi-varieties-bouillon-ar-uae-mob/_preview.png'): can't open/read file: check file path/integrity\n",
      "[ WARN:0@80.659] global loadsave.cpp:241 findDecoder imread_('../data/Challenge_Data/Assets/adunit-showtime-dexture-post-mob/_preview.png'): can't open/read file: check file path/integrity\n",
      "[ WARN:0@80.772] global loadsave.cpp:241 findDecoder imread_('../data/Challenge_Data/Assets/adunit-lionsgate-spiral-puzzle-v2-mob/_preview.png'): can't open/read file: check file path/integrity\n",
      "[ WARN:0@80.772] global loadsave.cpp:241 findDecoder imread_('../data/Challenge_Data/Assets/adunit-mouser-user-choice-cpe-av-aus-nz-mob/_preview.png'): can't open/read file: check file path/integrity\n"
     ]
    },
    {
     "name": "stdout",
     "output_type": "stream",
     "text": [
      "Reading image from: ../data/Challenge_Data/Assets/64a625126af2759b5e84aed912400e4f/_preview.png\n",
      "Reading image from: ../data/Challenge_Data/Assets/eb84457fc98f942bb27157e930794c61/_preview.png\n",
      "Reading image from: ../data/Challenge_Data/Assets/5d8310907217d0f5385f765f133ad475/_preview.png\n",
      "Reading image from: ../data/Challenge_Data/Assets/adunit-tiger-crystel-beer-inner-fire-bio-mob/_preview.png\n",
      "Warning: Image not found at ../data/Challenge_Data/Assets/adunit-tiger-crystel-beer-inner-fire-bio-mob/_preview.png\n",
      "Reading image from: ../data/Challenge_Data/Assets/adunit-mouser-user-choice-v3-aus-nz-cpe-mpu/_preview.png\n",
      "Warning: Image not found at ../data/Challenge_Data/Assets/adunit-mouser-user-choice-v3-aus-nz-cpe-mpu/_preview.png\n",
      "Reading image from: ../data/Challenge_Data/Assets/4febb144783cbf0059748799ed8b4945/_preview.png\n"
     ]
    },
    {
     "name": "stderr",
     "output_type": "stream",
     "text": [
      "[ WARN:0@81.257] global loadsave.cpp:241 findDecoder imread_('../data/Challenge_Data/Assets/adunit-tiger-crystel-beer-inner-fire-bio-mob/_preview.png'): can't open/read file: check file path/integrity\n",
      "[ WARN:0@81.257] global loadsave.cpp:241 findDecoder imread_('../data/Challenge_Data/Assets/adunit-mouser-user-choice-v3-aus-nz-cpe-mpu/_preview.png'): can't open/read file: check file path/integrity\n",
      "[ WARN:0@81.388] global loadsave.cpp:241 findDecoder imread_('../data/Challenge_Data/Assets/adunit-van-cleef-and-arpels-frivole-wave-unit2-tap-version-mpu/_preview.png'): can't open/read file: check file path/integrity\n",
      "[ WARN:0@81.388] global loadsave.cpp:241 findDecoder imread_('../data/Challenge_Data/Assets/adunit-nestle-maggi-varieties-bouillon-ar-kwt-v1-mpu/_preview.png'): can't open/read file: check file path/integrity\n",
      "[ WARN:0@81.388] global loadsave.cpp:241 findDecoder imread_('../data/Challenge_Data/Assets/adunit-milk-ctc-swipe-to-catch-mob/_preview.png'): can't open/read file: check file path/integrity\n"
     ]
    },
    {
     "name": "stdout",
     "output_type": "stream",
     "text": [
      "Reading image from: ../data/Challenge_Data/Assets/adunit-van-cleef-and-arpels-frivole-wave-unit2-tap-version-mpu/_preview.png\n",
      "Warning: Image not found at ../data/Challenge_Data/Assets/adunit-van-cleef-and-arpels-frivole-wave-unit2-tap-version-mpu/_preview.png\n",
      "Reading image from: ../data/Challenge_Data/Assets/adunit-nestle-maggi-varieties-bouillon-ar-kwt-v1-mpu/_preview.png\n",
      "Warning: Image not found at ../data/Challenge_Data/Assets/adunit-nestle-maggi-varieties-bouillon-ar-kwt-v1-mpu/_preview.png\n",
      "Reading image from: ../data/Challenge_Data/Assets/adunit-milk-ctc-swipe-to-catch-mob/_preview.png\n",
      "Warning: Image not found at ../data/Challenge_Data/Assets/adunit-milk-ctc-swipe-to-catch-mob/_preview.png\n",
      "Reading image from: ../data/Challenge_Data/Assets/8091002d3367a188f845f2c9fcdbadea/_preview.png\n",
      "Reading image from: ../data/Challenge_Data/Assets/adunit-mouser-user-choice-v3-aus-nz-cpe-av-mpu/_preview.png\n",
      "Warning: Image not found at ../data/Challenge_Data/Assets/adunit-mouser-user-choice-v3-aus-nz-cpe-av-mpu/_preview.png\n",
      "Reading image from: ../data/Challenge_Data/Assets/e1d358918210126d2348bb98e47dfa86/_preview.png\n"
     ]
    },
    {
     "name": "stderr",
     "output_type": "stream",
     "text": [
      "[ WARN:0@81.510] global loadsave.cpp:241 findDecoder imread_('../data/Challenge_Data/Assets/adunit-mouser-user-choice-v3-aus-nz-cpe-av-mpu/_preview.png'): can't open/read file: check file path/integrity\n"
     ]
    },
    {
     "name": "stdout",
     "output_type": "stream",
     "text": [
      "Reading image from: ../data/Challenge_Data/Assets/adunit-ihop-ihoppy-hour-20-percent-off-mob/_preview.png\n",
      "Reading image from: ../data/Challenge_Data/Assets/adunit-ihop-window4-reeses-mpu/_preview.png\n",
      "Reading image from: ../data/Challenge_Data/Assets/727b84106211a421a6d6925655a4ff17/_preview.png\n",
      "Reading image from: ../data/Challenge_Data/Assets/6649faf7aaae3caa5ac3de30b5ac4829/_preview.png\n",
      "Reading image from: ../data/Challenge_Data/Assets/d63a7966d398d4dd0778d268d17fd2aa/_preview.png\n",
      "Reading image from: ../data/Challenge_Data/Assets/3a78fb0ee7c6e7fa0101fe1d6f49de29/_preview.png\n",
      "Reading image from: ../data/Challenge_Data/Assets/07f3a0ee847117a81ff9183befca007a/_preview.png\n",
      "Reading image from: ../data/Challenge_Data/Assets/adunit-yamaha-rmax4-1000-le-sensory-plus-video-mob/_preview.png\n",
      "Warning: Image not found at ../data/Challenge_Data/Assets/adunit-yamaha-rmax4-1000-le-sensory-plus-video-mob/_preview.png\n",
      "Reading image from: ../data/Challenge_Data/Assets/adunit-lionsgate-spiral-new-2-puzzle-v3-mpu/_preview.png\n",
      "Warning: Image not found at ../data/Challenge_Data/Assets/adunit-lionsgate-spiral-new-2-puzzle-v3-mpu/_preview.png\n",
      "Reading image from: ../data/Challenge_Data/Assets/5190d04e9abb3684a856257429894a5b/_preview.png\n"
     ]
    },
    {
     "name": "stderr",
     "output_type": "stream",
     "text": [
      "[ WARN:0@82.497] global loadsave.cpp:241 findDecoder imread_('../data/Challenge_Data/Assets/adunit-yamaha-rmax4-1000-le-sensory-plus-video-mob/_preview.png'): can't open/read file: check file path/integrity\n",
      "[ WARN:0@82.497] global loadsave.cpp:241 findDecoder imread_('../data/Challenge_Data/Assets/adunit-lionsgate-spiral-new-2-puzzle-v3-mpu/_preview.png'): can't open/read file: check file path/integrity\n",
      "[ WARN:0@82.628] global loadsave.cpp:241 findDecoder imread_('../data/Challenge_Data/Assets/adunit-hitmans-wifes-body-guard-user-choice-mpu/_preview.png'): can't open/read file: check file path/integrity\n",
      "[ WARN:0@82.628] global loadsave.cpp:241 findDecoder imread_('../data/Challenge_Data/Assets/adunit-doritos-niknaks-mpu/_preview.png'): can't open/read file: check file path/integrity\n"
     ]
    },
    {
     "name": "stdout",
     "output_type": "stream",
     "text": [
      "Reading image from: ../data/Challenge_Data/Assets/adunit-hitmans-wifes-body-guard-user-choice-mpu/_preview.png\n",
      "Warning: Image not found at ../data/Challenge_Data/Assets/adunit-hitmans-wifes-body-guard-user-choice-mpu/_preview.png\n",
      "Reading image from: ../data/Challenge_Data/Assets/adunit-doritos-niknaks-mpu/_preview.png\n",
      "Warning: Image not found at ../data/Challenge_Data/Assets/adunit-doritos-niknaks-mpu/_preview.png\n",
      "Reading image from: ../data/Challenge_Data/Assets/68c52769f63d072ef64e0dde04ed5ff0/_preview.png\n",
      "Reading image from: ../data/Challenge_Data/Assets/adunit-dreamies-catfood-slider-mob/_preview.png\n",
      "Warning: Image not found at ../data/Challenge_Data/Assets/adunit-dreamies-catfood-slider-mob/_preview.png\n",
      "Reading image from: ../data/Challenge_Data/Assets/5cd2c1fa13b9cd4862f79304e5ca19cc/_preview.png\n"
     ]
    },
    {
     "name": "stderr",
     "output_type": "stream",
     "text": [
      "[ WARN:0@82.742] global loadsave.cpp:241 findDecoder imread_('../data/Challenge_Data/Assets/adunit-dreamies-catfood-slider-mob/_preview.png'): can't open/read file: check file path/integrity\n"
     ]
    },
    {
     "name": "stdout",
     "output_type": "stream",
     "text": [
      "Reading image from: ../data/Challenge_Data/Assets/98555b9df18ae8d010794161505020dd/_preview.png\n",
      "Reading image from: ../data/Challenge_Data/Assets/9155a2e9b6ccf3449b2403031ed99468/_preview.png\n",
      "Reading image from: ../data/Challenge_Data/Assets/adunit-j-j-e-commerce-v1-mob/_preview.png\n",
      "Warning: Image not found at ../data/Challenge_Data/Assets/adunit-j-j-e-commerce-v1-mob/_preview.png\n",
      "Reading image from: ../data/Challenge_Data/Assets/919ef5d6de221daf94537e4d87e98859/_preview.png\n",
      "Reading image from: ../data/Challenge_Data/Assets/adunit-showtime-dexter-sensory-plus-video-canvas-mpu/_preview.png\n",
      "Warning: Image not found at ../data/Challenge_Data/Assets/adunit-showtime-dexter-sensory-plus-video-canvas-mpu/_preview.png\n",
      "Reading image from: ../data/Challenge_Data/Assets/61dff450d1f6264618e7532f9e6c21dd/_preview.png\n"
     ]
    },
    {
     "name": "stderr",
     "output_type": "stream",
     "text": [
      "[ WARN:0@83.109] global loadsave.cpp:241 findDecoder imread_('../data/Challenge_Data/Assets/adunit-j-j-e-commerce-v1-mob/_preview.png'): can't open/read file: check file path/integrity\n",
      "[ WARN:0@83.236] global loadsave.cpp:241 findDecoder imread_('../data/Challenge_Data/Assets/adunit-showtime-dexter-sensory-plus-video-canvas-mpu/_preview.png'): can't open/read file: check file path/integrity\n"
     ]
    },
    {
     "name": "stdout",
     "output_type": "stream",
     "text": [
      "Reading image from: ../data/Challenge_Data/Assets/2845ecbabd12a9d2d17283664c06fa7d/_preview.png\n",
      "Reading image from: ../data/Challenge_Data/Assets/adunit-jaguar-nameplate-refresh-rc-mpu/_preview.png\n",
      "Warning: Image not found at ../data/Challenge_Data/Assets/adunit-jaguar-nameplate-refresh-rc-mpu/_preview.png\n",
      "Reading image from: ../data/Challenge_Data/Assets/adunit-find-the-fox-magnifying-glass-sg-mob/_preview.png\n",
      "Warning: Image not found at ../data/Challenge_Data/Assets/adunit-find-the-fox-magnifying-glass-sg-mob/_preview.png\n",
      "Reading image from: ../data/Challenge_Data/Assets/adunit-nutrella-barrilito-mob/_preview.png\n",
      "Warning: Image not found at ../data/Challenge_Data/Assets/adunit-nutrella-barrilito-mob/_preview.png\n",
      "Reading image from: ../data/Challenge_Data/Assets/6b7ddb8af0b0d4b5e042ac9469300177/_preview.png\n"
     ]
    },
    {
     "name": "stderr",
     "output_type": "stream",
     "text": [
      "[ WARN:0@83.478] global loadsave.cpp:241 findDecoder imread_('../data/Challenge_Data/Assets/adunit-jaguar-nameplate-refresh-rc-mpu/_preview.png'): can't open/read file: check file path/integrity\n",
      "[ WARN:0@83.478] global loadsave.cpp:241 findDecoder imread_('../data/Challenge_Data/Assets/adunit-find-the-fox-magnifying-glass-sg-mob/_preview.png'): can't open/read file: check file path/integrity\n",
      "[ WARN:0@83.478] global loadsave.cpp:241 findDecoder imread_('../data/Challenge_Data/Assets/adunit-nutrella-barrilito-mob/_preview.png'): can't open/read file: check file path/integrity\n"
     ]
    },
    {
     "name": "stdout",
     "output_type": "stream",
     "text": [
      "Reading image from: ../data/Challenge_Data/Assets/23bd30ca17aae979afebc6f4e5f1fdd3/_preview.png\n",
      "Reading image from: ../data/Challenge_Data/Assets/5e3fbc83a60c730e234618fe5483800e/_preview.png\n",
      "Reading image from: ../data/Challenge_Data/Assets/45bc44f6b1529331c282ba1f72e13b3c/_preview.png\n",
      "Reading image from: ../data/Challenge_Data/Assets/adunit-western-union-kroger-scrub-auto-engagement-mob/_preview.png\n",
      "Warning: Image not found at ../data/Challenge_Data/Assets/adunit-western-union-kroger-scrub-auto-engagement-mob/_preview.png\n",
      "Reading image from: ../data/Challenge_Data/Assets/4342ea931e3e9ae5c51aed541a61465d/_preview.png\n"
     ]
    },
    {
     "name": "stderr",
     "output_type": "stream",
     "text": [
      "[ WARN:0@83.977] global loadsave.cpp:241 findDecoder imread_('../data/Challenge_Data/Assets/adunit-western-union-kroger-scrub-auto-engagement-mob/_preview.png'): can't open/read file: check file path/integrity\n"
     ]
    },
    {
     "name": "stdout",
     "output_type": "stream",
     "text": [
      "Reading image from: ../data/Challenge_Data/Assets/295e3365c5ed156b3ae4c8f3194add31/_preview.png\n",
      "Reading image from: ../data/Challenge_Data/Assets/adunit-femsa-coca-cola-christmas-village-v3-mpu/_preview.png\n",
      "Warning: Image not found at ../data/Challenge_Data/Assets/adunit-femsa-coca-cola-christmas-village-v3-mpu/_preview.png\n",
      "Reading image from: ../data/Challenge_Data/Assets/adunit-runnings-maps-mpu/_preview.png\n",
      "Warning: Image not found at ../data/Challenge_Data/Assets/adunit-runnings-maps-mpu/_preview.png\n",
      "Reading image from: ../data/Challenge_Data/Assets/8932a4d6d34de7718182c18cc30779e8/_preview.png\n"
     ]
    },
    {
     "name": "stderr",
     "output_type": "stream",
     "text": [
      "[ WARN:0@84.202] global loadsave.cpp:241 findDecoder imread_('../data/Challenge_Data/Assets/adunit-femsa-coca-cola-christmas-village-v3-mpu/_preview.png'): can't open/read file: check file path/integrity\n",
      "[ WARN:0@84.202] global loadsave.cpp:241 findDecoder imread_('../data/Challenge_Data/Assets/adunit-runnings-maps-mpu/_preview.png'): can't open/read file: check file path/integrity\n",
      "[ WARN:0@84.313] global loadsave.cpp:241 findDecoder imread_('../data/Challenge_Data/Assets/adunit-hennessy-vsop-refik-anadol-mpu/_preview.png'): can't open/read file: check file path/integrity\n",
      "[ WARN:0@84.314] global loadsave.cpp:241 findDecoder imread_('../data/Challenge_Data/Assets/adunit-kitkat-golden-break-gamify-arabic-mob/_preview.png'): can't open/read file: check file path/integrity\n",
      "[ WARN:0@84.314] global loadsave.cpp:241 findDecoder imread_('../data/Challenge_Data/Assets/adunit-mouser-user-choice-cpe-uk-mob/_preview.png'): can't open/read file: check file path/integrity\n"
     ]
    },
    {
     "name": "stdout",
     "output_type": "stream",
     "text": [
      "Reading image from: ../data/Challenge_Data/Assets/adunit-hennessy-vsop-refik-anadol-mpu/_preview.png\n",
      "Warning: Image not found at ../data/Challenge_Data/Assets/adunit-hennessy-vsop-refik-anadol-mpu/_preview.png\n",
      "Reading image from: ../data/Challenge_Data/Assets/adunit-kitkat-golden-break-gamify-arabic-mob/_preview.png\n",
      "Warning: Image not found at ../data/Challenge_Data/Assets/adunit-kitkat-golden-break-gamify-arabic-mob/_preview.png\n",
      "Reading image from: ../data/Challenge_Data/Assets/adunit-mouser-user-choice-cpe-uk-mob/_preview.png\n",
      "Warning: Image not found at ../data/Challenge_Data/Assets/adunit-mouser-user-choice-cpe-uk-mob/_preview.png\n",
      "Reading image from: ../data/Challenge_Data/Assets/68d489e40aa39d4498507af1ccdf249a/_preview.png\n",
      "Reading image from: ../data/Challenge_Data/Assets/3faf6a6e515ee4a3d08934b3e93a4a9e/_preview.png\n",
      "Reading image from: ../data/Challenge_Data/Assets/3c8eed5eead83f9798db8c24578d7a19/_preview.png\n",
      "Reading image from: ../data/Challenge_Data/Assets/b50d6442906a8362508d2a97bb9ba01e/_preview.png\n",
      "Reading image from: ../data/Challenge_Data/Assets/adunit-western-union-sensory-unit-swipe-up-v2-mpu/_preview.png\n",
      "Warning: Image not found at ../data/Challenge_Data/Assets/adunit-western-union-sensory-unit-swipe-up-v2-mpu/_preview.png\n",
      "Reading image from: ../data/Challenge_Data/Assets/b500b45f2e556f55a488bc21c045877f/_preview.png\n",
      "Reading image from: ../data/Challenge_Data/Assets/67169407f4dd5762a97f973e82e550bd/_preview.png\n"
     ]
    },
    {
     "name": "stderr",
     "output_type": "stream",
     "text": [
      "[ WARN:0@84.793] global loadsave.cpp:241 findDecoder imread_('../data/Challenge_Data/Assets/adunit-western-union-sensory-unit-swipe-up-v2-mpu/_preview.png'): can't open/read file: check file path/integrity\n"
     ]
    },
    {
     "name": "stdout",
     "output_type": "stream",
     "text": [
      "Reading image from: ../data/Challenge_Data/Assets/adunit-lionsgate-spiral-new-2-puzzle-v4-mpu/_preview.png\n",
      "Warning: Image not found at ../data/Challenge_Data/Assets/adunit-lionsgate-spiral-new-2-puzzle-v4-mpu/_preview.png\n",
      "Reading image from: ../data/Challenge_Data/Assets/0692cec4544cb0287225a7bccebc916b/_preview.png\n",
      "Reading image from: ../data/Challenge_Data/Assets/adunit-heineken-celebrations2-za-mob/_preview.png\n",
      "Warning: Image not found at ../data/Challenge_Data/Assets/adunit-heineken-celebrations2-za-mob/_preview.png\n",
      "Reading image from: ../data/Challenge_Data/Assets/7110d440d9d424eec0ddb5f114058c06/_preview.png\n"
     ]
    },
    {
     "name": "stderr",
     "output_type": "stream",
     "text": [
      "[ WARN:0@85.014] global loadsave.cpp:241 findDecoder imread_('../data/Challenge_Data/Assets/adunit-lionsgate-spiral-new-2-puzzle-v4-mpu/_preview.png'): can't open/read file: check file path/integrity\n",
      "[ WARN:0@85.126] global loadsave.cpp:241 findDecoder imread_('../data/Challenge_Data/Assets/adunit-heineken-celebrations2-za-mob/_preview.png'): can't open/read file: check file path/integrity\n"
     ]
    },
    {
     "name": "stdout",
     "output_type": "stream",
     "text": [
      "Reading image from: ../data/Challenge_Data/Assets/bdc1911c958ee9f1d54097420bc0088d/_preview.png\n",
      "Reading image from: ../data/Challenge_Data/Assets/adunit-showtime-dexter-sensory-plus-video-canvas-v4-post-mob/_preview.png\n",
      "Warning: Image not found at ../data/Challenge_Data/Assets/adunit-showtime-dexter-sensory-plus-video-canvas-v4-post-mob/_preview.png\n",
      "Reading image from: ../data/Challenge_Data/Assets/adunit-facebook-conversational-commerce-3-0-th-unit1-v2-mob/_preview.png\n",
      "Warning: Image not found at ../data/Challenge_Data/Assets/adunit-facebook-conversational-commerce-3-0-th-unit1-v2-mob/_preview.png\n",
      "Reading image from: ../data/Challenge_Data/Assets/bf16a83492d04640042f674af85d2aac/_preview.png\n"
     ]
    },
    {
     "name": "stderr",
     "output_type": "stream",
     "text": [
      "[ WARN:0@85.362] global loadsave.cpp:241 findDecoder imread_('../data/Challenge_Data/Assets/adunit-showtime-dexter-sensory-plus-video-canvas-v4-post-mob/_preview.png'): can't open/read file: check file path/integrity\n",
      "[ WARN:0@85.362] global loadsave.cpp:241 findDecoder imread_('../data/Challenge_Data/Assets/adunit-facebook-conversational-commerce-3-0-th-unit1-v2-mob/_preview.png'): can't open/read file: check file path/integrity\n",
      "[ WARN:0@85.493] global loadsave.cpp:241 findDecoder imread_('../data/Challenge_Data/Assets/adunit-lionsgate-spiral-new-puzzle-v2-mpu/_preview.png'): can't open/read file: check file path/integrity\n",
      "[ WARN:0@85.493] global loadsave.cpp:241 findDecoder imread_('../data/Challenge_Data/Assets/adunit-lionsgate-spiral-puzzle-mob/_preview.png'): can't open/read file: check file path/integrity\n"
     ]
    },
    {
     "name": "stdout",
     "output_type": "stream",
     "text": [
      "Reading image from: ../data/Challenge_Data/Assets/adunit-lionsgate-spiral-new-puzzle-v2-mpu/_preview.png\n",
      "Warning: Image not found at ../data/Challenge_Data/Assets/adunit-lionsgate-spiral-new-puzzle-v2-mpu/_preview.png\n",
      "Reading image from: ../data/Challenge_Data/Assets/adunit-lionsgate-spiral-puzzle-mob/_preview.png\n",
      "Warning: Image not found at ../data/Challenge_Data/Assets/adunit-lionsgate-spiral-puzzle-mob/_preview.png\n",
      "Reading image from: ../data/Challenge_Data/Assets/265680a6c85f2381bb49965579b0fd89/_preview.png\n",
      "Reading image from: ../data/Challenge_Data/Assets/02d99db5aa9193b2bfc98ad6998e0ea7/_preview.png\n",
      "Reading image from: ../data/Challenge_Data/Assets/46a614be24dc2639baeb3a4887dfee2f/_preview.png\n",
      "Reading image from: ../data/Challenge_Data/Assets/adunit-simba-save-the-flavour-mob/_preview.png\n",
      "Warning: Image not found at ../data/Challenge_Data/Assets/adunit-simba-save-the-flavour-mob/_preview.png\n",
      "Reading image from: ../data/Challenge_Data/Assets/adunit-western-union-ralphs-scrub-v2-mpu/_preview.png\n",
      "Warning: Image not found at ../data/Challenge_Data/Assets/adunit-western-union-ralphs-scrub-v2-mpu/_preview.png\n",
      "Reading image from: ../data/Challenge_Data/Assets/29f4c491737ce1cd367ff019e7b2ccb7/_preview.png\n"
     ]
    },
    {
     "name": "stderr",
     "output_type": "stream",
     "text": [
      "[ WARN:0@85.881] global loadsave.cpp:241 findDecoder imread_('../data/Challenge_Data/Assets/adunit-simba-save-the-flavour-mob/_preview.png'): can't open/read file: check file path/integrity\n",
      "[ WARN:0@85.881] global loadsave.cpp:241 findDecoder imread_('../data/Challenge_Data/Assets/adunit-western-union-ralphs-scrub-v2-mpu/_preview.png'): can't open/read file: check file path/integrity\n"
     ]
    },
    {
     "name": "stdout",
     "output_type": "stream",
     "text": [
      "Reading image from: ../data/Challenge_Data/Assets/917250eb5213e41aa11f92282ec0b19a/_preview.png\n",
      "Reading image from: ../data/Challenge_Data/Assets/adunit-mouser-user-choice-v3-uk-cpe-av-mob/_preview.png\n",
      "Warning: Image not found at ../data/Challenge_Data/Assets/adunit-mouser-user-choice-v3-uk-cpe-av-mob/_preview.png\n",
      "Reading image from: ../data/Challenge_Data/Assets/40735b62ef7f9da459b39d173ee56ac3/_preview.png\n"
     ]
    },
    {
     "name": "stderr",
     "output_type": "stream",
     "text": [
      "[ WARN:0@86.126] global loadsave.cpp:241 findDecoder imread_('../data/Challenge_Data/Assets/adunit-mouser-user-choice-v3-uk-cpe-av-mob/_preview.png'): can't open/read file: check file path/integrity\n"
     ]
    },
    {
     "name": "stdout",
     "output_type": "stream",
     "text": [
      "Reading image from: ../data/Challenge_Data/Assets/d982317438736aac9cb37b3e66a2f555/_preview.png\n",
      "Reading image from: ../data/Challenge_Data/Assets/adunit-chanel-j12-singapore-exxon-mob/_preview.png\n",
      "Warning: Image not found at ../data/Challenge_Data/Assets/adunit-chanel-j12-singapore-exxon-mob/_preview.png\n",
      "Reading image from: ../data/Challenge_Data/Assets/bfeea6509482aeb0aaeed455fadb9c4e/_preview.png\n"
     ]
    },
    {
     "name": "stderr",
     "output_type": "stream",
     "text": [
      "[ WARN:0@86.367] global loadsave.cpp:241 findDecoder imread_('../data/Challenge_Data/Assets/adunit-chanel-j12-singapore-exxon-mob/_preview.png'): can't open/read file: check file path/integrity\n"
     ]
    },
    {
     "name": "stdout",
     "output_type": "stream",
     "text": [
      "Reading image from: ../data/Challenge_Data/Assets/877843b799b1b074584fc22f9157f447/_preview.png\n",
      "Reading image from: ../data/Challenge_Data/Assets/26877a2094850375ec053651dd7aa4ea/_preview.png\n",
      "Reading image from: ../data/Challenge_Data/Assets/05dff647236dcc065f51eea259e8a120/_preview.png\n",
      "Reading image from: ../data/Challenge_Data/Assets/adunit-christian-dior-popup-store-mob/_preview.png\n",
      "Warning: Image not found at ../data/Challenge_Data/Assets/adunit-christian-dior-popup-store-mob/_preview.png\n",
      "Reading image from: ../data/Challenge_Data/Assets/adunit-yamaha-sensory-plus-video-mob/_preview.png\n",
      "Warning: Image not found at ../data/Challenge_Data/Assets/adunit-yamaha-sensory-plus-video-mob/_preview.png\n",
      "Reading image from: ../data/Challenge_Data/Assets/adunit-lionsgate-spiral-new-puzzle-v3-mpu/_preview.png\n",
      "Warning: Image not found at ../data/Challenge_Data/Assets/adunit-lionsgate-spiral-new-puzzle-v3-mpu/_preview.png\n",
      "Reading image from: ../data/Challenge_Data/Assets/9e2b17d1c9addd70a9da0c72dfec0e3c/_preview.png\n"
     ]
    },
    {
     "name": "stderr",
     "output_type": "stream",
     "text": [
      "[ WARN:0@86.845] global loadsave.cpp:241 findDecoder imread_('../data/Challenge_Data/Assets/adunit-christian-dior-popup-store-mob/_preview.png'): can't open/read file: check file path/integrity\n",
      "[ WARN:0@86.845] global loadsave.cpp:241 findDecoder imread_('../data/Challenge_Data/Assets/adunit-yamaha-sensory-plus-video-mob/_preview.png'): can't open/read file: check file path/integrity\n",
      "[ WARN:0@86.845] global loadsave.cpp:241 findDecoder imread_('../data/Challenge_Data/Assets/adunit-lionsgate-spiral-new-puzzle-v3-mpu/_preview.png'): can't open/read file: check file path/integrity\n",
      "[ WARN:0@86.970] global loadsave.cpp:241 findDecoder imread_('../data/Challenge_Data/Assets/adunit-mouser-user-choice-v3-uk-cpe-mob/_preview.png'): can't open/read file: check file path/integrity\n",
      "[ WARN:0@86.970] global loadsave.cpp:241 findDecoder imread_('../data/Challenge_Data/Assets/adunit-volks-wagen-2021-new-polo-v1-v3-mpu/_preview.png'): can't open/read file: check file path/integrity\n"
     ]
    },
    {
     "name": "stdout",
     "output_type": "stream",
     "text": [
      "Reading image from: ../data/Challenge_Data/Assets/adunit-mouser-user-choice-v3-uk-cpe-mob/_preview.png\n",
      "Warning: Image not found at ../data/Challenge_Data/Assets/adunit-mouser-user-choice-v3-uk-cpe-mob/_preview.png\n",
      "Reading image from: ../data/Challenge_Data/Assets/adunit-volks-wagen-2021-new-polo-v1-v3-mpu/_preview.png\n",
      "Warning: Image not found at ../data/Challenge_Data/Assets/adunit-volks-wagen-2021-new-polo-v1-v3-mpu/_preview.png\n",
      "Reading image from: ../data/Challenge_Data/Assets/ddc12737f9718263bfb0f54843da0478/_preview.png\n",
      "Reading image from: ../data/Challenge_Data/Assets/2a355ca0d306921e195591e5b2374b6a/_preview.png\n",
      "Reading image from: ../data/Challenge_Data/Assets/adunit-femsa-coca-cola-christmas-village-mob/_preview.png\n",
      "Warning: Image not found at ../data/Challenge_Data/Assets/adunit-femsa-coca-cola-christmas-village-mob/_preview.png\n",
      "Reading image from: ../data/Challenge_Data/Assets/adunit-chevy-tap-mob/_preview.png\n",
      "Warning: Image not found at ../data/Challenge_Data/Assets/adunit-chevy-tap-mob/_preview.png\n",
      "Reading image from: ../data/Challenge_Data/Assets/adunit-chevy-panoramic-hotspot-explorer-cpe-mob/_preview.png\n",
      "Warning: Image not found at ../data/Challenge_Data/Assets/adunit-chevy-panoramic-hotspot-explorer-cpe-mob/_preview.png\n",
      "Reading image from: ../data/Challenge_Data/Assets/c47fa6c0b4462b654c222e2f4be62b3d/_preview.png\n",
      "Reading image from: ../data/Challenge_Data/Assets/adunit-facebook-conversational-commerce-3-0-th-bio1-mob/_preview.png\n",
      "Warning: Image not found at ../data/Challenge_Data/Assets/adunit-facebook-conversational-commerce-3-0-th-bio1-mob/_preview.png\n",
      "Reading image from: ../data/Challenge_Data/Assets/958fb9e4304628629f9848dee96ad338/_preview.png\n"
     ]
    },
    {
     "name": "stderr",
     "output_type": "stream",
     "text": [
      "[ WARN:0@87.210] global loadsave.cpp:241 findDecoder imread_('../data/Challenge_Data/Assets/adunit-femsa-coca-cola-christmas-village-mob/_preview.png'): can't open/read file: check file path/integrity\n",
      "[ WARN:0@87.210] global loadsave.cpp:241 findDecoder imread_('../data/Challenge_Data/Assets/adunit-chevy-tap-mob/_preview.png'): can't open/read file: check file path/integrity\n",
      "[ WARN:0@87.210] global loadsave.cpp:241 findDecoder imread_('../data/Challenge_Data/Assets/adunit-chevy-panoramic-hotspot-explorer-cpe-mob/_preview.png'): can't open/read file: check file path/integrity\n",
      "[ WARN:0@87.322] global loadsave.cpp:241 findDecoder imread_('../data/Challenge_Data/Assets/adunit-facebook-conversational-commerce-3-0-th-bio1-mob/_preview.png'): can't open/read file: check file path/integrity\n"
     ]
    },
    {
     "name": "stdout",
     "output_type": "stream",
     "text": [
      "Reading image from: ../data/Challenge_Data/Assets/df91c37d7078b8b406deaea243bb3746/_preview.png\n",
      "Reading image from: ../data/Challenge_Data/Assets/adunit-city-square-mall-cny-mpu/_preview.png\n",
      "Warning: Image not found at ../data/Challenge_Data/Assets/adunit-city-square-mall-cny-mpu/_preview.png\n",
      "Reading image from: ../data/Challenge_Data/Assets/f398e921861a533315cd9e1085e2059c/_preview.png\n"
     ]
    },
    {
     "name": "stderr",
     "output_type": "stream",
     "text": [
      "[ WARN:0@87.541] global loadsave.cpp:241 findDecoder imread_('../data/Challenge_Data/Assets/adunit-city-square-mall-cny-mpu/_preview.png'): can't open/read file: check file path/integrity\n"
     ]
    },
    {
     "name": "stdout",
     "output_type": "stream",
     "text": [
      "Reading image from: ../data/Challenge_Data/Assets/adunit-ihop-window4-reeses-mob/_preview.png\n",
      "Reading image from: ../data/Challenge_Data/Assets/9d0bbd449e1c907e9f554bb9df1c4a10/_preview.png\n",
      "Reading image from: ../data/Challenge_Data/Assets/52054fa91799a747b8ddf3f3118f40e9/_preview.png\n",
      "Reading image from: ../data/Challenge_Data/Assets/adunit-lionsgate-spiral-new-2-puzzle-v4-mob/_preview.png\n",
      "Warning: Image not found at ../data/Challenge_Data/Assets/adunit-lionsgate-spiral-new-2-puzzle-v4-mob/_preview.png\n",
      "Reading image from: ../data/Challenge_Data/Assets/dbe499749ecc456991332fc5d847ad2e/_preview.png\n"
     ]
    },
    {
     "name": "stderr",
     "output_type": "stream",
     "text": [
      "[ WARN:0@88.001] global loadsave.cpp:241 findDecoder imread_('../data/Challenge_Data/Assets/adunit-lionsgate-spiral-new-2-puzzle-v4-mob/_preview.png'): can't open/read file: check file path/integrity\n"
     ]
    },
    {
     "name": "stdout",
     "output_type": "stream",
     "text": [
      "Reading image from: ../data/Challenge_Data/Assets/e334f7ef4caacc9552993029ad56a52b/_preview.png\n",
      "Reading image from: ../data/Challenge_Data/Assets/ccce5533b26203d07100376c394951a6/_preview.png\n",
      "Reading image from: ../data/Challenge_Data/Assets/8f3f46fa6a0accfd8b4563f2e35aaba5/_preview.png\n",
      "Reading image from: ../data/Challenge_Data/Assets/adunit-yamaha-x4-seonsory-plus-mpu/_preview.png\n",
      "Reading image from: ../data/Challenge_Data/Assets/adunit-yamaha-wolverine-user-choice-av-reuse-mpu/_preview.png\n",
      "Warning: Image not found at ../data/Challenge_Data/Assets/adunit-yamaha-wolverine-user-choice-av-reuse-mpu/_preview.png\n",
      "Reading image from: ../data/Challenge_Data/Assets/d9211cc52590fe62718030dbc1a9389a/_preview.png\n",
      "Reading image from: ../data/Challenge_Data/Assets/a1a3485dee81692a3ea64143aa51e90f/_preview.png\n"
     ]
    },
    {
     "name": "stderr",
     "output_type": "stream",
     "text": [
      "[ WARN:0@88.623] global loadsave.cpp:241 findDecoder imread_('../data/Challenge_Data/Assets/adunit-yamaha-wolverine-user-choice-av-reuse-mpu/_preview.png'): can't open/read file: check file path/integrity\n"
     ]
    },
    {
     "name": "stdout",
     "output_type": "stream",
     "text": [
      "Reading image from: ../data/Challenge_Data/Assets/adunit-lionsgate-uwomt-user-slider-sensory-video-mpu/_preview.png\n",
      "Warning: Image not found at ../data/Challenge_Data/Assets/adunit-lionsgate-uwomt-user-slider-sensory-video-mpu/_preview.png\n",
      "Reading image from: ../data/Challenge_Data/Assets/3ec1bd3422d0512c1fa1c06b7277df65/_preview.png\n",
      "Reading image from: ../data/Challenge_Data/Assets/adunit-mouser-user-choice-v2-cpe-uk-mpu/_preview.png\n",
      "Warning: Image not found at ../data/Challenge_Data/Assets/adunit-mouser-user-choice-v2-cpe-uk-mpu/_preview.png\n",
      "Reading image from: ../data/Challenge_Data/Assets/942616462420cb3890d00c65fc644e73/_preview.png\n"
     ]
    },
    {
     "name": "stderr",
     "output_type": "stream",
     "text": [
      "[ WARN:0@88.884] global loadsave.cpp:241 findDecoder imread_('../data/Challenge_Data/Assets/adunit-lionsgate-uwomt-user-slider-sensory-video-mpu/_preview.png'): can't open/read file: check file path/integrity\n",
      "[ WARN:0@88.997] global loadsave.cpp:241 findDecoder imread_('../data/Challenge_Data/Assets/adunit-mouser-user-choice-v2-cpe-uk-mpu/_preview.png'): can't open/read file: check file path/integrity\n"
     ]
    },
    {
     "name": "stdout",
     "output_type": "stream",
     "text": [
      "Reading image from: ../data/Challenge_Data/Assets/f0a8b52312fce8d57f34bc6441dea750/_preview.png\n",
      "Reading image from: ../data/Challenge_Data/Assets/adunit-hitmans-wifes-body-guard-user-choice-unit2-mpu/_preview.png\n",
      "Warning: Image not found at ../data/Challenge_Data/Assets/adunit-hitmans-wifes-body-guard-user-choice-unit2-mpu/_preview.png\n",
      "Reading image from: ../data/Challenge_Data/Assets/adunit-lionsgate-spiral-new-puzzle-v3-mob/_preview.png\n",
      "Warning: Image not found at ../data/Challenge_Data/Assets/adunit-lionsgate-spiral-new-puzzle-v3-mob/_preview.png\n",
      "Reading image from: ../data/Challenge_Data/Assets/59e7b509d984f3a5b13fb8a33e0f6c2d/_preview.png\n"
     ]
    },
    {
     "name": "stderr",
     "output_type": "stream",
     "text": [
      "[ WARN:0@89.238] global loadsave.cpp:241 findDecoder imread_('../data/Challenge_Data/Assets/adunit-hitmans-wifes-body-guard-user-choice-unit2-mpu/_preview.png'): can't open/read file: check file path/integrity\n",
      "[ WARN:0@89.239] global loadsave.cpp:241 findDecoder imread_('../data/Challenge_Data/Assets/adunit-lionsgate-spiral-new-puzzle-v3-mob/_preview.png'): can't open/read file: check file path/integrity\n"
     ]
    },
    {
     "name": "stdout",
     "output_type": "stream",
     "text": [
      "Reading image from: ../data/Challenge_Data/Assets/c5d9fdf57215e5dbec5cc42419090749/_preview.png\n",
      "Reading image from: ../data/Challenge_Data/Assets/94bc1e8d137186644fa3baa53185a331/_preview.png\n",
      "Reading image from: ../data/Challenge_Data/Assets/eb641577b39bf60665e3130ac0d4e301/_preview.png\n",
      "Reading image from: ../data/Challenge_Data/Assets/3c5828449ad87b05b5dedf0b4787242a/_preview.png\n",
      "Reading image from: ../data/Challenge_Data/Assets/adunit-western-union-ralphs-sensory-eng-auto-eng-mpu/_preview.png\n",
      "Warning: Image not found at ../data/Challenge_Data/Assets/adunit-western-union-ralphs-sensory-eng-auto-eng-mpu/_preview.png\n",
      "Reading image from: ../data/Challenge_Data/Assets/9a09184e03a21be85b165f66d6d1c121/_preview.png\n",
      "Reading image from: ../data/Challenge_Data/Assets/adunit-mouser-user-choice-v3-cpe-us-mpu/_preview.png\n",
      "Warning: Image not found at ../data/Challenge_Data/Assets/adunit-mouser-user-choice-v3-cpe-us-mpu/_preview.png\n",
      "Reading image from: ../data/Challenge_Data/Assets/24f58a2b0bfefefd5ccc43bf1f664685/_preview.png\n"
     ]
    },
    {
     "name": "stderr",
     "output_type": "stream",
     "text": [
      "[ WARN:0@89.838] global loadsave.cpp:241 findDecoder imread_('../data/Challenge_Data/Assets/adunit-western-union-ralphs-sensory-eng-auto-eng-mpu/_preview.png'): can't open/read file: check file path/integrity\n",
      "[ WARN:0@89.949] global loadsave.cpp:241 findDecoder imread_('../data/Challenge_Data/Assets/adunit-mouser-user-choice-v3-cpe-us-mpu/_preview.png'): can't open/read file: check file path/integrity\n"
     ]
    },
    {
     "name": "stdout",
     "output_type": "stream",
     "text": [
      "Reading image from: ../data/Challenge_Data/Assets/75e9bf718c93754ae33314a92db613dd/_preview.png\n",
      "Reading image from: ../data/Challenge_Data/Assets/adunit-showtime-dexter-sensory-plus-video-canvas-v4-mob/_preview.png\n",
      "Warning: Image not found at ../data/Challenge_Data/Assets/adunit-showtime-dexter-sensory-plus-video-canvas-v4-mob/_preview.png\n",
      "Reading image from: ../data/Challenge_Data/Assets/3bf22f2c7f71986b690dc922cb0bee1f/_preview.png\n"
     ]
    },
    {
     "name": "stderr",
     "output_type": "stream",
     "text": [
      "[ WARN:0@90.191] global loadsave.cpp:241 findDecoder imread_('../data/Challenge_Data/Assets/adunit-showtime-dexter-sensory-plus-video-canvas-v4-mob/_preview.png'): can't open/read file: check file path/integrity\n",
      "[ WARN:0@90.307] global loadsave.cpp:241 findDecoder imread_('../data/Challenge_Data/Assets/adunit-mouser-user-choice-cpe-av-us-mob/_preview.png'): can't open/read file: check file path/integrity\n",
      "[ WARN:0@90.308] global loadsave.cpp:241 findDecoder imread_('../data/Challenge_Data/Assets/adunit-zee-punjabi-antakshari-in-mob/_preview.png'): can't open/read file: check file path/integrity\n"
     ]
    },
    {
     "name": "stdout",
     "output_type": "stream",
     "text": [
      "Reading image from: ../data/Challenge_Data/Assets/adunit-mouser-user-choice-cpe-av-us-mob/_preview.png\n",
      "Warning: Image not found at ../data/Challenge_Data/Assets/adunit-mouser-user-choice-cpe-av-us-mob/_preview.png\n",
      "Reading image from: ../data/Challenge_Data/Assets/adunit-zee-punjabi-antakshari-in-mob/_preview.png\n",
      "Warning: Image not found at ../data/Challenge_Data/Assets/adunit-zee-punjabi-antakshari-in-mob/_preview.png\n",
      "Reading image from: ../data/Challenge_Data/Assets/77cb39bbc869bdf0db280ec15a15280f/_preview.png\n",
      "Reading image from: ../data/Challenge_Data/Assets/c48014dd1774f0fc8dddf6c6cdcb337f/_preview.png\n",
      "Reading image from: ../data/Challenge_Data/Assets/cd5de313101387fd9191cb03ef431ec9/_preview.png\n",
      "Reading image from: ../data/Challenge_Data/Assets/adunit-lexus-geo-video-google-maps-cta-mpu/_preview.png\n",
      "Warning: Image not found at ../data/Challenge_Data/Assets/adunit-lexus-geo-video-google-maps-cta-mpu/_preview.png\n",
      "Reading image from: ../data/Challenge_Data/Assets/adunit-mouser-user-choice-cpe-aus-nz-mpu/_preview.png\n",
      "Warning: Image not found at ../data/Challenge_Data/Assets/adunit-mouser-user-choice-cpe-aus-nz-mpu/_preview.png\n",
      "Reading image from: ../data/Challenge_Data/Assets/28b455751eabbf79d899fc9a4c6f151e/_preview.png\n"
     ]
    },
    {
     "name": "stderr",
     "output_type": "stream",
     "text": [
      "[ WARN:0@90.663] global loadsave.cpp:241 findDecoder imread_('../data/Challenge_Data/Assets/adunit-lexus-geo-video-google-maps-cta-mpu/_preview.png'): can't open/read file: check file path/integrity\n",
      "[ WARN:0@90.663] global loadsave.cpp:241 findDecoder imread_('../data/Challenge_Data/Assets/adunit-mouser-user-choice-cpe-aus-nz-mpu/_preview.png'): can't open/read file: check file path/integrity\n",
      "[ WARN:0@90.794] global loadsave.cpp:241 findDecoder imread_('../data/Challenge_Data/Assets/adunit-playstation-spring-sale-mpu/_preview.png'): can't open/read file: check file path/integrity\n",
      "[ WARN:0@90.794] global loadsave.cpp:241 findDecoder imread_('../data/Challenge_Data/Assets/adunit-western-union-ralphs-sensory-engagement-v1-mob/_preview.png'): can't open/read file: check file path/integrity\n"
     ]
    },
    {
     "name": "stdout",
     "output_type": "stream",
     "text": [
      "Reading image from: ../data/Challenge_Data/Assets/adunit-playstation-spring-sale-mpu/_preview.png\n",
      "Warning: Image not found at ../data/Challenge_Data/Assets/adunit-playstation-spring-sale-mpu/_preview.png\n",
      "Reading image from: ../data/Challenge_Data/Assets/adunit-western-union-ralphs-sensory-engagement-v1-mob/_preview.png\n",
      "Warning: Image not found at ../data/Challenge_Data/Assets/adunit-western-union-ralphs-sensory-engagement-v1-mob/_preview.png\n",
      "Reading image from: ../data/Challenge_Data/Assets/f520edea9b83c22a1c82412fcaf9f0a3/_preview.png\n",
      "Reading image from: ../data/Challenge_Data/Assets/adunit-mouser-user-choice-v3-uk-cpe-mpu/_preview.png\n",
      "Warning: Image not found at ../data/Challenge_Data/Assets/adunit-mouser-user-choice-v3-uk-cpe-mpu/_preview.png\n",
      "Reading image from: ../data/Challenge_Data/Assets/b58ae8eb1017e252ce37c29226411489/_preview.png\n"
     ]
    },
    {
     "name": "stderr",
     "output_type": "stream",
     "text": [
      "[ WARN:0@90.910] global loadsave.cpp:241 findDecoder imread_('../data/Challenge_Data/Assets/adunit-mouser-user-choice-v3-uk-cpe-mpu/_preview.png'): can't open/read file: check file path/integrity\n"
     ]
    },
    {
     "name": "stdout",
     "output_type": "stream",
     "text": [
      "Reading image from: ../data/Challenge_Data/Assets/fe1cc47f2e46f29607046541f8418275/_preview.png\n",
      "Reading image from: ../data/Challenge_Data/Assets/090f9075627a9543f171041a644d8af9/_preview.png\n",
      "Reading image from: ../data/Challenge_Data/Assets/adunit-milk-user-slide-v1-mpu/_preview.png\n",
      "Warning: Image not found at ../data/Challenge_Data/Assets/adunit-milk-user-slide-v1-mpu/_preview.png\n",
      "Reading image from: ../data/Challenge_Data/Assets/adunit-mouser-user-choice-flight4-canada-cpe-mpu/_preview.png\n",
      "Warning: Image not found at ../data/Challenge_Data/Assets/adunit-mouser-user-choice-flight4-canada-cpe-mpu/_preview.png\n",
      "Reading image from: ../data/Challenge_Data/Assets/28c3515061ccebd5a08a954a584623e1/_preview.png\n",
      "Reading image from: ../data/Challenge_Data/Assets/adunit-lionsgate-moonfall-parallax-cta2-phase-spanish-mob/_preview.png\n",
      "Warning: Image not found at ../data/Challenge_Data/Assets/adunit-lionsgate-moonfall-parallax-cta2-phase-spanish-mob/_preview.png\n",
      "Reading image from: ../data/Challenge_Data/Assets/049b5c09f2fc9c009cc3e7bc6e95be90/_preview.png\n"
     ]
    },
    {
     "name": "stderr",
     "output_type": "stream",
     "text": [
      "[ WARN:0@91.302] global loadsave.cpp:241 findDecoder imread_('../data/Challenge_Data/Assets/adunit-milk-user-slide-v1-mpu/_preview.png'): can't open/read file: check file path/integrity\n",
      "[ WARN:0@91.302] global loadsave.cpp:241 findDecoder imread_('../data/Challenge_Data/Assets/adunit-mouser-user-choice-flight4-canada-cpe-mpu/_preview.png'): can't open/read file: check file path/integrity\n",
      "[ WARN:0@91.431] global loadsave.cpp:241 findDecoder imread_('../data/Challenge_Data/Assets/adunit-lionsgate-moonfall-parallax-cta2-phase-spanish-mob/_preview.png'): can't open/read file: check file path/integrity\n"
     ]
    },
    {
     "name": "stdout",
     "output_type": "stream",
     "text": [
      "Reading image from: ../data/Challenge_Data/Assets/adunit-lionsgate-moonfall-bio-mob/_preview.png\n",
      "Warning: Image not found at ../data/Challenge_Data/Assets/adunit-lionsgate-moonfall-bio-mob/_preview.png\n",
      "Reading image from: ../data/Challenge_Data/Assets/adunit-playstation-spring-sale-mob/_preview.png\n",
      "Warning: Image not found at ../data/Challenge_Data/Assets/adunit-playstation-spring-sale-mob/_preview.png\n",
      "Reading image from: ../data/Challenge_Data/Assets/bd312b97d9d646bcd3263809be428f5e/_preview.png\n",
      "Reading image from: ../data/Challenge_Data/Assets/68c78af778382e3e80ba98d676dd8527/_preview.png\n"
     ]
    },
    {
     "name": "stderr",
     "output_type": "stream",
     "text": [
      "[ WARN:0@91.559] global loadsave.cpp:241 findDecoder imread_('../data/Challenge_Data/Assets/adunit-lionsgate-moonfall-bio-mob/_preview.png'): can't open/read file: check file path/integrity\n",
      "[ WARN:0@91.559] global loadsave.cpp:241 findDecoder imread_('../data/Challenge_Data/Assets/adunit-playstation-spring-sale-mob/_preview.png'): can't open/read file: check file path/integrity\n"
     ]
    },
    {
     "name": "stdout",
     "output_type": "stream",
     "text": [
      "Reading image from: ../data/Challenge_Data/Assets/adunit-western-union-ralphs-sensory-eng-mpu/_preview.png\n",
      "Warning: Image not found at ../data/Challenge_Data/Assets/adunit-western-union-ralphs-sensory-eng-mpu/_preview.png\n",
      "Reading image from: ../data/Challenge_Data/Assets/71d0113ae02ccba7e3fd67f71baf2f2a/_preview.png\n",
      "Reading image from: ../data/Challenge_Data/Assets/2287637d5dbfb7cc45fb816157a412fa/_preview.png\n"
     ]
    },
    {
     "name": "stderr",
     "output_type": "stream",
     "text": [
      "[ WARN:0@91.805] global loadsave.cpp:241 findDecoder imread_('../data/Challenge_Data/Assets/adunit-western-union-ralphs-sensory-eng-mpu/_preview.png'): can't open/read file: check file path/integrity\n"
     ]
    },
    {
     "name": "stdout",
     "output_type": "stream",
     "text": [
      "Reading image from: ../data/Challenge_Data/Assets/adunit-j12-singapore-v1-mpu/_preview.png\n",
      "Warning: Image not found at ../data/Challenge_Data/Assets/adunit-j12-singapore-v1-mpu/_preview.png\n",
      "Reading image from: ../data/Challenge_Data/Assets/b378c281edcaebfbe47a3104fdc2e036/_preview.png\n",
      "Reading image from: ../data/Challenge_Data/Assets/09b983781c78607d3e9348f231765ea1/_preview.png\n"
     ]
    },
    {
     "name": "stderr",
     "output_type": "stream",
     "text": [
      "[ WARN:0@92.035] global loadsave.cpp:241 findDecoder imread_('../data/Challenge_Data/Assets/adunit-j12-singapore-v1-mpu/_preview.png'): can't open/read file: check file path/integrity\n"
     ]
    },
    {
     "name": "stdout",
     "output_type": "stream",
     "text": [
      "Reading image from: ../data/Challenge_Data/Assets/adunit-chevy-tap-and-hold-mpu/_preview.png\n",
      "Warning: Image not found at ../data/Challenge_Data/Assets/adunit-chevy-tap-and-hold-mpu/_preview.png\n",
      "Reading image from: ../data/Challenge_Data/Assets/adunit-yamaha-rmax2-1000-sports-sensory-plus-video-mpu/_preview.png\n",
      "Warning: Image not found at ../data/Challenge_Data/Assets/adunit-yamaha-rmax2-1000-sports-sensory-plus-video-mpu/_preview.png\n",
      "Reading image from: ../data/Challenge_Data/Assets/adunit-lionsgate-moonfall-parallax-dec-mob/_preview.png\n",
      "Warning: Image not found at ../data/Challenge_Data/Assets/adunit-lionsgate-moonfall-parallax-dec-mob/_preview.png\n",
      "Reading image from: ../data/Challenge_Data/Assets/adunit-j12-singapore-mpu/_preview.png\n",
      "Warning: Image not found at ../data/Challenge_Data/Assets/adunit-j12-singapore-mpu/_preview.png\n",
      "Reading image from: ../data/Challenge_Data/Assets/f08d8e575fa2c9929dfaf2d1bfa553a2/_preview.png\n",
      "Reading image from: ../data/Challenge_Data/Assets/adunit-lionsgate-uwomt-sensory-plus-tune-2-mob/_preview.png\n",
      "Warning: Image not found at ../data/Challenge_Data/Assets/adunit-lionsgate-uwomt-sensory-plus-tune-2-mob/_preview.png\n",
      "Reading image from: ../data/Challenge_Data/Assets/8a1a2fa030200a7087619144f042c2da/_preview.png\n"
     ]
    },
    {
     "name": "stderr",
     "output_type": "stream",
     "text": [
      "[ WARN:0@92.259] global loadsave.cpp:241 findDecoder imread_('../data/Challenge_Data/Assets/adunit-chevy-tap-and-hold-mpu/_preview.png'): can't open/read file: check file path/integrity\n",
      "[ WARN:0@92.259] global loadsave.cpp:241 findDecoder imread_('../data/Challenge_Data/Assets/adunit-yamaha-rmax2-1000-sports-sensory-plus-video-mpu/_preview.png'): can't open/read file: check file path/integrity\n",
      "[ WARN:0@92.259] global loadsave.cpp:241 findDecoder imread_('../data/Challenge_Data/Assets/adunit-lionsgate-moonfall-parallax-dec-mob/_preview.png'): can't open/read file: check file path/integrity\n",
      "[ WARN:0@92.259] global loadsave.cpp:241 findDecoder imread_('../data/Challenge_Data/Assets/adunit-j12-singapore-mpu/_preview.png'): can't open/read file: check file path/integrity\n",
      "[ WARN:0@92.371] global loadsave.cpp:241 findDecoder imread_('../data/Challenge_Data/Assets/adunit-lionsgate-uwomt-sensory-plus-tune-2-mob/_preview.png'): can't open/read file: check file path/integrity\n"
     ]
    },
    {
     "name": "stdout",
     "output_type": "stream",
     "text": [
      "Reading image from: ../data/Challenge_Data/Assets/adunit-western-union-ralphs-sensory-engagement-maps-mob/_preview.png\n",
      "Warning: Image not found at ../data/Challenge_Data/Assets/adunit-western-union-ralphs-sensory-engagement-maps-mob/_preview.png\n",
      "Reading image from: ../data/Challenge_Data/Assets/f2aa99ddd5015647abc940e7d6695df2/_preview.png\n",
      "Reading image from: ../data/Challenge_Data/Assets/69a95b2cae65b8457594ab519006920c/_preview.png\n"
     ]
    },
    {
     "name": "stderr",
     "output_type": "stream",
     "text": [
      "[ WARN:0@92.500] global loadsave.cpp:241 findDecoder imread_('../data/Challenge_Data/Assets/adunit-western-union-ralphs-sensory-engagement-maps-mob/_preview.png'): can't open/read file: check file path/integrity\n"
     ]
    },
    {
     "name": "stdout",
     "output_type": "stream",
     "text": [
      "Reading image from: ../data/Challenge_Data/Assets/c004ede9dbeaf07289dff53dfaa0cd9e/_preview.png\n",
      "Reading image from: ../data/Challenge_Data/Assets/adunit-yamaha-x2-seonsory-plus-mob/_preview.png\n",
      "Reading image from: ../data/Challenge_Data/Assets/2681e9a5eb126e75959f33a477964544/_preview.png\n",
      "Reading image from: ../data/Challenge_Data/Assets/9415d4728381f961a8d6bd7c57142ab7/_preview.png\n",
      "Reading image from: ../data/Challenge_Data/Assets/79a672060e901ce418230c3959619cca/_preview.png\n",
      "Reading image from: ../data/Challenge_Data/Assets/adunit-windows3-2021-mpu/_preview.png\n",
      "Reading image from: ../data/Challenge_Data/Assets/d48b2247fce73617dab5633187c02360/_preview.png\n",
      "Reading image from: ../data/Challenge_Data/Assets/adunit-nestle-maggi-varieties-bouillon-ar-kwt-mob/_preview.png\n",
      "Warning: Image not found at ../data/Challenge_Data/Assets/adunit-nestle-maggi-varieties-bouillon-ar-kwt-mob/_preview.png\n",
      "Reading image from: ../data/Challenge_Data/Assets/5793a8d614757c76e8fcb904f943e586/_preview.png\n"
     ]
    },
    {
     "name": "stderr",
     "output_type": "stream",
     "text": [
      "[ WARN:0@93.585] global loadsave.cpp:241 findDecoder imread_('../data/Challenge_Data/Assets/adunit-nestle-maggi-varieties-bouillon-ar-kwt-mob/_preview.png'): can't open/read file: check file path/integrity\n",
      "[ WARN:0@93.701] global loadsave.cpp:241 findDecoder imread_('../data/Challenge_Data/Assets/adunit-facebook-conversational-commerce-3-0-th-unit2-v2-mob/_preview.png'): can't open/read file: check file path/integrity\n",
      "[ WARN:0@93.701] global loadsave.cpp:241 findDecoder imread_('../data/Challenge_Data/Assets/adunit-van-cleef-and-arpels-frivole-wave-unit2-mob/_preview.png'): can't open/read file: check file path/integrity\n",
      "[ WARN:0@93.701] global loadsave.cpp:241 findDecoder imread_('../data/Challenge_Data/Assets/adunit-lionsgate-moonfall-parallax-dec-v3-mpu/_preview.png'): can't open/read file: check file path/integrity\n"
     ]
    },
    {
     "name": "stdout",
     "output_type": "stream",
     "text": [
      "Reading image from: ../data/Challenge_Data/Assets/adunit-facebook-conversational-commerce-3-0-th-unit2-v2-mob/_preview.png\n",
      "Warning: Image not found at ../data/Challenge_Data/Assets/adunit-facebook-conversational-commerce-3-0-th-unit2-v2-mob/_preview.png\n",
      "Reading image from: ../data/Challenge_Data/Assets/adunit-van-cleef-and-arpels-frivole-wave-unit2-mob/_preview.png\n",
      "Warning: Image not found at ../data/Challenge_Data/Assets/adunit-van-cleef-and-arpels-frivole-wave-unit2-mob/_preview.png\n",
      "Reading image from: ../data/Challenge_Data/Assets/adunit-lionsgate-moonfall-parallax-dec-v3-mpu/_preview.png\n",
      "Warning: Image not found at ../data/Challenge_Data/Assets/adunit-lionsgate-moonfall-parallax-dec-v3-mpu/_preview.png\n",
      "Reading image from: ../data/Challenge_Data/Assets/02335ed7fbc9fd8ec1505d30a7d385ba/_preview.png\n",
      "Reading image from: ../data/Challenge_Data/Assets/22d151fdc4f270e75bcf3729df08180f/_preview.png\n",
      "Reading image from: ../data/Challenge_Data/Assets/8578176a5460d41edddd1440ab46e564/_preview.png\n",
      "Reading image from: ../data/Challenge_Data/Assets/2524439faeafa1c2ca1a27cac00a97b1/_preview.png\n",
      "Reading image from: ../data/Challenge_Data/Assets/286ce285a3a28445c972ba9d09090937/_preview.png\n",
      "Reading image from: ../data/Challenge_Data/Assets/c47a1785032e3bc12dc53dc97034dd33/_preview.png\n",
      "Reading image from: ../data/Challenge_Data/Assets/26891312da99dd6e651fd179d1ff0faf/_preview.png\n",
      "Reading image from: ../data/Challenge_Data/Assets/6a8e741867d4f893afad015b77b52c39/_preview.png\n",
      "Reading image from: ../data/Challenge_Data/Assets/0a22f881b77f00220f2034c21a18b854/_preview.png\n",
      "Reading image from: ../data/Challenge_Data/Assets/b68baf66405783b70a2141860cb15adc/_preview.png\n",
      "Reading image from: ../data/Challenge_Data/Assets/adunit-ggpoker-game-user-choice-mob/_preview.png\n",
      "Warning: Image not found at ../data/Challenge_Data/Assets/adunit-ggpoker-game-user-choice-mob/_preview.png\n",
      "Reading image from: ../data/Challenge_Data/Assets/d7c5bf54f39eb745b553d06813cffb23/_preview.png\n",
      "Reading image from: ../data/Challenge_Data/Assets/86f213ed98d05c93c09fe2d0ded4dfe6/_preview.png\n"
     ]
    },
    {
     "name": "stderr",
     "output_type": "stream",
     "text": [
      "[ WARN:0@94.876] global loadsave.cpp:241 findDecoder imread_('../data/Challenge_Data/Assets/adunit-ggpoker-game-user-choice-mob/_preview.png'): can't open/read file: check file path/integrity\n"
     ]
    },
    {
     "name": "stdout",
     "output_type": "stream",
     "text": [
      "Reading image from: ../data/Challenge_Data/Assets/adunit-cartier-panthere-2021-fy22-mpu/_preview.png\n",
      "Warning: Image not found at ../data/Challenge_Data/Assets/adunit-cartier-panthere-2021-fy22-mpu/_preview.png\n",
      "Reading image from: ../data/Challenge_Data/Assets/de74397f972d47d2c078b44807974532/_preview.png\n",
      "Reading image from: ../data/Challenge_Data/Assets/adunit-heineken-pure-malt-mpu/_preview.png\n",
      "Warning: Image not found at ../data/Challenge_Data/Assets/adunit-heineken-pure-malt-mpu/_preview.png\n",
      "Reading image from: ../data/Challenge_Data/Assets/adunit-mouser-user-choice-cpe-av-us-mpu/_preview.png\n",
      "Warning: Image not found at ../data/Challenge_Data/Assets/adunit-mouser-user-choice-cpe-av-us-mpu/_preview.png\n",
      "Reading image from: ../data/Challenge_Data/Assets/adunit-lionsgate-uwomt-user-slider-sensory-video-v1-mob/_preview.png\n",
      "Warning: Image not found at ../data/Challenge_Data/Assets/adunit-lionsgate-uwomt-user-slider-sensory-video-v1-mob/_preview.png\n",
      "Reading image from: ../data/Challenge_Data/Assets/2adefe98452f112060fe28e98f7a2c46/_preview.png\n"
     ]
    },
    {
     "name": "stderr",
     "output_type": "stream",
     "text": [
      "[ WARN:0@95.094] global loadsave.cpp:241 findDecoder imread_('../data/Challenge_Data/Assets/adunit-cartier-panthere-2021-fy22-mpu/_preview.png'): can't open/read file: check file path/integrity\n",
      "[ WARN:0@95.215] global loadsave.cpp:241 findDecoder imread_('../data/Challenge_Data/Assets/adunit-heineken-pure-malt-mpu/_preview.png'): can't open/read file: check file path/integrity\n",
      "[ WARN:0@95.215] global loadsave.cpp:241 findDecoder imread_('../data/Challenge_Data/Assets/adunit-mouser-user-choice-cpe-av-us-mpu/_preview.png'): can't open/read file: check file path/integrity\n",
      "[ WARN:0@95.215] global loadsave.cpp:241 findDecoder imread_('../data/Challenge_Data/Assets/adunit-lionsgate-uwomt-user-slider-sensory-video-v1-mob/_preview.png'): can't open/read file: check file path/integrity\n"
     ]
    },
    {
     "name": "stdout",
     "output_type": "stream",
     "text": [
      "Reading image from: ../data/Challenge_Data/Assets/adunit-volks-wagen-2021-new-polo-v2-v3-mpu/_preview.png\n",
      "Warning: Image not found at ../data/Challenge_Data/Assets/adunit-volks-wagen-2021-new-polo-v2-v3-mpu/_preview.png\n",
      "Reading image from: ../data/Challenge_Data/Assets/adunit-gme-sensory-video-add-unmute-button-v2-mpu/_preview.png\n",
      "Warning: Image not found at ../data/Challenge_Data/Assets/adunit-gme-sensory-video-add-unmute-button-v2-mpu/_preview.png\n",
      "Reading image from: ../data/Challenge_Data/Assets/adunit-playstation-spring-sale-snsory-plus-mob/_preview.png\n",
      "Warning: Image not found at ../data/Challenge_Data/Assets/adunit-playstation-spring-sale-snsory-plus-mob/_preview.png\n",
      "Reading image from: ../data/Challenge_Data/Assets/adunit-milk-user-slide-v2-mpu/_preview.png\n",
      "Warning: Image not found at ../data/Challenge_Data/Assets/adunit-milk-user-slide-v2-mpu/_preview.png\n",
      "Reading image from: ../data/Challenge_Data/Assets/adunit-western-union-ralphs-auto-engage-v2-mpu/_preview.png\n",
      "Warning: Image not found at ../data/Challenge_Data/Assets/adunit-western-union-ralphs-auto-engage-v2-mpu/_preview.png\n",
      "Reading image from: ../data/Challenge_Data/Assets/adunit-j-j-e-commerce-mpu/_preview.png\n",
      "Warning: Image not found at ../data/Challenge_Data/Assets/adunit-j-j-e-commerce-mpu/_preview.png\n",
      "Reading image from: ../data/Challenge_Data/Assets/032ecd4e7d6db78058878d0ac61a82dc/_preview.png\n",
      "Reading image from: ../data/Challenge_Data/Assets/d6c5dcb42c617e8d164dafb4d302ac0a/_preview.png\n"
     ]
    },
    {
     "name": "stderr",
     "output_type": "stream",
     "text": [
      "[ WARN:0@95.339] global loadsave.cpp:241 findDecoder imread_('../data/Challenge_Data/Assets/adunit-volks-wagen-2021-new-polo-v2-v3-mpu/_preview.png'): can't open/read file: check file path/integrity\n",
      "[ WARN:0@95.339] global loadsave.cpp:241 findDecoder imread_('../data/Challenge_Data/Assets/adunit-gme-sensory-video-add-unmute-button-v2-mpu/_preview.png'): can't open/read file: check file path/integrity\n",
      "[ WARN:0@95.339] global loadsave.cpp:241 findDecoder imread_('../data/Challenge_Data/Assets/adunit-playstation-spring-sale-snsory-plus-mob/_preview.png'): can't open/read file: check file path/integrity\n",
      "[ WARN:0@95.339] global loadsave.cpp:241 findDecoder imread_('../data/Challenge_Data/Assets/adunit-milk-user-slide-v2-mpu/_preview.png'): can't open/read file: check file path/integrity\n",
      "[ WARN:0@95.339] global loadsave.cpp:241 findDecoder imread_('../data/Challenge_Data/Assets/adunit-western-union-ralphs-auto-engage-v2-mpu/_preview.png'): can't open/read file: check file path/integrity\n",
      "[ WARN:0@95.339] global loadsave.cpp:241 findDecoder imread_('../data/Challenge_Data/Assets/adunit-j-j-e-commerce-mpu/_preview.png'): can't open/read file: check file path/integrity\n"
     ]
    },
    {
     "name": "stdout",
     "output_type": "stream",
     "text": [
      "Reading image from: ../data/Challenge_Data/Assets/bab02408832fd896644462340d7bf479/_preview.png\n",
      "Reading image from: ../data/Challenge_Data/Assets/299eff884b51e6894dbd307f0a2a6554/_preview.png\n",
      "Reading image from: ../data/Challenge_Data/Assets/adunit-lionsgate-moonfall-parallax-cta2-phase-spanish-mpu/_preview.png\n",
      "Warning: Image not found at ../data/Challenge_Data/Assets/adunit-lionsgate-moonfall-parallax-cta2-phase-spanish-mpu/_preview.png\n",
      "Reading image from: ../data/Challenge_Data/Assets/adunit-yamaha-rmax4-1000-le-sensory-plus-video-mpu/_preview.png\n",
      "Warning: Image not found at ../data/Challenge_Data/Assets/adunit-yamaha-rmax4-1000-le-sensory-plus-video-mpu/_preview.png\n",
      "Reading image from: ../data/Challenge_Data/Assets/0716aeb4425d2865ea9b1996ef4f90fe/_preview.png\n",
      "Reading image from: ../data/Challenge_Data/Assets/d53d09dbd8f7aad4bfab4acb84aa323a/_preview.png\n"
     ]
    },
    {
     "name": "stderr",
     "output_type": "stream",
     "text": [
      "[ WARN:0@95.809] global loadsave.cpp:241 findDecoder imread_('../data/Challenge_Data/Assets/adunit-lionsgate-moonfall-parallax-cta2-phase-spanish-mpu/_preview.png'): can't open/read file: check file path/integrity\n",
      "[ WARN:0@95.809] global loadsave.cpp:241 findDecoder imread_('../data/Challenge_Data/Assets/adunit-yamaha-rmax4-1000-le-sensory-plus-video-mpu/_preview.png'): can't open/read file: check file path/integrity\n"
     ]
    },
    {
     "name": "stdout",
     "output_type": "stream",
     "text": [
      "Reading image from: ../data/Challenge_Data/Assets/4baa12ddba0c06b618225f8191a6d722/_preview.png\n",
      "Reading image from: ../data/Challenge_Data/Assets/adunit-western-union-sensory-unit-swipe-up-tap-mob/_preview.png\n",
      "Warning: Image not found at ../data/Challenge_Data/Assets/adunit-western-union-sensory-unit-swipe-up-tap-mob/_preview.png\n",
      "Reading image from: ../data/Challenge_Data/Assets/03231e84227b5038d1ce9c302019da8c/_preview.png\n"
     ]
    },
    {
     "name": "stderr",
     "output_type": "stream",
     "text": [
      "[ WARN:0@96.165] global loadsave.cpp:241 findDecoder imread_('../data/Challenge_Data/Assets/adunit-western-union-sensory-unit-swipe-up-tap-mob/_preview.png'): can't open/read file: check file path/integrity\n",
      "[ WARN:0@96.284] global loadsave.cpp:241 findDecoder imread_('../data/Challenge_Data/Assets/adunit-chevy-600-1200-hotspot-explorer-cpe-mob/_preview.png'): can't open/read file: check file path/integrity\n"
     ]
    },
    {
     "name": "stdout",
     "output_type": "stream",
     "text": [
      "Reading image from: ../data/Challenge_Data/Assets/adunit-chevy-600-1200-hotspot-explorer-cpe-mob/_preview.png\n",
      "Warning: Image not found at ../data/Challenge_Data/Assets/adunit-chevy-600-1200-hotspot-explorer-cpe-mob/_preview.png\n",
      "Reading image from: ../data/Challenge_Data/Assets/4b537aac6575e7528140fc388f1349ca/_preview.png\n",
      "Reading image from: ../data/Challenge_Data/Assets/adunit-mouser-user-choice-v3-aus-nz-cpe-av-mob/_preview.png\n",
      "Warning: Image not found at ../data/Challenge_Data/Assets/adunit-mouser-user-choice-v3-aus-nz-cpe-av-mob/_preview.png\n",
      "Reading image from: ../data/Challenge_Data/Assets/e300993c699d98ef0d6d574b043b65cc/_preview.png\n"
     ]
    },
    {
     "name": "stderr",
     "output_type": "stream",
     "text": [
      "[ WARN:0@96.407] global loadsave.cpp:241 findDecoder imread_('../data/Challenge_Data/Assets/adunit-mouser-user-choice-v3-aus-nz-cpe-av-mob/_preview.png'): can't open/read file: check file path/integrity\n"
     ]
    },
    {
     "name": "stdout",
     "output_type": "stream",
     "text": [
      "Reading image from: ../data/Challenge_Data/Assets/adunit-yamaha-x4-seonsory-plus-mob/_preview.png\n",
      "Reading image from: ../data/Challenge_Data/Assets/adunit-nestle-maggi-varieties-bouillon-ar-ksa-mob/_preview.png\n",
      "Warning: Image not found at ../data/Challenge_Data/Assets/adunit-nestle-maggi-varieties-bouillon-ar-ksa-mob/_preview.png\n",
      "Reading image from: ../data/Challenge_Data/Assets/adunit-hitmans-wifes-body-guard-user-choice-unit3-mpu/_preview.png\n",
      "Warning: Image not found at ../data/Challenge_Data/Assets/adunit-hitmans-wifes-body-guard-user-choice-unit3-mpu/_preview.png\n",
      "Reading image from: ../data/Challenge_Data/Assets/5aa8f1a6f90157b937cac6e73006a2dc/_preview.png\n"
     ]
    },
    {
     "name": "stderr",
     "output_type": "stream",
     "text": [
      "[ WARN:0@96.639] global loadsave.cpp:241 findDecoder imread_('../data/Challenge_Data/Assets/adunit-nestle-maggi-varieties-bouillon-ar-ksa-mob/_preview.png'): can't open/read file: check file path/integrity\n",
      "[ WARN:0@96.639] global loadsave.cpp:241 findDecoder imread_('../data/Challenge_Data/Assets/adunit-hitmans-wifes-body-guard-user-choice-unit3-mpu/_preview.png'): can't open/read file: check file path/integrity\n"
     ]
    },
    {
     "name": "stdout",
     "output_type": "stream",
     "text": [
      "Reading image from: ../data/Challenge_Data/Assets/4ad96fa279384268e72374aaacb78caf/_preview.png\n",
      "Reading image from: ../data/Challenge_Data/Assets/c9ec2d041cd03c489b2ee97c5f7ba400/_preview.png\n",
      "Reading image from: ../data/Challenge_Data/Assets/0978cddd7a740a70fa0ac73fb6603aee/_preview.png\n",
      "Reading image from: ../data/Challenge_Data/Assets/3c383647c107f40ba222bcddd47d3d1b/_preview.png\n",
      "Reading image from: ../data/Challenge_Data/Assets/adunit-mouser-user-choice-v2-cpe-av-canada-mob/_preview.png\n",
      "Warning: Image not found at ../data/Challenge_Data/Assets/adunit-mouser-user-choice-v2-cpe-av-canada-mob/_preview.png\n",
      "Reading image from: ../data/Challenge_Data/Assets/adunit-facebook-conversational-commerce-3-0-th-unit1-mpu/_preview.png\n",
      "Warning: Image not found at ../data/Challenge_Data/Assets/adunit-facebook-conversational-commerce-3-0-th-unit1-mpu/_preview.png\n",
      "Reading image from: ../data/Challenge_Data/Assets/7fdd8606604b4ab61563a88384188011/_preview.png\n",
      "Reading image from: ../data/Challenge_Data/Assets/adunit-scotch-brite-gamification-thai-v2-mob/_preview.png\n",
      "Warning: Image not found at ../data/Challenge_Data/Assets/adunit-scotch-brite-gamification-thai-v2-mob/_preview.png\n",
      "Reading image from: ../data/Challenge_Data/Assets/adunit-vodacom-ciot-curve-mob/_preview.png\n",
      "Warning: Image not found at ../data/Challenge_Data/Assets/adunit-vodacom-ciot-curve-mob/_preview.png\n",
      "Reading image from: ../data/Challenge_Data/Assets/64cfdaacd77f39b88f90210e79800a8b/_preview.png\n"
     ]
    },
    {
     "name": "stderr",
     "output_type": "stream",
     "text": [
      "[ WARN:0@97.210] global loadsave.cpp:241 findDecoder imread_('../data/Challenge_Data/Assets/adunit-mouser-user-choice-v2-cpe-av-canada-mob/_preview.png'): can't open/read file: check file path/integrity\n",
      "[ WARN:0@97.210] global loadsave.cpp:241 findDecoder imread_('../data/Challenge_Data/Assets/adunit-facebook-conversational-commerce-3-0-th-unit1-mpu/_preview.png'): can't open/read file: check file path/integrity\n",
      "[ WARN:0@97.318] global loadsave.cpp:241 findDecoder imread_('../data/Challenge_Data/Assets/adunit-scotch-brite-gamification-thai-v2-mob/_preview.png'): can't open/read file: check file path/integrity\n",
      "[ WARN:0@97.318] global loadsave.cpp:241 findDecoder imread_('../data/Challenge_Data/Assets/adunit-vodacom-ciot-curve-mob/_preview.png'): can't open/read file: check file path/integrity\n"
     ]
    },
    {
     "name": "stdout",
     "output_type": "stream",
     "text": [
      "Reading image from: ../data/Challenge_Data/Assets/0383071848070b93a8a9f0c82c06e5e4/_preview.png\n",
      "Reading image from: ../data/Challenge_Data/Assets/74e0cd47380d7a41f96f5ca4ba214a8f/_preview.png\n",
      "Reading image from: ../data/Challenge_Data/Assets/623735c2b4b2d78c61e08073dbaa352d/_preview.png\n",
      "Reading image from: ../data/Challenge_Data/Assets/adunit-yamaha-user-slider-rotate-v2-mpu/_preview.png\n",
      "Warning: Image not found at ../data/Challenge_Data/Assets/adunit-yamaha-user-slider-rotate-v2-mpu/_preview.png\n",
      "Reading image from: ../data/Challenge_Data/Assets/258bf2e1c0ff55be0762ccab1c5b18db/_preview.png\n"
     ]
    },
    {
     "name": "stderr",
     "output_type": "stream",
     "text": [
      "[ WARN:0@97.778] global loadsave.cpp:241 findDecoder imread_('../data/Challenge_Data/Assets/adunit-yamaha-user-slider-rotate-v2-mpu/_preview.png'): can't open/read file: check file path/integrity\n"
     ]
    },
    {
     "name": "stdout",
     "output_type": "stream",
     "text": [
      "Reading image from: ../data/Challenge_Data/Assets/55775796ac3c2a0fd0fde4cae6048827/_preview.png\n",
      "Reading image from: ../data/Challenge_Data/Assets/255bb50bf3493e1a85c9289c52610e31/_preview.png\n",
      "Reading image from: ../data/Challenge_Data/Assets/f1cc75828bb3b7419b0d210e971a7cdf/_preview.png\n",
      "Reading image from: ../data/Challenge_Data/Assets/b3fd525be390ec4cbebdcbd225362f12/_preview.png\n",
      "Reading image from: ../data/Challenge_Data/Assets/adunit-lionsgate-moonfall-parallax-dec-get-tickets-mob/_preview.png\n",
      "Warning: Image not found at ../data/Challenge_Data/Assets/adunit-lionsgate-moonfall-parallax-dec-get-tickets-mob/_preview.png\n",
      "Reading image from: ../data/Challenge_Data/Assets/c01e7ce76419925187c593ba3ecb9f46/_preview.png\n",
      "Reading image from: ../data/Challenge_Data/Assets/adunit-lionsgate-moonfall-parallax-cta5-mpu/_preview.png\n",
      "Warning: Image not found at ../data/Challenge_Data/Assets/adunit-lionsgate-moonfall-parallax-cta5-mpu/_preview.png\n",
      "Reading image from: ../data/Challenge_Data/Assets/92a1ef3b78f2b21068f8e1da4025e239/_preview.png\n"
     ]
    },
    {
     "name": "stderr",
     "output_type": "stream",
     "text": [
      "[ WARN:0@98.346] global loadsave.cpp:241 findDecoder imread_('../data/Challenge_Data/Assets/adunit-lionsgate-moonfall-parallax-dec-get-tickets-mob/_preview.png'): can't open/read file: check file path/integrity\n",
      "[ WARN:0@98.456] global loadsave.cpp:241 findDecoder imread_('../data/Challenge_Data/Assets/adunit-lionsgate-moonfall-parallax-cta5-mpu/_preview.png'): can't open/read file: check file path/integrity\n"
     ]
    },
    {
     "name": "stdout",
     "output_type": "stream",
     "text": [
      "Reading image from: ../data/Challenge_Data/Assets/6de62384e53319712bf7910e4db4e189/_preview.png\n",
      "Reading image from: ../data/Challenge_Data/Assets/974199c136ccbd972ae2fd4714e453f5/_preview.png\n",
      "Reading image from: ../data/Challenge_Data/Assets/ecc8e6a50a509f8b6a8ac7c3c1a450e7/_preview.png\n",
      "Reading image from: ../data/Challenge_Data/Assets/c3ef76ea758ea5442c9540463c5d37f3/_preview.png\n",
      "Reading image from: ../data/Challenge_Data/Assets/06262da6542114aaea8a611540a0ee5d/_preview.png\n",
      "Reading image from: ../data/Challenge_Data/Assets/adunit-livspace-before-after-in-tap-mpu/_preview.png\n",
      "Warning: Image not found at ../data/Challenge_Data/Assets/adunit-livspace-before-after-in-tap-mpu/_preview.png\n",
      "Reading image from: ../data/Challenge_Data/Assets/8f5834e2093bee23d3b01f8d05265765/_preview.png\n"
     ]
    },
    {
     "name": "stderr",
     "output_type": "stream",
     "text": [
      "[ WARN:0@99.215] global loadsave.cpp:241 findDecoder imread_('../data/Challenge_Data/Assets/adunit-livspace-before-after-in-tap-mpu/_preview.png'): can't open/read file: check file path/integrity\n"
     ]
    },
    {
     "name": "stdout",
     "output_type": "stream",
     "text": [
      "Reading image from: ../data/Challenge_Data/Assets/8a662fbaa5f751bf677c50359f0716c2/_preview.png\n",
      "Reading image from: ../data/Challenge_Data/Assets/adunit-mouser-user-choice-v3-aus-cpe-av-mob/_preview.png\n",
      "Warning: Image not found at ../data/Challenge_Data/Assets/adunit-mouser-user-choice-v3-aus-cpe-av-mob/_preview.png\n",
      "Reading image from: ../data/Challenge_Data/Assets/eabf360c935e08b24f30c61519033f93/_preview.png\n"
     ]
    },
    {
     "name": "stderr",
     "output_type": "stream",
     "text": [
      "[ WARN:0@99.465] global loadsave.cpp:241 findDecoder imread_('../data/Challenge_Data/Assets/adunit-mouser-user-choice-v3-aus-cpe-av-mob/_preview.png'): can't open/read file: check file path/integrity\n"
     ]
    },
    {
     "name": "stdout",
     "output_type": "stream",
     "text": [
      "Reading image from: ../data/Challenge_Data/Assets/5bc607274e363f0c1a9379e05075dcfc/_preview.png\n",
      "Reading image from: ../data/Challenge_Data/Assets/f88e2c7f24b2bcd83044f2ccfdef79c4/_preview.png\n",
      "Reading image from: ../data/Challenge_Data/Assets/adunit-lionsgate-uwomt-user-slider-sensory-video-final-tune3-mob/_preview.png\n",
      "Warning: Image not found at ../data/Challenge_Data/Assets/adunit-lionsgate-uwomt-user-slider-sensory-video-final-tune3-mob/_preview.png\n",
      "Reading image from: ../data/Challenge_Data/Assets/adunit-western-union-kroger-scrub-mob/_preview.png\n",
      "Warning: Image not found at ../data/Challenge_Data/Assets/adunit-western-union-kroger-scrub-mob/_preview.png\n",
      "Reading image from: ../data/Challenge_Data/Assets/adunit-lexus-video-carousel-cpe-av-mob/_preview.png\n",
      "Warning: Image not found at ../data/Challenge_Data/Assets/adunit-lexus-video-carousel-cpe-av-mob/_preview.png\n",
      "Reading image from: ../data/Challenge_Data/Assets/fbdd6f2bc08bfb43725cd6b4c52907ea/_preview.png\n",
      "Reading image from: ../data/Challenge_Data/Assets/adunit-yamaha-wolverine-user-choice-cpe-reuse-mpu/_preview.png\n",
      "Warning: Image not found at ../data/Challenge_Data/Assets/adunit-yamaha-wolverine-user-choice-cpe-reuse-mpu/_preview.png\n",
      "Reading image from: ../data/Challenge_Data/Assets/adunit-runnings-maps-mob/_preview.png\n",
      "Warning: Image not found at ../data/Challenge_Data/Assets/adunit-runnings-maps-mob/_preview.png\n",
      "Reading image from: ../data/Challenge_Data/Assets/adunit-chevy-tap-600-1200-final-mob/_preview.png\n",
      "Warning: Image not found at ../data/Challenge_Data/Assets/adunit-chevy-tap-600-1200-final-mob/_preview.png\n",
      "Reading image from: ../data/Challenge_Data/Assets/b0228441fb421b8c322d67a6746f5f3e/_preview.png\n"
     ]
    },
    {
     "name": "stderr",
     "output_type": "stream",
     "text": [
      "[ WARN:0@99.803] global loadsave.cpp:241 findDecoder imread_('../data/Challenge_Data/Assets/adunit-lionsgate-uwomt-user-slider-sensory-video-final-tune3-mob/_preview.png'): can't open/read file: check file path/integrity\n",
      "[ WARN:0@99.803] global loadsave.cpp:241 findDecoder imread_('../data/Challenge_Data/Assets/adunit-western-union-kroger-scrub-mob/_preview.png'): can't open/read file: check file path/integrity\n",
      "[ WARN:0@99.803] global loadsave.cpp:241 findDecoder imread_('../data/Challenge_Data/Assets/adunit-lexus-video-carousel-cpe-av-mob/_preview.png'): can't open/read file: check file path/integrity\n",
      "[ WARN:0@99.937] global loadsave.cpp:241 findDecoder imread_('../data/Challenge_Data/Assets/adunit-yamaha-wolverine-user-choice-cpe-reuse-mpu/_preview.png'): can't open/read file: check file path/integrity\n",
      "[ WARN:0@99.937] global loadsave.cpp:241 findDecoder imread_('../data/Challenge_Data/Assets/adunit-runnings-maps-mob/_preview.png'): can't open/read file: check file path/integrity\n",
      "[ WARN:0@99.937] global loadsave.cpp:241 findDecoder imread_('../data/Challenge_Data/Assets/adunit-chevy-tap-600-1200-final-mob/_preview.png'): can't open/read file: check file path/integrity\n"
     ]
    },
    {
     "name": "stdout",
     "output_type": "stream",
     "text": [
      "Reading image from: ../data/Challenge_Data/Assets/adunit-mouser-user-choice-cpe-aus-nz-mob/_preview.png\n",
      "Warning: Image not found at ../data/Challenge_Data/Assets/adunit-mouser-user-choice-cpe-aus-nz-mob/_preview.png\n",
      "Reading image from: ../data/Challenge_Data/Assets/adunit-the-botanist-gin-mob/_preview.png\n",
      "Warning: Image not found at ../data/Challenge_Data/Assets/adunit-the-botanist-gin-mob/_preview.png\n",
      "Reading image from: ../data/Challenge_Data/Assets/adunit-yamaha-rmax2-1000-sports-sensory-plus-video-mob/_preview.png\n",
      "Warning: Image not found at ../data/Challenge_Data/Assets/adunit-yamaha-rmax2-1000-sports-sensory-plus-video-mob/_preview.png\n",
      "Reading image from: ../data/Challenge_Data/Assets/adunit-mouser-user-choice-v3-canada-cpe-mob/_preview.png\n",
      "Warning: Image not found at ../data/Challenge_Data/Assets/adunit-mouser-user-choice-v3-canada-cpe-mob/_preview.png\n",
      "Reading image from: ../data/Challenge_Data/Assets/fe116dea417bfe1b97e0b2dcf846c25d/_preview.png\n",
      "Reading image from: ../data/Challenge_Data/Assets/03c532904ec03423c5e30463a62401a5/_preview.png\n"
     ]
    },
    {
     "name": "stderr",
     "output_type": "stream",
     "text": [
      "[ WARN:0@100.068] global loadsave.cpp:241 findDecoder imread_('../data/Challenge_Data/Assets/adunit-mouser-user-choice-cpe-aus-nz-mob/_preview.png'): can't open/read file: check file path/integrity\n",
      "[ WARN:0@100.069] global loadsave.cpp:241 findDecoder imread_('../data/Challenge_Data/Assets/adunit-the-botanist-gin-mob/_preview.png'): can't open/read file: check file path/integrity\n",
      "[ WARN:0@100.069] global loadsave.cpp:241 findDecoder imread_('../data/Challenge_Data/Assets/adunit-yamaha-rmax2-1000-sports-sensory-plus-video-mob/_preview.png'): can't open/read file: check file path/integrity\n",
      "[ WARN:0@100.069] global loadsave.cpp:241 findDecoder imread_('../data/Challenge_Data/Assets/adunit-mouser-user-choice-v3-canada-cpe-mob/_preview.png'): can't open/read file: check file path/integrity\n"
     ]
    },
    {
     "name": "stdout",
     "output_type": "stream",
     "text": [
      "Reading image from: ../data/Challenge_Data/Assets/cc6c33bd4409ded3155793811af5c72b/_preview.png\n",
      "Reading image from: ../data/Challenge_Data/Assets/adunit-mouser-user-choice-v3-aus-nz-cpe-mob/_preview.png\n",
      "Warning: Image not found at ../data/Challenge_Data/Assets/adunit-mouser-user-choice-v3-aus-nz-cpe-mob/_preview.png\n",
      "Reading image from: ../data/Challenge_Data/Assets/cafcf13bef3457ebed7e08e02fa49252/_preview.png\n"
     ]
    },
    {
     "name": "stderr",
     "output_type": "stream",
     "text": [
      "[ WARN:0@100.441] global loadsave.cpp:241 findDecoder imread_('../data/Challenge_Data/Assets/adunit-mouser-user-choice-v3-aus-nz-cpe-mob/_preview.png'): can't open/read file: check file path/integrity\n",
      "[ WARN:0@100.553] global loadsave.cpp:241 findDecoder imread_('../data/Challenge_Data/Assets/adunit-hitmans-wifes-body-guard-user-choice-unit3-mob/_preview.png'): can't open/read file: check file path/integrity\n",
      "[ WARN:0@100.553] global loadsave.cpp:241 findDecoder imread_('../data/Challenge_Data/Assets/adunit-lionsgate-uwomt-sensory-plus-tune-4-mob/_preview.png'): can't open/read file: check file path/integrity\n"
     ]
    },
    {
     "name": "stdout",
     "output_type": "stream",
     "text": [
      "Reading image from: ../data/Challenge_Data/Assets/adunit-hitmans-wifes-body-guard-user-choice-unit3-mob/_preview.png\n",
      "Warning: Image not found at ../data/Challenge_Data/Assets/adunit-hitmans-wifes-body-guard-user-choice-unit3-mob/_preview.png\n",
      "Reading image from: ../data/Challenge_Data/Assets/adunit-lionsgate-uwomt-sensory-plus-tune-4-mob/_preview.png\n",
      "Warning: Image not found at ../data/Challenge_Data/Assets/adunit-lionsgate-uwomt-sensory-plus-tune-4-mob/_preview.png\n",
      "Reading image from: ../data/Challenge_Data/Assets/eabca629979238e5e3d65f6f4cd818fb/_preview.png\n",
      "Reading image from: ../data/Challenge_Data/Assets/adunit-scotch-brite-scrub-dots-sponge-swipe-mob/_preview.png\n",
      "Warning: Image not found at ../data/Challenge_Data/Assets/adunit-scotch-brite-scrub-dots-sponge-swipe-mob/_preview.png\n",
      "Reading image from: ../data/Challenge_Data/Assets/adunit-mouser-user-choice-v3-aus-cpe-mob/_preview.png\n",
      "Warning: Image not found at ../data/Challenge_Data/Assets/adunit-mouser-user-choice-v3-aus-cpe-mob/_preview.png\n",
      "Reading image from: ../data/Challenge_Data/Assets/adunit-chevy-user-slider-seat-interior-300-600-cpe-mob/_preview.png\n",
      "Warning: Image not found at ../data/Challenge_Data/Assets/adunit-chevy-user-slider-seat-interior-300-600-cpe-mob/_preview.png\n",
      "Reading image from: ../data/Challenge_Data/Assets/b25e2955ba18f9f0f63a3642abdee471/_preview.png\n"
     ]
    },
    {
     "name": "stderr",
     "output_type": "stream",
     "text": [
      "[ WARN:0@100.688] global loadsave.cpp:241 findDecoder imread_('../data/Challenge_Data/Assets/adunit-scotch-brite-scrub-dots-sponge-swipe-mob/_preview.png'): can't open/read file: check file path/integrity\n",
      "[ WARN:0@100.688] global loadsave.cpp:241 findDecoder imread_('../data/Challenge_Data/Assets/adunit-mouser-user-choice-v3-aus-cpe-mob/_preview.png'): can't open/read file: check file path/integrity\n",
      "[ WARN:0@100.688] global loadsave.cpp:241 findDecoder imread_('../data/Challenge_Data/Assets/adunit-chevy-user-slider-seat-interior-300-600-cpe-mob/_preview.png'): can't open/read file: check file path/integrity\n",
      "[ WARN:0@100.819] global loadsave.cpp:241 findDecoder imread_('../data/Challenge_Data/Assets/adunit-hennessy-vsop-refik-anadol-mob/_preview.png'): can't open/read file: check file path/integrity\n",
      "[ WARN:0@100.819] global loadsave.cpp:241 findDecoder imread_('../data/Challenge_Data/Assets/adunit-scotch-brite-gamification-mob/_preview.png'): can't open/read file: check file path/integrity\n"
     ]
    },
    {
     "name": "stdout",
     "output_type": "stream",
     "text": [
      "Reading image from: ../data/Challenge_Data/Assets/adunit-hennessy-vsop-refik-anadol-mob/_preview.png\n",
      "Warning: Image not found at ../data/Challenge_Data/Assets/adunit-hennessy-vsop-refik-anadol-mob/_preview.png\n",
      "Reading image from: ../data/Challenge_Data/Assets/adunit-scotch-brite-gamification-mob/_preview.png\n",
      "Warning: Image not found at ../data/Challenge_Data/Assets/adunit-scotch-brite-gamification-mob/_preview.png\n",
      "Reading image from: ../data/Challenge_Data/Assets/4f23f2bdbb2c99b8d63bba659d22fe79/_preview.png\n",
      "Reading image from: ../data/Challenge_Data/Assets/e7b3f462f7d1cc8dcaa9c076eaedd1a8/_preview.png\n",
      "Reading image from: ../data/Challenge_Data/Assets/8c0f5a32827b9e60dbd30b77178fe184/_preview.png\n",
      "Reading image from: ../data/Challenge_Data/Assets/62dca5e1826d627612856c463e98026f/_preview.png\n",
      "Reading image from: ../data/Challenge_Data/Assets/ae98b1f2a6ca87429bb43d29df7c682a/_preview.png\n",
      "Reading image from: ../data/Challenge_Data/Assets/676e0507f9e1ed8fa6880eafcf91547b/_preview.png\n",
      "Reading image from: ../data/Challenge_Data/Assets/29df3928b70391dec741b20782beeefc/_preview.png\n",
      "Reading image from: ../data/Challenge_Data/Assets/adunit-mouser-user-choice-flight4-us-cpe-mob/_preview.png\n",
      "Warning: Image not found at ../data/Challenge_Data/Assets/adunit-mouser-user-choice-flight4-us-cpe-mob/_preview.png\n",
      "Reading image from: ../data/Challenge_Data/Assets/d217e3878a25f52d495d0c3eea30211a/_preview.png\n"
     ]
    },
    {
     "name": "stderr",
     "output_type": "stream",
     "text": [
      "[ WARN:0@101.665] global loadsave.cpp:241 findDecoder imread_('../data/Challenge_Data/Assets/adunit-mouser-user-choice-flight4-us-cpe-mob/_preview.png'): can't open/read file: check file path/integrity\n"
     ]
    },
    {
     "name": "stdout",
     "output_type": "stream",
     "text": [
      "Reading image from: ../data/Challenge_Data/Assets/3ba594c8b6a2376bc1013a0d13b83200/_preview.png\n",
      "Reading image from: ../data/Challenge_Data/Assets/06615e719bb053415093a4572a1f1d31/_preview.png\n",
      "Reading image from: ../data/Challenge_Data/Assets/adunit-lionsgate-moonfall-parallax-cta5-mob/_preview.png\n",
      "Warning: Image not found at ../data/Challenge_Data/Assets/adunit-lionsgate-moonfall-parallax-cta5-mob/_preview.png\n",
      "Reading image from: ../data/Challenge_Data/Assets/5b4d2cc82bf11b1fa80b366fdd7a5867/_preview.png\n",
      "Reading image from: ../data/Challenge_Data/Assets/adunit-chanel-j12-2022-slider-cta2-en-fs/_preview.png\n",
      "Warning: Image not found at ../data/Challenge_Data/Assets/adunit-chanel-j12-2022-slider-cta2-en-fs/_preview.png\n",
      "Reading image from: ../data/Challenge_Data/Assets/07a8072d594af3c04ef47e8722fc1b38/_preview.png\n"
     ]
    },
    {
     "name": "stderr",
     "output_type": "stream",
     "text": [
      "[ WARN:0@102.004] global loadsave.cpp:241 findDecoder imread_('../data/Challenge_Data/Assets/adunit-lionsgate-moonfall-parallax-cta5-mob/_preview.png'): can't open/read file: check file path/integrity\n",
      "[ WARN:0@102.115] global loadsave.cpp:241 findDecoder imread_('../data/Challenge_Data/Assets/adunit-chanel-j12-2022-slider-cta2-en-fs/_preview.png'): can't open/read file: check file path/integrity\n"
     ]
    },
    {
     "name": "stdout",
     "output_type": "stream",
     "text": [
      "Reading image from: ../data/Challenge_Data/Assets/f722cbe03a320f89c6abdfd3fe796047/_preview.png\n",
      "Reading image from: ../data/Challenge_Data/Assets/4332420a9acfddfe6dedfe9b0646afd6/_preview.png\n",
      "Reading image from: ../data/Challenge_Data/Assets/adunit-chevy-user-slider-seat-interior-v1-cpe-mpu/_preview.png\n",
      "Warning: Image not found at ../data/Challenge_Data/Assets/adunit-chevy-user-slider-seat-interior-v1-cpe-mpu/_preview.png\n",
      "Reading image from: ../data/Challenge_Data/Assets/adunit-western-union-sensory-unit-swipe-right-v2-mob/_preview.png\n",
      "Warning: Image not found at ../data/Challenge_Data/Assets/adunit-western-union-sensory-unit-swipe-right-v2-mob/_preview.png\n",
      "Reading image from: ../data/Challenge_Data/Assets/3c162d32bb9bce8199f44c665b20977d/_preview.png\n",
      "Reading image from: ../data/Challenge_Data/Assets/adunit-chanel-j12-tw-black-en-2022-v1-mpu/_preview.png\n",
      "Warning: Image not found at ../data/Challenge_Data/Assets/adunit-chanel-j12-tw-black-en-2022-v1-mpu/_preview.png\n",
      "Reading image from: ../data/Challenge_Data/Assets/79bb17ace9de9ef7def221cc38b50c0c/_preview.png\n"
     ]
    },
    {
     "name": "stderr",
     "output_type": "stream",
     "text": [
      "[ WARN:0@102.485] global loadsave.cpp:241 findDecoder imread_('../data/Challenge_Data/Assets/adunit-chevy-user-slider-seat-interior-v1-cpe-mpu/_preview.png'): can't open/read file: check file path/integrity\n",
      "[ WARN:0@102.486] global loadsave.cpp:241 findDecoder imread_('../data/Challenge_Data/Assets/adunit-western-union-sensory-unit-swipe-right-v2-mob/_preview.png'): can't open/read file: check file path/integrity\n",
      "[ WARN:0@102.597] global loadsave.cpp:241 findDecoder imread_('../data/Challenge_Data/Assets/adunit-chanel-j12-tw-black-en-2022-v1-mpu/_preview.png'): can't open/read file: check file path/integrity\n"
     ]
    },
    {
     "name": "stdout",
     "output_type": "stream",
     "text": [
      "Reading image from: ../data/Challenge_Data/Assets/adunit-lionsgate-spiral-new-puzzle-v2-mob/_preview.png\n",
      "Warning: Image not found at ../data/Challenge_Data/Assets/adunit-lionsgate-spiral-new-puzzle-v2-mob/_preview.png\n",
      "Reading image from: ../data/Challenge_Data/Assets/5c6befcf9b28fadcedb2430c0800f433/_preview.png\n",
      "Reading image from: ../data/Challenge_Data/Assets/39872cc99f017cc22001ee9498584e13/_preview.png\n"
     ]
    },
    {
     "name": "stderr",
     "output_type": "stream",
     "text": [
      "[ WARN:0@102.708] global loadsave.cpp:241 findDecoder imread_('../data/Challenge_Data/Assets/adunit-lionsgate-spiral-new-puzzle-v2-mob/_preview.png'): can't open/read file: check file path/integrity\n"
     ]
    },
    {
     "name": "stdout",
     "output_type": "stream",
     "text": [
      "Reading image from: ../data/Challenge_Data/Assets/77af46ea55c251a18213104bd760d1d2/_preview.png\n",
      "Reading image from: ../data/Challenge_Data/Assets/c451990f363a5119a838d33acda877f1/_preview.png\n",
      "Reading image from: ../data/Challenge_Data/Assets/adunit-ggpoker-spin-and-gold-sensory-v1-mob/_preview.png\n",
      "Warning: Image not found at ../data/Challenge_Data/Assets/adunit-ggpoker-spin-and-gold-sensory-v1-mob/_preview.png\n",
      "Reading image from: ../data/Challenge_Data/Assets/3cea7861b4a43a0695ae177cf0829267/_preview.png\n",
      "Reading image from: ../data/Challenge_Data/Assets/7a6ba94986ecc183914a48eed61ebda7/_preview.png\n"
     ]
    },
    {
     "name": "stderr",
     "output_type": "stream",
     "text": [
      "[ WARN:0@103.212] global loadsave.cpp:241 findDecoder imread_('../data/Challenge_Data/Assets/adunit-ggpoker-spin-and-gold-sensory-v1-mob/_preview.png'): can't open/read file: check file path/integrity\n"
     ]
    },
    {
     "name": "stdout",
     "output_type": "stream",
     "text": [
      "Reading image from: ../data/Challenge_Data/Assets/74ca5c4df0e45247e224523c26d7ebf3/_preview.png\n",
      "Reading image from: ../data/Challenge_Data/Assets/eb31bf1739ffa01b1d458fe2c610230a/_preview.png\n",
      "Reading image from: ../data/Challenge_Data/Assets/95a9add1872e1666a9e413e18a15142b/_preview.png\n",
      "Reading image from: ../data/Challenge_Data/Assets/adunit-scotch-brite-scrub-dots-sponge-swap-thai-mob/_preview.png\n",
      "Warning: Image not found at ../data/Challenge_Data/Assets/adunit-scotch-brite-scrub-dots-sponge-swap-thai-mob/_preview.png\n",
      "Reading image from: ../data/Challenge_Data/Assets/adunit-secom-rs-avanca-rs-phase2-mob/_preview.png\n",
      "Warning: Image not found at ../data/Challenge_Data/Assets/adunit-secom-rs-avanca-rs-phase2-mob/_preview.png\n",
      "Reading image from: ../data/Challenge_Data/Assets/74858c868467c9f78a8989e87eb54c1c/_preview.png\n"
     ]
    },
    {
     "name": "stderr",
     "output_type": "stream",
     "text": [
      "[ WARN:0@103.807] global loadsave.cpp:241 findDecoder imread_('../data/Challenge_Data/Assets/adunit-scotch-brite-scrub-dots-sponge-swap-thai-mob/_preview.png'): can't open/read file: check file path/integrity\n",
      "[ WARN:0@103.807] global loadsave.cpp:241 findDecoder imread_('../data/Challenge_Data/Assets/adunit-secom-rs-avanca-rs-phase2-mob/_preview.png'): can't open/read file: check file path/integrity\n"
     ]
    },
    {
     "name": "stdout",
     "output_type": "stream",
     "text": [
      "Reading image from: ../data/Challenge_Data/Assets/3dfba0efa433d3f1f248b373edc2b176/_preview.png\n",
      "Reading image from: ../data/Challenge_Data/Assets/032c21ac0d52d23f683dc4c2b7388865/_preview.png\n",
      "Reading image from: ../data/Challenge_Data/Assets/98db637879a2eee67d49dd05b4a92d83/_preview.png\n",
      "Reading image from: ../data/Challenge_Data/Assets/db671d7ebafdc3b7259109fbc18eaac9/_preview.png\n",
      "Reading image from: ../data/Challenge_Data/Assets/adunit-showtime-dexture-mpu/_preview.png\n",
      "Warning: Image not found at ../data/Challenge_Data/Assets/adunit-showtime-dexture-mpu/_preview.png\n",
      "Reading image from: ../data/Challenge_Data/Assets/adunit-lionsgate-spiral-new-2-puzzle-v5-mob/_preview.png\n",
      "Warning: Image not found at ../data/Challenge_Data/Assets/adunit-lionsgate-spiral-new-2-puzzle-v5-mob/_preview.png\n",
      "Reading image from: ../data/Challenge_Data/Assets/8c07f1799c55b47a5cf24d50fd771668/_preview.png\n",
      "Reading image from: ../data/Challenge_Data/Assets/adunit-nestle-maggi-varieties-bouillon-en-uae-mpu/_preview.png\n",
      "Warning: Image not found at ../data/Challenge_Data/Assets/adunit-nestle-maggi-varieties-bouillon-en-uae-mpu/_preview.png\n",
      "Reading image from: ../data/Challenge_Data/Assets/cce594945c50492d887116e17ebd966f/_preview.png\n"
     ]
    },
    {
     "name": "stderr",
     "output_type": "stream",
     "text": [
      "[ WARN:0@104.433] global loadsave.cpp:241 findDecoder imread_('../data/Challenge_Data/Assets/adunit-showtime-dexture-mpu/_preview.png'): can't open/read file: check file path/integrity\n",
      "[ WARN:0@104.433] global loadsave.cpp:241 findDecoder imread_('../data/Challenge_Data/Assets/adunit-lionsgate-spiral-new-2-puzzle-v5-mob/_preview.png'): can't open/read file: check file path/integrity\n",
      "[ WARN:0@104.549] global loadsave.cpp:241 findDecoder imread_('../data/Challenge_Data/Assets/adunit-nestle-maggi-varieties-bouillon-en-uae-mpu/_preview.png'): can't open/read file: check file path/integrity\n"
     ]
    },
    {
     "name": "stdout",
     "output_type": "stream",
     "text": [
      "Reading image from: ../data/Challenge_Data/Assets/f16751048b64354c30b034c44981225f/_preview.png\n",
      "Reading image from: ../data/Challenge_Data/Assets/03f2fc9a332b87e896b2da508a061754/_preview.png\n",
      "Reading image from: ../data/Challenge_Data/Assets/7ff33d15bd3e7d73cede0691a393c288/_preview.png\n",
      "Reading image from: ../data/Challenge_Data/Assets/3ebf3ba9b654b8281c7b45e65133986f/_preview.png\n",
      "Reading image from: ../data/Challenge_Data/Assets/hills-bio-mob/_preview.png\n",
      "Warning: Image not found at ../data/Challenge_Data/Assets/hills-bio-mob/_preview.png\n",
      "Reading image from: ../data/Challenge_Data/Assets/adunit-yamaha-x2-sensory-plus-mpu/_preview.png\n",
      "Reading image from: ../data/Challenge_Data/Assets/c823124ca76c00a9d3b79380e5bdfd29/_preview.png\n"
     ]
    },
    {
     "name": "stderr",
     "output_type": "stream",
     "text": [
      "[ WARN:0@105.122] global loadsave.cpp:241 findDecoder imread_('../data/Challenge_Data/Assets/hills-bio-mob/_preview.png'): can't open/read file: check file path/integrity\n"
     ]
    },
    {
     "name": "stdout",
     "output_type": "stream",
     "text": [
      "Reading image from: ../data/Challenge_Data/Assets/adunit-simple-feast-build-for-industry-survey-q4-mob/_preview.png\n",
      "Warning: Image not found at ../data/Challenge_Data/Assets/adunit-simple-feast-build-for-industry-survey-q4-mob/_preview.png\n",
      "Reading image from: ../data/Challenge_Data/Assets/adunit-mouser-user-choice-v3-cpe-av-us-mpu/_preview.png\n",
      "Warning: Image not found at ../data/Challenge_Data/Assets/adunit-mouser-user-choice-v3-cpe-av-us-mpu/_preview.png\n",
      "Reading image from: ../data/Challenge_Data/Assets/adunit-western-union-bio-mob/_preview.png\n",
      "Warning: Image not found at ../data/Challenge_Data/Assets/adunit-western-union-bio-mob/_preview.png\n",
      "Reading image from: ../data/Challenge_Data/Assets/adunit-gm-ces-user-choice-mpu/_preview.png\n",
      "Warning: Image not found at ../data/Challenge_Data/Assets/adunit-gm-ces-user-choice-mpu/_preview.png\n",
      "Reading image from: ../data/Challenge_Data/Assets/adunit-cartier-panthere-2021-fy22-mob/_preview.png\n",
      "Warning: Image not found at ../data/Challenge_Data/Assets/adunit-cartier-panthere-2021-fy22-mob/_preview.png\n",
      "Reading image from: ../data/Challenge_Data/Assets/adunit-mouser-user-choice-cpe-us-mpu/_preview.png\n",
      "Warning: Image not found at ../data/Challenge_Data/Assets/adunit-mouser-user-choice-cpe-us-mpu/_preview.png\n",
      "Reading image from: ../data/Challenge_Data/Assets/adunit-lionsgate-spiral-new-2-puzzle-v3-mob/_preview.png\n",
      "Warning: Image not found at ../data/Challenge_Data/Assets/adunit-lionsgate-spiral-new-2-puzzle-v3-mob/_preview.png\n",
      "Reading image from: ../data/Challenge_Data/Assets/adunit-heineken-sa-celebrations-bio-v1-mob/_preview.png\n",
      "Warning: Image not found at ../data/Challenge_Data/Assets/adunit-heineken-sa-celebrations-bio-v1-mob/_preview.png\n",
      "Reading image from: ../data/Challenge_Data/Assets/3a462469eef8972bc33e93d3b9402fda/_preview.png\n",
      "Reading image from: ../data/Challenge_Data/Assets/3983cfed2def8feebc57bb6638cf49c8/_preview.png\n"
     ]
    },
    {
     "name": "stderr",
     "output_type": "stream",
     "text": [
      "[ WARN:0@105.383] global loadsave.cpp:241 findDecoder imread_('../data/Challenge_Data/Assets/adunit-simple-feast-build-for-industry-survey-q4-mob/_preview.png'): can't open/read file: check file path/integrity\n",
      "[ WARN:0@105.383] global loadsave.cpp:241 findDecoder imread_('../data/Challenge_Data/Assets/adunit-mouser-user-choice-v3-cpe-av-us-mpu/_preview.png'): can't open/read file: check file path/integrity\n",
      "[ WARN:0@105.383] global loadsave.cpp:241 findDecoder imread_('../data/Challenge_Data/Assets/adunit-western-union-bio-mob/_preview.png'): can't open/read file: check file path/integrity\n",
      "[ WARN:0@105.383] global loadsave.cpp:241 findDecoder imread_('../data/Challenge_Data/Assets/adunit-gm-ces-user-choice-mpu/_preview.png'): can't open/read file: check file path/integrity\n",
      "[ WARN:0@105.383] global loadsave.cpp:241 findDecoder imread_('../data/Challenge_Data/Assets/adunit-cartier-panthere-2021-fy22-mob/_preview.png'): can't open/read file: check file path/integrity\n",
      "[ WARN:0@105.383] global loadsave.cpp:241 findDecoder imread_('../data/Challenge_Data/Assets/adunit-mouser-user-choice-cpe-us-mpu/_preview.png'): can't open/read file: check file path/integrity\n",
      "[ WARN:0@105.383] global loadsave.cpp:241 findDecoder imread_('../data/Challenge_Data/Assets/adunit-lionsgate-spiral-new-2-puzzle-v3-mob/_preview.png'): can't open/read file: check file path/integrity\n",
      "[ WARN:0@105.383] global loadsave.cpp:241 findDecoder imread_('../data/Challenge_Data/Assets/adunit-heineken-sa-celebrations-bio-v1-mob/_preview.png'): can't open/read file: check file path/integrity\n"
     ]
    },
    {
     "name": "stdout",
     "output_type": "stream",
     "text": [
      "Reading image from: ../data/Challenge_Data/Assets/adunit-lionsgate-moonfall-parallax-cta4-mob/_preview.png\n",
      "Warning: Image not found at ../data/Challenge_Data/Assets/adunit-lionsgate-moonfall-parallax-cta4-mob/_preview.png\n",
      "Reading image from: ../data/Challenge_Data/Assets/44c8e52abc427a52c487122232409f5d/_preview.png\n",
      "Reading image from: ../data/Challenge_Data/Assets/adunit-chevy-user-slider-seat-interior-cpe-mob/_preview.png\n",
      "Warning: Image not found at ../data/Challenge_Data/Assets/adunit-chevy-user-slider-seat-interior-cpe-mob/_preview.png\n",
      "Reading image from: ../data/Challenge_Data/Assets/c9790ca6d49dfc3f245db91d3b62c56d/_preview.png\n"
     ]
    },
    {
     "name": "stderr",
     "output_type": "stream",
     "text": [
      "[ WARN:0@105.625] global loadsave.cpp:241 findDecoder imread_('../data/Challenge_Data/Assets/adunit-lionsgate-moonfall-parallax-cta4-mob/_preview.png'): can't open/read file: check file path/integrity\n",
      "[ WARN:0@105.753] global loadsave.cpp:241 findDecoder imread_('../data/Challenge_Data/Assets/adunit-chevy-user-slider-seat-interior-cpe-mob/_preview.png'): can't open/read file: check file path/integrity\n"
     ]
    },
    {
     "name": "stdout",
     "output_type": "stream",
     "text": [
      "Reading image from: ../data/Challenge_Data/Assets/adunit-chevy-user-slider-seat-interior-cpe-av-mob/_preview.png\n",
      "Warning: Image not found at ../data/Challenge_Data/Assets/adunit-chevy-user-slider-seat-interior-cpe-av-mob/_preview.png\n",
      "Reading image from: ../data/Challenge_Data/Assets/9e3c7a3de86bb8857dd3f822bc951a59/_preview.png\n",
      "Reading image from: ../data/Challenge_Data/Assets/ff72b5f704ef2a8fa05e5a7b350a1e8e/_preview.png\n"
     ]
    },
    {
     "name": "stderr",
     "output_type": "stream",
     "text": [
      "[ WARN:0@105.867] global loadsave.cpp:241 findDecoder imread_('../data/Challenge_Data/Assets/adunit-chevy-user-slider-seat-interior-cpe-av-mob/_preview.png'): can't open/read file: check file path/integrity\n"
     ]
    },
    {
     "name": "stdout",
     "output_type": "stream",
     "text": [
      "Reading image from: ../data/Challenge_Data/Assets/27b8aecd5c4b58ddcfc56270e9944d81/_preview.png\n",
      "Reading image from: ../data/Challenge_Data/Assets/adunit-facebook-conversational-commerce-3-0-th-bio2-mob/_preview.png\n",
      "Warning: Image not found at ../data/Challenge_Data/Assets/adunit-facebook-conversational-commerce-3-0-th-bio2-mob/_preview.png\n",
      "Reading image from: ../data/Challenge_Data/Assets/adunit-j&j-listerine-tonic3-exxon-fs/_preview.png\n",
      "Warning: Image not found at ../data/Challenge_Data/Assets/adunit-j&j-listerine-tonic3-exxon-fs/_preview.png\n",
      "Reading image from: ../data/Challenge_Data/Assets/adunit-samsung-r9-launch-mpu/_preview.png\n",
      "Warning: Image not found at ../data/Challenge_Data/Assets/adunit-samsung-r9-launch-mpu/_preview.png\n",
      "Reading image from: ../data/Challenge_Data/Assets/7b5d17800096a3e27a5732fd7322fc37/_preview.png\n"
     ]
    },
    {
     "name": "stderr",
     "output_type": "stream",
     "text": [
      "[ WARN:0@106.215] global loadsave.cpp:241 findDecoder imread_('../data/Challenge_Data/Assets/adunit-facebook-conversational-commerce-3-0-th-bio2-mob/_preview.png'): can't open/read file: check file path/integrity\n",
      "[ WARN:0@106.216] global loadsave.cpp:241 findDecoder imread_('../data/Challenge_Data/Assets/adunit-j&j-listerine-tonic3-exxon-fs/_preview.png'): can't open/read file: check file path/integrity\n",
      "[ WARN:0@106.216] global loadsave.cpp:241 findDecoder imread_('../data/Challenge_Data/Assets/adunit-samsung-r9-launch-mpu/_preview.png'): can't open/read file: check file path/integrity\n"
     ]
    },
    {
     "name": "stdout",
     "output_type": "stream",
     "text": [
      "Reading image from: ../data/Challenge_Data/Assets/d250af845914563dc5e28699c19da043/_preview.png\n",
      "Reading image from: ../data/Challenge_Data/Assets/e17b6db0e4fb777ab569ef0a81b5000e/_preview.png\n",
      "Reading image from: ../data/Challenge_Data/Assets/adunit-yamaha-x2-x4-userchoice-cpe-av-mpu/_preview.png\n",
      "Warning: Image not found at ../data/Challenge_Data/Assets/adunit-yamaha-x2-x4-userchoice-cpe-av-mpu/_preview.png\n",
      "Reading image from: ../data/Challenge_Data/Assets/adunit-ihop-ihoppy-hour-no-offer-mob/_preview.png\n",
      "Reading image from: ../data/Challenge_Data/Assets/cd586b24025b1349b9b79d2c944e3f18/_preview.png\n"
     ]
    },
    {
     "name": "stderr",
     "output_type": "stream",
     "text": [
      "[ WARN:0@106.598] global loadsave.cpp:241 findDecoder imread_('../data/Challenge_Data/Assets/adunit-yamaha-x2-x4-userchoice-cpe-av-mpu/_preview.png'): can't open/read file: check file path/integrity\n"
     ]
    },
    {
     "name": "stdout",
     "output_type": "stream",
     "text": [
      "Reading image from: ../data/Challenge_Data/Assets/d706afba427123c30ffafb88d5486e03/_preview.png\n",
      "Reading image from: ../data/Challenge_Data/Assets/3c5daf79e8097eae0956840826c90fcc/_preview.png\n",
      "Reading image from: ../data/Challenge_Data/Assets/427bf316b866d8b20a30866426c66e09/_preview.png\n",
      "Reading image from: ../data/Challenge_Data/Assets/adunit-simple-feast-build-for-industry-survey-q1-mob/_preview.png\n",
      "Warning: Image not found at ../data/Challenge_Data/Assets/adunit-simple-feast-build-for-industry-survey-q1-mob/_preview.png\n",
      "Reading image from: ../data/Challenge_Data/Assets/adunit-facebook-conversational-commerce-3-0-vn-unit1-v2-mob/_preview.png\n",
      "Warning: Image not found at ../data/Challenge_Data/Assets/adunit-facebook-conversational-commerce-3-0-vn-unit1-v2-mob/_preview.png\n",
      "Reading image from: ../data/Challenge_Data/Assets/adunit-hitmans-wifes-body-guard-user-choice-unit1-mob/_preview.png\n",
      "Warning: Image not found at ../data/Challenge_Data/Assets/adunit-hitmans-wifes-body-guard-user-choice-unit1-mob/_preview.png\n",
      "Reading image from: ../data/Challenge_Data/Assets/09d86d1539357a20fd04a53d000e8471/_preview.png\n"
     ]
    },
    {
     "name": "stderr",
     "output_type": "stream",
     "text": [
      "[ WARN:0@107.166] global loadsave.cpp:241 findDecoder imread_('../data/Challenge_Data/Assets/adunit-simple-feast-build-for-industry-survey-q1-mob/_preview.png'): can't open/read file: check file path/integrity\n",
      "[ WARN:0@107.166] global loadsave.cpp:241 findDecoder imread_('../data/Challenge_Data/Assets/adunit-facebook-conversational-commerce-3-0-vn-unit1-v2-mob/_preview.png'): can't open/read file: check file path/integrity\n",
      "[ WARN:0@107.166] global loadsave.cpp:241 findDecoder imread_('../data/Challenge_Data/Assets/adunit-hitmans-wifes-body-guard-user-choice-unit1-mob/_preview.png'): can't open/read file: check file path/integrity\n"
     ]
    },
    {
     "name": "stdout",
     "output_type": "stream",
     "text": [
      "Reading image from: ../data/Challenge_Data/Assets/e5c648e39c7860bf0e70f4b02ecafbdf/_preview.png\n",
      "Reading image from: ../data/Challenge_Data/Assets/adunit-mouser-user-choice-v3-canada-cpe-av-mpu/_preview.png\n",
      "Warning: Image not found at ../data/Challenge_Data/Assets/adunit-mouser-user-choice-v3-canada-cpe-av-mpu/_preview.png\n",
      "Reading image from: ../data/Challenge_Data/Assets/adunit-chanel-j12-tw-black-en-2022-mpu/_preview.png\n",
      "Warning: Image not found at ../data/Challenge_Data/Assets/adunit-chanel-j12-tw-black-en-2022-mpu/_preview.png\n",
      "Reading image from: ../data/Challenge_Data/Assets/5c58461a764afd15c527c9c8b3a054b2/_preview.png\n"
     ]
    },
    {
     "name": "stderr",
     "output_type": "stream",
     "text": [
      "[ WARN:0@107.427] global loadsave.cpp:241 findDecoder imread_('../data/Challenge_Data/Assets/adunit-mouser-user-choice-v3-canada-cpe-av-mpu/_preview.png'): can't open/read file: check file path/integrity\n",
      "[ WARN:0@107.427] global loadsave.cpp:241 findDecoder imread_('../data/Challenge_Data/Assets/adunit-chanel-j12-tw-black-en-2022-mpu/_preview.png'): can't open/read file: check file path/integrity\n"
     ]
    },
    {
     "name": "stdout",
     "output_type": "stream",
     "text": [
      "Reading image from: ../data/Challenge_Data/Assets/44799b510c8a525e9baaa4729e200efa/_preview.png\n",
      "Reading image from: ../data/Challenge_Data/Assets/adunit-facebook-conversational-commerce-3-0-th-unit2-mpu/_preview.png\n",
      "Warning: Image not found at ../data/Challenge_Data/Assets/adunit-facebook-conversational-commerce-3-0-th-unit2-mpu/_preview.png\n",
      "Reading image from: ../data/Challenge_Data/Assets/adunit-lionsgate-uwomt-user-slider-sensory-video-final-tune2-mob/_preview.png\n",
      "Warning: Image not found at ../data/Challenge_Data/Assets/adunit-lionsgate-uwomt-user-slider-sensory-video-final-tune2-mob/_preview.png\n",
      "Reading image from: ../data/Challenge_Data/Assets/b68a3a78534ac964f4eddfb8d767bbe0/_preview.png\n"
     ]
    },
    {
     "name": "stderr",
     "output_type": "stream",
     "text": [
      "[ WARN:0@107.675] global loadsave.cpp:241 findDecoder imread_('../data/Challenge_Data/Assets/adunit-facebook-conversational-commerce-3-0-th-unit2-mpu/_preview.png'): can't open/read file: check file path/integrity\n",
      "[ WARN:0@107.675] global loadsave.cpp:241 findDecoder imread_('../data/Challenge_Data/Assets/adunit-lionsgate-uwomt-user-slider-sensory-video-final-tune2-mob/_preview.png'): can't open/read file: check file path/integrity\n"
     ]
    },
    {
     "name": "stdout",
     "output_type": "stream",
     "text": [
      "Reading image from: ../data/Challenge_Data/Assets/8bf41e73b0b48e4bc86fba470d3af1a8/_preview.png\n",
      "Reading image from: ../data/Challenge_Data/Assets/caf88bb6688890e82c30fb408ec4e76f/_preview.png\n",
      "Reading image from: ../data/Challenge_Data/Assets/adunit-hitmans-wifes-body-guard-user-choice-unit2-mob/_preview.png\n",
      "Warning: Image not found at ../data/Challenge_Data/Assets/adunit-hitmans-wifes-body-guard-user-choice-unit2-mob/_preview.png\n",
      "Reading image from: ../data/Challenge_Data/Assets/3a63ee9cd0c128a7e97a7620a82b3678/_preview.png\n",
      "Reading image from: ../data/Challenge_Data/Assets/d93555b29bb180a19395c58cb97a5065/_preview.png\n"
     ]
    },
    {
     "name": "stderr",
     "output_type": "stream",
     "text": [
      "[ WARN:0@108.053] global loadsave.cpp:241 findDecoder imread_('../data/Challenge_Data/Assets/adunit-hitmans-wifes-body-guard-user-choice-unit2-mob/_preview.png'): can't open/read file: check file path/integrity\n"
     ]
    },
    {
     "name": "stdout",
     "output_type": "stream",
     "text": [
      "Reading image from: ../data/Challenge_Data/Assets/adunit-lionsgate-moonfall-parallax-cta3-mpu/_preview.png\n",
      "Warning: Image not found at ../data/Challenge_Data/Assets/adunit-lionsgate-moonfall-parallax-cta3-mpu/_preview.png\n",
      "Reading image from: ../data/Challenge_Data/Assets/adunit-scotch-brite-scrub-dots-sponge-tap-thai-mob/_preview.png\n",
      "Warning: Image not found at ../data/Challenge_Data/Assets/adunit-scotch-brite-scrub-dots-sponge-tap-thai-mob/_preview.png\n",
      "Reading image from: ../data/Challenge_Data/Assets/9b2e41fdabcefdda0a86803e415a8c98/_preview.png\n",
      "Reading image from: ../data/Challenge_Data/Assets/adunit-mouser-user-choice-v3-uk-cpe-av-mpu/_preview.png\n",
      "Warning: Image not found at ../data/Challenge_Data/Assets/adunit-mouser-user-choice-v3-uk-cpe-av-mpu/_preview.png\n",
      "Reading image from: ../data/Challenge_Data/Assets/adunit-lionsgate-uwomt-bio-mob/_preview.png\n",
      "Warning: Image not found at ../data/Challenge_Data/Assets/adunit-lionsgate-uwomt-bio-mob/_preview.png\n",
      "Reading image from: ../data/Challenge_Data/Assets/adunit-yamaha-wolverine-user-choice-cpe-v2-mpu/_preview.png\n",
      "Warning: Image not found at ../data/Challenge_Data/Assets/adunit-yamaha-wolverine-user-choice-cpe-v2-mpu/_preview.png\n",
      "Reading image from: ../data/Challenge_Data/Assets/f50ff5f8d3f50ecaccadf63345ec16bc/_preview.png\n"
     ]
    },
    {
     "name": "stderr",
     "output_type": "stream",
     "text": [
      "[ WARN:0@108.276] global loadsave.cpp:241 findDecoder imread_('../data/Challenge_Data/Assets/adunit-lionsgate-moonfall-parallax-cta3-mpu/_preview.png'): can't open/read file: check file path/integrity\n",
      "[ WARN:0@108.276] global loadsave.cpp:241 findDecoder imread_('../data/Challenge_Data/Assets/adunit-scotch-brite-scrub-dots-sponge-tap-thai-mob/_preview.png'): can't open/read file: check file path/integrity\n",
      "[ WARN:0@108.403] global loadsave.cpp:241 findDecoder imread_('../data/Challenge_Data/Assets/adunit-mouser-user-choice-v3-uk-cpe-av-mpu/_preview.png'): can't open/read file: check file path/integrity\n",
      "[ WARN:0@108.403] global loadsave.cpp:241 findDecoder imread_('../data/Challenge_Data/Assets/adunit-lionsgate-uwomt-bio-mob/_preview.png'): can't open/read file: check file path/integrity\n",
      "[ WARN:0@108.403] global loadsave.cpp:241 findDecoder imread_('../data/Challenge_Data/Assets/adunit-yamaha-wolverine-user-choice-cpe-v2-mpu/_preview.png'): can't open/read file: check file path/integrity\n"
     ]
    },
    {
     "name": "stdout",
     "output_type": "stream",
     "text": [
      "Reading image from: ../data/Challenge_Data/Assets/adunit-hitmans-wifes-body-guard-user-choice-unit1-mpu/_preview.png\n",
      "Warning: Image not found at ../data/Challenge_Data/Assets/adunit-hitmans-wifes-body-guard-user-choice-unit1-mpu/_preview.png\n",
      "Reading image from: ../data/Challenge_Data/Assets/adunit-nestle-maggi-varieties-bouillon-ar-ksa-v1-mpu/_preview.png\n",
      "Warning: Image not found at ../data/Challenge_Data/Assets/adunit-nestle-maggi-varieties-bouillon-ar-ksa-v1-mpu/_preview.png\n",
      "Reading image from: ../data/Challenge_Data/Assets/f52568446cd557df708c44efb668789c/_preview.png\n",
      "Reading image from: ../data/Challenge_Data/Assets/471b3c709ca35b4765c096beb835bcc3/_preview.png\n"
     ]
    },
    {
     "name": "stderr",
     "output_type": "stream",
     "text": [
      "[ WARN:0@108.513] global loadsave.cpp:241 findDecoder imread_('../data/Challenge_Data/Assets/adunit-hitmans-wifes-body-guard-user-choice-unit1-mpu/_preview.png'): can't open/read file: check file path/integrity\n",
      "[ WARN:0@108.513] global loadsave.cpp:241 findDecoder imread_('../data/Challenge_Data/Assets/adunit-nestle-maggi-varieties-bouillon-ar-ksa-v1-mpu/_preview.png'): can't open/read file: check file path/integrity\n"
     ]
    },
    {
     "name": "stdout",
     "output_type": "stream",
     "text": [
      "Reading image from: ../data/Challenge_Data/Assets/adunit-jaguar-nameplate-refresh-v2-mfcc-mob/_preview.png\n",
      "Warning: Image not found at ../data/Challenge_Data/Assets/adunit-jaguar-nameplate-refresh-v2-mfcc-mob/_preview.png\n",
      "Reading image from: ../data/Challenge_Data/Assets/adunit-mouser-user-choice-cpe-av-aus-nz-mpu/_preview.png\n",
      "Warning: Image not found at ../data/Challenge_Data/Assets/adunit-mouser-user-choice-cpe-av-aus-nz-mpu/_preview.png\n",
      "Reading image from: ../data/Challenge_Data/Assets/adunit-mouser-user-choice-v2-cpe-aus-nz-mob/_preview.png\n",
      "Warning: Image not found at ../data/Challenge_Data/Assets/adunit-mouser-user-choice-v2-cpe-aus-nz-mob/_preview.png\n",
      "Reading image from: ../data/Challenge_Data/Assets/9e45326648ea56b095dfe34466ce6018/_preview.png\n",
      "Reading image from: ../data/Challenge_Data/Assets/73501a5fc5b60fea475b301aae4a3731/_preview.png\n"
     ]
    },
    {
     "name": "stderr",
     "output_type": "stream",
     "text": [
      "[ WARN:0@108.764] global loadsave.cpp:241 findDecoder imread_('../data/Challenge_Data/Assets/adunit-jaguar-nameplate-refresh-v2-mfcc-mob/_preview.png'): can't open/read file: check file path/integrity\n",
      "[ WARN:0@108.764] global loadsave.cpp:241 findDecoder imread_('../data/Challenge_Data/Assets/adunit-mouser-user-choice-cpe-av-aus-nz-mpu/_preview.png'): can't open/read file: check file path/integrity\n",
      "[ WARN:0@108.764] global loadsave.cpp:241 findDecoder imread_('../data/Challenge_Data/Assets/adunit-mouser-user-choice-v2-cpe-aus-nz-mob/_preview.png'): can't open/read file: check file path/integrity\n"
     ]
    },
    {
     "name": "stdout",
     "output_type": "stream",
     "text": [
      "Reading image from: ../data/Challenge_Data/Assets/86782260310be394dce33ef91955a716/_preview.png\n",
      "Reading image from: ../data/Challenge_Data/Assets/adunit-ggpoker-spin-and-gold-sensory-v1-mpu/_preview.png\n",
      "Warning: Image not found at ../data/Challenge_Data/Assets/adunit-ggpoker-spin-and-gold-sensory-v1-mpu/_preview.png\n",
      "Reading image from: ../data/Challenge_Data/Assets/ba9ca629a79e79a0b652b5b275ecd5e1/_preview.png\n"
     ]
    },
    {
     "name": "stderr",
     "output_type": "stream",
     "text": [
      "[ WARN:0@109.100] global loadsave.cpp:241 findDecoder imread_('../data/Challenge_Data/Assets/adunit-ggpoker-spin-and-gold-sensory-v1-mpu/_preview.png'): can't open/read file: check file path/integrity\n"
     ]
    },
    {
     "name": "stdout",
     "output_type": "stream",
     "text": [
      "Reading image from: ../data/Challenge_Data/Assets/f7f9e79ae3506b8c75810cae2ce276e7/_preview.png\n",
      "Reading image from: ../data/Challenge_Data/Assets/034c0fa142311896c1b1b6900487d2fb/_preview.png\n",
      "Reading image from: ../data/Challenge_Data/Assets/adunit-ihop-windows3-2021-mob/_preview.png\n",
      "Reading image from: ../data/Challenge_Data/Assets/e437bb1946e346784d613ce6feba7203/_preview.png\n",
      "Reading image from: ../data/Challenge_Data/Assets/adunit-yamaha-x2-x4-userchoice-cpe-av-mob/_preview.png\n",
      "Warning: Image not found at ../data/Challenge_Data/Assets/adunit-yamaha-x2-x4-userchoice-cpe-av-mob/_preview.png\n",
      "Reading image from: ../data/Challenge_Data/Assets/3f8bf51e4f82aeecc825c4b2a12d92a7/_preview.png\n",
      "Reading image from: ../data/Challenge_Data/Assets/8968a702d64524827de2ccf55c802d6c/_preview.png\n"
     ]
    },
    {
     "name": "stderr",
     "output_type": "stream",
     "text": [
      "[ WARN:0@109.670] global loadsave.cpp:241 findDecoder imread_('../data/Challenge_Data/Assets/adunit-yamaha-x2-x4-userchoice-cpe-av-mob/_preview.png'): can't open/read file: check file path/integrity\n"
     ]
    },
    {
     "name": "stdout",
     "output_type": "stream",
     "text": [
      "Reading image from: ../data/Challenge_Data/Assets/64beae61d488503fcd271af0ff3ea46a/_preview.png\n",
      "Reading image from: ../data/Challenge_Data/Assets/adunit-lionsgate-moonfall-parallax-cta1-phase-spanish-mob/_preview.png\n",
      "Warning: Image not found at ../data/Challenge_Data/Assets/adunit-lionsgate-moonfall-parallax-cta1-phase-spanish-mob/_preview.png\n",
      "Reading image from: ../data/Challenge_Data/Assets/adunit-yamaha-rmax-1000-sensory-plus-video-mob/_preview.png\n",
      "Warning: Image not found at ../data/Challenge_Data/Assets/adunit-yamaha-rmax-1000-sensory-plus-video-mob/_preview.png\n",
      "Reading image from: ../data/Challenge_Data/Assets/adunit-lionsgate-spiral-puzzle-mpu/_preview.png\n",
      "Warning: Image not found at ../data/Challenge_Data/Assets/adunit-lionsgate-spiral-puzzle-mpu/_preview.png\n",
      "Reading image from: ../data/Challenge_Data/Assets/c741653e8c326e65480df0732efe96df/_preview.png\n"
     ]
    },
    {
     "name": "stderr",
     "output_type": "stream",
     "text": [
      "[ WARN:0@110.050] global loadsave.cpp:241 findDecoder imread_('../data/Challenge_Data/Assets/adunit-lionsgate-moonfall-parallax-cta1-phase-spanish-mob/_preview.png'): can't open/read file: check file path/integrity\n",
      "[ WARN:0@110.050] global loadsave.cpp:241 findDecoder imread_('../data/Challenge_Data/Assets/adunit-yamaha-rmax-1000-sensory-plus-video-mob/_preview.png'): can't open/read file: check file path/integrity\n",
      "[ WARN:0@110.051] global loadsave.cpp:241 findDecoder imread_('../data/Challenge_Data/Assets/adunit-lionsgate-spiral-puzzle-mpu/_preview.png'): can't open/read file: check file path/integrity\n",
      "[ WARN:0@110.161] global loadsave.cpp:241 findDecoder imread_('../data/Challenge_Data/Assets/adunit-showtime-first-lady-sensory-plus-mpu/_preview.png'): can't open/read file: check file path/integrity\n",
      "[ WARN:0@110.161] global loadsave.cpp:241 findDecoder imread_('../data/Challenge_Data/Assets/adunit-heineken-pure-malt-v2-mob/_preview.png'): can't open/read file: check file path/integrity\n"
     ]
    },
    {
     "name": "stdout",
     "output_type": "stream",
     "text": [
      "Reading image from: ../data/Challenge_Data/Assets/adunit-showtime-first-lady-sensory-plus-mpu/_preview.png\n",
      "Warning: Image not found at ../data/Challenge_Data/Assets/adunit-showtime-first-lady-sensory-plus-mpu/_preview.png\n",
      "Reading image from: ../data/Challenge_Data/Assets/adunit-heineken-pure-malt-v2-mob/_preview.png\n",
      "Warning: Image not found at ../data/Challenge_Data/Assets/adunit-heineken-pure-malt-v2-mob/_preview.png\n",
      "Reading image from: ../data/Challenge_Data/Assets/dba3929fad20b7650861f74a9414c043/_preview.png\n",
      "Reading image from: ../data/Challenge_Data/Assets/9e068e03269af51054a95146bdaf3d45/_preview.png\n",
      "Reading image from: ../data/Challenge_Data/Assets/097b04b65ad1608a869f2fb08909a612/_preview.png\n",
      "Reading image from: ../data/Challenge_Data/Assets/6c200017bb5cb921e59f6a6c09491ad5/_preview.png\n",
      "Reading image from: ../data/Challenge_Data/Assets/9751f5044f0e9ef8e21661bf28c3d88f/_preview.png\n",
      "Reading image from: ../data/Challenge_Data/Assets/adunit-mouser-user-choice-flight4-aus-nz-cpe-av-mob/_preview.png\n",
      "Warning: Image not found at ../data/Challenge_Data/Assets/adunit-mouser-user-choice-flight4-aus-nz-cpe-av-mob/_preview.png\n",
      "Reading image from: ../data/Challenge_Data/Assets/adunit-chanel-j12-tw-white-en-2022-v1-mpu/_preview.png\n",
      "Warning: Image not found at ../data/Challenge_Data/Assets/adunit-chanel-j12-tw-white-en-2022-v1-mpu/_preview.png\n",
      "Reading image from: ../data/Challenge_Data/Assets/adunit-lionsgate-moonfall-parallax-cta3-mob/_preview.png\n",
      "Warning: Image not found at ../data/Challenge_Data/Assets/adunit-lionsgate-moonfall-parallax-cta3-mob/_preview.png\n",
      "Reading image from: ../data/Challenge_Data/Assets/9b9f6e8145aad25f6548fb35775d7fb3/_preview.png\n"
     ]
    },
    {
     "name": "stderr",
     "output_type": "stream",
     "text": [
      "[ WARN:0@110.734] global loadsave.cpp:241 findDecoder imread_('../data/Challenge_Data/Assets/adunit-mouser-user-choice-flight4-aus-nz-cpe-av-mob/_preview.png'): can't open/read file: check file path/integrity\n",
      "[ WARN:0@110.734] global loadsave.cpp:241 findDecoder imread_('../data/Challenge_Data/Assets/adunit-chanel-j12-tw-white-en-2022-v1-mpu/_preview.png'): can't open/read file: check file path/integrity\n",
      "[ WARN:0@110.734] global loadsave.cpp:241 findDecoder imread_('../data/Challenge_Data/Assets/adunit-lionsgate-moonfall-parallax-cta3-mob/_preview.png'): can't open/read file: check file path/integrity\n"
     ]
    },
    {
     "name": "stdout",
     "output_type": "stream",
     "text": [
      "Reading image from: ../data/Challenge_Data/Assets/3dbee69360ec8c331edd1ac47c4da0ec/_preview.png\n",
      "Reading image from: ../data/Challenge_Data/Assets/adunit-ihop-ihoppy-hour-save-dollar-5-mpu/_preview.png\n",
      "Reading image from: ../data/Challenge_Data/Assets/da2b42ad2deaf5a4f7f3604e0e5038e1/_preview.png\n",
      "Reading image from: ../data/Challenge_Data/Assets/fae4bab75ff19f1246fb814deb4efd94/_preview.png\n",
      "Reading image from: ../data/Challenge_Data/Assets/cb1ae642e1bdcec602d24344d5d927b5/_preview.png\n",
      "Reading image from: ../data/Challenge_Data/Assets/6e526502767454c66cc93a391846bebd/_preview.png\n",
      "Reading image from: ../data/Challenge_Data/Assets/adunit-heineken-pure-malt-bio/_preview.png\n",
      "Warning: Image not found at ../data/Challenge_Data/Assets/adunit-heineken-pure-malt-bio/_preview.png\n",
      "Reading image from: ../data/Challenge_Data/Assets/adunit-mouser-user-choice-v3-canada-cpe-mpu/_preview.png\n",
      "Warning: Image not found at ../data/Challenge_Data/Assets/adunit-mouser-user-choice-v3-canada-cpe-mpu/_preview.png\n",
      "Reading image from: ../data/Challenge_Data/Assets/adunit-hennessy-vsop-refik-anadol/_preview.png\n",
      "Warning: Image not found at ../data/Challenge_Data/Assets/adunit-hennessy-vsop-refik-anadol/_preview.png\n",
      "Reading image from: ../data/Challenge_Data/Assets/adunit-dtc-soccer-swipe-to-catch-mob/_preview.png\n",
      "Warning: Image not found at ../data/Challenge_Data/Assets/adunit-dtc-soccer-swipe-to-catch-mob/_preview.png\n",
      "Reading image from: ../data/Challenge_Data/Assets/adunit-ntuc-fair-price-christmas-mob/_preview.png\n",
      "Warning: Image not found at ../data/Challenge_Data/Assets/adunit-ntuc-fair-price-christmas-mob/_preview.png\n",
      "Reading image from: ../data/Challenge_Data/Assets/06c1d5086fb91fd2e62f4c5e29e2759c/_preview.png\n",
      "Reading image from: ../data/Challenge_Data/Assets/de22272cbb7ebe2622fa3b847330ccc6/_preview.png\n"
     ]
    },
    {
     "name": "stderr",
     "output_type": "stream",
     "text": [
      "[ WARN:0@111.557] global loadsave.cpp:241 findDecoder imread_('../data/Challenge_Data/Assets/adunit-heineken-pure-malt-bio/_preview.png'): can't open/read file: check file path/integrity\n",
      "[ WARN:0@111.557] global loadsave.cpp:241 findDecoder imread_('../data/Challenge_Data/Assets/adunit-mouser-user-choice-v3-canada-cpe-mpu/_preview.png'): can't open/read file: check file path/integrity\n",
      "[ WARN:0@111.558] global loadsave.cpp:241 findDecoder imread_('../data/Challenge_Data/Assets/adunit-hennessy-vsop-refik-anadol/_preview.png'): can't open/read file: check file path/integrity\n",
      "[ WARN:0@111.558] global loadsave.cpp:241 findDecoder imread_('../data/Challenge_Data/Assets/adunit-dtc-soccer-swipe-to-catch-mob/_preview.png'): can't open/read file: check file path/integrity\n",
      "[ WARN:0@111.558] global loadsave.cpp:241 findDecoder imread_('../data/Challenge_Data/Assets/adunit-ntuc-fair-price-christmas-mob/_preview.png'): can't open/read file: check file path/integrity\n"
     ]
    },
    {
     "name": "stdout",
     "output_type": "stream",
     "text": [
      "Reading image from: ../data/Challenge_Data/Assets/4df8be2d1f001c08abee098975068323/_preview.png\n",
      "Reading image from: ../data/Challenge_Data/Assets/adunit-lexus-icertified-sensory-video-google-maps-cta-mob/_preview.png\n",
      "Warning: Image not found at ../data/Challenge_Data/Assets/adunit-lexus-icertified-sensory-video-google-maps-cta-mob/_preview.png\n",
      "Reading image from: ../data/Challenge_Data/Assets/91aa41c408ad4ff2e688c58c5ffe4e93/_preview.png\n"
     ]
    },
    {
     "name": "stderr",
     "output_type": "stream",
     "text": [
      "[ WARN:0@111.901] global loadsave.cpp:241 findDecoder imread_('../data/Challenge_Data/Assets/adunit-lexus-icertified-sensory-video-google-maps-cta-mob/_preview.png'): can't open/read file: check file path/integrity\n"
     ]
    },
    {
     "name": "stdout",
     "output_type": "stream",
     "text": [
      "Reading image from: ../data/Challenge_Data/Assets/9931c8470e7412c45c890f4f7c59c1f4/_preview.png\n",
      "Reading image from: ../data/Challenge_Data/Assets/adunit-lionsgate-uwomt-user-slider-sensory-video-final-mob/_preview.png\n",
      "Warning: Image not found at ../data/Challenge_Data/Assets/adunit-lionsgate-uwomt-user-slider-sensory-video-final-mob/_preview.png\n",
      "Reading image from: ../data/Challenge_Data/Assets/adunit-facebook-conversational-commerce-3-0-vn-bio1-mob/_preview.png\n",
      "Warning: Image not found at ../data/Challenge_Data/Assets/adunit-facebook-conversational-commerce-3-0-vn-bio1-mob/_preview.png\n",
      "Reading image from: ../data/Challenge_Data/Assets/243e1d1c834bb95798ff4e1db49950a3/_preview.png\n"
     ]
    },
    {
     "name": "stderr",
     "output_type": "stream",
     "text": [
      "[ WARN:0@112.138] global loadsave.cpp:241 findDecoder imread_('../data/Challenge_Data/Assets/adunit-lionsgate-uwomt-user-slider-sensory-video-final-mob/_preview.png'): can't open/read file: check file path/integrity\n",
      "[ WARN:0@112.138] global loadsave.cpp:241 findDecoder imread_('../data/Challenge_Data/Assets/adunit-facebook-conversational-commerce-3-0-vn-bio1-mob/_preview.png'): can't open/read file: check file path/integrity\n"
     ]
    },
    {
     "name": "stdout",
     "output_type": "stream",
     "text": [
      "Reading image from: ../data/Challenge_Data/Assets/6a9230f97e1bf95266390f0f94c774dd/_preview.png\n",
      "Reading image from: ../data/Challenge_Data/Assets/42b246e4d3bf68de81ab0262a2f05691/_preview.png\n",
      "Reading image from: ../data/Challenge_Data/Assets/adunit-mouser-user-choice-flight4-aus-nz-cpe-mpu/_preview.png\n",
      "Warning: Image not found at ../data/Challenge_Data/Assets/adunit-mouser-user-choice-flight4-aus-nz-cpe-mpu/_preview.png\n",
      "Reading image from: ../data/Challenge_Data/Assets/2407dd6a760fb8ea2054a251cdb5b907/_preview.png\n",
      "Reading image from: ../data/Challenge_Data/Assets/4b21d71efe295df873a1d907932dae72/_preview.png\n"
     ]
    },
    {
     "name": "stderr",
     "output_type": "stream",
     "text": [
      "[ WARN:0@112.485] global loadsave.cpp:241 findDecoder imread_('../data/Challenge_Data/Assets/adunit-mouser-user-choice-flight4-aus-nz-cpe-mpu/_preview.png'): can't open/read file: check file path/integrity\n"
     ]
    },
    {
     "name": "stdout",
     "output_type": "stream",
     "text": [
      "Reading image from: ../data/Challenge_Data/Assets/b2174dea77ef62674fa5d51c84359984/_preview.png\n",
      "Reading image from: ../data/Challenge_Data/Assets/adunit-nestle-maggi-varieties-bouillon-en-kwt-mpu/_preview.png\n",
      "Warning: Image not found at ../data/Challenge_Data/Assets/adunit-nestle-maggi-varieties-bouillon-en-kwt-mpu/_preview.png\n",
      "Reading image from: ../data/Challenge_Data/Assets/adunit-lionsgate-uwomt-user-slider-sensory-video-final-tune4-mob/_preview.png\n",
      "Warning: Image not found at ../data/Challenge_Data/Assets/adunit-lionsgate-uwomt-user-slider-sensory-video-final-tune4-mob/_preview.png\n",
      "Reading image from: ../data/Challenge_Data/Assets/c6ce1941383baf5a5cbfa7cfbb89dbc2/_preview.png\n"
     ]
    },
    {
     "name": "stderr",
     "output_type": "stream",
     "text": [
      "[ WARN:0@112.847] global loadsave.cpp:241 findDecoder imread_('../data/Challenge_Data/Assets/adunit-nestle-maggi-varieties-bouillon-en-kwt-mpu/_preview.png'): can't open/read file: check file path/integrity\n",
      "[ WARN:0@112.847] global loadsave.cpp:241 findDecoder imread_('../data/Challenge_Data/Assets/adunit-lionsgate-uwomt-user-slider-sensory-video-final-tune4-mob/_preview.png'): can't open/read file: check file path/integrity\n"
     ]
    },
    {
     "name": "stdout",
     "output_type": "stream",
     "text": [
      "Reading image from: ../data/Challenge_Data/Assets/de9c6db1311c86407f28feced87dc46b/_preview.png\n",
      "Reading image from: ../data/Challenge_Data/Assets/4e262fac1ce05ff65d581d668fc54e86/_preview.png\n",
      "Reading image from: ../data/Challenge_Data/Assets/b22916b05fb1e90b8b8d33812483022c/_preview.png\n",
      "Reading image from: ../data/Challenge_Data/Assets/adunit-lionsgate-americanunderdog-bio-mob/_preview.png\n",
      "Warning: Image not found at ../data/Challenge_Data/Assets/adunit-lionsgate-americanunderdog-bio-mob/_preview.png\n",
      "Reading image from: ../data/Challenge_Data/Assets/80399f92f8970d3bc8b26af690768c15/_preview.png\n"
     ]
    },
    {
     "name": "stderr",
     "output_type": "stream",
     "text": [
      "[ WARN:0@113.330] global loadsave.cpp:241 findDecoder imread_('../data/Challenge_Data/Assets/adunit-lionsgate-americanunderdog-bio-mob/_preview.png'): can't open/read file: check file path/integrity\n"
     ]
    },
    {
     "name": "stdout",
     "output_type": "stream",
     "text": [
      "Reading image from: ../data/Challenge_Data/Assets/adunit-engagementplus-ihop-mpu/_preview.png\n",
      "Reading image from: ../data/Challenge_Data/Assets/adunit-jaguar-nameplate-refresh-mfcc-mpu/_preview.png\n",
      "Warning: Image not found at ../data/Challenge_Data/Assets/adunit-jaguar-nameplate-refresh-mfcc-mpu/_preview.png\n",
      "Reading image from: ../data/Challenge_Data/Assets/bae285cdb6a38209f32e9e0c5f0a69ce/_preview.png\n"
     ]
    },
    {
     "name": "stderr",
     "output_type": "stream",
     "text": [
      "[ WARN:0@113.585] global loadsave.cpp:241 findDecoder imread_('../data/Challenge_Data/Assets/adunit-jaguar-nameplate-refresh-mfcc-mpu/_preview.png'): can't open/read file: check file path/integrity\n"
     ]
    },
    {
     "name": "stdout",
     "output_type": "stream",
     "text": [
      "Reading image from: ../data/Challenge_Data/Assets/c350b0acd9f7b128c5ba096863e5444b/_preview.png\n",
      "Reading image from: ../data/Challenge_Data/Assets/adunit-lionsgate-uwomt-user-slider-sensory-video-final-tune3-mpu/_preview.png\n",
      "Warning: Image not found at ../data/Challenge_Data/Assets/adunit-lionsgate-uwomt-user-slider-sensory-video-final-tune3-mpu/_preview.png\n",
      "Reading image from: ../data/Challenge_Data/Assets/adunit-mouser-user-choice-flight4-us-cpe-mpu/_preview.png\n",
      "Warning: Image not found at ../data/Challenge_Data/Assets/adunit-mouser-user-choice-flight4-us-cpe-mpu/_preview.png\n",
      "Reading image from: ../data/Challenge_Data/Assets/adunit-yamaha-rmax2-1000-le-sensory-plus-video-mpu/_preview.png\n",
      "Warning: Image not found at ../data/Challenge_Data/Assets/adunit-yamaha-rmax2-1000-le-sensory-plus-video-mpu/_preview.png\n",
      "Reading image from: ../data/Challenge_Data/Assets/fdf622b95e3d532398921834f6bbfa38/_preview.png\n"
     ]
    },
    {
     "name": "stderr",
     "output_type": "stream",
     "text": [
      "[ WARN:0@113.822] global loadsave.cpp:241 findDecoder imread_('../data/Challenge_Data/Assets/adunit-lionsgate-uwomt-user-slider-sensory-video-final-tune3-mpu/_preview.png'): can't open/read file: check file path/integrity\n",
      "[ WARN:0@113.822] global loadsave.cpp:241 findDecoder imread_('../data/Challenge_Data/Assets/adunit-mouser-user-choice-flight4-us-cpe-mpu/_preview.png'): can't open/read file: check file path/integrity\n",
      "[ WARN:0@113.822] global loadsave.cpp:241 findDecoder imread_('../data/Challenge_Data/Assets/adunit-yamaha-rmax2-1000-le-sensory-plus-video-mpu/_preview.png'): can't open/read file: check file path/integrity\n"
     ]
    },
    {
     "name": "stdout",
     "output_type": "stream",
     "text": [
      "Reading image from: ../data/Challenge_Data/Assets/015efcdd8de3698ffc4dad6dabd6664a/_preview.png\n",
      "Reading image from: ../data/Challenge_Data/Assets/26a8b89687aab2fafd586a34fc86ed46/_preview.png\n",
      "Reading image from: ../data/Challenge_Data/Assets/adunit-heineken-sa-celebrations-bio-v3-mob/_preview.png\n",
      "Warning: Image not found at ../data/Challenge_Data/Assets/adunit-heineken-sa-celebrations-bio-v3-mob/_preview.png\n",
      "Reading image from: ../data/Challenge_Data/Assets/8388c02100992a33a5a08e1e6dbe6204/_preview.png\n",
      "Reading image from: ../data/Challenge_Data/Assets/b973c711c94c3261f51e002b853be33d/_preview.png\n"
     ]
    },
    {
     "name": "stderr",
     "output_type": "stream",
     "text": [
      "[ WARN:0@114.171] global loadsave.cpp:241 findDecoder imread_('../data/Challenge_Data/Assets/adunit-heineken-sa-celebrations-bio-v3-mob/_preview.png'): can't open/read file: check file path/integrity\n"
     ]
    },
    {
     "name": "stdout",
     "output_type": "stream",
     "text": [
      "Reading image from: ../data/Challenge_Data/Assets/b12b03c2dec5e71fe630d3b06062982a/_preview.png\n",
      "Reading image from: ../data/Challenge_Data/Assets/c8fc9c5e6ec515c610c73f772ed5d3a4/_preview.png\n",
      "Reading image from: ../data/Challenge_Data/Assets/adunit-engagement-plus-ihop-evergreen-olo-drag-right-mpu/_preview.png\n",
      "Reading image from: ../data/Challenge_Data/Assets/0aeb1ee8a72ad3c5566cf7a2885dc39b/_preview.png\n",
      "Reading image from: ../data/Challenge_Data/Assets/adunit-milk-ctc-swipe-to-catch-mpu/_preview.png\n",
      "Warning: Image not found at ../data/Challenge_Data/Assets/adunit-milk-ctc-swipe-to-catch-mpu/_preview.png\n",
      "Reading image from: ../data/Challenge_Data/Assets/2b5174ee56b69baabe7f799a9de52411/_preview.png\n",
      "Reading image from: ../data/Challenge_Data/Assets/459a8be7fbd64cc4719d79b6054de037/_preview.png\n"
     ]
    },
    {
     "name": "stderr",
     "output_type": "stream",
     "text": [
      "[ WARN:0@114.850] global loadsave.cpp:241 findDecoder imread_('../data/Challenge_Data/Assets/adunit-milk-ctc-swipe-to-catch-mpu/_preview.png'): can't open/read file: check file path/integrity\n"
     ]
    },
    {
     "name": "stdout",
     "output_type": "stream",
     "text": [
      "Reading image from: ../data/Challenge_Data/Assets/016534141ab870fdbf1b9c163955924d/_preview.png\n",
      "Reading image from: ../data/Challenge_Data/Assets/c486723bb2d768d24036054973b1cebc/_preview.png\n",
      "Reading image from: ../data/Challenge_Data/Assets/c76677bf8d4e0e0d6267a8c097957e92/_preview.png\n",
      "Reading image from: ../data/Challenge_Data/Assets/eab4ad84efa8e1c830ff47d6e8ad4379/_preview.png\n",
      "Reading image from: ../data/Challenge_Data/Assets/adunit-mouser-user-choice-flight4-us-cpe-av-mpu/_preview.png\n",
      "Warning: Image not found at ../data/Challenge_Data/Assets/adunit-mouser-user-choice-flight4-us-cpe-av-mpu/_preview.png\n",
      "Reading image from: ../data/Challenge_Data/Assets/adunit-yamaha-wolverine-user-choice-av-v2-mob/_preview.png\n",
      "Warning: Image not found at ../data/Challenge_Data/Assets/adunit-yamaha-wolverine-user-choice-av-v2-mob/_preview.png\n",
      "Reading image from: ../data/Challenge_Data/Assets/a19b99c57ec298782b9fbcdde83b9734/_preview.png\n",
      "Reading image from: ../data/Challenge_Data/Assets/b429b231c4bcc785642a771a84b58eb2/_preview.png\n"
     ]
    },
    {
     "name": "stderr",
     "output_type": "stream",
     "text": [
      "[ WARN:0@115.526] global loadsave.cpp:241 findDecoder imread_('../data/Challenge_Data/Assets/adunit-mouser-user-choice-flight4-us-cpe-av-mpu/_preview.png'): can't open/read file: check file path/integrity\n",
      "[ WARN:0@115.526] global loadsave.cpp:241 findDecoder imread_('../data/Challenge_Data/Assets/adunit-yamaha-wolverine-user-choice-av-v2-mob/_preview.png'): can't open/read file: check file path/integrity\n"
     ]
    },
    {
     "name": "stdout",
     "output_type": "stream",
     "text": [
      "Reading image from: ../data/Challenge_Data/Assets/adunit-mouser-user-choice-v2-cpe-av-mpu/_preview.png\n",
      "Warning: Image not found at ../data/Challenge_Data/Assets/adunit-mouser-user-choice-v2-cpe-av-mpu/_preview.png\n",
      "Reading image from: ../data/Challenge_Data/Assets/44495dd7cc8acb29ea1392d6066c43d0/_preview.png\n",
      "Reading image from: ../data/Challenge_Data/Assets/adunit-chevy-600-1200-hotspot-explorer-cpe-av-mob/_preview.png\n",
      "Warning: Image not found at ../data/Challenge_Data/Assets/adunit-chevy-600-1200-hotspot-explorer-cpe-av-mob/_preview.png\n",
      "Reading image from: ../data/Challenge_Data/Assets/4c3bb41d4f40f39842b7b8d3f536366a/_preview.png\n"
     ]
    },
    {
     "name": "stderr",
     "output_type": "stream",
     "text": [
      "[ WARN:0@115.741] global loadsave.cpp:241 findDecoder imread_('../data/Challenge_Data/Assets/adunit-mouser-user-choice-v2-cpe-av-mpu/_preview.png'): can't open/read file: check file path/integrity\n",
      "[ WARN:0@115.866] global loadsave.cpp:241 findDecoder imread_('../data/Challenge_Data/Assets/adunit-chevy-600-1200-hotspot-explorer-cpe-av-mob/_preview.png'): can't open/read file: check file path/integrity\n"
     ]
    },
    {
     "name": "stdout",
     "output_type": "stream",
     "text": [
      "Reading image from: ../data/Challenge_Data/Assets/ddef3dc6e16e17bb53b7ba66a400308b/_preview.png\n",
      "Reading image from: ../data/Challenge_Data/Assets/adunit-yamaha-wolverine-user-choice-cpe-reuse-mob/_preview.png\n",
      "Warning: Image not found at ../data/Challenge_Data/Assets/adunit-yamaha-wolverine-user-choice-cpe-reuse-mob/_preview.png\n",
      "Reading image from: ../data/Challenge_Data/Assets/bb8342d60fc04fb8c4fcfdbc3025f4d9/_preview.png\n"
     ]
    },
    {
     "name": "stderr",
     "output_type": "stream",
     "text": [
      "[ WARN:0@116.085] global loadsave.cpp:241 findDecoder imread_('../data/Challenge_Data/Assets/adunit-yamaha-wolverine-user-choice-cpe-reuse-mob/_preview.png'): can't open/read file: check file path/integrity\n",
      "[ WARN:0@116.194] global loadsave.cpp:241 findDecoder imread_('../data/Challenge_Data/Assets/adunit-mouser-user-choice-v2-cpe-av-uk-mpu/_preview.png'): can't open/read file: check file path/integrity\n"
     ]
    },
    {
     "name": "stdout",
     "output_type": "stream",
     "text": [
      "Reading image from: ../data/Challenge_Data/Assets/adunit-mouser-user-choice-v2-cpe-av-uk-mpu/_preview.png\n",
      "Warning: Image not found at ../data/Challenge_Data/Assets/adunit-mouser-user-choice-v2-cpe-av-uk-mpu/_preview.png\n",
      "Reading image from: ../data/Challenge_Data/Assets/624c1fc48eda8c49a470567317891825/_preview.png\n",
      "Reading image from: ../data/Challenge_Data/Assets/adunit-mouser-user-choice-flight4-aus-nz-cpe-av-mpu/_preview.png\n",
      "Warning: Image not found at ../data/Challenge_Data/Assets/adunit-mouser-user-choice-flight4-aus-nz-cpe-av-mpu/_preview.png\n",
      "Reading image from: ../data/Challenge_Data/Assets/ee8ae60b2e46e44da79fb7e59b07eae4/_preview.png\n"
     ]
    },
    {
     "name": "stderr",
     "output_type": "stream",
     "text": [
      "[ WARN:0@116.302] global loadsave.cpp:241 findDecoder imread_('../data/Challenge_Data/Assets/adunit-mouser-user-choice-flight4-aus-nz-cpe-av-mpu/_preview.png'): can't open/read file: check file path/integrity\n",
      "[ WARN:0@116.418] global loadsave.cpp:241 findDecoder imread_('../data/Challenge_Data/Assets/adunit-mouser-user-choice-cpe-us-mob/_preview.png'): can't open/read file: check file path/integrity\n",
      "[ WARN:0@116.418] global loadsave.cpp:241 findDecoder imread_('../data/Challenge_Data/Assets/adunit-mouser-user-choice-cpe-av-canada-mob/_preview.png'): can't open/read file: check file path/integrity\n",
      "[ WARN:0@116.418] global loadsave.cpp:241 findDecoder imread_('../data/Challenge_Data/Assets/adunit-lionsgate-moonfall-parallax-dec-get-tickets-v2-mob/_preview.png'): can't open/read file: check file path/integrity\n"
     ]
    },
    {
     "name": "stdout",
     "output_type": "stream",
     "text": [
      "Reading image from: ../data/Challenge_Data/Assets/adunit-mouser-user-choice-cpe-us-mob/_preview.png\n",
      "Warning: Image not found at ../data/Challenge_Data/Assets/adunit-mouser-user-choice-cpe-us-mob/_preview.png\n",
      "Reading image from: ../data/Challenge_Data/Assets/adunit-mouser-user-choice-cpe-av-canada-mob/_preview.png\n",
      "Warning: Image not found at ../data/Challenge_Data/Assets/adunit-mouser-user-choice-cpe-av-canada-mob/_preview.png\n",
      "Reading image from: ../data/Challenge_Data/Assets/adunit-lionsgate-moonfall-parallax-dec-get-tickets-v2-mob/_preview.png\n",
      "Warning: Image not found at ../data/Challenge_Data/Assets/adunit-lionsgate-moonfall-parallax-dec-get-tickets-v2-mob/_preview.png\n",
      "Reading image from: ../data/Challenge_Data/Assets/ed3071a667a11cc56e88ae0489bfe6aa/_preview.png\n",
      "Reading image from: ../data/Challenge_Data/Assets/9afba90addb72bcdbab265b3492540e1/_preview.png\n",
      "Reading image from: ../data/Challenge_Data/Assets/afacaf5b3063c23f8231cc01be74aa1d/_preview.png\n",
      "Reading image from: ../data/Challenge_Data/Assets/92c16abb4f96ac15f03501d3d4fbda05/_preview.png\n",
      "Reading image from: ../data/Challenge_Data/Assets/adunit-engagementplus-ihop-mob/_preview.png\n",
      "Reading image from: ../data/Challenge_Data/Assets/adunit-windhoek-beer-year-end-2021-bio-v3-mob/_preview.png\n",
      "Warning: Image not found at ../data/Challenge_Data/Assets/adunit-windhoek-beer-year-end-2021-bio-v3-mob/_preview.png\n",
      "Reading image from: ../data/Challenge_Data/Assets/adunit-nestle-maggi-varieties-bouillon-ar-uae-v1-mpu/_preview.png\n",
      "Warning: Image not found at ../data/Challenge_Data/Assets/adunit-nestle-maggi-varieties-bouillon-ar-uae-v1-mpu/_preview.png\n",
      "Reading image from: ../data/Challenge_Data/Assets/f4fc8ed9cf50e6f77bb14054b88ee2cd/_preview.png\n"
     ]
    },
    {
     "name": "stderr",
     "output_type": "stream",
     "text": [
      "[ WARN:0@116.975] global loadsave.cpp:241 findDecoder imread_('../data/Challenge_Data/Assets/adunit-windhoek-beer-year-end-2021-bio-v3-mob/_preview.png'): can't open/read file: check file path/integrity\n",
      "[ WARN:0@116.975] global loadsave.cpp:241 findDecoder imread_('../data/Challenge_Data/Assets/adunit-nestle-maggi-varieties-bouillon-ar-uae-v1-mpu/_preview.png'): can't open/read file: check file path/integrity\n"
     ]
    },
    {
     "name": "stdout",
     "output_type": "stream",
     "text": [
      "Reading image from: ../data/Challenge_Data/Assets/64df515c2e4b954d029301fbc14db84a/_preview.png\n",
      "Reading image from: ../data/Challenge_Data/Assets/40a448ee93f85a6f94825b7afc1337b0/_preview.png\n",
      "Reading image from: ../data/Challenge_Data/Assets/2443bd3b890824acecbe32659b9a1246/_preview.png\n",
      "Reading image from: ../data/Challenge_Data/Assets/7ed73c1cc404f9956d26c5f58de72b2f/_preview.png\n",
      "Reading image from: ../data/Challenge_Data/Assets/90455f5ace15860874965eabd081b6f2/_preview.png\n",
      "Reading image from: ../data/Challenge_Data/Assets/adunit-chevy-hotspot-cpe-av-mpu/_preview.png\n",
      "Warning: Image not found at ../data/Challenge_Data/Assets/adunit-chevy-hotspot-cpe-av-mpu/_preview.png\n",
      "Reading image from: ../data/Challenge_Data/Assets/adunit-facebook-conversational-commerce-3-0-vn-bio2-mob/_preview.png\n",
      "Warning: Image not found at ../data/Challenge_Data/Assets/adunit-facebook-conversational-commerce-3-0-vn-bio2-mob/_preview.png\n"
     ]
    },
    {
     "name": "stderr",
     "output_type": "stream",
     "text": [
      "[ WARN:0@117.668] global loadsave.cpp:241 findDecoder imread_('../data/Challenge_Data/Assets/adunit-chevy-hotspot-cpe-av-mpu/_preview.png'): can't open/read file: check file path/integrity\n",
      "[ WARN:0@117.668] global loadsave.cpp:241 findDecoder imread_('../data/Challenge_Data/Assets/adunit-facebook-conversational-commerce-3-0-vn-bio2-mob/_preview.png'): can't open/read file: check file path/integrity\n"
     ]
    }
   ],
   "source": [
    "\n",
    "def extract_image_features(image_path):\n",
    "    print(f\"Reading image from: {image_path}\")  \n",
    "    img = cv2.imread(image_path)\n",
    "    if img is None:\n",
    "        print(f\"Warning: Image not found at {image_path}\") \n",
    "        return None  \n",
    "    results = model(img)\n",
    "    features = results.pandas().xyxy[0]\n",
    "    return features\n",
    "\n",
    "data['features'] = data['game_id'].apply(lambda x: extract_image_features(f'../data/Challenge_Data/Assets/{x}/_preview.png'))\n",
    "\n",
    "# Drop rows where features are None\n",
    "data = data.dropna(subset=['features'])\n"
   ]
  },
  {
   "cell_type": "code",
   "execution_count": 34,
   "metadata": {},
   "outputs": [
    {
     "name": "stdout",
     "output_type": "stream",
     "text": [
      "Reading image from: ../data/Challenge_Data/Assets/bfbf7a2b7ac635e67877b1ab87fd6629/_preview.png\n",
      "Reading image from: ../data/Challenge_Data/Assets/945010afbf9a55bbdffcb0895f946155/_preview.png\n",
      "Reading image from: ../data/Challenge_Data/Assets/e68e20f592457b875ce29757ab855dfe/_preview.png\n",
      "Reading image from: ../data/Challenge_Data/Assets/84327cf26d2a91e2730ae7ddbfca6d59/_preview.png\n"
     ]
    },
    {
     "name": "stdout",
     "output_type": "stream",
     "text": [
      "Reading image from: ../data/Challenge_Data/Assets/08b7a12a72fb5100b27197c39bab1b70/_preview.png\n",
      "Reading image from: ../data/Challenge_Data/Assets/bb631902fce625cf0dc87d80c027c905/_preview.png\n",
      "Reading image from: ../data/Challenge_Data/Assets/bcc5ae4665b6b8c2ff25dfdc65fbc65a/_preview.png\n",
      "Reading image from: ../data/Challenge_Data/Assets/7fc571f85358c5d37efafde99b6896d7/_preview.png\n",
      "Reading image from: ../data/Challenge_Data/Assets/79c36d2adb94900291f5ddf1f6580c43/_preview.png\n",
      "Reading image from: ../data/Challenge_Data/Assets/c7ecd71b4632aea2ffca69a1d079b290/_preview.png\n",
      "Reading image from: ../data/Challenge_Data/Assets/8fa19496d906812e1f44a983d347ee63/_preview.png\n",
      "Reading image from: ../data/Challenge_Data/Assets/3ef8b18ef78ad050d1a76b801d97a08c/_preview.png\n",
      "Reading image from: ../data/Challenge_Data/Assets/7f25293ac6d5c570749cea2af84e8439/_preview.png\n",
      "Reading image from: ../data/Challenge_Data/Assets/3c23316180b7da3e712c0596fa01ff74/_preview.png\n",
      "Reading image from: ../data/Challenge_Data/Assets/459c60702cfaae32207a161b693df47c/_preview.png\n",
      "Reading image from: ../data/Challenge_Data/Assets/61eb910425767fd90074a958328bee6a/_preview.png\n",
      "Reading image from: ../data/Challenge_Data/Assets/3a5bb9945be02e4181eee1dec5c25edc/_preview.png\n",
      "Reading image from: ../data/Challenge_Data/Assets/e656e46e3a4dc66fc0baa433c94bfd1a/_preview.png\n",
      "Reading image from: ../data/Challenge_Data/Assets/4264eae0ad6e1cbcea3d73d88becb787/_preview.png\n",
      "Reading image from: ../data/Challenge_Data/Assets/6a3dbf08b82e45b3f3e79844f3a9aa18/_preview.png\n",
      "Reading image from: ../data/Challenge_Data/Assets/29383bc5de5a62c642fb9434d71863e7/_preview.png\n",
      "Reading image from: ../data/Challenge_Data/Assets/9278a3d31c76eaa929d2326e1b2062e1/_preview.png\n",
      "Reading image from: ../data/Challenge_Data/Assets/b768aedc20d9c135b355b7cd8e8beff3/_preview.png\n",
      "Reading image from: ../data/Challenge_Data/Assets/ee11627c036ee9772446b6e3ac9da649/_preview.png\n",
      "Reading image from: ../data/Challenge_Data/Assets/07f93a53c25007301d276ec20e7be491/_preview.png\n",
      "Reading image from: ../data/Challenge_Data/Assets/2a6bbf47edb9f1cb3a722784c5e73e83/_preview.png\n",
      "Reading image from: ../data/Challenge_Data/Assets/3a9208f5502fa4ad01ddf92a77a0e8a3/_preview.png\n",
      "Reading image from: ../data/Challenge_Data/Assets/404c5d32b088d0869fd7774ce7582f89/_preview.png\n",
      "Reading image from: ../data/Challenge_Data/Assets/b1e8cf36fefced5b9f20d291026b06db/_preview.png\n",
      "Reading image from: ../data/Challenge_Data/Assets/b285c9ac9aa1669a7350e4c4594ea571/_preview.png\n",
      "Reading image from: ../data/Challenge_Data/Assets/b8595cc38764f2c30d986c4c8080671c/_preview.png\n",
      "Reading image from: ../data/Challenge_Data/Assets/42dd2154c1b6f67a461463cf322c9830/_preview.png\n",
      "Reading image from: ../data/Challenge_Data/Assets/7db3a9c286b1a445845bad68ff95f2bb/_preview.png\n",
      "Reading image from: ../data/Challenge_Data/Assets/73adaebd0fbf7778d06d9d711ba5c152/_preview.png\n",
      "Reading image from: ../data/Challenge_Data/Assets/3bc6564698bdf9559b98b255737bbedb/_preview.png\n",
      "Reading image from: ../data/Challenge_Data/Assets/df89c44299ec66120e89ab1d1296c26f/_preview.png\n",
      "Reading image from: ../data/Challenge_Data/Assets/39d4594499ca9372338b51f71e0b6681/_preview.png\n",
      "Reading image from: ../data/Challenge_Data/Assets/3c35998c3f4a279a008ac3ffd8481fea/_preview.png\n",
      "Reading image from: ../data/Challenge_Data/Assets/c706a9ad6b0c2ee9295fe40dfa5b0615/_preview.png\n",
      "Reading image from: ../data/Challenge_Data/Assets/8b6e13cab4903dffde5588ea2ab0c2a2/_preview.png\n",
      "Reading image from: ../data/Challenge_Data/Assets/637244e2ca7b57187bd1b563a5b85846/_preview.png\n",
      "Reading image from: ../data/Challenge_Data/Assets/99558df7a3e64e9b15c34c20f44f038a/_preview.png\n",
      "Reading image from: ../data/Challenge_Data/Assets/39825c2c74eae1fd9c73da842617d2da/_preview.png\n",
      "Reading image from: ../data/Challenge_Data/Assets/ed9fd46313a5bce5f00d5fd720e5880f/_preview.png\n",
      "Reading image from: ../data/Challenge_Data/Assets/c176d5a3e27117bc90e3820434a024d9/_preview.png\n",
      "Reading image from: ../data/Challenge_Data/Assets/bf1f7af46eec0e92939a8b3ba51cbacd/_preview.png\n",
      "Reading image from: ../data/Challenge_Data/Assets/26e54c41e45e7bd0899b90fdacf124fd/_preview.png\n",
      "Reading image from: ../data/Challenge_Data/Assets/d1e28a38a4e871527e62543540d0e7a7/_preview.png\n",
      "Reading image from: ../data/Challenge_Data/Assets/f5f846befe806be6021ff34f9fd60547/_preview.png\n",
      "Reading image from: ../data/Challenge_Data/Assets/b4d26946d68754d77027cc419d36892f/_preview.png\n",
      "Reading image from: ../data/Challenge_Data/Assets/96510a48f1e13c601687e80f5d60670b/_preview.png\n",
      "Reading image from: ../data/Challenge_Data/Assets/09f35af0a30b37dce2f1a5ad7f143293/_preview.png\n",
      "Reading image from: ../data/Challenge_Data/Assets/4443d262f14a8d6d58655dcf2e8c4542/_preview.png\n",
      "Reading image from: ../data/Challenge_Data/Assets/3f08e75ebd9b0ca68ffd298893647a13/_preview.png\n",
      "Reading image from: ../data/Challenge_Data/Assets/c21bfafc138cf023080098b0f7a439d0/_preview.png\n",
      "Reading image from: ../data/Challenge_Data/Assets/65299151bf4cbd1825d28e4a43d113ac/_preview.png\n",
      "Reading image from: ../data/Challenge_Data/Assets/3ff8db0779a25d3a9b92aebfb0eebe69/_preview.png\n",
      "Reading image from: ../data/Challenge_Data/Assets/d3a2aee36af8bf076d1111a6115be31b/_preview.png\n",
      "Reading image from: ../data/Challenge_Data/Assets/b7aa3693292fc7cf17f4fc1da680bf5d/_preview.png\n",
      "Reading image from: ../data/Challenge_Data/Assets/015f38df736f5a9498b18a1d12170187/_preview.png\n",
      "Reading image from: ../data/Challenge_Data/Assets/db69df88f5a7b1540d4ff829bffb97f9/_preview.png\n",
      "Reading image from: ../data/Challenge_Data/Assets/22c8ca74c84370214de628417aff20d6/_preview.png\n",
      "Reading image from: ../data/Challenge_Data/Assets/d6875bfe73a3abc7eea25b7de121c643/_preview.png\n",
      "Reading image from: ../data/Challenge_Data/Assets/6939c3f395fc2317da25fa5b19580c68/_preview.png\n",
      "Reading image from: ../data/Challenge_Data/Assets/cc60737a3e2f6b713484916327764a5f/_preview.png\n",
      "Reading image from: ../data/Challenge_Data/Assets/f6c6774bb267182cf248fd64a5b25b59/_preview.png\n",
      "Reading image from: ../data/Challenge_Data/Assets/3c99774ddf5babcf91ae21f76e9f4508/_preview.png\n",
      "Reading image from: ../data/Challenge_Data/Assets/255d22983f0277734d8063562fad31b7/_preview.png\n",
      "Reading image from: ../data/Challenge_Data/Assets/3ae630f06b5d395a7a0db157c2430093/_preview.png\n",
      "Reading image from: ../data/Challenge_Data/Assets/4a626b2e90bd71acc2ef014c7e1123c7/_preview.png\n",
      "Reading image from: ../data/Challenge_Data/Assets/ea140a50dd4921ef96e08552e6eb9cc7/_preview.png\n",
      "Reading image from: ../data/Challenge_Data/Assets/4e3305a488faf871189cce9831a6c863/_preview.png\n",
      "Reading image from: ../data/Challenge_Data/Assets/495fb61f38dd39cd7fba4bb81af6c8f5/_preview.png\n",
      "Reading image from: ../data/Challenge_Data/Assets/4b17a1c22c7a81c721608629b84b8b80/_preview.png\n",
      "Reading image from: ../data/Challenge_Data/Assets/ff88446626571f68e23c4b07063fd806/_preview.png\n",
      "Reading image from: ../data/Challenge_Data/Assets/5dea9aa4ca7a1f9a0d65d85ebece9522/_preview.png\n",
      "Reading image from: ../data/Challenge_Data/Assets/2a7069f1ccdc33dd1f7a200e3026b4ad/_preview.png\n",
      "Reading image from: ../data/Challenge_Data/Assets/92ecf0b80b7483c89eb72a551484970a/_preview.png\n",
      "Reading image from: ../data/Challenge_Data/Assets/b8d87efae84799bd340ce653954a11b1/_preview.png\n",
      "Reading image from: ../data/Challenge_Data/Assets/75ada73f9b02a1f6e04f1bf69d5bd007/_preview.png\n",
      "Reading image from: ../data/Challenge_Data/Assets/3ee05bbb667222104101da1831329c3c/_preview.png\n",
      "Reading image from: ../data/Challenge_Data/Assets/b34d551e23ad7ce5a494453bcc409ccc/_preview.png\n",
      "Reading image from: ../data/Challenge_Data/Assets/c94556717fc1d3783d27f51ae1b5350e/_preview.png\n",
      "Reading image from: ../data/Challenge_Data/Assets/adunit-ihop-ihoppy-hour-save-dollar-5-mob/_preview.png\n",
      "Reading image from: ../data/Challenge_Data/Assets/7e0b86cf99bbb9152f0d510d36f84f40/_preview.png\n",
      "Reading image from: ../data/Challenge_Data/Assets/0814384db6d5dac4b55e781d99eeb4cb/_preview.png\n",
      "Reading image from: ../data/Challenge_Data/Assets/0a59be2e7dd53d6de11a10ce3649c081/_preview.png\n",
      "Reading image from: ../data/Challenge_Data/Assets/269d061e1b507338d8b4c69676f9ffa1/_preview.png\n",
      "Reading image from: ../data/Challenge_Data/Assets/3ba7994ec2ea0b953b57457bd25ac857/_preview.png\n",
      "Reading image from: ../data/Challenge_Data/Assets/76fe8ed6d5462ff2cc0ee750d2221a52/_preview.png\n",
      "Reading image from: ../data/Challenge_Data/Assets/b42473e8fdb0b3d6ea798f4118ef23aa/_preview.png\n",
      "Reading image from: ../data/Challenge_Data/Assets/c0ccae16df156f9744c8c74e252ad00b/_preview.png\n",
      "Reading image from: ../data/Challenge_Data/Assets/782fd6ca8cf0483d38a3d685a9cdb536/_preview.png\n",
      "Reading image from: ../data/Challenge_Data/Assets/adunit-ihop-ihoppy-hour-mpu/_preview.png\n",
      "Reading image from: ../data/Challenge_Data/Assets/f38dae81fae6d60408100503e4661ac6/_preview.png\n",
      "Reading image from: ../data/Challenge_Data/Assets/424a4a0bfde5a836ed93394a8c099b17/_preview.png\n",
      "Reading image from: ../data/Challenge_Data/Assets/83952985710c8e1646ac09269938e730/_preview.png\n",
      "Reading image from: ../data/Challenge_Data/Assets/f125ec6ad94bd7b93c1502fb7e16e2ba/_preview.png\n",
      "Reading image from: ../data/Challenge_Data/Assets/6befe54086758294b47addf0c12052a7/_preview.png\n",
      "Reading image from: ../data/Challenge_Data/Assets/ba62e65857faee399998f5d4dad7feaf/_preview.png\n",
      "Reading image from: ../data/Challenge_Data/Assets/d2210530c4400ba1eaf5f712b646e7e6/_preview.png\n",
      "Reading image from: ../data/Challenge_Data/Assets/05fa49d47b280182d4684b9f3358ded4/_preview.png\n",
      "Reading image from: ../data/Challenge_Data/Assets/65d2519c16266cf9a3b1a8a3d2d82c99/_preview.png\n",
      "Reading image from: ../data/Challenge_Data/Assets/28c88e21eaae4c3db86fe5a48ae9c7d5/_preview.png\n",
      "Reading image from: ../data/Challenge_Data/Assets/251daf76d78711e74c9b441f4bb62834/_preview.png\n",
      "Reading image from: ../data/Challenge_Data/Assets/adunit-ihop-window4-scary-face-mob/_preview.png\n",
      "Reading image from: ../data/Challenge_Data/Assets/d485045274821654173302dc5c7783c9/_preview.png\n",
      "Reading image from: ../data/Challenge_Data/Assets/dd43631ca1bf97d6c4966780b1f13a87/_preview.png\n",
      "Reading image from: ../data/Challenge_Data/Assets/42c5b4b367187c29ac8fdd78c70837d6/_preview.png\n",
      "Reading image from: ../data/Challenge_Data/Assets/0736dda52dd3ef12dc4f82fb51b1becd/_preview.png\n",
      "Reading image from: ../data/Challenge_Data/Assets/0301a5865ecfd7c5a1653dde10a5aedf/_preview.png\n",
      "Reading image from: ../data/Challenge_Data/Assets/6ae22e38b45ebb28b3202d7cf8515ce4/_preview.png\n",
      "Reading image from: ../data/Challenge_Data/Assets/5a48ffcbf611f167ecbb884e807f31f6/_preview.png\n",
      "Reading image from: ../data/Challenge_Data/Assets/3d18cfe28f2fbadff32db07a2132e12c/_preview.png\n",
      "Reading image from: ../data/Challenge_Data/Assets/698aa039cb003c1773b68cf89ab37096/_preview.png\n",
      "Reading image from: ../data/Challenge_Data/Assets/e6e771ae6f00d0f2ada4d2280cfd7740/_preview.png\n",
      "Reading image from: ../data/Challenge_Data/Assets/f95ed1b647ad098a3738f1b58142decd/_preview.png\n",
      "Reading image from: ../data/Challenge_Data/Assets/4f435640fb278b789726bbcd47ce5daf/_preview.png\n",
      "Reading image from: ../data/Challenge_Data/Assets/b16e25c480f043e4be7d8e011bfa5e95/_preview.png\n",
      "Reading image from: ../data/Challenge_Data/Assets/3a3878c4fa9698438884f2288bdd1ea2/_preview.png\n",
      "Reading image from: ../data/Challenge_Data/Assets/e1abe0c4a3df40bbb0d35d089caa13a5/_preview.png\n",
      "Reading image from: ../data/Challenge_Data/Assets/65fb17277b3fbfe200f6ac90f0717c48/_preview.png\n",
      "Reading image from: ../data/Challenge_Data/Assets/085e477e7aa74fc3a222bcb4385000be/_preview.png\n",
      "Reading image from: ../data/Challenge_Data/Assets/06162b54235c76bfc73c297dd000614a/_preview.png\n",
      "Reading image from: ../data/Challenge_Data/Assets/3d8be6f0a1e1c248a02befc0dd3f6bec/_preview.png\n",
      "Reading image from: ../data/Challenge_Data/Assets/2b7e702f208b7fd60d15d0bdadd269f4/_preview.png\n",
      "Reading image from: ../data/Challenge_Data/Assets/fac33ac29ac616dfa0053558c1a3c03c/_preview.png\n",
      "Reading image from: ../data/Challenge_Data/Assets/ca1d489a0c1849845cb7144e51b0a7a1/_preview.png\n",
      "Reading image from: ../data/Challenge_Data/Assets/2842f18b64fb7ac0661021da97de0def/_preview.png\n",
      "Reading image from: ../data/Challenge_Data/Assets/4247849793e2e0d3082ee5151a7e9416/_preview.png\n",
      "Reading image from: ../data/Challenge_Data/Assets/c38c56f98c1db74d1f613ec31d8bcf75/_preview.png\n",
      "Reading image from: ../data/Challenge_Data/Assets/b046eee3c13e2f88aba3c40743093d13/_preview.png\n",
      "Reading image from: ../data/Challenge_Data/Assets/9d7dacc59d5bfde6cfaa17d2604ae9d5/_preview.png\n",
      "Reading image from: ../data/Challenge_Data/Assets/43a29939d9ac51d99f5e3b4822914efe/_preview.png\n",
      "Reading image from: ../data/Challenge_Data/Assets/21d4924d608d1258ea35a53b314660bc/_preview.png\n",
      "Reading image from: ../data/Challenge_Data/Assets/c4b651056516bc245b6b0dd78c2b192c/_preview.png\n",
      "Reading image from: ../data/Challenge_Data/Assets/406833de6c44d0a19ab9db1559828563/_preview.png\n",
      "Reading image from: ../data/Challenge_Data/Assets/ec53b0973db5a35d83fd5bb009802bdb/_preview.png\n",
      "Reading image from: ../data/Challenge_Data/Assets/050fd94fd028e2b766dcbfa5a9586d2c/_preview.png\n",
      "Reading image from: ../data/Challenge_Data/Assets/95585c17779c722e67067c189cf15d63/_preview.png\n",
      "Reading image from: ../data/Challenge_Data/Assets/f6525e69f4bbebe1b522d463080006ce/_preview.png\n",
      "Reading image from: ../data/Challenge_Data/Assets/3bc12d2bdea947d4502e885b6d9aa442/_preview.png\n",
      "Reading image from: ../data/Challenge_Data/Assets/c911bb936656e056779e31c273417b46/_preview.png\n",
      "Reading image from: ../data/Challenge_Data/Assets/437ff18f66a2e2351c45582104ec8b65/_preview.png\n",
      "Reading image from: ../data/Challenge_Data/Assets/00dfe88c4d3fb60793765d314bf24b7c/_preview.png\n",
      "Reading image from: ../data/Challenge_Data/Assets/3f435a895024e81fd5126354c7972b0f/_preview.png\n",
      "Reading image from: ../data/Challenge_Data/Assets/adunit-engagement-plus-ihop-evergreen-olo-drag-right-mob/_preview.png\n",
      "Reading image from: ../data/Challenge_Data/Assets/d37f1a5e7d90e81756244e1bff3141bc/_preview.png\n",
      "Reading image from: ../data/Challenge_Data/Assets/ee5f0e9c4a1296a30944be613ab2028c/_preview.png\n",
      "Reading image from: ../data/Challenge_Data/Assets/ecc6562c52ea0a03f794e7cec023bd0b/_preview.png\n",
      "Reading image from: ../data/Challenge_Data/Assets/0b1ee11406e97cc6fb4229deeb19e6b7/_preview.png\n",
      "Reading image from: ../data/Challenge_Data/Assets/00508a6979fdd9c2e5f8c68bfefe5f71/_preview.png\n",
      "Reading image from: ../data/Challenge_Data/Assets/ae30ff3cae1f369954f5e91499b9e515/_preview.png\n",
      "Reading image from: ../data/Challenge_Data/Assets/6d72ce3e20781f20fb420b30d3dd8b0e/_preview.png\n",
      "Reading image from: ../data/Challenge_Data/Assets/af2eecc9194b8e3596bdb9d669f61715/_preview.png\n",
      "Reading image from: ../data/Challenge_Data/Assets/fef95c5e1ee5bc235b56d7c508d3bcd0/_preview.png\n",
      "Reading image from: ../data/Challenge_Data/Assets/23fb8e9094b55306b08f7157c4b5ec43/_preview.png\n",
      "Reading image from: ../data/Challenge_Data/Assets/9ecf3c519703026495d4f82df8bb2388/_preview.png\n",
      "Reading image from: ../data/Challenge_Data/Assets/edd62a365ff46ae8c2e7a88dcb48ba56/_preview.png\n",
      "Reading image from: ../data/Challenge_Data/Assets/267aa12df20c85a8c215e3d6f7a74879/_preview.png\n",
      "Reading image from: ../data/Challenge_Data/Assets/f43220f51d51bba30046e637600bd773/_preview.png\n",
      "Reading image from: ../data/Challenge_Data/Assets/28a291ca9f966fdc0e1bc917c019aced/_preview.png\n",
      "Reading image from: ../data/Challenge_Data/Assets/b6519446fad0a84445faf9620f0fa02e/_preview.png\n",
      "Reading image from: ../data/Challenge_Data/Assets/85d3838428307a4c8b16712bdc15330e/_preview.png\n",
      "Reading image from: ../data/Challenge_Data/Assets/3f749b8fd9e49bca68b5fdc0ca391cd8/_preview.png\n",
      "Reading image from: ../data/Challenge_Data/Assets/5a051f7c0a58d5301f9953827218bc55/_preview.png\n",
      "Reading image from: ../data/Challenge_Data/Assets/2aab06df5509c6727fd35c7344796eb1/_preview.png\n",
      "Reading image from: ../data/Challenge_Data/Assets/4e232e906e1e6a2b6cd8eedc467905f2/_preview.png\n",
      "Reading image from: ../data/Challenge_Data/Assets/fb755cbcc0e9b7069382745e6841f2ba/_preview.png\n",
      "Reading image from: ../data/Challenge_Data/Assets/db4c6d9a38437a0b76bb047ca37519d4/_preview.png\n",
      "Reading image from: ../data/Challenge_Data/Assets/b58595e2670fde268a1c6dc7b9fc8ba3/_preview.png\n",
      "Reading image from: ../data/Challenge_Data/Assets/79e5acae0b9e9789b90f0b362f449eb1/_preview.png\n",
      "Reading image from: ../data/Challenge_Data/Assets/9f157ba406572210d000f1478e8e656c/_preview.png\n",
      "Reading image from: ../data/Challenge_Data/Assets/6280249e98882910535061f21ae36875/_preview.png\n",
      "Reading image from: ../data/Challenge_Data/Assets/c8a1bbadb8931aee1d1438ae9962814e/_preview.png\n",
      "Reading image from: ../data/Challenge_Data/Assets/be6513d80192c25426e5e8f24e6e4dea/_preview.png\n",
      "Reading image from: ../data/Challenge_Data/Assets/adunit-ihop-ihoppy-hour-20-percent-off-mpu/_preview.png\n",
      "Reading image from: ../data/Challenge_Data/Assets/82c919a29087bad5dbedb9b64247e6d6/_preview.png\n",
      "Reading image from: ../data/Challenge_Data/Assets/4799763419d621cd41e7fb8abbcdd45d/_preview.png\n",
      "Reading image from: ../data/Challenge_Data/Assets/73bfd5e041e99938ca1ef8b1e2355e02/_preview.png\n",
      "Reading image from: ../data/Challenge_Data/Assets/3e9add27f21781f8a3c227f5b9a1da31/_preview.png\n",
      "Reading image from: ../data/Challenge_Data/Assets/045a67d8bbba2805d2e421bc5b83d775/_preview.png\n",
      "Reading image from: ../data/Challenge_Data/Assets/adunit-ihop-ihoppy-hour-no-offer-mpu/_preview.png\n",
      "Reading image from: ../data/Challenge_Data/Assets/596052151e9fd6031a05ed88473b7445/_preview.png\n",
      "Reading image from: ../data/Challenge_Data/Assets/be3f931b8039ef187f1dcfa3d488c041/_preview.png\n",
      "Reading image from: ../data/Challenge_Data/Assets/3fb5ad02f38444843e343df0b505841d/_preview.png\n",
      "Reading image from: ../data/Challenge_Data/Assets/6c9f892bee893be71087c8300010d9a8/_preview.png\n",
      "Reading image from: ../data/Challenge_Data/Assets/4246216d92d4ceaf0580115dd775c2e2/_preview.png\n",
      "Reading image from: ../data/Challenge_Data/Assets/e0c8ecc4ba1bc299fb4e43f6faccffb9/_preview.png\n",
      "Reading image from: ../data/Challenge_Data/Assets/600c1fdc6860cf16358e00cc238a42f6/_preview.png\n",
      "Reading image from: ../data/Challenge_Data/Assets/995eb7a981794358eaa84a46cde6c288/_preview.png\n",
      "Reading image from: ../data/Challenge_Data/Assets/053e01474c777e16d2ac04c884685457/_preview.png\n",
      "Reading image from: ../data/Challenge_Data/Assets/248ad697696f5e5ef82b968bfe5480ba/_preview.png\n",
      "Reading image from: ../data/Challenge_Data/Assets/e08fda6d23b50ed0e9ec2fed06e21518/_preview.png\n",
      "Reading image from: ../data/Challenge_Data/Assets/e1ebbff8accc9d16ea82e3b8a6636d70/_preview.png\n",
      "Reading image from: ../data/Challenge_Data/Assets/adunit-ihop-window4-scary-face-mpu/_preview.png\n",
      "Reading image from: ../data/Challenge_Data/Assets/45390f174ef85b574d3b81a0f5c1bab0/_preview.png\n",
      "Reading image from: ../data/Challenge_Data/Assets/99bcf45376c5182e77af6b40ccfa2d3b/_preview.png\n",
      "Reading image from: ../data/Challenge_Data/Assets/d60dcbc971efa0b4c3cb76c245c35ced/_preview.png\n",
      "Reading image from: ../data/Challenge_Data/Assets/3a6d279abd87aadd09f950bcb123e358/_preview.png\n",
      "Reading image from: ../data/Challenge_Data/Assets/677e3e6c41c26d12647a0deb0a58c758/_preview.png\n",
      "Reading image from: ../data/Challenge_Data/Assets/c2b3575ecfffe09f0f3b97a5883e6da6/_preview.png\n",
      "Reading image from: ../data/Challenge_Data/Assets/4b31e9f5af8d0a4bf2c565ffa8a43800/_preview.png\n",
      "Reading image from: ../data/Challenge_Data/Assets/753b879a06a0f89feaa3928f37d4c6fe/_preview.png\n",
      "Reading image from: ../data/Challenge_Data/Assets/89f522cf0adb2cc171321fb50abc9fc5/_preview.png\n",
      "Reading image from: ../data/Challenge_Data/Assets/e37596726bbaf0321aed953b6f8e1be7/_preview.png\n",
      "Reading image from: ../data/Challenge_Data/Assets/025bf4faf2102b1376bddee41dc7948e/_preview.png\n",
      "Reading image from: ../data/Challenge_Data/Assets/2561bbefebc84dc200ca14d63b221d55/_preview.png\n",
      "Reading image from: ../data/Challenge_Data/Assets/24400997671ee80961dfe1ef30072499/_preview.png\n",
      "Reading image from: ../data/Challenge_Data/Assets/c154ec796ae46371d8bc35744ee47b0e/_preview.png\n",
      "Reading image from: ../data/Challenge_Data/Assets/2a25b8b900eeb431fc7627a231bbc562/_preview.png\n",
      "Reading image from: ../data/Challenge_Data/Assets/7feef5faff5461ca47f061ed5efbccf5/_preview.png\n",
      "Reading image from: ../data/Challenge_Data/Assets/fbb156a0dc35c2e9f126d5140ae6ea66/_preview.png\n",
      "Reading image from: ../data/Challenge_Data/Assets/94ed9dbaf0a8f0a64d4e04a3b1d9431a/_preview.png\n",
      "Reading image from: ../data/Challenge_Data/Assets/59f430cb4755fb8e77109dcc9c8fb888/_preview.png\n",
      "Reading image from: ../data/Challenge_Data/Assets/783719d2b23ee967711abba9de4e7884/_preview.png\n",
      "Reading image from: ../data/Challenge_Data/Assets/39869b76f24193f841d1f95442803be3/_preview.png\n",
      "Reading image from: ../data/Challenge_Data/Assets/024df5698f28a46ebf4ac1ac5df2c202/_preview.png\n",
      "Reading image from: ../data/Challenge_Data/Assets/74fb31e6b022b403306f12d715053717/_preview.png\n",
      "Reading image from: ../data/Challenge_Data/Assets/0792c911c288bd241c1e2a2b64bce488/_preview.png\n",
      "Reading image from: ../data/Challenge_Data/Assets/281ca748ff2f73232baa2a2d98041a63/_preview.png\n",
      "Reading image from: ../data/Challenge_Data/Assets/3c741855acd9576b4e311d5cd990ae77/_preview.png\n",
      "Reading image from: ../data/Challenge_Data/Assets/4008b0311b08183a8e6d7d6d01cea464/_preview.png\n",
      "Reading image from: ../data/Challenge_Data/Assets/002dbbd85ef3fe6a2e7d0754fb9f9a1a/_preview.png\n",
      "Reading image from: ../data/Challenge_Data/Assets/4546fea5413797d10224198aaa34fe45/_preview.png\n",
      "Reading image from: ../data/Challenge_Data/Assets/88d9068b2d0ea2492b160a2e028d3429/_preview.png\n",
      "Reading image from: ../data/Challenge_Data/Assets/cd8d3632d222fd9e87e32c9d0ecafdea/_preview.png\n",
      "Reading image from: ../data/Challenge_Data/Assets/4c0bb312924b2faa49f1eb556a5377ec/_preview.png\n",
      "Reading image from: ../data/Challenge_Data/Assets/adunit-engagement-plus-ihop-evergreen-olo-drag-left-mob/_preview.png\n",
      "Reading image from: ../data/Challenge_Data/Assets/3e46da2a3160460b9be21da8ea0ce68e/_preview.png\n",
      "Reading image from: ../data/Challenge_Data/Assets/f033db746b20e747ee528caa07f0b2de/_preview.png\n",
      "Reading image from: ../data/Challenge_Data/Assets/6e628eb5fafe4a43309363ef8e8efc12/_preview.png\n",
      "Reading image from: ../data/Challenge_Data/Assets/b2504a570b6274172b6bd9558118f772/_preview.png\n",
      "Reading image from: ../data/Challenge_Data/Assets/0a18978cdc8b64f900b0db6a297eb99d/_preview.png\n",
      "Reading image from: ../data/Challenge_Data/Assets/5dae3772408bcecb586bf62312c13838/_preview.png\n",
      "Reading image from: ../data/Challenge_Data/Assets/f701e15a157e1418704c2b18a13fb471/_preview.png\n",
      "Reading image from: ../data/Challenge_Data/Assets/08fc9a9f04de967fe87c5061c32d3b84/_preview.png\n",
      "Reading image from: ../data/Challenge_Data/Assets/64a625126af2759b5e84aed912400e4f/_preview.png\n",
      "Reading image from: ../data/Challenge_Data/Assets/eb84457fc98f942bb27157e930794c61/_preview.png\n",
      "Reading image from: ../data/Challenge_Data/Assets/5d8310907217d0f5385f765f133ad475/_preview.png\n",
      "Reading image from: ../data/Challenge_Data/Assets/4febb144783cbf0059748799ed8b4945/_preview.png\n",
      "Reading image from: ../data/Challenge_Data/Assets/8091002d3367a188f845f2c9fcdbadea/_preview.png\n",
      "Reading image from: ../data/Challenge_Data/Assets/e1d358918210126d2348bb98e47dfa86/_preview.png\n",
      "Reading image from: ../data/Challenge_Data/Assets/adunit-ihop-ihoppy-hour-20-percent-off-mob/_preview.png\n",
      "Reading image from: ../data/Challenge_Data/Assets/adunit-ihop-window4-reeses-mpu/_preview.png\n",
      "Reading image from: ../data/Challenge_Data/Assets/727b84106211a421a6d6925655a4ff17/_preview.png\n",
      "Reading image from: ../data/Challenge_Data/Assets/6649faf7aaae3caa5ac3de30b5ac4829/_preview.png\n",
      "Reading image from: ../data/Challenge_Data/Assets/d63a7966d398d4dd0778d268d17fd2aa/_preview.png\n",
      "Reading image from: ../data/Challenge_Data/Assets/3a78fb0ee7c6e7fa0101fe1d6f49de29/_preview.png\n",
      "Reading image from: ../data/Challenge_Data/Assets/07f3a0ee847117a81ff9183befca007a/_preview.png\n",
      "Reading image from: ../data/Challenge_Data/Assets/5190d04e9abb3684a856257429894a5b/_preview.png\n",
      "Reading image from: ../data/Challenge_Data/Assets/68c52769f63d072ef64e0dde04ed5ff0/_preview.png\n",
      "Reading image from: ../data/Challenge_Data/Assets/5cd2c1fa13b9cd4862f79304e5ca19cc/_preview.png\n",
      "Reading image from: ../data/Challenge_Data/Assets/98555b9df18ae8d010794161505020dd/_preview.png\n",
      "Reading image from: ../data/Challenge_Data/Assets/9155a2e9b6ccf3449b2403031ed99468/_preview.png\n",
      "Reading image from: ../data/Challenge_Data/Assets/919ef5d6de221daf94537e4d87e98859/_preview.png\n",
      "Reading image from: ../data/Challenge_Data/Assets/61dff450d1f6264618e7532f9e6c21dd/_preview.png\n",
      "Reading image from: ../data/Challenge_Data/Assets/2845ecbabd12a9d2d17283664c06fa7d/_preview.png\n",
      "Reading image from: ../data/Challenge_Data/Assets/6b7ddb8af0b0d4b5e042ac9469300177/_preview.png\n",
      "Reading image from: ../data/Challenge_Data/Assets/23bd30ca17aae979afebc6f4e5f1fdd3/_preview.png\n",
      "Reading image from: ../data/Challenge_Data/Assets/5e3fbc83a60c730e234618fe5483800e/_preview.png\n",
      "Reading image from: ../data/Challenge_Data/Assets/45bc44f6b1529331c282ba1f72e13b3c/_preview.png\n",
      "Reading image from: ../data/Challenge_Data/Assets/4342ea931e3e9ae5c51aed541a61465d/_preview.png\n",
      "Reading image from: ../data/Challenge_Data/Assets/295e3365c5ed156b3ae4c8f3194add31/_preview.png\n",
      "Reading image from: ../data/Challenge_Data/Assets/8932a4d6d34de7718182c18cc30779e8/_preview.png\n",
      "Reading image from: ../data/Challenge_Data/Assets/68d489e40aa39d4498507af1ccdf249a/_preview.png\n",
      "Reading image from: ../data/Challenge_Data/Assets/3faf6a6e515ee4a3d08934b3e93a4a9e/_preview.png\n",
      "Reading image from: ../data/Challenge_Data/Assets/3c8eed5eead83f9798db8c24578d7a19/_preview.png\n",
      "Reading image from: ../data/Challenge_Data/Assets/b50d6442906a8362508d2a97bb9ba01e/_preview.png\n",
      "Reading image from: ../data/Challenge_Data/Assets/b500b45f2e556f55a488bc21c045877f/_preview.png\n",
      "Reading image from: ../data/Challenge_Data/Assets/67169407f4dd5762a97f973e82e550bd/_preview.png\n",
      "Reading image from: ../data/Challenge_Data/Assets/0692cec4544cb0287225a7bccebc916b/_preview.png\n",
      "Reading image from: ../data/Challenge_Data/Assets/7110d440d9d424eec0ddb5f114058c06/_preview.png\n",
      "Reading image from: ../data/Challenge_Data/Assets/bdc1911c958ee9f1d54097420bc0088d/_preview.png\n",
      "Reading image from: ../data/Challenge_Data/Assets/bf16a83492d04640042f674af85d2aac/_preview.png\n",
      "Reading image from: ../data/Challenge_Data/Assets/265680a6c85f2381bb49965579b0fd89/_preview.png\n",
      "Reading image from: ../data/Challenge_Data/Assets/02d99db5aa9193b2bfc98ad6998e0ea7/_preview.png\n",
      "Reading image from: ../data/Challenge_Data/Assets/46a614be24dc2639baeb3a4887dfee2f/_preview.png\n",
      "Reading image from: ../data/Challenge_Data/Assets/29f4c491737ce1cd367ff019e7b2ccb7/_preview.png\n",
      "Reading image from: ../data/Challenge_Data/Assets/917250eb5213e41aa11f92282ec0b19a/_preview.png\n",
      "Reading image from: ../data/Challenge_Data/Assets/40735b62ef7f9da459b39d173ee56ac3/_preview.png\n",
      "Reading image from: ../data/Challenge_Data/Assets/d982317438736aac9cb37b3e66a2f555/_preview.png\n",
      "Reading image from: ../data/Challenge_Data/Assets/bfeea6509482aeb0aaeed455fadb9c4e/_preview.png\n",
      "Reading image from: ../data/Challenge_Data/Assets/877843b799b1b074584fc22f9157f447/_preview.png\n",
      "Reading image from: ../data/Challenge_Data/Assets/26877a2094850375ec053651dd7aa4ea/_preview.png\n",
      "Reading image from: ../data/Challenge_Data/Assets/05dff647236dcc065f51eea259e8a120/_preview.png\n",
      "Reading image from: ../data/Challenge_Data/Assets/9e2b17d1c9addd70a9da0c72dfec0e3c/_preview.png\n",
      "Reading image from: ../data/Challenge_Data/Assets/ddc12737f9718263bfb0f54843da0478/_preview.png\n",
      "Reading image from: ../data/Challenge_Data/Assets/2a355ca0d306921e195591e5b2374b6a/_preview.png\n",
      "Reading image from: ../data/Challenge_Data/Assets/c47fa6c0b4462b654c222e2f4be62b3d/_preview.png\n",
      "Reading image from: ../data/Challenge_Data/Assets/958fb9e4304628629f9848dee96ad338/_preview.png\n",
      "Reading image from: ../data/Challenge_Data/Assets/df91c37d7078b8b406deaea243bb3746/_preview.png\n",
      "Reading image from: ../data/Challenge_Data/Assets/f398e921861a533315cd9e1085e2059c/_preview.png\n",
      "Reading image from: ../data/Challenge_Data/Assets/adunit-ihop-window4-reeses-mob/_preview.png\n",
      "Reading image from: ../data/Challenge_Data/Assets/9d0bbd449e1c907e9f554bb9df1c4a10/_preview.png\n",
      "Reading image from: ../data/Challenge_Data/Assets/52054fa91799a747b8ddf3f3118f40e9/_preview.png\n",
      "Reading image from: ../data/Challenge_Data/Assets/dbe499749ecc456991332fc5d847ad2e/_preview.png\n",
      "Reading image from: ../data/Challenge_Data/Assets/e334f7ef4caacc9552993029ad56a52b/_preview.png\n",
      "Reading image from: ../data/Challenge_Data/Assets/ccce5533b26203d07100376c394951a6/_preview.png\n",
      "Reading image from: ../data/Challenge_Data/Assets/8f3f46fa6a0accfd8b4563f2e35aaba5/_preview.png\n",
      "Reading image from: ../data/Challenge_Data/Assets/adunit-yamaha-x4-seonsory-plus-mpu/_preview.png\n",
      "Reading image from: ../data/Challenge_Data/Assets/d9211cc52590fe62718030dbc1a9389a/_preview.png\n",
      "Reading image from: ../data/Challenge_Data/Assets/a1a3485dee81692a3ea64143aa51e90f/_preview.png\n",
      "Reading image from: ../data/Challenge_Data/Assets/3ec1bd3422d0512c1fa1c06b7277df65/_preview.png\n",
      "Reading image from: ../data/Challenge_Data/Assets/942616462420cb3890d00c65fc644e73/_preview.png\n",
      "Reading image from: ../data/Challenge_Data/Assets/f0a8b52312fce8d57f34bc6441dea750/_preview.png\n",
      "Reading image from: ../data/Challenge_Data/Assets/59e7b509d984f3a5b13fb8a33e0f6c2d/_preview.png\n",
      "Reading image from: ../data/Challenge_Data/Assets/c5d9fdf57215e5dbec5cc42419090749/_preview.png\n",
      "Reading image from: ../data/Challenge_Data/Assets/94bc1e8d137186644fa3baa53185a331/_preview.png\n",
      "Reading image from: ../data/Challenge_Data/Assets/eb641577b39bf60665e3130ac0d4e301/_preview.png\n",
      "Reading image from: ../data/Challenge_Data/Assets/3c5828449ad87b05b5dedf0b4787242a/_preview.png\n",
      "Reading image from: ../data/Challenge_Data/Assets/9a09184e03a21be85b165f66d6d1c121/_preview.png\n",
      "Reading image from: ../data/Challenge_Data/Assets/24f58a2b0bfefefd5ccc43bf1f664685/_preview.png\n",
      "Reading image from: ../data/Challenge_Data/Assets/75e9bf718c93754ae33314a92db613dd/_preview.png\n",
      "Reading image from: ../data/Challenge_Data/Assets/3bf22f2c7f71986b690dc922cb0bee1f/_preview.png\n",
      "Reading image from: ../data/Challenge_Data/Assets/77cb39bbc869bdf0db280ec15a15280f/_preview.png\n",
      "Reading image from: ../data/Challenge_Data/Assets/c48014dd1774f0fc8dddf6c6cdcb337f/_preview.png\n",
      "Reading image from: ../data/Challenge_Data/Assets/cd5de313101387fd9191cb03ef431ec9/_preview.png\n",
      "Reading image from: ../data/Challenge_Data/Assets/28b455751eabbf79d899fc9a4c6f151e/_preview.png\n",
      "Reading image from: ../data/Challenge_Data/Assets/f520edea9b83c22a1c82412fcaf9f0a3/_preview.png\n",
      "Reading image from: ../data/Challenge_Data/Assets/b58ae8eb1017e252ce37c29226411489/_preview.png\n",
      "Reading image from: ../data/Challenge_Data/Assets/fe1cc47f2e46f29607046541f8418275/_preview.png\n",
      "Reading image from: ../data/Challenge_Data/Assets/090f9075627a9543f171041a644d8af9/_preview.png\n",
      "Reading image from: ../data/Challenge_Data/Assets/28c3515061ccebd5a08a954a584623e1/_preview.png\n",
      "Reading image from: ../data/Challenge_Data/Assets/049b5c09f2fc9c009cc3e7bc6e95be90/_preview.png\n",
      "Reading image from: ../data/Challenge_Data/Assets/bd312b97d9d646bcd3263809be428f5e/_preview.png\n",
      "Reading image from: ../data/Challenge_Data/Assets/68c78af778382e3e80ba98d676dd8527/_preview.png\n",
      "Reading image from: ../data/Challenge_Data/Assets/71d0113ae02ccba7e3fd67f71baf2f2a/_preview.png\n",
      "Reading image from: ../data/Challenge_Data/Assets/2287637d5dbfb7cc45fb816157a412fa/_preview.png\n",
      "Reading image from: ../data/Challenge_Data/Assets/b378c281edcaebfbe47a3104fdc2e036/_preview.png\n",
      "Reading image from: ../data/Challenge_Data/Assets/09b983781c78607d3e9348f231765ea1/_preview.png\n",
      "Reading image from: ../data/Challenge_Data/Assets/f08d8e575fa2c9929dfaf2d1bfa553a2/_preview.png\n",
      "Reading image from: ../data/Challenge_Data/Assets/8a1a2fa030200a7087619144f042c2da/_preview.png\n",
      "Reading image from: ../data/Challenge_Data/Assets/f2aa99ddd5015647abc940e7d6695df2/_preview.png\n",
      "Reading image from: ../data/Challenge_Data/Assets/69a95b2cae65b8457594ab519006920c/_preview.png\n",
      "Reading image from: ../data/Challenge_Data/Assets/c004ede9dbeaf07289dff53dfaa0cd9e/_preview.png\n",
      "Reading image from: ../data/Challenge_Data/Assets/adunit-yamaha-x2-seonsory-plus-mob/_preview.png\n",
      "Reading image from: ../data/Challenge_Data/Assets/2681e9a5eb126e75959f33a477964544/_preview.png\n",
      "Reading image from: ../data/Challenge_Data/Assets/9415d4728381f961a8d6bd7c57142ab7/_preview.png\n",
      "Reading image from: ../data/Challenge_Data/Assets/79a672060e901ce418230c3959619cca/_preview.png\n",
      "Reading image from: ../data/Challenge_Data/Assets/adunit-windows3-2021-mpu/_preview.png\n",
      "Reading image from: ../data/Challenge_Data/Assets/d48b2247fce73617dab5633187c02360/_preview.png\n",
      "Reading image from: ../data/Challenge_Data/Assets/5793a8d614757c76e8fcb904f943e586/_preview.png\n",
      "Reading image from: ../data/Challenge_Data/Assets/02335ed7fbc9fd8ec1505d30a7d385ba/_preview.png\n",
      "Reading image from: ../data/Challenge_Data/Assets/22d151fdc4f270e75bcf3729df08180f/_preview.png\n",
      "Reading image from: ../data/Challenge_Data/Assets/8578176a5460d41edddd1440ab46e564/_preview.png\n",
      "Reading image from: ../data/Challenge_Data/Assets/2524439faeafa1c2ca1a27cac00a97b1/_preview.png\n",
      "Reading image from: ../data/Challenge_Data/Assets/286ce285a3a28445c972ba9d09090937/_preview.png\n",
      "Reading image from: ../data/Challenge_Data/Assets/c47a1785032e3bc12dc53dc97034dd33/_preview.png\n",
      "Reading image from: ../data/Challenge_Data/Assets/26891312da99dd6e651fd179d1ff0faf/_preview.png\n",
      "Reading image from: ../data/Challenge_Data/Assets/6a8e741867d4f893afad015b77b52c39/_preview.png\n",
      "Reading image from: ../data/Challenge_Data/Assets/0a22f881b77f00220f2034c21a18b854/_preview.png\n",
      "Reading image from: ../data/Challenge_Data/Assets/b68baf66405783b70a2141860cb15adc/_preview.png\n",
      "Reading image from: ../data/Challenge_Data/Assets/d7c5bf54f39eb745b553d06813cffb23/_preview.png\n",
      "Reading image from: ../data/Challenge_Data/Assets/86f213ed98d05c93c09fe2d0ded4dfe6/_preview.png\n",
      "Reading image from: ../data/Challenge_Data/Assets/de74397f972d47d2c078b44807974532/_preview.png\n",
      "Reading image from: ../data/Challenge_Data/Assets/2adefe98452f112060fe28e98f7a2c46/_preview.png\n",
      "Reading image from: ../data/Challenge_Data/Assets/032ecd4e7d6db78058878d0ac61a82dc/_preview.png\n",
      "Reading image from: ../data/Challenge_Data/Assets/d6c5dcb42c617e8d164dafb4d302ac0a/_preview.png\n",
      "Reading image from: ../data/Challenge_Data/Assets/bab02408832fd896644462340d7bf479/_preview.png\n",
      "Reading image from: ../data/Challenge_Data/Assets/299eff884b51e6894dbd307f0a2a6554/_preview.png\n",
      "Reading image from: ../data/Challenge_Data/Assets/0716aeb4425d2865ea9b1996ef4f90fe/_preview.png\n",
      "Reading image from: ../data/Challenge_Data/Assets/d53d09dbd8f7aad4bfab4acb84aa323a/_preview.png\n",
      "Reading image from: ../data/Challenge_Data/Assets/4baa12ddba0c06b618225f8191a6d722/_preview.png\n",
      "Reading image from: ../data/Challenge_Data/Assets/03231e84227b5038d1ce9c302019da8c/_preview.png\n",
      "Reading image from: ../data/Challenge_Data/Assets/4b537aac6575e7528140fc388f1349ca/_preview.png\n",
      "Reading image from: ../data/Challenge_Data/Assets/e300993c699d98ef0d6d574b043b65cc/_preview.png\n",
      "Reading image from: ../data/Challenge_Data/Assets/adunit-yamaha-x4-seonsory-plus-mob/_preview.png\n",
      "Reading image from: ../data/Challenge_Data/Assets/5aa8f1a6f90157b937cac6e73006a2dc/_preview.png\n",
      "Reading image from: ../data/Challenge_Data/Assets/4ad96fa279384268e72374aaacb78caf/_preview.png\n",
      "Reading image from: ../data/Challenge_Data/Assets/c9ec2d041cd03c489b2ee97c5f7ba400/_preview.png\n",
      "Reading image from: ../data/Challenge_Data/Assets/0978cddd7a740a70fa0ac73fb6603aee/_preview.png\n",
      "Reading image from: ../data/Challenge_Data/Assets/3c383647c107f40ba222bcddd47d3d1b/_preview.png\n",
      "Reading image from: ../data/Challenge_Data/Assets/7fdd8606604b4ab61563a88384188011/_preview.png\n",
      "Reading image from: ../data/Challenge_Data/Assets/64cfdaacd77f39b88f90210e79800a8b/_preview.png\n",
      "Reading image from: ../data/Challenge_Data/Assets/0383071848070b93a8a9f0c82c06e5e4/_preview.png\n",
      "Reading image from: ../data/Challenge_Data/Assets/74e0cd47380d7a41f96f5ca4ba214a8f/_preview.png\n",
      "Reading image from: ../data/Challenge_Data/Assets/623735c2b4b2d78c61e08073dbaa352d/_preview.png\n",
      "Reading image from: ../data/Challenge_Data/Assets/258bf2e1c0ff55be0762ccab1c5b18db/_preview.png\n",
      "Reading image from: ../data/Challenge_Data/Assets/55775796ac3c2a0fd0fde4cae6048827/_preview.png\n",
      "Reading image from: ../data/Challenge_Data/Assets/255bb50bf3493e1a85c9289c52610e31/_preview.png\n",
      "Reading image from: ../data/Challenge_Data/Assets/f1cc75828bb3b7419b0d210e971a7cdf/_preview.png\n",
      "Reading image from: ../data/Challenge_Data/Assets/b3fd525be390ec4cbebdcbd225362f12/_preview.png\n",
      "Reading image from: ../data/Challenge_Data/Assets/c01e7ce76419925187c593ba3ecb9f46/_preview.png\n",
      "Reading image from: ../data/Challenge_Data/Assets/92a1ef3b78f2b21068f8e1da4025e239/_preview.png\n",
      "Reading image from: ../data/Challenge_Data/Assets/6de62384e53319712bf7910e4db4e189/_preview.png\n",
      "Reading image from: ../data/Challenge_Data/Assets/974199c136ccbd972ae2fd4714e453f5/_preview.png\n",
      "Reading image from: ../data/Challenge_Data/Assets/ecc8e6a50a509f8b6a8ac7c3c1a450e7/_preview.png\n",
      "Reading image from: ../data/Challenge_Data/Assets/c3ef76ea758ea5442c9540463c5d37f3/_preview.png\n",
      "Reading image from: ../data/Challenge_Data/Assets/06262da6542114aaea8a611540a0ee5d/_preview.png\n",
      "Reading image from: ../data/Challenge_Data/Assets/8f5834e2093bee23d3b01f8d05265765/_preview.png\n",
      "Reading image from: ../data/Challenge_Data/Assets/8a662fbaa5f751bf677c50359f0716c2/_preview.png\n",
      "Reading image from: ../data/Challenge_Data/Assets/eabf360c935e08b24f30c61519033f93/_preview.png\n",
      "Reading image from: ../data/Challenge_Data/Assets/5bc607274e363f0c1a9379e05075dcfc/_preview.png\n",
      "Reading image from: ../data/Challenge_Data/Assets/f88e2c7f24b2bcd83044f2ccfdef79c4/_preview.png\n",
      "Reading image from: ../data/Challenge_Data/Assets/fbdd6f2bc08bfb43725cd6b4c52907ea/_preview.png\n",
      "Reading image from: ../data/Challenge_Data/Assets/b0228441fb421b8c322d67a6746f5f3e/_preview.png\n",
      "Reading image from: ../data/Challenge_Data/Assets/fe116dea417bfe1b97e0b2dcf846c25d/_preview.png\n",
      "Reading image from: ../data/Challenge_Data/Assets/03c532904ec03423c5e30463a62401a5/_preview.png\n",
      "Reading image from: ../data/Challenge_Data/Assets/cc6c33bd4409ded3155793811af5c72b/_preview.png\n",
      "Reading image from: ../data/Challenge_Data/Assets/cafcf13bef3457ebed7e08e02fa49252/_preview.png\n",
      "Reading image from: ../data/Challenge_Data/Assets/eabca629979238e5e3d65f6f4cd818fb/_preview.png\n",
      "Reading image from: ../data/Challenge_Data/Assets/b25e2955ba18f9f0f63a3642abdee471/_preview.png\n",
      "Reading image from: ../data/Challenge_Data/Assets/4f23f2bdbb2c99b8d63bba659d22fe79/_preview.png\n",
      "Reading image from: ../data/Challenge_Data/Assets/e7b3f462f7d1cc8dcaa9c076eaedd1a8/_preview.png\n",
      "Reading image from: ../data/Challenge_Data/Assets/8c0f5a32827b9e60dbd30b77178fe184/_preview.png\n",
      "Reading image from: ../data/Challenge_Data/Assets/62dca5e1826d627612856c463e98026f/_preview.png\n",
      "Reading image from: ../data/Challenge_Data/Assets/ae98b1f2a6ca87429bb43d29df7c682a/_preview.png\n",
      "Reading image from: ../data/Challenge_Data/Assets/676e0507f9e1ed8fa6880eafcf91547b/_preview.png\n",
      "Reading image from: ../data/Challenge_Data/Assets/29df3928b70391dec741b20782beeefc/_preview.png\n",
      "Reading image from: ../data/Challenge_Data/Assets/d217e3878a25f52d495d0c3eea30211a/_preview.png\n",
      "Reading image from: ../data/Challenge_Data/Assets/3ba594c8b6a2376bc1013a0d13b83200/_preview.png\n",
      "Reading image from: ../data/Challenge_Data/Assets/06615e719bb053415093a4572a1f1d31/_preview.png\n",
      "Reading image from: ../data/Challenge_Data/Assets/5b4d2cc82bf11b1fa80b366fdd7a5867/_preview.png\n",
      "Reading image from: ../data/Challenge_Data/Assets/07a8072d594af3c04ef47e8722fc1b38/_preview.png\n",
      "Reading image from: ../data/Challenge_Data/Assets/f722cbe03a320f89c6abdfd3fe796047/_preview.png\n",
      "Reading image from: ../data/Challenge_Data/Assets/4332420a9acfddfe6dedfe9b0646afd6/_preview.png\n",
      "Reading image from: ../data/Challenge_Data/Assets/3c162d32bb9bce8199f44c665b20977d/_preview.png\n",
      "Reading image from: ../data/Challenge_Data/Assets/79bb17ace9de9ef7def221cc38b50c0c/_preview.png\n",
      "Reading image from: ../data/Challenge_Data/Assets/5c6befcf9b28fadcedb2430c0800f433/_preview.png\n",
      "Reading image from: ../data/Challenge_Data/Assets/39872cc99f017cc22001ee9498584e13/_preview.png\n",
      "Reading image from: ../data/Challenge_Data/Assets/77af46ea55c251a18213104bd760d1d2/_preview.png\n",
      "Reading image from: ../data/Challenge_Data/Assets/c451990f363a5119a838d33acda877f1/_preview.png\n",
      "Reading image from: ../data/Challenge_Data/Assets/3cea7861b4a43a0695ae177cf0829267/_preview.png\n",
      "Reading image from: ../data/Challenge_Data/Assets/7a6ba94986ecc183914a48eed61ebda7/_preview.png\n",
      "Reading image from: ../data/Challenge_Data/Assets/74ca5c4df0e45247e224523c26d7ebf3/_preview.png\n",
      "Reading image from: ../data/Challenge_Data/Assets/eb31bf1739ffa01b1d458fe2c610230a/_preview.png\n",
      "Reading image from: ../data/Challenge_Data/Assets/95a9add1872e1666a9e413e18a15142b/_preview.png\n",
      "Reading image from: ../data/Challenge_Data/Assets/74858c868467c9f78a8989e87eb54c1c/_preview.png\n",
      "Reading image from: ../data/Challenge_Data/Assets/3dfba0efa433d3f1f248b373edc2b176/_preview.png\n",
      "Reading image from: ../data/Challenge_Data/Assets/032c21ac0d52d23f683dc4c2b7388865/_preview.png\n",
      "Reading image from: ../data/Challenge_Data/Assets/98db637879a2eee67d49dd05b4a92d83/_preview.png\n",
      "Reading image from: ../data/Challenge_Data/Assets/db671d7ebafdc3b7259109fbc18eaac9/_preview.png\n",
      "Reading image from: ../data/Challenge_Data/Assets/8c07f1799c55b47a5cf24d50fd771668/_preview.png\n",
      "Reading image from: ../data/Challenge_Data/Assets/cce594945c50492d887116e17ebd966f/_preview.png\n",
      "Reading image from: ../data/Challenge_Data/Assets/f16751048b64354c30b034c44981225f/_preview.png\n",
      "Reading image from: ../data/Challenge_Data/Assets/03f2fc9a332b87e896b2da508a061754/_preview.png\n",
      "Reading image from: ../data/Challenge_Data/Assets/7ff33d15bd3e7d73cede0691a393c288/_preview.png\n",
      "Reading image from: ../data/Challenge_Data/Assets/3ebf3ba9b654b8281c7b45e65133986f/_preview.png\n",
      "Reading image from: ../data/Challenge_Data/Assets/adunit-yamaha-x2-sensory-plus-mpu/_preview.png\n",
      "Reading image from: ../data/Challenge_Data/Assets/c823124ca76c00a9d3b79380e5bdfd29/_preview.png\n",
      "Reading image from: ../data/Challenge_Data/Assets/3a462469eef8972bc33e93d3b9402fda/_preview.png\n",
      "Reading image from: ../data/Challenge_Data/Assets/3983cfed2def8feebc57bb6638cf49c8/_preview.png\n",
      "Reading image from: ../data/Challenge_Data/Assets/44c8e52abc427a52c487122232409f5d/_preview.png\n",
      "Reading image from: ../data/Challenge_Data/Assets/c9790ca6d49dfc3f245db91d3b62c56d/_preview.png\n",
      "Reading image from: ../data/Challenge_Data/Assets/9e3c7a3de86bb8857dd3f822bc951a59/_preview.png\n",
      "Reading image from: ../data/Challenge_Data/Assets/ff72b5f704ef2a8fa05e5a7b350a1e8e/_preview.png\n",
      "Reading image from: ../data/Challenge_Data/Assets/27b8aecd5c4b58ddcfc56270e9944d81/_preview.png\n",
      "Reading image from: ../data/Challenge_Data/Assets/7b5d17800096a3e27a5732fd7322fc37/_preview.png\n",
      "Reading image from: ../data/Challenge_Data/Assets/d250af845914563dc5e28699c19da043/_preview.png\n",
      "Reading image from: ../data/Challenge_Data/Assets/e17b6db0e4fb777ab569ef0a81b5000e/_preview.png\n",
      "Reading image from: ../data/Challenge_Data/Assets/adunit-ihop-ihoppy-hour-no-offer-mob/_preview.png\n",
      "Reading image from: ../data/Challenge_Data/Assets/cd586b24025b1349b9b79d2c944e3f18/_preview.png\n",
      "Reading image from: ../data/Challenge_Data/Assets/d706afba427123c30ffafb88d5486e03/_preview.png\n",
      "Reading image from: ../data/Challenge_Data/Assets/3c5daf79e8097eae0956840826c90fcc/_preview.png\n",
      "Reading image from: ../data/Challenge_Data/Assets/427bf316b866d8b20a30866426c66e09/_preview.png\n",
      "Reading image from: ../data/Challenge_Data/Assets/09d86d1539357a20fd04a53d000e8471/_preview.png\n",
      "Reading image from: ../data/Challenge_Data/Assets/e5c648e39c7860bf0e70f4b02ecafbdf/_preview.png\n",
      "Reading image from: ../data/Challenge_Data/Assets/5c58461a764afd15c527c9c8b3a054b2/_preview.png\n",
      "Reading image from: ../data/Challenge_Data/Assets/44799b510c8a525e9baaa4729e200efa/_preview.png\n",
      "Reading image from: ../data/Challenge_Data/Assets/b68a3a78534ac964f4eddfb8d767bbe0/_preview.png\n",
      "Reading image from: ../data/Challenge_Data/Assets/8bf41e73b0b48e4bc86fba470d3af1a8/_preview.png\n",
      "Reading image from: ../data/Challenge_Data/Assets/caf88bb6688890e82c30fb408ec4e76f/_preview.png\n",
      "Reading image from: ../data/Challenge_Data/Assets/3a63ee9cd0c128a7e97a7620a82b3678/_preview.png\n",
      "Reading image from: ../data/Challenge_Data/Assets/d93555b29bb180a19395c58cb97a5065/_preview.png\n",
      "Reading image from: ../data/Challenge_Data/Assets/9b2e41fdabcefdda0a86803e415a8c98/_preview.png\n",
      "Reading image from: ../data/Challenge_Data/Assets/f50ff5f8d3f50ecaccadf63345ec16bc/_preview.png\n",
      "Reading image from: ../data/Challenge_Data/Assets/f52568446cd557df708c44efb668789c/_preview.png\n",
      "Reading image from: ../data/Challenge_Data/Assets/471b3c709ca35b4765c096beb835bcc3/_preview.png\n",
      "Reading image from: ../data/Challenge_Data/Assets/9e45326648ea56b095dfe34466ce6018/_preview.png\n",
      "Reading image from: ../data/Challenge_Data/Assets/73501a5fc5b60fea475b301aae4a3731/_preview.png\n",
      "Reading image from: ../data/Challenge_Data/Assets/86782260310be394dce33ef91955a716/_preview.png\n",
      "Reading image from: ../data/Challenge_Data/Assets/ba9ca629a79e79a0b652b5b275ecd5e1/_preview.png\n",
      "Reading image from: ../data/Challenge_Data/Assets/f7f9e79ae3506b8c75810cae2ce276e7/_preview.png\n",
      "Reading image from: ../data/Challenge_Data/Assets/034c0fa142311896c1b1b6900487d2fb/_preview.png\n",
      "Reading image from: ../data/Challenge_Data/Assets/adunit-ihop-windows3-2021-mob/_preview.png\n",
      "Reading image from: ../data/Challenge_Data/Assets/e437bb1946e346784d613ce6feba7203/_preview.png\n",
      "Reading image from: ../data/Challenge_Data/Assets/3f8bf51e4f82aeecc825c4b2a12d92a7/_preview.png\n",
      "Reading image from: ../data/Challenge_Data/Assets/8968a702d64524827de2ccf55c802d6c/_preview.png\n",
      "Reading image from: ../data/Challenge_Data/Assets/64beae61d488503fcd271af0ff3ea46a/_preview.png\n",
      "Reading image from: ../data/Challenge_Data/Assets/c741653e8c326e65480df0732efe96df/_preview.png\n",
      "Reading image from: ../data/Challenge_Data/Assets/dba3929fad20b7650861f74a9414c043/_preview.png\n",
      "Reading image from: ../data/Challenge_Data/Assets/9e068e03269af51054a95146bdaf3d45/_preview.png\n",
      "Reading image from: ../data/Challenge_Data/Assets/097b04b65ad1608a869f2fb08909a612/_preview.png\n",
      "Reading image from: ../data/Challenge_Data/Assets/6c200017bb5cb921e59f6a6c09491ad5/_preview.png\n",
      "Reading image from: ../data/Challenge_Data/Assets/9751f5044f0e9ef8e21661bf28c3d88f/_preview.png\n",
      "Reading image from: ../data/Challenge_Data/Assets/9b9f6e8145aad25f6548fb35775d7fb3/_preview.png\n",
      "Reading image from: ../data/Challenge_Data/Assets/3dbee69360ec8c331edd1ac47c4da0ec/_preview.png\n",
      "Reading image from: ../data/Challenge_Data/Assets/adunit-ihop-ihoppy-hour-save-dollar-5-mpu/_preview.png\n",
      "Reading image from: ../data/Challenge_Data/Assets/da2b42ad2deaf5a4f7f3604e0e5038e1/_preview.png\n",
      "Reading image from: ../data/Challenge_Data/Assets/fae4bab75ff19f1246fb814deb4efd94/_preview.png\n",
      "Reading image from: ../data/Challenge_Data/Assets/cb1ae642e1bdcec602d24344d5d927b5/_preview.png\n",
      "Reading image from: ../data/Challenge_Data/Assets/6e526502767454c66cc93a391846bebd/_preview.png\n",
      "Reading image from: ../data/Challenge_Data/Assets/06c1d5086fb91fd2e62f4c5e29e2759c/_preview.png\n",
      "Reading image from: ../data/Challenge_Data/Assets/de22272cbb7ebe2622fa3b847330ccc6/_preview.png\n",
      "Reading image from: ../data/Challenge_Data/Assets/4df8be2d1f001c08abee098975068323/_preview.png\n",
      "Reading image from: ../data/Challenge_Data/Assets/91aa41c408ad4ff2e688c58c5ffe4e93/_preview.png\n",
      "Reading image from: ../data/Challenge_Data/Assets/9931c8470e7412c45c890f4f7c59c1f4/_preview.png\n",
      "Reading image from: ../data/Challenge_Data/Assets/243e1d1c834bb95798ff4e1db49950a3/_preview.png\n",
      "Reading image from: ../data/Challenge_Data/Assets/6a9230f97e1bf95266390f0f94c774dd/_preview.png\n",
      "Reading image from: ../data/Challenge_Data/Assets/42b246e4d3bf68de81ab0262a2f05691/_preview.png\n",
      "Reading image from: ../data/Challenge_Data/Assets/2407dd6a760fb8ea2054a251cdb5b907/_preview.png\n",
      "Reading image from: ../data/Challenge_Data/Assets/4b21d71efe295df873a1d907932dae72/_preview.png\n",
      "Reading image from: ../data/Challenge_Data/Assets/b2174dea77ef62674fa5d51c84359984/_preview.png\n",
      "Reading image from: ../data/Challenge_Data/Assets/c6ce1941383baf5a5cbfa7cfbb89dbc2/_preview.png\n",
      "Reading image from: ../data/Challenge_Data/Assets/de9c6db1311c86407f28feced87dc46b/_preview.png\n",
      "Reading image from: ../data/Challenge_Data/Assets/4e262fac1ce05ff65d581d668fc54e86/_preview.png\n",
      "Reading image from: ../data/Challenge_Data/Assets/b22916b05fb1e90b8b8d33812483022c/_preview.png\n",
      "Reading image from: ../data/Challenge_Data/Assets/80399f92f8970d3bc8b26af690768c15/_preview.png\n",
      "Reading image from: ../data/Challenge_Data/Assets/adunit-engagementplus-ihop-mpu/_preview.png\n",
      "Reading image from: ../data/Challenge_Data/Assets/bae285cdb6a38209f32e9e0c5f0a69ce/_preview.png\n",
      "Reading image from: ../data/Challenge_Data/Assets/c350b0acd9f7b128c5ba096863e5444b/_preview.png\n",
      "Reading image from: ../data/Challenge_Data/Assets/fdf622b95e3d532398921834f6bbfa38/_preview.png\n",
      "Reading image from: ../data/Challenge_Data/Assets/015efcdd8de3698ffc4dad6dabd6664a/_preview.png\n",
      "Reading image from: ../data/Challenge_Data/Assets/26a8b89687aab2fafd586a34fc86ed46/_preview.png\n",
      "Reading image from: ../data/Challenge_Data/Assets/8388c02100992a33a5a08e1e6dbe6204/_preview.png\n",
      "Reading image from: ../data/Challenge_Data/Assets/b973c711c94c3261f51e002b853be33d/_preview.png\n",
      "Reading image from: ../data/Challenge_Data/Assets/b12b03c2dec5e71fe630d3b06062982a/_preview.png\n",
      "Reading image from: ../data/Challenge_Data/Assets/c8fc9c5e6ec515c610c73f772ed5d3a4/_preview.png\n",
      "Reading image from: ../data/Challenge_Data/Assets/adunit-engagement-plus-ihop-evergreen-olo-drag-right-mpu/_preview.png\n",
      "Reading image from: ../data/Challenge_Data/Assets/0aeb1ee8a72ad3c5566cf7a2885dc39b/_preview.png\n",
      "Reading image from: ../data/Challenge_Data/Assets/2b5174ee56b69baabe7f799a9de52411/_preview.png\n",
      "Reading image from: ../data/Challenge_Data/Assets/459a8be7fbd64cc4719d79b6054de037/_preview.png\n",
      "Reading image from: ../data/Challenge_Data/Assets/016534141ab870fdbf1b9c163955924d/_preview.png\n",
      "Reading image from: ../data/Challenge_Data/Assets/c486723bb2d768d24036054973b1cebc/_preview.png\n",
      "Reading image from: ../data/Challenge_Data/Assets/c76677bf8d4e0e0d6267a8c097957e92/_preview.png\n",
      "Reading image from: ../data/Challenge_Data/Assets/eab4ad84efa8e1c830ff47d6e8ad4379/_preview.png\n",
      "Reading image from: ../data/Challenge_Data/Assets/a19b99c57ec298782b9fbcdde83b9734/_preview.png\n",
      "Reading image from: ../data/Challenge_Data/Assets/b429b231c4bcc785642a771a84b58eb2/_preview.png\n",
      "Reading image from: ../data/Challenge_Data/Assets/44495dd7cc8acb29ea1392d6066c43d0/_preview.png\n",
      "Reading image from: ../data/Challenge_Data/Assets/4c3bb41d4f40f39842b7b8d3f536366a/_preview.png\n",
      "Reading image from: ../data/Challenge_Data/Assets/ddef3dc6e16e17bb53b7ba66a400308b/_preview.png\n",
      "Reading image from: ../data/Challenge_Data/Assets/bb8342d60fc04fb8c4fcfdbc3025f4d9/_preview.png\n",
      "Reading image from: ../data/Challenge_Data/Assets/624c1fc48eda8c49a470567317891825/_preview.png\n",
      "Reading image from: ../data/Challenge_Data/Assets/ee8ae60b2e46e44da79fb7e59b07eae4/_preview.png\n",
      "Reading image from: ../data/Challenge_Data/Assets/ed3071a667a11cc56e88ae0489bfe6aa/_preview.png\n",
      "Reading image from: ../data/Challenge_Data/Assets/9afba90addb72bcdbab265b3492540e1/_preview.png\n",
      "Reading image from: ../data/Challenge_Data/Assets/afacaf5b3063c23f8231cc01be74aa1d/_preview.png\n",
      "Reading image from: ../data/Challenge_Data/Assets/92c16abb4f96ac15f03501d3d4fbda05/_preview.png\n",
      "Reading image from: ../data/Challenge_Data/Assets/adunit-engagementplus-ihop-mob/_preview.png\n",
      "Reading image from: ../data/Challenge_Data/Assets/f4fc8ed9cf50e6f77bb14054b88ee2cd/_preview.png\n",
      "Reading image from: ../data/Challenge_Data/Assets/64df515c2e4b954d029301fbc14db84a/_preview.png\n",
      "Reading image from: ../data/Challenge_Data/Assets/40a448ee93f85a6f94825b7afc1337b0/_preview.png\n",
      "Reading image from: ../data/Challenge_Data/Assets/2443bd3b890824acecbe32659b9a1246/_preview.png\n",
      "Reading image from: ../data/Challenge_Data/Assets/7ed73c1cc404f9956d26c5f58de72b2f/_preview.png\n",
      "Reading image from: ../data/Challenge_Data/Assets/90455f5ace15860874965eabd081b6f2/_preview.png\n"
     ]
    }
   ],
   "source": [
    "data = pd.read_csv('performace_cleaned.csv')\n",
    "data['features'] = data['game_id'].apply(lambda x: extract_image_features(f'../data/Challenge_Data/Assets/{x}/_preview.png'))\n"
   ]
  },
  {
   "cell_type": "code",
   "execution_count": 35,
   "metadata": {},
   "outputs": [
    {
     "name": "stdout",
     "output_type": "stream",
     "text": [
      "<class 'pandas.core.frame.DataFrame'>\n",
      "RangeIndex: 546 entries, 0 to 545\n",
      "Data columns (total 6 columns):\n",
      " #   Column        Non-Null Count  Dtype  \n",
      "---  ------        --------------  -----  \n",
      " 0   Unnamed: 0    546 non-null    int64  \n",
      " 1   game_id       546 non-null    object \n",
      " 2   preview_link  546 non-null    object \n",
      " 3   ER            546 non-null    float64\n",
      " 4   CTR           546 non-null    float64\n",
      " 5   features      546 non-null    object \n",
      "dtypes: float64(2), int64(1), object(3)\n",
      "memory usage: 25.7+ KB\n",
      "None\n"
     ]
    }
   ],
   "source": [
    "print(data.info())"
   ]
  },
  {
   "cell_type": "code",
   "execution_count": 36,
   "metadata": {},
   "outputs": [
    {
     "name": "stdout",
     "output_type": "stream",
     "text": [
      "        CTR        ER  kite  clock  person  ...  laptop  snowboard  \\\n",
      "0  0.058438  0.209269   1.0    0.0     0.0  ...     0.0        0.0   \n",
      "1  0.074731  0.274552   1.0    0.0     0.0  ...     0.0        0.0   \n",
      "2  0.042228  0.103688   0.0    1.0     0.0  ...     0.0        0.0   \n",
      "3  0.004508  0.037748   0.0    0.0     2.0  ...     0.0        0.0   \n",
      "4  0.004466  0.094064   0.0    0.0     4.0  ...     0.0        0.0   \n",
      "\n",
      "   tennis racket  surfboard  stop sign  \n",
      "0            0.0        0.0        0.0  \n",
      "1            0.0        0.0        0.0  \n",
      "2            0.0        0.0        0.0  \n",
      "3            0.0        0.0        0.0  \n",
      "4            0.0        0.0        0.0  \n",
      "\n",
      "[5 rows x 49 columns]\n"
     ]
    }
   ],
   "source": [
    "def process_yolo_output(features):\n",
    "    if features is None or features.empty:  # Check if features are None or empty\n",
    "        return {}  # Return an empty dictionary or default values\n",
    "    processed_features = {}\n",
    "    for _, row in features.iterrows():\n",
    "        label = row['name']\n",
    "        if label not in processed_features:\n",
    "            processed_features[label] = 0\n",
    "        processed_features[label] += 1\n",
    "    return processed_features\n",
    "\n",
    "data['processed_features'] = data['features'].apply(process_yolo_output)\n",
    "\n",
    "# Flatten processed features\n",
    "flat_features = pd.json_normalize(data['processed_features'])\n",
    "\n",
    "# Combine with original data\n",
    "final_data = pd.concat([data[['CTR', 'ER']], flat_features], axis=1).fillna(0)  # Fill NaN values with 0\n",
    "\n",
    "# Check final data to ensure it’s correctly processed\n",
    "print(final_data.head())"
   ]
  },
  {
   "cell_type": "code",
   "execution_count": 44,
   "metadata": {},
   "outputs": [
    {
     "name": "stderr",
     "output_type": "stream",
     "text": [
      "Using cache found in /home/mistir_nigusse/.cache/torch/hub/ultralytics_yolov5_master\n",
      "YOLOv5 🚀 2024-7-12 Python-3.8.10 torch-2.3.1 CPU\n",
      "\n",
      "Fusing layers... \n",
      "YOLOv5s summary: 213 layers, 7225885 parameters, 0 gradients, 16.4 GFLOPs\n",
      "Adding AutoShape... \n",
      "/home/mistir_nigusse/.local/lib/python3.8/site-packages/sklearn/cluster/_kmeans.py:1416: FutureWarning: The default value of `n_init` will change from 10 to 'auto' in 1.4. Set the value of `n_init` explicitly to suppress the warning\n",
      "  super()._check_params_vs_input(X, default_n_init=10)\n"
     ]
    },
    {
     "name": "stderr",
     "output_type": "stream",
     "text": [
      "/home/mistir_nigusse/.local/lib/python3.8/site-packages/sklearn/cluster/_kmeans.py:1416: FutureWarning: The default value of `n_init` will change from 10 to 'auto' in 1.4. Set the value of `n_init` explicitly to suppress the warning\n",
      "  super()._check_params_vs_input(X, default_n_init=10)\n",
      "/home/mistir_nigusse/.local/lib/python3.8/site-packages/sklearn/cluster/_kmeans.py:1416: FutureWarning: The default value of `n_init` will change from 10 to 'auto' in 1.4. Set the value of `n_init` explicitly to suppress the warning\n",
      "  super()._check_params_vs_input(X, default_n_init=10)\n",
      "/home/mistir_nigusse/.local/lib/python3.8/site-packages/sklearn/cluster/_kmeans.py:1416: FutureWarning: The default value of `n_init` will change from 10 to 'auto' in 1.4. Set the value of `n_init` explicitly to suppress the warning\n",
      "  super()._check_params_vs_input(X, default_n_init=10)\n",
      "/home/mistir_nigusse/.local/lib/python3.8/site-packages/sklearn/cluster/_kmeans.py:1416: FutureWarning: The default value of `n_init` will change from 10 to 'auto' in 1.4. Set the value of `n_init` explicitly to suppress the warning\n",
      "  super()._check_params_vs_input(X, default_n_init=10)\n",
      "/home/mistir_nigusse/.local/lib/python3.8/site-packages/sklearn/cluster/_kmeans.py:1416: FutureWarning: The default value of `n_init` will change from 10 to 'auto' in 1.4. Set the value of `n_init` explicitly to suppress the warning\n",
      "  super()._check_params_vs_input(X, default_n_init=10)\n",
      "/home/mistir_nigusse/.local/lib/python3.8/site-packages/sklearn/cluster/_kmeans.py:1416: FutureWarning: The default value of `n_init` will change from 10 to 'auto' in 1.4. Set the value of `n_init` explicitly to suppress the warning\n",
      "  super()._check_params_vs_input(X, default_n_init=10)\n",
      "/home/mistir_nigusse/.local/lib/python3.8/site-packages/sklearn/cluster/_kmeans.py:1416: FutureWarning: The default value of `n_init` will change from 10 to 'auto' in 1.4. Set the value of `n_init` explicitly to suppress the warning\n",
      "  super()._check_params_vs_input(X, default_n_init=10)\n",
      "/home/mistir_nigusse/.local/lib/python3.8/site-packages/sklearn/cluster/_kmeans.py:1416: FutureWarning: The default value of `n_init` will change from 10 to 'auto' in 1.4. Set the value of `n_init` explicitly to suppress the warning\n",
      "  super()._check_params_vs_input(X, default_n_init=10)\n",
      "/home/mistir_nigusse/.local/lib/python3.8/site-packages/sklearn/cluster/_kmeans.py:1416: FutureWarning: The default value of `n_init` will change from 10 to 'auto' in 1.4. Set the value of `n_init` explicitly to suppress the warning\n",
      "  super()._check_params_vs_input(X, default_n_init=10)\n",
      "/home/mistir_nigusse/.local/lib/python3.8/site-packages/sklearn/cluster/_kmeans.py:1416: FutureWarning: The default value of `n_init` will change from 10 to 'auto' in 1.4. Set the value of `n_init` explicitly to suppress the warning\n",
      "  super()._check_params_vs_input(X, default_n_init=10)\n",
      "/home/mistir_nigusse/.local/lib/python3.8/site-packages/sklearn/cluster/_kmeans.py:1416: FutureWarning: The default value of `n_init` will change from 10 to 'auto' in 1.4. Set the value of `n_init` explicitly to suppress the warning\n",
      "  super()._check_params_vs_input(X, default_n_init=10)\n",
      "/home/mistir_nigusse/.local/lib/python3.8/site-packages/sklearn/cluster/_kmeans.py:1416: FutureWarning: The default value of `n_init` will change from 10 to 'auto' in 1.4. Set the value of `n_init` explicitly to suppress the warning\n",
      "  super()._check_params_vs_input(X, default_n_init=10)\n",
      "/home/mistir_nigusse/.local/lib/python3.8/site-packages/sklearn/cluster/_kmeans.py:1416: FutureWarning: The default value of `n_init` will change from 10 to 'auto' in 1.4. Set the value of `n_init` explicitly to suppress the warning\n",
      "  super()._check_params_vs_input(X, default_n_init=10)\n",
      "/home/mistir_nigusse/.local/lib/python3.8/site-packages/sklearn/cluster/_kmeans.py:1416: FutureWarning: The default value of `n_init` will change from 10 to 'auto' in 1.4. Set the value of `n_init` explicitly to suppress the warning\n",
      "  super()._check_params_vs_input(X, default_n_init=10)\n",
      "/home/mistir_nigusse/.local/lib/python3.8/site-packages/sklearn/cluster/_kmeans.py:1416: FutureWarning: The default value of `n_init` will change from 10 to 'auto' in 1.4. Set the value of `n_init` explicitly to suppress the warning\n",
      "  super()._check_params_vs_input(X, default_n_init=10)\n",
      "/home/mistir_nigusse/.local/lib/python3.8/site-packages/sklearn/cluster/_kmeans.py:1416: FutureWarning: The default value of `n_init` will change from 10 to 'auto' in 1.4. Set the value of `n_init` explicitly to suppress the warning\n",
      "  super()._check_params_vs_input(X, default_n_init=10)\n",
      "/home/mistir_nigusse/.local/lib/python3.8/site-packages/sklearn/cluster/_kmeans.py:1416: FutureWarning: The default value of `n_init` will change from 10 to 'auto' in 1.4. Set the value of `n_init` explicitly to suppress the warning\n",
      "  super()._check_params_vs_input(X, default_n_init=10)\n",
      "/home/mistir_nigusse/.local/lib/python3.8/site-packages/sklearn/cluster/_kmeans.py:1416: FutureWarning: The default value of `n_init` will change from 10 to 'auto' in 1.4. Set the value of `n_init` explicitly to suppress the warning\n",
      "  super()._check_params_vs_input(X, default_n_init=10)\n",
      "/home/mistir_nigusse/.local/lib/python3.8/site-packages/sklearn/cluster/_kmeans.py:1416: FutureWarning: The default value of `n_init` will change from 10 to 'auto' in 1.4. Set the value of `n_init` explicitly to suppress the warning\n",
      "  super()._check_params_vs_input(X, default_n_init=10)\n",
      "/home/mistir_nigusse/.local/lib/python3.8/site-packages/sklearn/cluster/_kmeans.py:1416: FutureWarning: The default value of `n_init` will change from 10 to 'auto' in 1.4. Set the value of `n_init` explicitly to suppress the warning\n",
      "  super()._check_params_vs_input(X, default_n_init=10)\n",
      "/home/mistir_nigusse/.local/lib/python3.8/site-packages/sklearn/cluster/_kmeans.py:1416: FutureWarning: The default value of `n_init` will change from 10 to 'auto' in 1.4. Set the value of `n_init` explicitly to suppress the warning\n",
      "  super()._check_params_vs_input(X, default_n_init=10)\n",
      "/home/mistir_nigusse/.local/lib/python3.8/site-packages/sklearn/cluster/_kmeans.py:1416: FutureWarning: The default value of `n_init` will change from 10 to 'auto' in 1.4. Set the value of `n_init` explicitly to suppress the warning\n",
      "  super()._check_params_vs_input(X, default_n_init=10)\n",
      "/home/mistir_nigusse/.local/lib/python3.8/site-packages/sklearn/cluster/_kmeans.py:1416: FutureWarning: The default value of `n_init` will change from 10 to 'auto' in 1.4. Set the value of `n_init` explicitly to suppress the warning\n",
      "  super()._check_params_vs_input(X, default_n_init=10)\n",
      "/home/mistir_nigusse/.local/lib/python3.8/site-packages/sklearn/cluster/_kmeans.py:1416: FutureWarning: The default value of `n_init` will change from 10 to 'auto' in 1.4. Set the value of `n_init` explicitly to suppress the warning\n",
      "  super()._check_params_vs_input(X, default_n_init=10)\n",
      "/home/mistir_nigusse/.local/lib/python3.8/site-packages/sklearn/cluster/_kmeans.py:1416: FutureWarning: The default value of `n_init` will change from 10 to 'auto' in 1.4. Set the value of `n_init` explicitly to suppress the warning\n",
      "  super()._check_params_vs_input(X, default_n_init=10)\n",
      "/home/mistir_nigusse/.local/lib/python3.8/site-packages/sklearn/cluster/_kmeans.py:1416: FutureWarning: The default value of `n_init` will change from 10 to 'auto' in 1.4. Set the value of `n_init` explicitly to suppress the warning\n",
      "  super()._check_params_vs_input(X, default_n_init=10)\n",
      "/home/mistir_nigusse/.local/lib/python3.8/site-packages/sklearn/cluster/_kmeans.py:1416: FutureWarning: The default value of `n_init` will change from 10 to 'auto' in 1.4. Set the value of `n_init` explicitly to suppress the warning\n",
      "  super()._check_params_vs_input(X, default_n_init=10)\n",
      "/home/mistir_nigusse/.local/lib/python3.8/site-packages/sklearn/cluster/_kmeans.py:1416: FutureWarning: The default value of `n_init` will change from 10 to 'auto' in 1.4. Set the value of `n_init` explicitly to suppress the warning\n",
      "  super()._check_params_vs_input(X, default_n_init=10)\n",
      "/home/mistir_nigusse/.local/lib/python3.8/site-packages/sklearn/cluster/_kmeans.py:1416: FutureWarning: The default value of `n_init` will change from 10 to 'auto' in 1.4. Set the value of `n_init` explicitly to suppress the warning\n",
      "  super()._check_params_vs_input(X, default_n_init=10)\n",
      "/home/mistir_nigusse/.local/lib/python3.8/site-packages/sklearn/cluster/_kmeans.py:1416: FutureWarning: The default value of `n_init` will change from 10 to 'auto' in 1.4. Set the value of `n_init` explicitly to suppress the warning\n",
      "  super()._check_params_vs_input(X, default_n_init=10)\n",
      "/home/mistir_nigusse/.local/lib/python3.8/site-packages/sklearn/cluster/_kmeans.py:1416: FutureWarning: The default value of `n_init` will change from 10 to 'auto' in 1.4. Set the value of `n_init` explicitly to suppress the warning\n",
      "  super()._check_params_vs_input(X, default_n_init=10)\n",
      "/home/mistir_nigusse/.local/lib/python3.8/site-packages/sklearn/cluster/_kmeans.py:1416: FutureWarning: The default value of `n_init` will change from 10 to 'auto' in 1.4. Set the value of `n_init` explicitly to suppress the warning\n",
      "  super()._check_params_vs_input(X, default_n_init=10)\n",
      "/home/mistir_nigusse/.local/lib/python3.8/site-packages/sklearn/cluster/_kmeans.py:1416: FutureWarning: The default value of `n_init` will change from 10 to 'auto' in 1.4. Set the value of `n_init` explicitly to suppress the warning\n",
      "  super()._check_params_vs_input(X, default_n_init=10)\n",
      "/home/mistir_nigusse/.local/lib/python3.8/site-packages/sklearn/cluster/_kmeans.py:1416: FutureWarning: The default value of `n_init` will change from 10 to 'auto' in 1.4. Set the value of `n_init` explicitly to suppress the warning\n",
      "  super()._check_params_vs_input(X, default_n_init=10)\n",
      "/home/mistir_nigusse/.local/lib/python3.8/site-packages/sklearn/cluster/_kmeans.py:1416: FutureWarning: The default value of `n_init` will change from 10 to 'auto' in 1.4. Set the value of `n_init` explicitly to suppress the warning\n",
      "  super()._check_params_vs_input(X, default_n_init=10)\n",
      "/home/mistir_nigusse/.local/lib/python3.8/site-packages/sklearn/cluster/_kmeans.py:1416: FutureWarning: The default value of `n_init` will change from 10 to 'auto' in 1.4. Set the value of `n_init` explicitly to suppress the warning\n",
      "  super()._check_params_vs_input(X, default_n_init=10)\n",
      "/home/mistir_nigusse/.local/lib/python3.8/site-packages/sklearn/cluster/_kmeans.py:1416: FutureWarning: The default value of `n_init` will change from 10 to 'auto' in 1.4. Set the value of `n_init` explicitly to suppress the warning\n",
      "  super()._check_params_vs_input(X, default_n_init=10)\n",
      "/home/mistir_nigusse/.local/lib/python3.8/site-packages/sklearn/cluster/_kmeans.py:1416: FutureWarning: The default value of `n_init` will change from 10 to 'auto' in 1.4. Set the value of `n_init` explicitly to suppress the warning\n",
      "  super()._check_params_vs_input(X, default_n_init=10)\n",
      "/home/mistir_nigusse/.local/lib/python3.8/site-packages/sklearn/cluster/_kmeans.py:1416: FutureWarning: The default value of `n_init` will change from 10 to 'auto' in 1.4. Set the value of `n_init` explicitly to suppress the warning\n",
      "  super()._check_params_vs_input(X, default_n_init=10)\n",
      "/home/mistir_nigusse/.local/lib/python3.8/site-packages/sklearn/cluster/_kmeans.py:1416: FutureWarning: The default value of `n_init` will change from 10 to 'auto' in 1.4. Set the value of `n_init` explicitly to suppress the warning\n",
      "  super()._check_params_vs_input(X, default_n_init=10)\n",
      "/home/mistir_nigusse/.local/lib/python3.8/site-packages/sklearn/cluster/_kmeans.py:1416: FutureWarning: The default value of `n_init` will change from 10 to 'auto' in 1.4. Set the value of `n_init` explicitly to suppress the warning\n",
      "  super()._check_params_vs_input(X, default_n_init=10)\n",
      "/home/mistir_nigusse/.local/lib/python3.8/site-packages/sklearn/cluster/_kmeans.py:1416: FutureWarning: The default value of `n_init` will change from 10 to 'auto' in 1.4. Set the value of `n_init` explicitly to suppress the warning\n",
      "  super()._check_params_vs_input(X, default_n_init=10)\n",
      "/home/mistir_nigusse/.local/lib/python3.8/site-packages/sklearn/cluster/_kmeans.py:1416: FutureWarning: The default value of `n_init` will change from 10 to 'auto' in 1.4. Set the value of `n_init` explicitly to suppress the warning\n",
      "  super()._check_params_vs_input(X, default_n_init=10)\n",
      "/home/mistir_nigusse/.local/lib/python3.8/site-packages/sklearn/cluster/_kmeans.py:1416: FutureWarning: The default value of `n_init` will change from 10 to 'auto' in 1.4. Set the value of `n_init` explicitly to suppress the warning\n",
      "  super()._check_params_vs_input(X, default_n_init=10)\n",
      "/home/mistir_nigusse/.local/lib/python3.8/site-packages/sklearn/cluster/_kmeans.py:1416: FutureWarning: The default value of `n_init` will change from 10 to 'auto' in 1.4. Set the value of `n_init` explicitly to suppress the warning\n",
      "  super()._check_params_vs_input(X, default_n_init=10)\n",
      "/home/mistir_nigusse/.local/lib/python3.8/site-packages/sklearn/cluster/_kmeans.py:1416: FutureWarning: The default value of `n_init` will change from 10 to 'auto' in 1.4. Set the value of `n_init` explicitly to suppress the warning\n",
      "  super()._check_params_vs_input(X, default_n_init=10)\n",
      "/home/mistir_nigusse/.local/lib/python3.8/site-packages/sklearn/cluster/_kmeans.py:1416: FutureWarning: The default value of `n_init` will change from 10 to 'auto' in 1.4. Set the value of `n_init` explicitly to suppress the warning\n",
      "  super()._check_params_vs_input(X, default_n_init=10)\n",
      "/home/mistir_nigusse/.local/lib/python3.8/site-packages/sklearn/cluster/_kmeans.py:1416: FutureWarning: The default value of `n_init` will change from 10 to 'auto' in 1.4. Set the value of `n_init` explicitly to suppress the warning\n",
      "  super()._check_params_vs_input(X, default_n_init=10)\n",
      "/home/mistir_nigusse/.local/lib/python3.8/site-packages/sklearn/cluster/_kmeans.py:1416: FutureWarning: The default value of `n_init` will change from 10 to 'auto' in 1.4. Set the value of `n_init` explicitly to suppress the warning\n",
      "  super()._check_params_vs_input(X, default_n_init=10)\n",
      "/home/mistir_nigusse/.local/lib/python3.8/site-packages/sklearn/cluster/_kmeans.py:1416: FutureWarning: The default value of `n_init` will change from 10 to 'auto' in 1.4. Set the value of `n_init` explicitly to suppress the warning\n",
      "  super()._check_params_vs_input(X, default_n_init=10)\n",
      "/home/mistir_nigusse/.local/lib/python3.8/site-packages/sklearn/cluster/_kmeans.py:1416: FutureWarning: The default value of `n_init` will change from 10 to 'auto' in 1.4. Set the value of `n_init` explicitly to suppress the warning\n",
      "  super()._check_params_vs_input(X, default_n_init=10)\n",
      "/home/mistir_nigusse/.local/lib/python3.8/site-packages/sklearn/cluster/_kmeans.py:1416: FutureWarning: The default value of `n_init` will change from 10 to 'auto' in 1.4. Set the value of `n_init` explicitly to suppress the warning\n",
      "  super()._check_params_vs_input(X, default_n_init=10)\n",
      "/home/mistir_nigusse/.local/lib/python3.8/site-packages/sklearn/cluster/_kmeans.py:1416: FutureWarning: The default value of `n_init` will change from 10 to 'auto' in 1.4. Set the value of `n_init` explicitly to suppress the warning\n",
      "  super()._check_params_vs_input(X, default_n_init=10)\n",
      "/home/mistir_nigusse/.local/lib/python3.8/site-packages/sklearn/cluster/_kmeans.py:1416: FutureWarning: The default value of `n_init` will change from 10 to 'auto' in 1.4. Set the value of `n_init` explicitly to suppress the warning\n",
      "  super()._check_params_vs_input(X, default_n_init=10)\n",
      "/home/mistir_nigusse/.local/lib/python3.8/site-packages/sklearn/cluster/_kmeans.py:1416: FutureWarning: The default value of `n_init` will change from 10 to 'auto' in 1.4. Set the value of `n_init` explicitly to suppress the warning\n",
      "  super()._check_params_vs_input(X, default_n_init=10)\n",
      "/home/mistir_nigusse/.local/lib/python3.8/site-packages/sklearn/cluster/_kmeans.py:1416: FutureWarning: The default value of `n_init` will change from 10 to 'auto' in 1.4. Set the value of `n_init` explicitly to suppress the warning\n",
      "  super()._check_params_vs_input(X, default_n_init=10)\n",
      "/home/mistir_nigusse/.local/lib/python3.8/site-packages/sklearn/cluster/_kmeans.py:1416: FutureWarning: The default value of `n_init` will change from 10 to 'auto' in 1.4. Set the value of `n_init` explicitly to suppress the warning\n",
      "  super()._check_params_vs_input(X, default_n_init=10)\n",
      "/home/mistir_nigusse/.local/lib/python3.8/site-packages/sklearn/cluster/_kmeans.py:1416: FutureWarning: The default value of `n_init` will change from 10 to 'auto' in 1.4. Set the value of `n_init` explicitly to suppress the warning\n",
      "  super()._check_params_vs_input(X, default_n_init=10)\n",
      "/home/mistir_nigusse/.local/lib/python3.8/site-packages/sklearn/cluster/_kmeans.py:1416: FutureWarning: The default value of `n_init` will change from 10 to 'auto' in 1.4. Set the value of `n_init` explicitly to suppress the warning\n",
      "  super()._check_params_vs_input(X, default_n_init=10)\n",
      "/home/mistir_nigusse/.local/lib/python3.8/site-packages/sklearn/cluster/_kmeans.py:1416: FutureWarning: The default value of `n_init` will change from 10 to 'auto' in 1.4. Set the value of `n_init` explicitly to suppress the warning\n",
      "  super()._check_params_vs_input(X, default_n_init=10)\n",
      "/home/mistir_nigusse/.local/lib/python3.8/site-packages/sklearn/cluster/_kmeans.py:1416: FutureWarning: The default value of `n_init` will change from 10 to 'auto' in 1.4. Set the value of `n_init` explicitly to suppress the warning\n",
      "  super()._check_params_vs_input(X, default_n_init=10)\n",
      "/home/mistir_nigusse/.local/lib/python3.8/site-packages/sklearn/cluster/_kmeans.py:1416: FutureWarning: The default value of `n_init` will change from 10 to 'auto' in 1.4. Set the value of `n_init` explicitly to suppress the warning\n",
      "  super()._check_params_vs_input(X, default_n_init=10)\n",
      "/home/mistir_nigusse/.local/lib/python3.8/site-packages/sklearn/cluster/_kmeans.py:1416: FutureWarning: The default value of `n_init` will change from 10 to 'auto' in 1.4. Set the value of `n_init` explicitly to suppress the warning\n",
      "  super()._check_params_vs_input(X, default_n_init=10)\n",
      "/home/mistir_nigusse/.local/lib/python3.8/site-packages/sklearn/cluster/_kmeans.py:1416: FutureWarning: The default value of `n_init` will change from 10 to 'auto' in 1.4. Set the value of `n_init` explicitly to suppress the warning\n",
      "  super()._check_params_vs_input(X, default_n_init=10)\n",
      "/home/mistir_nigusse/.local/lib/python3.8/site-packages/sklearn/cluster/_kmeans.py:1416: FutureWarning: The default value of `n_init` will change from 10 to 'auto' in 1.4. Set the value of `n_init` explicitly to suppress the warning\n",
      "  super()._check_params_vs_input(X, default_n_init=10)\n",
      "/home/mistir_nigusse/.local/lib/python3.8/site-packages/sklearn/cluster/_kmeans.py:1416: FutureWarning: The default value of `n_init` will change from 10 to 'auto' in 1.4. Set the value of `n_init` explicitly to suppress the warning\n",
      "  super()._check_params_vs_input(X, default_n_init=10)\n",
      "/home/mistir_nigusse/.local/lib/python3.8/site-packages/sklearn/cluster/_kmeans.py:1416: FutureWarning: The default value of `n_init` will change from 10 to 'auto' in 1.4. Set the value of `n_init` explicitly to suppress the warning\n",
      "  super()._check_params_vs_input(X, default_n_init=10)\n",
      "/home/mistir_nigusse/.local/lib/python3.8/site-packages/sklearn/cluster/_kmeans.py:1416: FutureWarning: The default value of `n_init` will change from 10 to 'auto' in 1.4. Set the value of `n_init` explicitly to suppress the warning\n",
      "  super()._check_params_vs_input(X, default_n_init=10)\n",
      "/home/mistir_nigusse/.local/lib/python3.8/site-packages/sklearn/cluster/_kmeans.py:1416: FutureWarning: The default value of `n_init` will change from 10 to 'auto' in 1.4. Set the value of `n_init` explicitly to suppress the warning\n",
      "  super()._check_params_vs_input(X, default_n_init=10)\n",
      "/home/mistir_nigusse/.local/lib/python3.8/site-packages/sklearn/cluster/_kmeans.py:1416: FutureWarning: The default value of `n_init` will change from 10 to 'auto' in 1.4. Set the value of `n_init` explicitly to suppress the warning\n",
      "  super()._check_params_vs_input(X, default_n_init=10)\n",
      "/home/mistir_nigusse/.local/lib/python3.8/site-packages/sklearn/cluster/_kmeans.py:1416: FutureWarning: The default value of `n_init` will change from 10 to 'auto' in 1.4. Set the value of `n_init` explicitly to suppress the warning\n",
      "  super()._check_params_vs_input(X, default_n_init=10)\n",
      "/home/mistir_nigusse/.local/lib/python3.8/site-packages/sklearn/cluster/_kmeans.py:1416: FutureWarning: The default value of `n_init` will change from 10 to 'auto' in 1.4. Set the value of `n_init` explicitly to suppress the warning\n",
      "  super()._check_params_vs_input(X, default_n_init=10)\n",
      "/home/mistir_nigusse/.local/lib/python3.8/site-packages/sklearn/cluster/_kmeans.py:1416: FutureWarning: The default value of `n_init` will change from 10 to 'auto' in 1.4. Set the value of `n_init` explicitly to suppress the warning\n",
      "  super()._check_params_vs_input(X, default_n_init=10)\n",
      "/home/mistir_nigusse/.local/lib/python3.8/site-packages/sklearn/cluster/_kmeans.py:1416: FutureWarning: The default value of `n_init` will change from 10 to 'auto' in 1.4. Set the value of `n_init` explicitly to suppress the warning\n",
      "  super()._check_params_vs_input(X, default_n_init=10)\n",
      "/home/mistir_nigusse/.local/lib/python3.8/site-packages/sklearn/cluster/_kmeans.py:1416: FutureWarning: The default value of `n_init` will change from 10 to 'auto' in 1.4. Set the value of `n_init` explicitly to suppress the warning\n",
      "  super()._check_params_vs_input(X, default_n_init=10)\n",
      "/home/mistir_nigusse/.local/lib/python3.8/site-packages/sklearn/cluster/_kmeans.py:1416: FutureWarning: The default value of `n_init` will change from 10 to 'auto' in 1.4. Set the value of `n_init` explicitly to suppress the warning\n",
      "  super()._check_params_vs_input(X, default_n_init=10)\n",
      "/home/mistir_nigusse/.local/lib/python3.8/site-packages/sklearn/cluster/_kmeans.py:1416: FutureWarning: The default value of `n_init` will change from 10 to 'auto' in 1.4. Set the value of `n_init` explicitly to suppress the warning\n",
      "  super()._check_params_vs_input(X, default_n_init=10)\n",
      "/home/mistir_nigusse/.local/lib/python3.8/site-packages/sklearn/cluster/_kmeans.py:1416: FutureWarning: The default value of `n_init` will change from 10 to 'auto' in 1.4. Set the value of `n_init` explicitly to suppress the warning\n",
      "  super()._check_params_vs_input(X, default_n_init=10)\n",
      "/home/mistir_nigusse/.local/lib/python3.8/site-packages/sklearn/cluster/_kmeans.py:1416: FutureWarning: The default value of `n_init` will change from 10 to 'auto' in 1.4. Set the value of `n_init` explicitly to suppress the warning\n",
      "  super()._check_params_vs_input(X, default_n_init=10)\n",
      "/home/mistir_nigusse/.local/lib/python3.8/site-packages/sklearn/cluster/_kmeans.py:1416: FutureWarning: The default value of `n_init` will change from 10 to 'auto' in 1.4. Set the value of `n_init` explicitly to suppress the warning\n",
      "  super()._check_params_vs_input(X, default_n_init=10)\n",
      "/home/mistir_nigusse/.local/lib/python3.8/site-packages/sklearn/cluster/_kmeans.py:1416: FutureWarning: The default value of `n_init` will change from 10 to 'auto' in 1.4. Set the value of `n_init` explicitly to suppress the warning\n",
      "  super()._check_params_vs_input(X, default_n_init=10)\n",
      "/home/mistir_nigusse/.local/lib/python3.8/site-packages/sklearn/cluster/_kmeans.py:1416: FutureWarning: The default value of `n_init` will change from 10 to 'auto' in 1.4. Set the value of `n_init` explicitly to suppress the warning\n",
      "  super()._check_params_vs_input(X, default_n_init=10)\n",
      "/home/mistir_nigusse/.local/lib/python3.8/site-packages/sklearn/cluster/_kmeans.py:1416: FutureWarning: The default value of `n_init` will change from 10 to 'auto' in 1.4. Set the value of `n_init` explicitly to suppress the warning\n",
      "  super()._check_params_vs_input(X, default_n_init=10)\n",
      "/home/mistir_nigusse/.local/lib/python3.8/site-packages/sklearn/cluster/_kmeans.py:1416: FutureWarning: The default value of `n_init` will change from 10 to 'auto' in 1.4. Set the value of `n_init` explicitly to suppress the warning\n",
      "  super()._check_params_vs_input(X, default_n_init=10)\n",
      "/home/mistir_nigusse/.local/lib/python3.8/site-packages/sklearn/cluster/_kmeans.py:1416: FutureWarning: The default value of `n_init` will change from 10 to 'auto' in 1.4. Set the value of `n_init` explicitly to suppress the warning\n",
      "  super()._check_params_vs_input(X, default_n_init=10)\n",
      "/home/mistir_nigusse/.local/lib/python3.8/site-packages/sklearn/cluster/_kmeans.py:1416: FutureWarning: The default value of `n_init` will change from 10 to 'auto' in 1.4. Set the value of `n_init` explicitly to suppress the warning\n",
      "  super()._check_params_vs_input(X, default_n_init=10)\n",
      "/home/mistir_nigusse/.local/lib/python3.8/site-packages/sklearn/cluster/_kmeans.py:1416: FutureWarning: The default value of `n_init` will change from 10 to 'auto' in 1.4. Set the value of `n_init` explicitly to suppress the warning\n",
      "  super()._check_params_vs_input(X, default_n_init=10)\n",
      "/home/mistir_nigusse/.local/lib/python3.8/site-packages/sklearn/cluster/_kmeans.py:1416: FutureWarning: The default value of `n_init` will change from 10 to 'auto' in 1.4. Set the value of `n_init` explicitly to suppress the warning\n",
      "  super()._check_params_vs_input(X, default_n_init=10)\n",
      "/home/mistir_nigusse/.local/lib/python3.8/site-packages/sklearn/cluster/_kmeans.py:1416: FutureWarning: The default value of `n_init` will change from 10 to 'auto' in 1.4. Set the value of `n_init` explicitly to suppress the warning\n",
      "  super()._check_params_vs_input(X, default_n_init=10)\n",
      "/home/mistir_nigusse/.local/lib/python3.8/site-packages/sklearn/cluster/_kmeans.py:1416: FutureWarning: The default value of `n_init` will change from 10 to 'auto' in 1.4. Set the value of `n_init` explicitly to suppress the warning\n",
      "  super()._check_params_vs_input(X, default_n_init=10)\n",
      "/home/mistir_nigusse/.local/lib/python3.8/site-packages/sklearn/cluster/_kmeans.py:1416: FutureWarning: The default value of `n_init` will change from 10 to 'auto' in 1.4. Set the value of `n_init` explicitly to suppress the warning\n",
      "  super()._check_params_vs_input(X, default_n_init=10)\n",
      "/home/mistir_nigusse/.local/lib/python3.8/site-packages/sklearn/cluster/_kmeans.py:1416: FutureWarning: The default value of `n_init` will change from 10 to 'auto' in 1.4. Set the value of `n_init` explicitly to suppress the warning\n",
      "  super()._check_params_vs_input(X, default_n_init=10)\n",
      "/home/mistir_nigusse/.local/lib/python3.8/site-packages/sklearn/cluster/_kmeans.py:1416: FutureWarning: The default value of `n_init` will change from 10 to 'auto' in 1.4. Set the value of `n_init` explicitly to suppress the warning\n",
      "  super()._check_params_vs_input(X, default_n_init=10)\n",
      "/home/mistir_nigusse/.local/lib/python3.8/site-packages/sklearn/cluster/_kmeans.py:1416: FutureWarning: The default value of `n_init` will change from 10 to 'auto' in 1.4. Set the value of `n_init` explicitly to suppress the warning\n",
      "  super()._check_params_vs_input(X, default_n_init=10)\n",
      "/home/mistir_nigusse/.local/lib/python3.8/site-packages/sklearn/cluster/_kmeans.py:1416: FutureWarning: The default value of `n_init` will change from 10 to 'auto' in 1.4. Set the value of `n_init` explicitly to suppress the warning\n",
      "  super()._check_params_vs_input(X, default_n_init=10)\n",
      "/home/mistir_nigusse/.local/lib/python3.8/site-packages/sklearn/cluster/_kmeans.py:1416: FutureWarning: The default value of `n_init` will change from 10 to 'auto' in 1.4. Set the value of `n_init` explicitly to suppress the warning\n",
      "  super()._check_params_vs_input(X, default_n_init=10)\n",
      "/home/mistir_nigusse/.local/lib/python3.8/site-packages/sklearn/cluster/_kmeans.py:1416: FutureWarning: The default value of `n_init` will change from 10 to 'auto' in 1.4. Set the value of `n_init` explicitly to suppress the warning\n",
      "  super()._check_params_vs_input(X, default_n_init=10)\n",
      "/home/mistir_nigusse/.local/lib/python3.8/site-packages/sklearn/cluster/_kmeans.py:1416: FutureWarning: The default value of `n_init` will change from 10 to 'auto' in 1.4. Set the value of `n_init` explicitly to suppress the warning\n",
      "  super()._check_params_vs_input(X, default_n_init=10)\n",
      "/home/mistir_nigusse/.local/lib/python3.8/site-packages/sklearn/cluster/_kmeans.py:1416: FutureWarning: The default value of `n_init` will change from 10 to 'auto' in 1.4. Set the value of `n_init` explicitly to suppress the warning\n",
      "  super()._check_params_vs_input(X, default_n_init=10)\n"
     ]
    },
    {
     "name": "stdout",
     "output_type": "stream",
     "text": [
      "0    {'objects': ['xmin'], 'colors': [[254, 254, 25...\n",
      "1    {'objects': ['xmin'], 'colors': [[70, 111, 75]...\n",
      "2    {'objects': ['xmin', 'ymin'], 'colors': [[9, 1...\n",
      "3    {'objects': ['xmin', 'ymin'], 'colors': [[251,...\n",
      "4    {'objects': ['xmin', 'ymin', 'xmax'], 'colors'...\n",
      "Name: assets, dtype: object\n"
     ]
    }
   ],
   "source": [
    "import cv2\n",
    "import numpy as np\n",
    "import pandas as pd\n",
    "from transformers import pipeline\n",
    "import pytesseract\n",
    "import torch\n",
    "from PIL import Image\n",
    "from sklearn.cluster import KMeans\n",
    "\n",
    "data = pd.read_csv('performace_cleaned.csv')\n",
    "\n",
    "data = data.head(100)\n",
    "\n",
    "object_detection_model = torch.hub.load('ultralytics/yolov5', 'yolov5s')\n",
    "text_summarizer = pipeline(\"summarization\", model=\"facebook/bart-large-cnn\")\n",
    "\n",
    "def identify_objects(image_path):\n",
    "    image = Image.open(image_path)\n",
    "    results = object_detection_model(image)\n",
    "    return results.pandas().xyxy[0]\n",
    "\n",
    "def identify_colors(image_path, num_colors=5):\n",
    "    image = cv2.imread(image_path)\n",
    "    image = cv2.cvtColor(image, cv2.COLOR_BGR2RGB)\n",
    "    pixels = image.reshape((-1, 3))\n",
    "    kmeans = KMeans(n_clusters=num_colors)\n",
    "    kmeans.fit(pixels)\n",
    "    colors = kmeans.cluster_centers_.astype(int)\n",
    "    return colors\n",
    "\n",
    "def extract_positions(image_path):\n",
    "    results = identify_objects(image_path)\n",
    "    positions = results[['xmin', 'ymin', 'xmax', 'ymax']].values\n",
    "    return positions\n",
    "\n",
    "def extract_text(image_path):\n",
    "    image = cv2.imread(image_path)\n",
    "    text = pytesseract.image_to_string(image)\n",
    "    return text\n",
    "\n",
    "# Example function for Text Summarization\n",
    "def summarize_text(text):\n",
    "    summary = text_summarizer(text, max_length=50, min_length=25, do_sample=False)\n",
    "    return summary[0]['summary_text']\n",
    "\n",
    "# Process each ad's assets\n",
    "def process_assets(ad_folder):\n",
    "    assets = {}\n",
    "    assets['objects'] = identify_objects(f'{ad_folder}/_preview.png')\n",
    "    assets['colors'] = identify_colors(f'{ad_folder}/_preview.png')\n",
    "    assets['positions'] = extract_positions(f'{ad_folder}/_preview.png')\n",
    "    assets['text'] = extract_text(f'{ad_folder}/_preview.png')\n",
    "    return assets\n",
    "\n",
    "data['assets'] = data['game_id'].apply(lambda x: process_assets(f'../data/Challenge_Data/Assets/{x}'))\n",
    "\n",
    "# Example output of assets analysis\n",
    "print(data['assets'].head())\n"
   ]
  },
  {
   "cell_type": "markdown",
   "metadata": {},
   "source": []
  }
 ],
 "metadata": {
  "kernelspec": {
   "display_name": "Python 3",
   "language": "python",
   "name": "python3"
  },
  "language_info": {
   "codemirror_mode": {
    "name": "ipython",
    "version": 3
   },
   "file_extension": ".py",
   "mimetype": "text/x-python",
   "name": "python",
   "nbconvert_exporter": "python",
   "pygments_lexer": "ipython3",
   "version": "3.8.10"
  }
 },
 "nbformat": 4,
 "nbformat_minor": 2
}
